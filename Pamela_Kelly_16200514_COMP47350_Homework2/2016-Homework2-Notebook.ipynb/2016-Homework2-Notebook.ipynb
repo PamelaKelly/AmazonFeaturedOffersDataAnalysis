{
 "cells": [
  {
   "cell_type": "markdown",
   "metadata": {},
   "source": [
    "# Homework2\n",
    "\n",
    "Please upload to Moodle a .zip archive containing your Jupyter Notebook with solutions and all data required to reproduce your solutions. \n",
    "\n",
    "Please also prepare a requirements.txt file which lists all the packages that you have used for your homework, one package per line (e.g., pandas). This will allow us to install all required packages in one go, by using \"pip install -r requirements.txt\".\n",
    "\n",
    "Please name your .zip archive using your full name and student id as follows - *Firstnme_Lastname_12345678_COMP47350_Homework2.zip*. \n",
    "\n",
    "For your Notebook, please split the code and explanations into many little cells so it is easy to see and read the results of each step of your solution. Please remember to name your variables and methods with self-explanatory names. Please remember to write comments and where needed, justifications, for the decisions you make and code you write. Feel free to revisit *tips_to_keep_your_ipython_notebook_readable_and_easy_to_debug.html* provided on Moodle.\n",
    "\n",
    "Your code and analysis is like a story that awaits to be read, make it a nice story please!\n",
    "\n",
    "The accepted file formats for the homework are:\n",
    "    - .ipynb\n",
    "    - .zip\n",
    "    - .pdf\n",
    "    - .csv\n",
    "    - .txt\n",
    "    - .html\n",
    "Please keep the whole code in a single notebook. Usage of external tools/files is discouraged for portability reasons. Files in any other format but mentioned above can be used but will be ignored and not considered for the submission (including .doc, .rar, .7z, .pages, .xlsx, .tex etc.). \n",
    "Any image format is allowed to be used as far as the images appear embedded in your report (.ipynb or .pdf or .html).\n",
    "\n",
    "**Deadline: Sunday, April 16, 2017, midnight.** "
   ]
  },
  {
   "cell_type": "markdown",
   "metadata": {},
   "source": [
    "## Exercises\n",
    "\n",
    "This homework focuses on building and evaluating prediction models for a particular problem and dataset.\n",
    "The problem and data come from the Amazon online shopping platform. Several sellers can sell the same product on Amazon. Based on the data provided by the seller to Amazon (seller reputation, product price, shipping details, etc) Amazon ranks seller offers from best to worst for a given product. This ranking is mostly influenced by the product price offer of the seller, but it can also be influenced by other features. We first need to understand which features are most indicative of a seller being ranked first by Amazon for a product. When the seller is ranked first for a product we say that the seller is the 'winner' among all the offers, because their offer is shown first when a user searches for a product on Amazon, which increases their chances of selling the product. Our goal is to work with the data to build and evaluate prediction models that capture the relationship between descriptive features and the target feature 'IsWinner'.\n",
    "\n",
    "We use the same dataset from Homework1 (you can use your cleaned/prepared CSV or the raw dataset), a CSV file describing offers by given sellers for given products and a column which records whether an offer was a winner or not.\n",
    "\n",
    "(1). [25] Data Understanding: Exploring relationships between feature pairs:\n",
    "    - (1.1) [5] Print the correlations between the continuous features.\n",
    "    - (1.2) [5] Plot the scatter plots of each pair of continuous descriptive feature and target feature.\n",
    "    - (1.3) [5] Discuss what you observe from the scatter plots and correlations, e.g., which continuous features seem to be better at predicting the target feature. Choose a subset of continuous features you find promising. Justify your choices.\n",
    "    - (1.4) [5] For each categorical feature, plot the pairwise interaction with the target feature (barplots or stacked barplots).\n",
    "    - (1.5) [5] Discuss what knowledge you gain from plotting the interaction of descriptive categorical features and the target feature, e.g., which categorical features seem to be better at predicting the target feature. Choose a subset of categorical features you find promising. Justify your choices.\n",
    "    \n",
    "(2). [15] Predictive Modeling: Linear Regression  \n",
    "    - (2.1) [5] Train a linear regression model to predict the target feature IsWinner, using the descriptive features selected in exercise (1). Evaluate the quality of the model on the training set.   \n",
    "    - (2.2) [2.5] Print the coefficients learned by the model and discuss their statistical significance as well as their role in the model (e.g., interpret the model).    \n",
    "    - (2.3) [2.5] Retrain the model using only the subset of features found to be statistically significant. Evaluate the quality of the model on the training set.\n",
    "    - (2.4) [5] Using the better model (as per evaluation on training set), print the predicted target feature value for all the examples in the training set. Threshold the predicted target feature value at 0.5 to get the predicted class for each example. \n",
    "\n",
    "(3). [15] Predictive Modeling: Logistic Regression  \n",
    "    - (3.1) [5] Train a logistic regression model to predict the target feature IsWinner, using the descriptive features selected in exercise (1). Evaluate the quality of the model on the training set.   \n",
    "    - (3.2) [5] Print the coefficients learned by the model and discuss their statistical significance as well as their role in the model (e.g., interpret the model).    \n",
    "    - (3.3) [2.5] Retrain the model using only the subset of features found to be statistically significant. Evaluate the quality of the model on the training set.\n",
    "    - (3.4) [2.5] Using the better model (as per evaluation on training set), print the predicted target feature value for all the examples in the training set. Print the predicted class for each example.\n",
    "    \n",
    "(4). [20] Predictive Modeling: Random Forest \n",
    "    - (4.1) [5] Train a random forest model to predict the target feature IsWinner, using the descriptive features selected in exercise (1). Evaluate the quality of the model on the training set.   \n",
    "    - (4.2) [5] Print the features ranked by random forest importance. Discuss your findings and choose a subset of features you find promising.\n",
    "    - (4.3) [5] Retrain the model using only the subset of features found to be promising. Evaluate the quality of the model on the training set.\n",
    "    - (4.4) [5] Using the better model (as per evaluation on training set), print the predicted target feature value for all the examples in the training set. Print the predicted class for each example.\n",
    "    \n",
    "(5). [25] Evaluating Predictive Models\n",
    "    - (5.1) [10] Split the dataset into 70% training and remaining 30% test. Train all models from the previous exercises using the new training set and evaluate their quality on the new test set. Print classification evaluation metrics for all models on the test set (e.g., Accuracy, Confusion matrix, Precision, Recall, F1). Discuss how does evaluation on the test set compare to evaluation using the full data for training and also for testing.\n",
    "    - (5.2) [15] Summarize and try to improve your results so far:\n",
    "        - (5.2.1) [5] Which model performs best and is it more accurate than a simple (but useless) model that always predicts IsWinner=0? Justify your answers.\n",
    "        - (5.2.2) [10] Discuss your understanding of the problem and predictive modeling results so far. Can you find any tricks to improve the best model so far (e.g., using feature significance, feature re-scaling, creating new features, combining models, or other knowledge)?"
   ]
  },
  {
   "cell_type": "code",
   "execution_count": 320,
   "metadata": {
    "collapsed": false
   },
   "outputs": [],
   "source": [
    "#import necessary libraries\n",
    "import pandas as pd\n",
    "import numpy as np\n",
    "import matplotlib\n",
    "import matplotlib.pyplot as plt\n",
    "import matplotlib.patches as mpatches\n",
    "from matplotlib.backends.backend_pdf import PdfPages\n",
    "matplotlib.style.use('ggplot')\n",
    "import seaborn as sns\n",
    "import sklearn\n",
    "import statsmodels.formula.api as sm\n",
    "from sklearn import metrics\n",
    "from sklearn.cross_validation import train_test_split\n",
    "from sklearn import metrics\n",
    "from sklearn.cross_validation import cross_val_score\n",
    "from sklearn.ensemble import RandomForestRegressor\n",
    "from sklearn.metrics import roc_auc_score\n",
    "\n",
    "%matplotlib inline"
   ]
  },
  {
   "cell_type": "code",
   "execution_count": 432,
   "metadata": {
    "collapsed": false
   },
   "outputs": [],
   "source": [
    "df = pd.read_csv('amazon-offers-10k-samples-new2.csv', encoding = \"ISO-8859-1\")"
   ]
  },
  {
   "cell_type": "markdown",
   "metadata": {},
   "source": [
    "### Tidying Up the Data"
   ]
  },
  {
   "cell_type": "code",
   "execution_count": 433,
   "metadata": {
    "collapsed": false
   },
   "outputs": [],
   "source": [
    "# Dropping columns unamed(created as a result of reading in the csv)\n",
    "# Dropping ProductId, TimeOfOfferChange, ConditionNotes, IsFulfilledByAmazon\n",
    "# and SellerId. \n",
    "# These are still present in the csv - so I haven't removed them completely\n",
    "# Just from the data frame for the purposes of creating predictive models\n",
    "df.drop(df.columns[[0, 2, 3, 4, 6, 10]], axis = 1, inplace = True)"
   ]
  },
  {
   "cell_type": "code",
   "execution_count": 323,
   "metadata": {
    "collapsed": false
   },
   "outputs": [
    {
     "data": {
      "text/html": [
       "<div>\n",
       "<table border=\"1\" class=\"dataframe\">\n",
       "  <thead>\n",
       "    <tr style=\"text-align: right;\">\n",
       "      <th></th>\n",
       "      <th>IsWinner</th>\n",
       "      <th>IsFeaturedMerchant</th>\n",
       "      <th>ListingPrice</th>\n",
       "      <th>SellerFeedbackRating</th>\n",
       "      <th>SellerFeedbackCount</th>\n",
       "      <th>ShippingPrice</th>\n",
       "      <th>ShippingTime_minHours</th>\n",
       "      <th>ShippingTime_maxHours</th>\n",
       "      <th>ShipsFromCountry</th>\n",
       "      <th>ShipsFromState</th>\n",
       "    </tr>\n",
       "  </thead>\n",
       "  <tbody>\n",
       "    <tr>\n",
       "      <th>0</th>\n",
       "      <td>1</td>\n",
       "      <td>1</td>\n",
       "      <td>107.35</td>\n",
       "      <td>95</td>\n",
       "      <td>4078</td>\n",
       "      <td>0.00</td>\n",
       "      <td>48</td>\n",
       "      <td>72</td>\n",
       "      <td>CA</td>\n",
       "      <td>ON</td>\n",
       "    </tr>\n",
       "    <tr>\n",
       "      <th>1</th>\n",
       "      <td>0</td>\n",
       "      <td>1</td>\n",
       "      <td>100.46</td>\n",
       "      <td>98</td>\n",
       "      <td>478</td>\n",
       "      <td>6.99</td>\n",
       "      <td>24</td>\n",
       "      <td>48</td>\n",
       "      <td>CA</td>\n",
       "      <td>ON</td>\n",
       "    </tr>\n",
       "    <tr>\n",
       "      <th>2</th>\n",
       "      <td>0</td>\n",
       "      <td>1</td>\n",
       "      <td>99.24</td>\n",
       "      <td>95</td>\n",
       "      <td>4384</td>\n",
       "      <td>11.67</td>\n",
       "      <td>24</td>\n",
       "      <td>48</td>\n",
       "      <td>CA</td>\n",
       "      <td>ON</td>\n",
       "    </tr>\n",
       "    <tr>\n",
       "      <th>3</th>\n",
       "      <td>0</td>\n",
       "      <td>0</td>\n",
       "      <td>109.48</td>\n",
       "      <td>94</td>\n",
       "      <td>105</td>\n",
       "      <td>8.99</td>\n",
       "      <td>24</td>\n",
       "      <td>48</td>\n",
       "      <td>CA</td>\n",
       "      <td>ON</td>\n",
       "    </tr>\n",
       "    <tr>\n",
       "      <th>4</th>\n",
       "      <td>0</td>\n",
       "      <td>0</td>\n",
       "      <td>116.70</td>\n",
       "      <td>67</td>\n",
       "      <td>9</td>\n",
       "      <td>6.98</td>\n",
       "      <td>24</td>\n",
       "      <td>48</td>\n",
       "      <td>CA</td>\n",
       "      <td>AB</td>\n",
       "    </tr>\n",
       "  </tbody>\n",
       "</table>\n",
       "</div>"
      ],
      "text/plain": [
       "   IsWinner  IsFeaturedMerchant  ListingPrice  SellerFeedbackRating  \\\n",
       "0         1                   1        107.35                    95   \n",
       "1         0                   1        100.46                    98   \n",
       "2         0                   1         99.24                    95   \n",
       "3         0                   0        109.48                    94   \n",
       "4         0                   0        116.70                    67   \n",
       "\n",
       "   SellerFeedbackCount  ShippingPrice  ShippingTime_minHours  \\\n",
       "0                 4078           0.00                     48   \n",
       "1                  478           6.99                     24   \n",
       "2                 4384          11.67                     24   \n",
       "3                  105           8.99                     24   \n",
       "4                    9           6.98                     24   \n",
       "\n",
       "   ShippingTime_maxHours ShipsFromCountry ShipsFromState  \n",
       "0                     72               CA             ON  \n",
       "1                     48               CA             ON  \n",
       "2                     48               CA             ON  \n",
       "3                     48               CA             ON  \n",
       "4                     48               CA             AB  "
      ]
     },
     "execution_count": 323,
     "metadata": {},
     "output_type": "execute_result"
    }
   ],
   "source": [
    "df.head()"
   ]
  },
  {
   "cell_type": "code",
   "execution_count": 324,
   "metadata": {
    "collapsed": false,
    "scrolled": true
   },
   "outputs": [
    {
     "data": {
      "text/plain": [
       "IsWinner                 0\n",
       "IsFeaturedMerchant       0\n",
       "ListingPrice             0\n",
       "SellerFeedbackRating     0\n",
       "SellerFeedbackCount      0\n",
       "ShippingPrice            0\n",
       "ShippingTime_minHours    0\n",
       "ShippingTime_maxHours    0\n",
       "ShipsFromCountry         0\n",
       "ShipsFromState           0\n",
       "dtype: int64"
      ]
     },
     "execution_count": 324,
     "metadata": {},
     "output_type": "execute_result"
    }
   ],
   "source": [
    "# Double check for null values (shouldn't be any - removed them in the last assignment)\n",
    "df.isnull().sum()"
   ]
  },
  {
   "cell_type": "code",
   "execution_count": 325,
   "metadata": {
    "collapsed": false
   },
   "outputs": [
    {
     "data": {
      "text/html": [
       "<div>\n",
       "<table border=\"1\" class=\"dataframe\">\n",
       "  <thead>\n",
       "    <tr style=\"text-align: right;\">\n",
       "      <th></th>\n",
       "      <th>IsWinner</th>\n",
       "      <th>IsFeaturedMerchant</th>\n",
       "      <th>ListingPrice</th>\n",
       "      <th>SellerFeedbackRating</th>\n",
       "      <th>SellerFeedbackCount</th>\n",
       "      <th>ShippingPrice</th>\n",
       "      <th>ShippingTime_minHours</th>\n",
       "      <th>ShippingTime_maxHours</th>\n",
       "      <th>ShipsFromCountry</th>\n",
       "      <th>ShipsFromState</th>\n",
       "    </tr>\n",
       "  </thead>\n",
       "  <tbody>\n",
       "    <tr>\n",
       "      <th>2865</th>\n",
       "      <td>0</td>\n",
       "      <td>1</td>\n",
       "      <td>2999.00</td>\n",
       "      <td>95</td>\n",
       "      <td>4385</td>\n",
       "      <td>12.52</td>\n",
       "      <td>24</td>\n",
       "      <td>48</td>\n",
       "      <td>CA</td>\n",
       "      <td>ON</td>\n",
       "    </tr>\n",
       "    <tr>\n",
       "      <th>73</th>\n",
       "      <td>0</td>\n",
       "      <td>1</td>\n",
       "      <td>2999.00</td>\n",
       "      <td>95</td>\n",
       "      <td>4384</td>\n",
       "      <td>12.12</td>\n",
       "      <td>24</td>\n",
       "      <td>48</td>\n",
       "      <td>CA</td>\n",
       "      <td>ON</td>\n",
       "    </tr>\n",
       "    <tr>\n",
       "      <th>2684</th>\n",
       "      <td>0</td>\n",
       "      <td>0</td>\n",
       "      <td>2617.92</td>\n",
       "      <td>96</td>\n",
       "      <td>1790</td>\n",
       "      <td>9.98</td>\n",
       "      <td>96</td>\n",
       "      <td>120</td>\n",
       "      <td>US</td>\n",
       "      <td>NY</td>\n",
       "    </tr>\n",
       "    <tr>\n",
       "      <th>2683</th>\n",
       "      <td>0</td>\n",
       "      <td>1</td>\n",
       "      <td>2237.85</td>\n",
       "      <td>93</td>\n",
       "      <td>2521</td>\n",
       "      <td>269.65</td>\n",
       "      <td>24</td>\n",
       "      <td>48</td>\n",
       "      <td>US</td>\n",
       "      <td>VA</td>\n",
       "    </tr>\n",
       "    <tr>\n",
       "      <th>2290</th>\n",
       "      <td>0</td>\n",
       "      <td>0</td>\n",
       "      <td>2093.77</td>\n",
       "      <td>98</td>\n",
       "      <td>1446</td>\n",
       "      <td>0.00</td>\n",
       "      <td>24</td>\n",
       "      <td>48</td>\n",
       "      <td>US</td>\n",
       "      <td>CA</td>\n",
       "    </tr>\n",
       "  </tbody>\n",
       "</table>\n",
       "</div>"
      ],
      "text/plain": [
       "      IsWinner  IsFeaturedMerchant  ListingPrice  SellerFeedbackRating  \\\n",
       "2865         0                   1       2999.00                    95   \n",
       "73           0                   1       2999.00                    95   \n",
       "2684         0                   0       2617.92                    96   \n",
       "2683         0                   1       2237.85                    93   \n",
       "2290         0                   0       2093.77                    98   \n",
       "\n",
       "      SellerFeedbackCount  ShippingPrice  ShippingTime_minHours  \\\n",
       "2865                 4385          12.52                     24   \n",
       "73                   4384          12.12                     24   \n",
       "2684                 1790           9.98                     96   \n",
       "2683                 2521         269.65                     24   \n",
       "2290                 1446           0.00                     24   \n",
       "\n",
       "      ShippingTime_maxHours ShipsFromCountry ShipsFromState  \n",
       "2865                     48               CA             ON  \n",
       "73                       48               CA             ON  \n",
       "2684                    120               US             NY  \n",
       "2683                     48               US             VA  \n",
       "2290                     48               US             CA  "
      ]
     },
     "execution_count": 325,
     "metadata": {},
     "output_type": "execute_result"
    }
   ],
   "source": [
    "# Identify outliers in Listing Price\n",
    "# Results look normal - there is a gradual decrease in price\n",
    "df.sort_values(by='ListingPrice', axis=0, ascending=False, inplace=False, kind='quicksort', na_position='last').head(5)"
   ]
  },
  {
   "cell_type": "code",
   "execution_count": 326,
   "metadata": {
    "collapsed": false
   },
   "outputs": [
    {
     "data": {
      "text/html": [
       "<div>\n",
       "<table border=\"1\" class=\"dataframe\">\n",
       "  <thead>\n",
       "    <tr style=\"text-align: right;\">\n",
       "      <th></th>\n",
       "      <th>IsWinner</th>\n",
       "      <th>IsFeaturedMerchant</th>\n",
       "      <th>ListingPrice</th>\n",
       "      <th>SellerFeedbackRating</th>\n",
       "      <th>SellerFeedbackCount</th>\n",
       "      <th>ShippingPrice</th>\n",
       "      <th>ShippingTime_minHours</th>\n",
       "      <th>ShippingTime_maxHours</th>\n",
       "      <th>ShipsFromCountry</th>\n",
       "      <th>ShipsFromState</th>\n",
       "    </tr>\n",
       "  </thead>\n",
       "  <tbody>\n",
       "    <tr>\n",
       "      <th>393</th>\n",
       "      <td>0</td>\n",
       "      <td>1</td>\n",
       "      <td>3.24</td>\n",
       "      <td>100</td>\n",
       "      <td>2</td>\n",
       "      <td>30.22</td>\n",
       "      <td>24</td>\n",
       "      <td>48</td>\n",
       "      <td>US</td>\n",
       "      <td>NH</td>\n",
       "    </tr>\n",
       "    <tr>\n",
       "      <th>75</th>\n",
       "      <td>0</td>\n",
       "      <td>1</td>\n",
       "      <td>3.94</td>\n",
       "      <td>95</td>\n",
       "      <td>2283</td>\n",
       "      <td>8.07</td>\n",
       "      <td>144</td>\n",
       "      <td>240</td>\n",
       "      <td>CA</td>\n",
       "      <td>BC</td>\n",
       "    </tr>\n",
       "    <tr>\n",
       "      <th>4727</th>\n",
       "      <td>0</td>\n",
       "      <td>1</td>\n",
       "      <td>3.94</td>\n",
       "      <td>95</td>\n",
       "      <td>2283</td>\n",
       "      <td>8.07</td>\n",
       "      <td>144</td>\n",
       "      <td>240</td>\n",
       "      <td>CA</td>\n",
       "      <td>BC</td>\n",
       "    </tr>\n",
       "    <tr>\n",
       "      <th>3591</th>\n",
       "      <td>0</td>\n",
       "      <td>0</td>\n",
       "      <td>4.57</td>\n",
       "      <td>98</td>\n",
       "      <td>3293</td>\n",
       "      <td>7.99</td>\n",
       "      <td>24</td>\n",
       "      <td>48</td>\n",
       "      <td>US</td>\n",
       "      <td>NY</td>\n",
       "    </tr>\n",
       "    <tr>\n",
       "      <th>1469</th>\n",
       "      <td>0</td>\n",
       "      <td>0</td>\n",
       "      <td>4.86</td>\n",
       "      <td>98</td>\n",
       "      <td>3293</td>\n",
       "      <td>7.99</td>\n",
       "      <td>24</td>\n",
       "      <td>48</td>\n",
       "      <td>US</td>\n",
       "      <td>NY</td>\n",
       "    </tr>\n",
       "  </tbody>\n",
       "</table>\n",
       "</div>"
      ],
      "text/plain": [
       "      IsWinner  IsFeaturedMerchant  ListingPrice  SellerFeedbackRating  \\\n",
       "393          0                   1          3.24                   100   \n",
       "75           0                   1          3.94                    95   \n",
       "4727         0                   1          3.94                    95   \n",
       "3591         0                   0          4.57                    98   \n",
       "1469         0                   0          4.86                    98   \n",
       "\n",
       "      SellerFeedbackCount  ShippingPrice  ShippingTime_minHours  \\\n",
       "393                     2          30.22                     24   \n",
       "75                   2283           8.07                    144   \n",
       "4727                 2283           8.07                    144   \n",
       "3591                 3293           7.99                     24   \n",
       "1469                 3293           7.99                     24   \n",
       "\n",
       "      ShippingTime_maxHours ShipsFromCountry ShipsFromState  \n",
       "393                      48               US             NH  \n",
       "75                      240               CA             BC  \n",
       "4727                    240               CA             BC  \n",
       "3591                     48               US             NY  \n",
       "1469                     48               US             NY  "
      ]
     },
     "execution_count": 326,
     "metadata": {},
     "output_type": "execute_result"
    }
   ],
   "source": [
    "# Identify outliers at the other end for Listing Price\n",
    "# This also looks fine - There are no zero values. \n",
    "df.sort_values(by='ListingPrice', axis=0, ascending=True, inplace=False, kind='quicksort', na_position='last').head(5)"
   ]
  },
  {
   "cell_type": "code",
   "execution_count": 327,
   "metadata": {
    "collapsed": false
   },
   "outputs": [
    {
     "data": {
      "text/html": [
       "<div>\n",
       "<table border=\"1\" class=\"dataframe\">\n",
       "  <thead>\n",
       "    <tr style=\"text-align: right;\">\n",
       "      <th></th>\n",
       "      <th>IsWinner</th>\n",
       "      <th>IsFeaturedMerchant</th>\n",
       "      <th>ListingPrice</th>\n",
       "      <th>SellerFeedbackRating</th>\n",
       "      <th>SellerFeedbackCount</th>\n",
       "      <th>ShippingPrice</th>\n",
       "      <th>ShippingTime_minHours</th>\n",
       "      <th>ShippingTime_maxHours</th>\n",
       "      <th>ShipsFromCountry</th>\n",
       "      <th>ShipsFromState</th>\n",
       "    </tr>\n",
       "  </thead>\n",
       "  <tbody>\n",
       "    <tr>\n",
       "      <th>4201</th>\n",
       "      <td>0</td>\n",
       "      <td>1</td>\n",
       "      <td>105.81</td>\n",
       "      <td>100</td>\n",
       "      <td>384</td>\n",
       "      <td>13.08</td>\n",
       "      <td>24</td>\n",
       "      <td>48</td>\n",
       "      <td>CA</td>\n",
       "      <td>ON</td>\n",
       "    </tr>\n",
       "    <tr>\n",
       "      <th>1567</th>\n",
       "      <td>0</td>\n",
       "      <td>1</td>\n",
       "      <td>55.98</td>\n",
       "      <td>100</td>\n",
       "      <td>384</td>\n",
       "      <td>13.86</td>\n",
       "      <td>24</td>\n",
       "      <td>48</td>\n",
       "      <td>CA</td>\n",
       "      <td>ON</td>\n",
       "    </tr>\n",
       "    <tr>\n",
       "      <th>4340</th>\n",
       "      <td>0</td>\n",
       "      <td>1</td>\n",
       "      <td>444.53</td>\n",
       "      <td>100</td>\n",
       "      <td>384</td>\n",
       "      <td>20.26</td>\n",
       "      <td>24</td>\n",
       "      <td>48</td>\n",
       "      <td>CA</td>\n",
       "      <td>ON</td>\n",
       "    </tr>\n",
       "    <tr>\n",
       "      <th>2830</th>\n",
       "      <td>0</td>\n",
       "      <td>1</td>\n",
       "      <td>99.61</td>\n",
       "      <td>100</td>\n",
       "      <td>4601</td>\n",
       "      <td>0.00</td>\n",
       "      <td>24</td>\n",
       "      <td>48</td>\n",
       "      <td>CA</td>\n",
       "      <td>ON</td>\n",
       "    </tr>\n",
       "    <tr>\n",
       "      <th>3439</th>\n",
       "      <td>0</td>\n",
       "      <td>0</td>\n",
       "      <td>92.75</td>\n",
       "      <td>100</td>\n",
       "      <td>384</td>\n",
       "      <td>13.09</td>\n",
       "      <td>24</td>\n",
       "      <td>48</td>\n",
       "      <td>CA</td>\n",
       "      <td>ON</td>\n",
       "    </tr>\n",
       "  </tbody>\n",
       "</table>\n",
       "</div>"
      ],
      "text/plain": [
       "      IsWinner  IsFeaturedMerchant  ListingPrice  SellerFeedbackRating  \\\n",
       "4201         0                   1        105.81                   100   \n",
       "1567         0                   1         55.98                   100   \n",
       "4340         0                   1        444.53                   100   \n",
       "2830         0                   1         99.61                   100   \n",
       "3439         0                   0         92.75                   100   \n",
       "\n",
       "      SellerFeedbackCount  ShippingPrice  ShippingTime_minHours  \\\n",
       "4201                  384          13.08                     24   \n",
       "1567                  384          13.86                     24   \n",
       "4340                  384          20.26                     24   \n",
       "2830                 4601           0.00                     24   \n",
       "3439                  384          13.09                     24   \n",
       "\n",
       "      ShippingTime_maxHours ShipsFromCountry ShipsFromState  \n",
       "4201                     48               CA             ON  \n",
       "1567                     48               CA             ON  \n",
       "4340                     48               CA             ON  \n",
       "2830                     48               CA             ON  \n",
       "3439                     48               CA             ON  "
      ]
     },
     "execution_count": 327,
     "metadata": {},
     "output_type": "execute_result"
    }
   ],
   "source": [
    "# Identify outliers in Seller Feedback Rating\n",
    "# Looks fine also - 100 is the maximum that should be possible\n",
    "df.sort_values(by='SellerFeedbackRating', axis=0, ascending=False, inplace=False, kind='quicksort', na_position='last').head(5)"
   ]
  },
  {
   "cell_type": "code",
   "execution_count": 328,
   "metadata": {
    "collapsed": false
   },
   "outputs": [
    {
     "data": {
      "text/html": [
       "<div>\n",
       "<table border=\"1\" class=\"dataframe\">\n",
       "  <thead>\n",
       "    <tr style=\"text-align: right;\">\n",
       "      <th></th>\n",
       "      <th>IsWinner</th>\n",
       "      <th>IsFeaturedMerchant</th>\n",
       "      <th>ListingPrice</th>\n",
       "      <th>SellerFeedbackRating</th>\n",
       "      <th>SellerFeedbackCount</th>\n",
       "      <th>ShippingPrice</th>\n",
       "      <th>ShippingTime_minHours</th>\n",
       "      <th>ShippingTime_maxHours</th>\n",
       "      <th>ShipsFromCountry</th>\n",
       "      <th>ShipsFromState</th>\n",
       "    </tr>\n",
       "  </thead>\n",
       "  <tbody>\n",
       "    <tr>\n",
       "      <th>5130</th>\n",
       "      <td>0</td>\n",
       "      <td>0</td>\n",
       "      <td>144.70</td>\n",
       "      <td>0</td>\n",
       "      <td>0</td>\n",
       "      <td>58.00</td>\n",
       "      <td>48</td>\n",
       "      <td>72</td>\n",
       "      <td>US</td>\n",
       "      <td>CA</td>\n",
       "    </tr>\n",
       "    <tr>\n",
       "      <th>1481</th>\n",
       "      <td>0</td>\n",
       "      <td>0</td>\n",
       "      <td>240.10</td>\n",
       "      <td>0</td>\n",
       "      <td>0</td>\n",
       "      <td>6.98</td>\n",
       "      <td>96</td>\n",
       "      <td>120</td>\n",
       "      <td>US</td>\n",
       "      <td>FL</td>\n",
       "    </tr>\n",
       "    <tr>\n",
       "      <th>2990</th>\n",
       "      <td>0</td>\n",
       "      <td>0</td>\n",
       "      <td>216.32</td>\n",
       "      <td>0</td>\n",
       "      <td>0</td>\n",
       "      <td>5.54</td>\n",
       "      <td>48</td>\n",
       "      <td>72</td>\n",
       "      <td>US</td>\n",
       "      <td>CA</td>\n",
       "    </tr>\n",
       "    <tr>\n",
       "      <th>2987</th>\n",
       "      <td>0</td>\n",
       "      <td>0</td>\n",
       "      <td>188.25</td>\n",
       "      <td>0</td>\n",
       "      <td>0</td>\n",
       "      <td>5.54</td>\n",
       "      <td>96</td>\n",
       "      <td>120</td>\n",
       "      <td>US</td>\n",
       "      <td>PA</td>\n",
       "    </tr>\n",
       "    <tr>\n",
       "      <th>4511</th>\n",
       "      <td>0</td>\n",
       "      <td>0</td>\n",
       "      <td>95.81</td>\n",
       "      <td>0</td>\n",
       "      <td>0</td>\n",
       "      <td>5.54</td>\n",
       "      <td>504</td>\n",
       "      <td>720</td>\n",
       "      <td>CA</td>\n",
       "      <td>ON</td>\n",
       "    </tr>\n",
       "  </tbody>\n",
       "</table>\n",
       "</div>"
      ],
      "text/plain": [
       "      IsWinner  IsFeaturedMerchant  ListingPrice  SellerFeedbackRating  \\\n",
       "5130         0                   0        144.70                     0   \n",
       "1481         0                   0        240.10                     0   \n",
       "2990         0                   0        216.32                     0   \n",
       "2987         0                   0        188.25                     0   \n",
       "4511         0                   0         95.81                     0   \n",
       "\n",
       "      SellerFeedbackCount  ShippingPrice  ShippingTime_minHours  \\\n",
       "5130                    0          58.00                     48   \n",
       "1481                    0           6.98                     96   \n",
       "2990                    0           5.54                     48   \n",
       "2987                    0           5.54                     96   \n",
       "4511                    0           5.54                    504   \n",
       "\n",
       "      ShippingTime_maxHours ShipsFromCountry ShipsFromState  \n",
       "5130                     72               US             CA  \n",
       "1481                    120               US             FL  \n",
       "2990                     72               US             CA  \n",
       "2987                    120               US             PA  \n",
       "4511                    720               CA             ON  "
      ]
     },
     "execution_count": 328,
     "metadata": {},
     "output_type": "execute_result"
    }
   ],
   "source": [
    "# Now here we can see a lot of zeros - are these legitimate zero ratings or lack or rating? \n",
    "# Either way it does provide us with useful information if it correlates with the target feature\n",
    "df.sort_values(by='SellerFeedbackRating', axis=0, ascending=True, inplace=False, kind='quicksort', na_position='last').head(5)"
   ]
  },
  {
   "cell_type": "code",
   "execution_count": 329,
   "metadata": {
    "collapsed": false
   },
   "outputs": [
    {
     "data": {
      "text/html": [
       "<div>\n",
       "<table border=\"1\" class=\"dataframe\">\n",
       "  <thead>\n",
       "    <tr style=\"text-align: right;\">\n",
       "      <th></th>\n",
       "      <th>IsWinner</th>\n",
       "      <th>IsFeaturedMerchant</th>\n",
       "      <th>ListingPrice</th>\n",
       "      <th>SellerFeedbackRating</th>\n",
       "      <th>SellerFeedbackCount</th>\n",
       "      <th>ShippingPrice</th>\n",
       "      <th>ShippingTime_minHours</th>\n",
       "      <th>ShippingTime_maxHours</th>\n",
       "      <th>ShipsFromCountry</th>\n",
       "      <th>ShipsFromState</th>\n",
       "    </tr>\n",
       "  </thead>\n",
       "  <tbody>\n",
       "    <tr>\n",
       "      <th>531</th>\n",
       "      <td>0</td>\n",
       "      <td>1</td>\n",
       "      <td>929.02</td>\n",
       "      <td>93</td>\n",
       "      <td>2521</td>\n",
       "      <td>335.35</td>\n",
       "      <td>24</td>\n",
       "      <td>48</td>\n",
       "      <td>US</td>\n",
       "      <td>VA</td>\n",
       "    </tr>\n",
       "    <tr>\n",
       "      <th>2137</th>\n",
       "      <td>0</td>\n",
       "      <td>1</td>\n",
       "      <td>929.02</td>\n",
       "      <td>93</td>\n",
       "      <td>2521</td>\n",
       "      <td>335.35</td>\n",
       "      <td>24</td>\n",
       "      <td>48</td>\n",
       "      <td>US</td>\n",
       "      <td>VA</td>\n",
       "    </tr>\n",
       "    <tr>\n",
       "      <th>4251</th>\n",
       "      <td>0</td>\n",
       "      <td>1</td>\n",
       "      <td>929.02</td>\n",
       "      <td>93</td>\n",
       "      <td>2521</td>\n",
       "      <td>335.35</td>\n",
       "      <td>24</td>\n",
       "      <td>48</td>\n",
       "      <td>US</td>\n",
       "      <td>VA</td>\n",
       "    </tr>\n",
       "    <tr>\n",
       "      <th>2683</th>\n",
       "      <td>0</td>\n",
       "      <td>1</td>\n",
       "      <td>2237.85</td>\n",
       "      <td>93</td>\n",
       "      <td>2521</td>\n",
       "      <td>269.65</td>\n",
       "      <td>24</td>\n",
       "      <td>48</td>\n",
       "      <td>US</td>\n",
       "      <td>VA</td>\n",
       "    </tr>\n",
       "    <tr>\n",
       "      <th>764</th>\n",
       "      <td>0</td>\n",
       "      <td>1</td>\n",
       "      <td>575.25</td>\n",
       "      <td>93</td>\n",
       "      <td>2521</td>\n",
       "      <td>252.25</td>\n",
       "      <td>24</td>\n",
       "      <td>48</td>\n",
       "      <td>US</td>\n",
       "      <td>VA</td>\n",
       "    </tr>\n",
       "  </tbody>\n",
       "</table>\n",
       "</div>"
      ],
      "text/plain": [
       "      IsWinner  IsFeaturedMerchant  ListingPrice  SellerFeedbackRating  \\\n",
       "531          0                   1        929.02                    93   \n",
       "2137         0                   1        929.02                    93   \n",
       "4251         0                   1        929.02                    93   \n",
       "2683         0                   1       2237.85                    93   \n",
       "764          0                   1        575.25                    93   \n",
       "\n",
       "      SellerFeedbackCount  ShippingPrice  ShippingTime_minHours  \\\n",
       "531                  2521         335.35                     24   \n",
       "2137                 2521         335.35                     24   \n",
       "4251                 2521         335.35                     24   \n",
       "2683                 2521         269.65                     24   \n",
       "764                  2521         252.25                     24   \n",
       "\n",
       "      ShippingTime_maxHours ShipsFromCountry ShipsFromState  \n",
       "531                      48               US             VA  \n",
       "2137                     48               US             VA  \n",
       "4251                     48               US             VA  \n",
       "2683                     48               US             VA  \n",
       "764                      48               US             VA  "
      ]
     },
     "execution_count": 329,
     "metadata": {},
     "output_type": "execute_result"
    }
   ],
   "source": [
    "# Identify outliers in Shipping Price\n",
    "# Looks fine, decreases at a normal enough rate. No outstanding values at the top. \n",
    "df.sort_values(by='ShippingPrice', axis=0, ascending=False, inplace=False, kind='quicksort', na_position='last').head(5)"
   ]
  },
  {
   "cell_type": "code",
   "execution_count": 330,
   "metadata": {
    "collapsed": false
   },
   "outputs": [
    {
     "data": {
      "text/html": [
       "<div>\n",
       "<table border=\"1\" class=\"dataframe\">\n",
       "  <thead>\n",
       "    <tr style=\"text-align: right;\">\n",
       "      <th></th>\n",
       "      <th>IsWinner</th>\n",
       "      <th>IsFeaturedMerchant</th>\n",
       "      <th>ListingPrice</th>\n",
       "      <th>SellerFeedbackRating</th>\n",
       "      <th>SellerFeedbackCount</th>\n",
       "      <th>ShippingPrice</th>\n",
       "      <th>ShippingTime_minHours</th>\n",
       "      <th>ShippingTime_maxHours</th>\n",
       "      <th>ShipsFromCountry</th>\n",
       "      <th>ShipsFromState</th>\n",
       "    </tr>\n",
       "  </thead>\n",
       "  <tbody>\n",
       "    <tr>\n",
       "      <th>0</th>\n",
       "      <td>1</td>\n",
       "      <td>1</td>\n",
       "      <td>107.35</td>\n",
       "      <td>95</td>\n",
       "      <td>4078</td>\n",
       "      <td>0.0</td>\n",
       "      <td>48</td>\n",
       "      <td>72</td>\n",
       "      <td>CA</td>\n",
       "      <td>ON</td>\n",
       "    </tr>\n",
       "    <tr>\n",
       "      <th>2741</th>\n",
       "      <td>0</td>\n",
       "      <td>0</td>\n",
       "      <td>471.32</td>\n",
       "      <td>98</td>\n",
       "      <td>63</td>\n",
       "      <td>0.0</td>\n",
       "      <td>24</td>\n",
       "      <td>48</td>\n",
       "      <td>CA</td>\n",
       "      <td>ON</td>\n",
       "    </tr>\n",
       "    <tr>\n",
       "      <th>2742</th>\n",
       "      <td>0</td>\n",
       "      <td>0</td>\n",
       "      <td>481.98</td>\n",
       "      <td>94</td>\n",
       "      <td>105</td>\n",
       "      <td>0.0</td>\n",
       "      <td>24</td>\n",
       "      <td>48</td>\n",
       "      <td>CA</td>\n",
       "      <td>ON</td>\n",
       "    </tr>\n",
       "    <tr>\n",
       "      <th>2743</th>\n",
       "      <td>0</td>\n",
       "      <td>1</td>\n",
       "      <td>498.01</td>\n",
       "      <td>95</td>\n",
       "      <td>4078</td>\n",
       "      <td>0.0</td>\n",
       "      <td>48</td>\n",
       "      <td>72</td>\n",
       "      <td>CA</td>\n",
       "      <td>ON</td>\n",
       "    </tr>\n",
       "    <tr>\n",
       "      <th>2750</th>\n",
       "      <td>0</td>\n",
       "      <td>1</td>\n",
       "      <td>570.44</td>\n",
       "      <td>96</td>\n",
       "      <td>35270</td>\n",
       "      <td>0.0</td>\n",
       "      <td>96</td>\n",
       "      <td>120</td>\n",
       "      <td>CA</td>\n",
       "      <td>QC</td>\n",
       "    </tr>\n",
       "  </tbody>\n",
       "</table>\n",
       "</div>"
      ],
      "text/plain": [
       "      IsWinner  IsFeaturedMerchant  ListingPrice  SellerFeedbackRating  \\\n",
       "0            1                   1        107.35                    95   \n",
       "2741         0                   0        471.32                    98   \n",
       "2742         0                   0        481.98                    94   \n",
       "2743         0                   1        498.01                    95   \n",
       "2750         0                   1        570.44                    96   \n",
       "\n",
       "      SellerFeedbackCount  ShippingPrice  ShippingTime_minHours  \\\n",
       "0                    4078            0.0                     48   \n",
       "2741                   63            0.0                     24   \n",
       "2742                  105            0.0                     24   \n",
       "2743                 4078            0.0                     48   \n",
       "2750                35270            0.0                     96   \n",
       "\n",
       "      ShippingTime_maxHours ShipsFromCountry ShipsFromState  \n",
       "0                        72               CA             ON  \n",
       "2741                     48               CA             ON  \n",
       "2742                     48               CA             ON  \n",
       "2743                     72               CA             ON  \n",
       "2750                    120               CA             QC  "
      ]
     },
     "execution_count": 330,
     "metadata": {},
     "output_type": "execute_result"
    }
   ],
   "source": [
    "# Identify outliers in Shipping Price at the lower end\n",
    "# Again there are a lot of zeros, but this could be legitimate because it's not uncommon \n",
    "# to get free shipping on Amazon\n",
    "df.sort_values(by='ShippingPrice', axis=0, ascending=True, inplace=False, kind='quicksort', na_position='last').head(5)"
   ]
  },
  {
   "cell_type": "code",
   "execution_count": 331,
   "metadata": {
    "collapsed": false
   },
   "outputs": [
    {
     "data": {
      "text/html": [
       "<div>\n",
       "<table border=\"1\" class=\"dataframe\">\n",
       "  <thead>\n",
       "    <tr style=\"text-align: right;\">\n",
       "      <th></th>\n",
       "      <th>IsWinner</th>\n",
       "      <th>IsFeaturedMerchant</th>\n",
       "      <th>ListingPrice</th>\n",
       "      <th>SellerFeedbackRating</th>\n",
       "      <th>SellerFeedbackCount</th>\n",
       "      <th>ShippingPrice</th>\n",
       "      <th>ShippingTime_minHours</th>\n",
       "      <th>ShippingTime_maxHours</th>\n",
       "      <th>ShipsFromCountry</th>\n",
       "      <th>ShipsFromState</th>\n",
       "    </tr>\n",
       "  </thead>\n",
       "  <tbody>\n",
       "    <tr>\n",
       "      <th>2925</th>\n",
       "      <td>0</td>\n",
       "      <td>0</td>\n",
       "      <td>499.00</td>\n",
       "      <td>93</td>\n",
       "      <td>3182</td>\n",
       "      <td>30.50</td>\n",
       "      <td>24</td>\n",
       "      <td>48</td>\n",
       "      <td>CA</td>\n",
       "      <td>ON</td>\n",
       "    </tr>\n",
       "    <tr>\n",
       "      <th>3296</th>\n",
       "      <td>0</td>\n",
       "      <td>1</td>\n",
       "      <td>78.09</td>\n",
       "      <td>100</td>\n",
       "      <td>384</td>\n",
       "      <td>13.27</td>\n",
       "      <td>24</td>\n",
       "      <td>48</td>\n",
       "      <td>CA</td>\n",
       "      <td>ON</td>\n",
       "    </tr>\n",
       "    <tr>\n",
       "      <th>3297</th>\n",
       "      <td>0</td>\n",
       "      <td>1</td>\n",
       "      <td>87.59</td>\n",
       "      <td>98</td>\n",
       "      <td>478</td>\n",
       "      <td>6.99</td>\n",
       "      <td>24</td>\n",
       "      <td>48</td>\n",
       "      <td>CA</td>\n",
       "      <td>ON</td>\n",
       "    </tr>\n",
       "    <tr>\n",
       "      <th>3298</th>\n",
       "      <td>0</td>\n",
       "      <td>1</td>\n",
       "      <td>86.72</td>\n",
       "      <td>96</td>\n",
       "      <td>7090</td>\n",
       "      <td>9.95</td>\n",
       "      <td>24</td>\n",
       "      <td>48</td>\n",
       "      <td>CA</td>\n",
       "      <td>ON</td>\n",
       "    </tr>\n",
       "    <tr>\n",
       "      <th>3301</th>\n",
       "      <td>0</td>\n",
       "      <td>1</td>\n",
       "      <td>80.13</td>\n",
       "      <td>93</td>\n",
       "      <td>2521</td>\n",
       "      <td>21.45</td>\n",
       "      <td>24</td>\n",
       "      <td>48</td>\n",
       "      <td>US</td>\n",
       "      <td>VA</td>\n",
       "    </tr>\n",
       "  </tbody>\n",
       "</table>\n",
       "</div>"
      ],
      "text/plain": [
       "      IsWinner  IsFeaturedMerchant  ListingPrice  SellerFeedbackRating  \\\n",
       "2925         0                   0        499.00                    93   \n",
       "3296         0                   1         78.09                   100   \n",
       "3297         0                   1         87.59                    98   \n",
       "3298         0                   1         86.72                    96   \n",
       "3301         0                   1         80.13                    93   \n",
       "\n",
       "      SellerFeedbackCount  ShippingPrice  ShippingTime_minHours  \\\n",
       "2925                 3182          30.50                     24   \n",
       "3296                  384          13.27                     24   \n",
       "3297                  478           6.99                     24   \n",
       "3298                 7090           9.95                     24   \n",
       "3301                 2521          21.45                     24   \n",
       "\n",
       "      ShippingTime_maxHours ShipsFromCountry ShipsFromState  \n",
       "2925                     48               CA             ON  \n",
       "3296                     48               CA             ON  \n",
       "3297                     48               CA             ON  \n",
       "3298                     48               CA             ON  \n",
       "3301                     48               US             VA  "
      ]
     },
     "execution_count": 331,
     "metadata": {},
     "output_type": "execute_result"
    }
   ],
   "source": [
    "# Identify outliers for Shipping Times - more likely to be at the lower end\n",
    "# Looks fine - minimum is 24hrs which seems reasonable for domestic shipping\n",
    "df.sort_values(by='ShippingTime_minHours', axis=0, ascending=True, inplace=False, kind='quicksort', na_position='last').head(5)"
   ]
  },
  {
   "cell_type": "code",
   "execution_count": 332,
   "metadata": {
    "collapsed": false
   },
   "outputs": [
    {
     "data": {
      "text/html": [
       "<div>\n",
       "<table border=\"1\" class=\"dataframe\">\n",
       "  <thead>\n",
       "    <tr style=\"text-align: right;\">\n",
       "      <th></th>\n",
       "      <th>IsWinner</th>\n",
       "      <th>IsFeaturedMerchant</th>\n",
       "      <th>ListingPrice</th>\n",
       "      <th>SellerFeedbackRating</th>\n",
       "      <th>SellerFeedbackCount</th>\n",
       "      <th>ShippingPrice</th>\n",
       "      <th>ShippingTime_minHours</th>\n",
       "      <th>ShippingTime_maxHours</th>\n",
       "      <th>ShipsFromCountry</th>\n",
       "      <th>ShipsFromState</th>\n",
       "    </tr>\n",
       "  </thead>\n",
       "  <tbody>\n",
       "    <tr>\n",
       "      <th>5352</th>\n",
       "      <td>0</td>\n",
       "      <td>0</td>\n",
       "      <td>376.68</td>\n",
       "      <td>0</td>\n",
       "      <td>0</td>\n",
       "      <td>5.54</td>\n",
       "      <td>504</td>\n",
       "      <td>720</td>\n",
       "      <td>CA</td>\n",
       "      <td>ON</td>\n",
       "    </tr>\n",
       "    <tr>\n",
       "      <th>1883</th>\n",
       "      <td>0</td>\n",
       "      <td>0</td>\n",
       "      <td>376.68</td>\n",
       "      <td>0</td>\n",
       "      <td>0</td>\n",
       "      <td>5.54</td>\n",
       "      <td>504</td>\n",
       "      <td>720</td>\n",
       "      <td>CA</td>\n",
       "      <td>ON</td>\n",
       "    </tr>\n",
       "    <tr>\n",
       "      <th>4757</th>\n",
       "      <td>0</td>\n",
       "      <td>0</td>\n",
       "      <td>376.68</td>\n",
       "      <td>0</td>\n",
       "      <td>0</td>\n",
       "      <td>5.54</td>\n",
       "      <td>504</td>\n",
       "      <td>720</td>\n",
       "      <td>CA</td>\n",
       "      <td>ON</td>\n",
       "    </tr>\n",
       "    <tr>\n",
       "      <th>5630</th>\n",
       "      <td>0</td>\n",
       "      <td>0</td>\n",
       "      <td>376.68</td>\n",
       "      <td>0</td>\n",
       "      <td>0</td>\n",
       "      <td>5.54</td>\n",
       "      <td>504</td>\n",
       "      <td>720</td>\n",
       "      <td>CA</td>\n",
       "      <td>ON</td>\n",
       "    </tr>\n",
       "    <tr>\n",
       "      <th>2982</th>\n",
       "      <td>0</td>\n",
       "      <td>0</td>\n",
       "      <td>105.97</td>\n",
       "      <td>0</td>\n",
       "      <td>0</td>\n",
       "      <td>5.54</td>\n",
       "      <td>504</td>\n",
       "      <td>720</td>\n",
       "      <td>CA</td>\n",
       "      <td>ON</td>\n",
       "    </tr>\n",
       "  </tbody>\n",
       "</table>\n",
       "</div>"
      ],
      "text/plain": [
       "      IsWinner  IsFeaturedMerchant  ListingPrice  SellerFeedbackRating  \\\n",
       "5352         0                   0        376.68                     0   \n",
       "1883         0                   0        376.68                     0   \n",
       "4757         0                   0        376.68                     0   \n",
       "5630         0                   0        376.68                     0   \n",
       "2982         0                   0        105.97                     0   \n",
       "\n",
       "      SellerFeedbackCount  ShippingPrice  ShippingTime_minHours  \\\n",
       "5352                    0           5.54                    504   \n",
       "1883                    0           5.54                    504   \n",
       "4757                    0           5.54                    504   \n",
       "5630                    0           5.54                    504   \n",
       "2982                    0           5.54                    504   \n",
       "\n",
       "      ShippingTime_maxHours ShipsFromCountry ShipsFromState  \n",
       "5352                    720               CA             ON  \n",
       "1883                    720               CA             ON  \n",
       "4757                    720               CA             ON  \n",
       "5630                    720               CA             ON  \n",
       "2982                    720               CA             ON  "
      ]
     },
     "execution_count": 332,
     "metadata": {},
     "output_type": "execute_result"
    }
   ],
   "source": [
    "# Identify outliers for Shipping Times - more likely to be at the higher end\n",
    "# 720 hours (30 days) does seem high but as there are a few instances of that time\n",
    "# And the ShipsFromCountry is Canada I'll make the decision that it passes the sanity check\n",
    "df.sort_values(by='ShippingTime_maxHours', axis=0, ascending=False, inplace=False, kind='quicksort', na_position='last').head(5)"
   ]
  },
  {
   "cell_type": "markdown",
   "metadata": {
    "collapsed": true
   },
   "source": [
    "# Question 1. Data Understanding: Exploring Relationships Between Feature Pairs"
   ]
  },
  {
   "cell_type": "markdown",
   "metadata": {},
   "source": [
    "## 1.1 Print the correlations between the continuous features"
   ]
  },
  {
   "cell_type": "code",
   "execution_count": 333,
   "metadata": {
    "collapsed": false
   },
   "outputs": [
    {
     "name": "stdout",
     "output_type": "stream",
     "text": [
      "                       SellerFeedbackRating  SellerFeedbackCount  \\\n",
      "SellerFeedbackRating               1.000000             0.105576   \n",
      "SellerFeedbackCount                0.105576             1.000000   \n",
      "ListingPrice                      -0.037842            -0.001166   \n",
      "ShippingPrice                     -0.005308            -0.202074   \n",
      "ShippingTime_minHours             -0.163926             0.295287   \n",
      "ShippingTime_maxHours             -0.176798             0.212978   \n",
      "\n",
      "                       ListingPrice  ShippingPrice  ShippingTime_minHours  \\\n",
      "SellerFeedbackRating      -0.037842      -0.005308              -0.163926   \n",
      "SellerFeedbackCount       -0.001166      -0.202074               0.295287   \n",
      "ListingPrice               1.000000       0.215024               0.038674   \n",
      "ShippingPrice              0.215024       1.000000              -0.016701   \n",
      "ShippingTime_minHours      0.038674      -0.016701               1.000000   \n",
      "ShippingTime_maxHours      0.032914       0.036349               0.973911   \n",
      "\n",
      "                       ShippingTime_maxHours  \n",
      "SellerFeedbackRating               -0.176798  \n",
      "SellerFeedbackCount                 0.212978  \n",
      "ListingPrice                        0.032914  \n",
      "ShippingPrice                       0.036349  \n",
      "ShippingTime_minHours               0.973911  \n",
      "ShippingTime_maxHours               1.000000  \n"
     ]
    }
   ],
   "source": [
    "sns.set(style='white')\n",
    "continuous_features = df[['SellerFeedbackRating', 'SellerFeedbackCount', 'ListingPrice', 'ShippingPrice', 'ShippingTime_minHours', 'ShippingTime_maxHours']].columns\n",
    "corr = df[continuous_features].corr()\n",
    "print(corr)"
   ]
  },
  {
   "cell_type": "code",
   "execution_count": 334,
   "metadata": {
    "collapsed": false
   },
   "outputs": [
    {
     "data": {
      "text/plain": [
       "(array([ 0.5,  1.5,  2.5,  3.5,  4.5,  5.5]),\n",
       " <a list of 6 Text xticklabel objects>)"
      ]
     },
     "execution_count": 334,
     "metadata": {},
     "output_type": "execute_result"
    },
    {
     "data": {
      "image/png": "[encoded data removed]",
      "text/plain": [
       "<matplotlib.figure.Figure at 0x1146f1f0710>"
      ]
     },
     "metadata": {},
     "output_type": "display_data"
    }
   ],
   "source": [
    "# A nicer representation of correlations\n",
    "# Generate a mask for the upper triangle\n",
    "mask = np.zeros_like(corr, dtype=np.bool)\n",
    "mask[np.triu_indices_from(mask)] = True\n",
    "\n",
    "# Set up the matplotlib figure\n",
    "f, ax = plt.subplots(figsize=(11, 9))\n",
    "\n",
    "# Generate a custom colormap - blue and red\n",
    "cmap = sns.diverging_palette(220, 10, as_cmap=True)\n",
    "\n",
    "# Draw the heatmap with the mask and correct aspect ratio\n",
    "sns.heatmap(corr, annot=True, mask=mask, cmap=cmap, vmax=1, vmin=-1,\n",
    "            square=True, xticklabels=True, yticklabels=True,\n",
    "            linewidths=.5, cbar_kws={\"shrink\": .5}, ax=ax)\n",
    "plt.yticks(rotation = 0)\n",
    "plt.xticks(rotation = 45)"
   ]
  },
  {
   "cell_type": "markdown",
   "metadata": {},
   "source": [
    "## 1.2 Plot the scatter plots of each pair of continuous descriptive feature and target feature"
   ]
  },
  {
   "cell_type": "code",
   "execution_count": 335,
   "metadata": {
    "collapsed": false,
    "scrolled": true
   },
   "outputs": [
    {
     "data": {
      "text/plain": [
       "<matplotlib.axes._subplots.AxesSubplot at 0x1146b367d30>"
      ]
     },
     "execution_count": 335,
     "metadata": {},
     "output_type": "execute_result"
    },
    {
     "data": {
      "image/png": "[encoded data removed]",
      "text/plain": [
       "<matplotlib.figure.Figure at 0x1146f1c6ba8>"
      ]
     },
     "metadata": {},
     "output_type": "display_data"
    }
   ],
   "source": [
    "% matplotlib inline\n",
    "df.plot(kind='scatter', x='IsWinner', y='SellerFeedbackRating', figsize=(5, 5))"
   ]
  },
  {
   "cell_type": "code",
   "execution_count": 336,
   "metadata": {
    "collapsed": false,
    "scrolled": true
   },
   "outputs": [
    {
     "data": {
      "text/plain": [
       "<matplotlib.axes._subplots.AxesSubplot at 0x1146ee92780>"
      ]
     },
     "execution_count": 336,
     "metadata": {},
     "output_type": "execute_result"
    },
    {
     "data": {
      "image/png": "[encoded data removed]",
      "text/plain": [
       "<matplotlib.figure.Figure at 0x1146b375588>"
      ]
     },
     "metadata": {},
     "output_type": "display_data"
    }
   ],
   "source": [
    "df.plot(kind='scatter', x='IsWinner', y='SellerFeedbackCount', figsize=(5, 5))"
   ]
  },
  {
   "cell_type": "code",
   "execution_count": 337,
   "metadata": {
    "collapsed": false,
    "scrolled": true
   },
   "outputs": [
    {
     "data": {
      "text/plain": [
       "<matplotlib.axes._subplots.AxesSubplot at 0x1146f18f710>"
      ]
     },
     "execution_count": 337,
     "metadata": {},
     "output_type": "execute_result"
    },
    {
     "data": {
      "image/png": "[encoded data removed]",
      "text/plain": [
       "<matplotlib.figure.Figure at 0x1146b008278>"
      ]
     },
     "metadata": {},
     "output_type": "display_data"
    }
   ],
   "source": [
    "df.plot(kind='scatter', x='IsWinner', y='ListingPrice', figsize=(5, 5))"
   ]
  },
  {
   "cell_type": "code",
   "execution_count": 338,
   "metadata": {
    "collapsed": false
   },
   "outputs": [
    {
     "data": {
      "text/plain": [
       "<matplotlib.axes._subplots.AxesSubplot at 0x1146ee7fc50>"
      ]
     },
     "execution_count": 338,
     "metadata": {},
     "output_type": "execute_result"
    },
    {
     "data": {
      "image/png": "[encoded data removed]",
      "text/plain": [
       "<matplotlib.figure.Figure at 0x1146b4510f0>"
      ]
     },
     "metadata": {},
     "output_type": "display_data"
    }
   ],
   "source": [
    "df.plot(kind='scatter', x='IsWinner', y='ShippingPrice', figsize=(5, 5))"
   ]
  },
  {
   "cell_type": "code",
   "execution_count": 339,
   "metadata": {
    "collapsed": false,
    "scrolled": true
   },
   "outputs": [
    {
     "data": {
      "text/plain": [
       "<matplotlib.axes._subplots.AxesSubplot at 0x1146b488c18>"
      ]
     },
     "execution_count": 339,
     "metadata": {},
     "output_type": "execute_result"
    },
    {
     "data": {
      "image/png": "[encoded data removed]",
      "text/plain": [
       "<matplotlib.figure.Figure at 0x1146f1e96d8>"
      ]
     },
     "metadata": {},
     "output_type": "display_data"
    }
   ],
   "source": [
    "df.plot(kind='scatter', x='IsWinner', y='ShippingTime_minHours', figsize=(5, 5))"
   ]
  },
  {
   "cell_type": "code",
   "execution_count": 340,
   "metadata": {
    "collapsed": false
   },
   "outputs": [
    {
     "data": {
      "text/plain": [
       "<matplotlib.axes._subplots.AxesSubplot at 0x1146add84a8>"
      ]
     },
     "execution_count": 340,
     "metadata": {},
     "output_type": "execute_result"
    },
    {
     "data": {
      "image/png": "[encoded data removed]",
      "text/plain": [
       "<matplotlib.figure.Figure at 0x1146d5e9278>"
      ]
     },
     "metadata": {},
     "output_type": "display_data"
    }
   ],
   "source": [
    "df.plot(kind='scatter', x='IsWinner', y='ShippingTime_maxHours', figsize=(5, 5))"
   ]
  },
  {
   "cell_type": "markdown",
   "metadata": {},
   "source": [
    "## 1.3 Discuss what you observe from the scatter plots and correlations, e.g., which continuous features seem to be better at predicting the target feature. "
   ]
  },
  {
   "cell_type": "markdown",
   "metadata": {
    "collapsed": true
   },
   "source": [
    "1. From the above plots we can see that in order to be a winning offer an offer must have a Seller Feedback Rating above (approx 90) and Listing Price must be under (approx \\$1000) however cases within these bounds are not always Winners. While Shipping Price must be under (approx \\$90) in order for an offer to be a winner. \n",
    "\n",
    "2. If we look at the correlations between continuous features, we can see that Seller Feedback Count is the only feature which has a positive impact on Seller Feedback Rating, while Shipping Price, Shipping Time Min and Shipping Time Max are the features which have a positive impact on Listing Price. \n",
    "\n",
    "3. In addition to that we can see from the scatter plots that winning offers only occur when the Shipping Time is low. \n",
    "\n",
    "Note: What we see here are not black and white relationships - there is no one or two features that have a cut off point between winning offers and non winning offers. "
   ]
  },
  {
   "cell_type": "markdown",
   "metadata": {},
   "source": [
    "### Choose a subset of continuous features you find promising. Justify your choices. "
   ]
  },
  {
   "cell_type": "markdown",
   "metadata": {},
   "source": [
    "Based on the above analysis I think that the most promising fatures are Seller Feedback Rating and Listing Price. \n",
    "The results of Shipping Time Max are very similar to Shipping Time Min so I believe there is an overlap of information here. \n",
    "\n",
    "I am choosing these features because they have the strongest correlation between themselves and the target feature. I am limiting it to a small subset because after much initial testing I was unable to get an effective model predicting a positive case with a larger subset. "
   ]
  },
  {
   "cell_type": "markdown",
   "metadata": {},
   "source": [
    "## 1.4 For each categorical feature, plot the pairwise interaction with the target feature (barplots or stacked barplots). "
   ]
  },
  {
   "cell_type": "code",
   "execution_count": 341,
   "metadata": {
    "collapsed": false
   },
   "outputs": [],
   "source": [
    "%matplotlib inline\n",
    "\n",
    "#define our categorical features\n",
    "categorical_features = ['IsFeaturedMerchant',\n",
    "                        'ShipsFromCountry', 'ShipsFromState']\n",
    "\n",
    "categorical_columns = df[categorical_features].columns\n"
   ]
  },
  {
   "cell_type": "code",
   "execution_count": 342,
   "metadata": {
    "collapsed": false,
    "scrolled": true
   },
   "outputs": [
    {
     "data": {
      "text/plain": [
       "(0, 100)"
      ]
     },
     "execution_count": 342,
     "metadata": {},
     "output_type": "execute_result"
    },
    {
     "data": {
      "image/png": "[encoded data removed]",
      "text/plain": [
       "<matplotlib.figure.Figure at 0x1146d5df0f0>"
      ]
     },
     "metadata": {},
     "output_type": "display_data"
    }
   ],
   "source": [
    "# Find unique values in ShipsFromState\n",
    "\n",
    "states = pd.unique(df.ShipsFromState.ravel())\n",
    "\n",
    "# Insert a new column called 'percent' and fill it with 0s\n",
    "df['percent'] = 0\n",
    "\n",
    "# Iterate through the unique values in State and for each value count the amount of winners\n",
    "# Find the indexes of each row with a particular state and for each of these row insert count * 100 in the percent column\n",
    "for s in states:\n",
    "    count = 1 / df[df.ShipsFromState == s].count()['IsWinner']\n",
    "    index_list = df[df['ShipsFromState'] == s].index.tolist()\n",
    "    for i in index_list:\n",
    "        df.loc[i, 'percent'] = count * 100\n",
    "\n",
    "\n",
    "category_group = df[['percent', 'ShipsFromState','IsWinner']].groupby(['ShipsFromState','IsWinner']).sum()\n",
    "\n",
    "my_plot = category_group.unstack().plot(kind='bar', stacked=True, title=\"Winners by State Shipped From\", figsize=(13,7))\n",
    "\n",
    "red_patch = mpatches.Patch(color='green', label='Winner')\n",
    "blue_patch = mpatches.Patch(color='blue', label='Not Winner')\n",
    "my_plot.legend(handles=[red_patch, blue_patch], frameon = True)\n",
    "\n",
    "my_plot.set_xlabel(\"ShipsFromState\")\n",
    "my_plot.set_ylabel(\"IsWinner\")\n",
    "my_plot.set_ylim([0,100])\n"
   ]
  },
  {
   "cell_type": "code",
   "execution_count": 343,
   "metadata": {
    "collapsed": false
   },
   "outputs": [
    {
     "data": {
      "text/plain": [
       "(0, 100)"
      ]
     },
     "execution_count": 343,
     "metadata": {},
     "output_type": "execute_result"
    },
    {
     "data": {
      "image/png": "[encoded data removed]",
      "text/plain": [
       "<matplotlib.figure.Figure at 0x1146daf3e48>"
      ]
     },
     "metadata": {},
     "output_type": "display_data"
    }
   ],
   "source": [
    "# Count the number of female candidates\n",
    "featured = 1 / df[df.IsFeaturedMerchant == 1].count()['IsFeaturedMerchant']\n",
    "\n",
    "# Counts the number of male candidates\n",
    "not_featured = 1 / df[df.IsFeaturedMerchant == 0].count()['IsFeaturedMerchant']\n",
    "\n",
    "# Create a new column in the dataframe called percent and insert male_count in all cells\n",
    "df['percent'] = not_featured * 100\n",
    "\n",
    "# Find indexes of all rows containing value Female for Gender\n",
    "index_list = df[df['IsFeaturedMerchant'] == 1].index.tolist()\n",
    "\n",
    "# For each row with a 'female' value, insert female_count in the percent column\n",
    "for i in index_list:\n",
    "    df.loc[i, 'percent'] = featured * 100\n",
    "\n",
    "# Group dataframe by Gender and Elected and sum precent\n",
    "category_group = df[['percent','IsFeaturedMerchant','IsWinner']].groupby(['IsFeaturedMerchant','IsWinner']).sum()\n",
    "\n",
    "# Plot values of category_group in a stacked bar chart\n",
    "my_plot = category_group.unstack().plot(kind='bar', stacked=True, title=\"Winners by Featured Merchant Status\", figsize=(13,7))\n",
    "\n",
    "# Define legend colours and text and add to the plot\n",
    "red_patch = mpatches.Patch(color='green', label='Is Winner')\n",
    "blue_patch = mpatches.Patch(color='blue', label='Not Winner')\n",
    "my_plot.legend(handles=[red_patch, blue_patch], frameon = True)\n",
    "\n",
    "# Define x and y labels and min and max values for the y axis\n",
    "my_plot.set_xlabel(\"Is Featured Merchant\")\n",
    "my_plot.set_ylabel(\"% Winners\")\n",
    "my_plot.set_ylim([0,100])\n",
    "\n",
    "#by looking at this - we cannot confidently say that if a product is a featured merchant that it will be a winning offer \n",
    "#but we can say that if it is not a featured merchant it definitely won't be a winning offer"
   ]
  },
  {
   "cell_type": "code",
   "execution_count": 344,
   "metadata": {
    "collapsed": false,
    "scrolled": false
   },
   "outputs": [
    {
     "data": {
      "text/plain": [
       "(0, 100)"
      ]
     },
     "execution_count": 344,
     "metadata": {},
     "output_type": "execute_result"
    },
    {
     "data": {
      "image/png": "[encoded data removed]",
      "text/plain": [
       "<matplotlib.figure.Figure at 0x1146f2991d0>"
      ]
     },
     "metadata": {},
     "output_type": "display_data"
    }
   ],
   "source": [
    "# Count the number of female candidates\n",
    "count_CA = 1 / df[df.ShipsFromCountry == 'CA'].count()['ShipsFromCountry']\n",
    "\n",
    "# Counts the number of male candidates\n",
    "count_US = 1 / df[df.ShipsFromCountry == 'US'].count()['ShipsFromCountry']\n",
    "\n",
    "# Create a new column in the dataframe called percent and insert male_count in all cells\n",
    "df['percent'] = count_US * 100\n",
    "\n",
    "# Find indexes of all rows containing value Female for Gender\n",
    "index_list = df[df['ShipsFromCountry'] == 'CA'].index.tolist()\n",
    "\n",
    "# For each row with a 'female' value, insert female_count in the percent column\n",
    "for i in index_list:\n",
    "    df.loc[i, 'percent'] = count_CA * 100\n",
    "\n",
    "# Group dataframe by Gender and Elected and sum precent\n",
    "category_group = df[['percent','ShipsFromCountry','IsWinner']].groupby(['ShipsFromCountry','IsWinner']).sum()\n",
    "\n",
    "# Plot values of category_group in a stacked bar chart\n",
    "my_plot = category_group.unstack().plot(kind='bar', stacked=True, title=\"Winners by Ships From Country\", figsize=(13,7))\n",
    "\n",
    "# Define legend colours and text and add to the plot\n",
    "red_patch = mpatches.Patch(color='green', label='Is Winner')\n",
    "blue_patch = mpatches.Patch(color='blue', label='Not Winner')\n",
    "my_plot.legend(handles=[red_patch, blue_patch], frameon = True)\n",
    "\n",
    "# Define x and y labels and min and max values for the y axis\n",
    "my_plot.set_xlabel(\"ShipsFromCountry\")\n",
    "my_plot.set_ylabel(\"% Winners\")\n",
    "my_plot.set_ylim([0,100])"
   ]
  },
  {
   "cell_type": "markdown",
   "metadata": {},
   "source": [
    "## 1.5 Discuss what knowledge you gain from plotting the interaction of descriptive categorical features and the target feature, e.g., which categorical features seem to be better at predicting the target feature. "
   ]
  },
  {
   "cell_type": "markdown",
   "metadata": {
    "collapsed": true
   },
   "source": [
    "1. Ships From State seems to be the most informative - there are a high number of winners from BC and PA. \n",
    "2. Is Featured Merchant gives some indication - there are no winners in instances where the offer is not a featured merchant.\n",
    "3. There are a higher percentage of winners respectively in the offers shipped from Canada than the US. "
   ]
  },
  {
   "cell_type": "markdown",
   "metadata": {},
   "source": [
    "### Choose a subset of categorical features you find promising. Justify your choices. "
   ]
  },
  {
   "cell_type": "markdown",
   "metadata": {},
   "source": [
    "I'm going to choose the subset of features Is Featured Merchant, Ships From BC and Ships From PA. These are the features that have the highest number of instances of the target feature. Is Featured Merchant also makes sense from a general perspective. "
   ]
  },
  {
   "cell_type": "markdown",
   "metadata": {},
   "source": [
    "## Data Preparation\n",
    "\n",
    "Before we go ahead and train the models, we need to do something with the categorical features - so we will create dummies for them and treat them as individual features. \n",
    "\n",
    "We also need to drop the features we have decided not to include as part of our model. "
   ]
  },
  {
   "cell_type": "code",
   "execution_count": 345,
   "metadata": {
    "collapsed": true
   },
   "outputs": [],
   "source": [
    "df.drop(df.columns[[4, 6, 7, 10]], axis = 1, inplace = True)"
   ]
  },
  {
   "cell_type": "code",
   "execution_count": 346,
   "metadata": {
    "collapsed": false
   },
   "outputs": [],
   "source": [
    "ShipsFromState_dummies = pd.get_dummies(df.ShipsFromState, prefix='ShipsFrom').iloc[:, :]\n",
    "df = pd.concat([df, ShipsFromState_dummies], axis=1)\n",
    "#I know that we would normally not use the first dummy but I wasn't sure whether that was the case in a complex feature like this"
   ]
  },
  {
   "cell_type": "code",
   "execution_count": 347,
   "metadata": {
    "collapsed": false
   },
   "outputs": [],
   "source": [
    "ShipsFromCountry_dummies = pd.get_dummies(df.ShipsFromCountry, prefix ='ShipsFromCountry').iloc[:, :]\n",
    "df = pd.concat([df, ShipsFromCountry_dummies], axis = 1)"
   ]
  },
  {
   "cell_type": "code",
   "execution_count": 348,
   "metadata": {
    "collapsed": false
   },
   "outputs": [
    {
     "data": {
      "text/plain": [
       "Index(['IsWinner', 'IsFeaturedMerchant', 'ListingPrice',\n",
       "       'SellerFeedbackRating', 'ShippingPrice', 'ShipsFromCountry',\n",
       "       'ShipsFromState', 'ShipsFrom_AB', 'ShipsFrom_BC', 'ShipsFrom_CA',\n",
       "       'ShipsFrom_CT', 'ShipsFrom_DE', 'ShipsFrom_FL', 'ShipsFrom_GA',\n",
       "       'ShipsFrom_IL', 'ShipsFrom_KS', 'ShipsFrom_MD', 'ShipsFrom_MI',\n",
       "       'ShipsFrom_MO', 'ShipsFrom_NB', 'ShipsFrom_NH', 'ShipsFrom_NJ',\n",
       "       'ShipsFrom_NV', 'ShipsFrom_NY', 'ShipsFrom_ON', 'ShipsFrom_PA',\n",
       "       'ShipsFrom_QC', 'ShipsFrom_SC', 'ShipsFrom_TN', 'ShipsFrom_TX',\n",
       "       'ShipsFrom_VA', 'ShipsFromCountry_CA', 'ShipsFromCountry_US'],\n",
       "      dtype='object')"
      ]
     },
     "execution_count": 348,
     "metadata": {},
     "output_type": "execute_result"
    }
   ],
   "source": [
    "df.columns"
   ]
  },
  {
   "cell_type": "code",
   "execution_count": 349,
   "metadata": {
    "collapsed": false
   },
   "outputs": [],
   "source": [
    "#now we can drop ShipsFromState and ShipsFromCountry as well as the Dummy columns for features we are not considering\n",
    "df.drop(df.columns[[4, 5, 6, 7, 9, 10, 11, 12, 13, 14, 15, 16, 17, 18, 19, 20, 21, 22, 23, 24, 26, 27, 28, 29, 30, 31, 32]], axis = 1, inplace = True)"
   ]
  },
  {
   "cell_type": "markdown",
   "metadata": {},
   "source": [
    "# Question 2: Predictive Modeling: Linear Regression"
   ]
  },
  {
   "cell_type": "markdown",
   "metadata": {},
   "source": [
    "## 2.1 Train a linear regression model to predict the target feature IsWinner, using the descriptive features selected in exercise (1). Evaluate the quality of the model on the training set. "
   ]
  },
  {
   "cell_type": "code",
   "execution_count": 350,
   "metadata": {
    "collapsed": false
   },
   "outputs": [],
   "source": [
    "feature_cols = ['IsFeaturedMerchant', 'ListingPrice', 'SellerFeedbackRating', 'ShipsFrom_BC', 'ShipsFrom_PA']\n",
    "\n",
    "lm = sm.ols(formula = \"IsWinner ~ ListingPrice + SellerFeedbackRating + ShipsFrom_BC + ShipsFrom_PA + IsFeaturedMerchant\", data = df).fit()"
   ]
  },
  {
   "cell_type": "markdown",
   "metadata": {},
   "source": [
    "## Evaluate the quality of the model on the training set"
   ]
  },
  {
   "cell_type": "markdown",
   "metadata": {},
   "source": [
    "I was initially assigning the predictions to a class by first creating the data frame with the actual class and predicted class and then iterating through that data frame and checking the values - but I realised that the values weren't be accessed correctly and my generalized else clause was causing everything to be put into the negative class. Below is the fix for this problem - creating a list of predictions that are converted to a binary predicted class and then creating the data frame using that list instead of the original predictions. Converting to binary was necessary because otherwise I got a 'cannot deal with mix of continuous and binary' error when trying to create the confusion matrix."
   ]
  },
  {
   "cell_type": "code",
   "execution_count": 351,
   "metadata": {
    "collapsed": false
   },
   "outputs": [],
   "source": [
    "#get the predictions\n",
    "lm_predictions = lm.predict(df[feature_cols])\n",
    "predicted_class = list()\n",
    "for i in lm_predictions:\n",
    "    if i >= 0.5:\n",
    "        predicted_class.append(1)\n",
    "    else:\n",
    "        predicted_class.append(0)\n",
    "        \n",
    "df_true_vs_lm_predicted = pd.DataFrame({'ActualClass': df.IsWinner, 'PredictedClass': predicted_class})"
   ]
  },
  {
   "cell_type": "code",
   "execution_count": 352,
   "metadata": {
    "collapsed": false,
    "scrolled": true
   },
   "outputs": [
    {
     "name": "stderr",
     "output_type": "stream",
     "text": [
      "C:\\Users\\pamel\\Anaconda3\\lib\\site-packages\\sklearn\\metrics\\classification.py:1113: UndefinedMetricWarning: Precision and F-score are ill-defined and being set to 0.0 in labels with no predicted samples.\n",
      "  'precision', 'predicted', average, warn_for)\n"
     ]
    }
   ],
   "source": [
    "accuracy = metrics.accuracy_score(df_true_vs_lm_predicted[\"ActualClass\"], df_true_vs_lm_predicted[\"PredictedClass\"])\n",
    "confusion_matrix = metrics.confusion_matrix(df_true_vs_lm_predicted[\"ActualClass\"], df_true_vs_lm_predicted[\"PredictedClass\"])\n",
    "class_report = metrics.classification_report(df_true_vs_lm_predicted[\"ActualClass\"], df_true_vs_lm_predicted[\"PredictedClass\"])"
   ]
  },
  {
   "cell_type": "code",
   "execution_count": 353,
   "metadata": {
    "collapsed": false,
    "scrolled": true
   },
   "outputs": [
    {
     "name": "stdout",
     "output_type": "stream",
     "text": [
      "Accuracy:  0.948043069561\n",
      "Confusion matrix: \n",
      " [[5547    0]\n",
      " [ 304    0]]\n",
      "Classification report:\n",
      "               precision    recall  f1-score   support\n",
      "\n",
      "          0       0.95      1.00      0.97      5547\n",
      "          1       0.00      0.00      0.00       304\n",
      "\n",
      "avg / total       0.90      0.95      0.92      5851\n",
      "\n"
     ]
    }
   ],
   "source": [
    "print(\"Accuracy: \", accuracy)\n",
    "print(\"Confusion matrix: \\n\", confusion_matrix)\n",
    "print(\"Classification report:\\n \", class_report)"
   ]
  },
  {
   "cell_type": "code",
   "execution_count": 354,
   "metadata": {
    "collapsed": false
   },
   "outputs": [
    {
     "name": "stdout",
     "output_type": "stream",
     "text": [
      "Percentage of winning offers:  5.4470524995520515 %\n"
     ]
    }
   ],
   "source": [
    "#Investigating the reliability of our accuracy score\n",
    "winners = 0\n",
    "for index, row in df.iterrows():\n",
    "    if df[\"IsWinner\"][index] == 1:\n",
    "        winners += 1\n",
    "\n",
    "percentage_winners = (winners/5581) * 100\n",
    "print(\"Percentage of winning offers: \", percentage_winners, \"%\")"
   ]
  },
  {
   "cell_type": "markdown",
   "metadata": {},
   "source": [
    "### Evaluation Analysis: \n",
    "\n",
    "We can see from the above that the model is not a good one. The accuracy score here is misleading because it indicates that we have 90% accuracy. However this is a false accuracy because the model is predicting everything as negative - and because the percentage of \"winners\" in the data set is only 5% the model comes through as 90% accurate. But in fact, it is a very bad model, because it is not successfully predicting any cases in the positive class - and we can confirm this by looking at the confusion matrix. "
   ]
  },
  {
   "cell_type": "markdown",
   "metadata": {},
   "source": [
    "## 2.2 Print the coefficients learned by the model and discuss their statistical significance as well as their role in the model. "
   ]
  },
  {
   "cell_type": "code",
   "execution_count": 355,
   "metadata": {
    "collapsed": false
   },
   "outputs": [
    {
     "data": {
      "text/plain": [
       "Intercept               0.000245\n",
       "ListingPrice            0.000003\n",
       "SellerFeedbackRating   -0.000019\n",
       "ShipsFrom_BC            0.259856\n",
       "ShipsFrom_PA            0.189775\n",
       "IsFeaturedMerchant      0.050335\n",
       "dtype: float64"
      ]
     },
     "execution_count": 355,
     "metadata": {},
     "output_type": "execute_result"
    }
   ],
   "source": [
    "lm.params"
   ]
  },
  {
   "cell_type": "code",
   "execution_count": 356,
   "metadata": {
    "collapsed": false,
    "scrolled": true
   },
   "outputs": [
    {
     "data": {
      "text/html": [
       "<table class=\"simpletable\">\n",
       "<caption>OLS Regression Results</caption>\n",
       "<tr>\n",
       "  <th>Dep. Variable:</th>        <td>IsWinner</td>     <th>  R-squared:         </th> <td>   0.082</td> \n",
       "</tr>\n",
       "<tr>\n",
       "  <th>Model:</th>                   <td>OLS</td>       <th>  Adj. R-squared:    </th> <td>   0.081</td> \n",
       "</tr>\n",
       "<tr>\n",
       "  <th>Method:</th>             <td>Least Squares</td>  <th>  F-statistic:       </th> <td>   104.1</td> \n",
       "</tr>\n",
       "<tr>\n",
       "  <th>Date:</th>             <td>Tue, 18 Apr 2017</td> <th>  Prob (F-statistic):</th> <td>1.40e-105</td>\n",
       "</tr>\n",
       "<tr>\n",
       "  <th>Time:</th>                 <td>22:10:30</td>     <th>  Log-Likelihood:    </th> <td>  755.21</td> \n",
       "</tr>\n",
       "<tr>\n",
       "  <th>No. Observations:</th>      <td>  5851</td>      <th>  AIC:               </th> <td>  -1498.</td> \n",
       "</tr>\n",
       "<tr>\n",
       "  <th>Df Residuals:</th>          <td>  5845</td>      <th>  BIC:               </th> <td>  -1458.</td> \n",
       "</tr>\n",
       "<tr>\n",
       "  <th>Df Model:</th>              <td>     5</td>      <th>                     </th>     <td> </td>    \n",
       "</tr>\n",
       "<tr>\n",
       "  <th>Covariance Type:</th>      <td>nonrobust</td>    <th>                     </th>     <td> </td>    \n",
       "</tr>\n",
       "</table>\n",
       "<table class=\"simpletable\">\n",
       "<tr>\n",
       "            <td></td>              <th>coef</th>     <th>std err</th>      <th>t</th>      <th>P>|t|</th> <th>[95.0% Conf. Int.]</th> \n",
       "</tr>\n",
       "<tr>\n",
       "  <th>Intercept</th>            <td>    0.0002</td> <td>    0.022</td> <td>    0.011</td> <td> 0.991</td> <td>   -0.042     0.043</td>\n",
       "</tr>\n",
       "<tr>\n",
       "  <th>ListingPrice</th>         <td> 3.109e-06</td> <td> 1.11e-05</td> <td>    0.279</td> <td> 0.780</td> <td>-1.87e-05  2.49e-05</td>\n",
       "</tr>\n",
       "<tr>\n",
       "  <th>SellerFeedbackRating</th> <td>-1.935e-05</td> <td>    0.000</td> <td>   -0.082</td> <td> 0.935</td> <td>   -0.000     0.000</td>\n",
       "</tr>\n",
       "<tr>\n",
       "  <th>ShipsFrom_BC</th>         <td>    0.2599</td> <td>    0.013</td> <td>   20.468</td> <td> 0.000</td> <td>    0.235     0.285</td>\n",
       "</tr>\n",
       "<tr>\n",
       "  <th>ShipsFrom_PA</th>         <td>    0.1898</td> <td>    0.097</td> <td>    1.963</td> <td> 0.050</td> <td>    0.000     0.379</td>\n",
       "</tr>\n",
       "<tr>\n",
       "  <th>IsFeaturedMerchant</th>   <td>    0.0503</td> <td>    0.007</td> <td>    7.129</td> <td> 0.000</td> <td>    0.036     0.064</td>\n",
       "</tr>\n",
       "</table>\n",
       "<table class=\"simpletable\">\n",
       "<tr>\n",
       "  <th>Omnibus:</th>       <td>4356.316</td> <th>  Durbin-Watson:     </th> <td>   2.090</td> \n",
       "</tr>\n",
       "<tr>\n",
       "  <th>Prob(Omnibus):</th>  <td> 0.000</td>  <th>  Jarque-Bera (JB):  </th> <td>55953.292</td>\n",
       "</tr>\n",
       "<tr>\n",
       "  <th>Skew:</th>           <td> 3.640</td>  <th>  Prob(JB):          </th> <td>    0.00</td> \n",
       "</tr>\n",
       "<tr>\n",
       "  <th>Kurtosis:</th>       <td>16.286</td>  <th>  Cond. No.          </th> <td>1.16e+04</td> \n",
       "</tr>\n",
       "</table>"
      ],
      "text/plain": [
       "<class 'statsmodels.iolib.summary.Summary'>\n",
       "\"\"\"\n",
       "                            OLS Regression Results                            \n",
       "==============================================================================\n",
       "Dep. Variable:               IsWinner   R-squared:                       0.082\n",
       "Model:                            OLS   Adj. R-squared:                  0.081\n",
       "Method:                 Least Squares   F-statistic:                     104.1\n",
       "Date:                Tue, 18 Apr 2017   Prob (F-statistic):          1.40e-105\n",
       "Time:                        22:10:30   Log-Likelihood:                 755.21\n",
       "No. Observations:                5851   AIC:                            -1498.\n",
       "Df Residuals:                    5845   BIC:                            -1458.\n",
       "Df Model:                           5                                         \n",
       "Covariance Type:            nonrobust                                         \n",
       "========================================================================================\n",
       "                           coef    std err          t      P>|t|      [95.0% Conf. Int.]\n",
       "----------------------------------------------------------------------------------------\n",
       "Intercept                0.0002      0.022      0.011      0.991        -0.042     0.043\n",
       "ListingPrice          3.109e-06   1.11e-05      0.279      0.780     -1.87e-05  2.49e-05\n",
       "SellerFeedbackRating -1.935e-05      0.000     -0.082      0.935        -0.000     0.000\n",
       "ShipsFrom_BC             0.2599      0.013     20.468      0.000         0.235     0.285\n",
       "ShipsFrom_PA             0.1898      0.097      1.963      0.050         0.000     0.379\n",
       "IsFeaturedMerchant       0.0503      0.007      7.129      0.000         0.036     0.064\n",
       "==============================================================================\n",
       "Omnibus:                     4356.316   Durbin-Watson:                   2.090\n",
       "Prob(Omnibus):                  0.000   Jarque-Bera (JB):            55953.292\n",
       "Skew:                           3.640   Prob(JB):                         0.00\n",
       "Kurtosis:                      16.286   Cond. No.                     1.16e+04\n",
       "==============================================================================\n",
       "\n",
       "Warnings:\n",
       "[1] Standard Errors assume that the covariance matrix of the errors is correctly specified.\n",
       "[2] The condition number is large, 1.16e+04. This might indicate that there are\n",
       "strong multicollinearity or other numerical problems.\n",
       "\"\"\""
      ]
     },
     "execution_count": 356,
     "metadata": {},
     "output_type": "execute_result"
    }
   ],
   "source": [
    "lm.summary()"
   ]
  },
  {
   "cell_type": "markdown",
   "metadata": {},
   "source": [
    "### Statistical Significance:\n",
    "\n",
    "#### Looking at Coefficients:\n",
    "\n",
    "1. From the coefficients we can see that ShipsFrom_BC, ShipsFrom_PA and Featured Merchant have the most affect on the likelyhood of an offer being a 'winner'. \n",
    "2. While Listing Price has a much lower coefficient in this model and Seller Feedback Rating has a negative. \n",
    "\n",
    "Reference for interpreting coefficients: https://github.com/justmarkham/DAT4/blob/master/notebooks/08_linear_regression.ipynb\n",
    "\n",
    "#### Looking at P-Values:\n",
    "\n",
    "1. By looking at the P-Values we can see that ShipsFrom_BC, ShipsFrom_PA and Featured Merchant are again the most statistically significant features. As they all have a P-Value below 0.5. \n",
    "\n",
    "2. The r-squared value is quite low indicating that I have underfitted the model. \n",
    "\n",
    "#### What next? \n",
    "\n",
    "With the above in mind, I am going to look at the features IsFeaturedMerchant, ShipsFrom_BC and ShipsFrom_PA as these are stastically significant both in terms of their coefficients and their P-Values. "
   ]
  },
  {
   "cell_type": "markdown",
   "metadata": {},
   "source": [
    "## 2.3 Retrain the model using only the subset of features found to be statistically significant. Evaluate the quailty of the model on the training set. "
   ]
  },
  {
   "cell_type": "code",
   "execution_count": 357,
   "metadata": {
    "collapsed": false
   },
   "outputs": [],
   "source": [
    "feature_cols_2 = ['IsFeaturedMerchant', 'ShipsFrom_BC', 'ShipsFrom_PA']\n",
    "df_new = df[['IsWinner', 'IsFeaturedMerchant', 'ShipsFrom_BC', 'ShipsFrom_PA']]\n",
    "\n",
    "lm_2 = sm.ols(formula=\"IsWinner ~ IsFeaturedMerchant + ShipsFrom_BC + ShipsFrom_PA\", data=df_new).fit()\n"
   ]
  },
  {
   "cell_type": "code",
   "execution_count": 358,
   "metadata": {
    "collapsed": false
   },
   "outputs": [],
   "source": [
    "#printing the predicted target feature value for next question before thresholding\n",
    "lm2_predictions = lm_2.predict(df_new[feature_cols_2])"
   ]
  },
  {
   "cell_type": "code",
   "execution_count": 359,
   "metadata": {
    "collapsed": false
   },
   "outputs": [],
   "source": [
    "# Threshold at 0.5 and put in appropriate predicted class\n",
    "predicted_class = list()\n",
    "for i in lm2_predictions:\n",
    "    if i >= 0.5:\n",
    "        predicted_class.append(1)\n",
    "    else:\n",
    "        predicted_class.append(0)"
   ]
  },
  {
   "cell_type": "code",
   "execution_count": 360,
   "metadata": {
    "collapsed": false
   },
   "outputs": [
    {
     "data": {
      "text/html": [
       "<div>\n",
       "<table border=\"1\" class=\"dataframe\">\n",
       "  <thead>\n",
       "    <tr style=\"text-align: right;\">\n",
       "      <th></th>\n",
       "      <th>ActualClass</th>\n",
       "      <th>PredictedClass</th>\n",
       "    </tr>\n",
       "  </thead>\n",
       "  <tbody>\n",
       "    <tr>\n",
       "      <th>0</th>\n",
       "      <td>1</td>\n",
       "      <td>0</td>\n",
       "    </tr>\n",
       "    <tr>\n",
       "      <th>1</th>\n",
       "      <td>0</td>\n",
       "      <td>0</td>\n",
       "    </tr>\n",
       "    <tr>\n",
       "      <th>2</th>\n",
       "      <td>0</td>\n",
       "      <td>0</td>\n",
       "    </tr>\n",
       "    <tr>\n",
       "      <th>3</th>\n",
       "      <td>0</td>\n",
       "      <td>0</td>\n",
       "    </tr>\n",
       "    <tr>\n",
       "      <th>4</th>\n",
       "      <td>0</td>\n",
       "      <td>0</td>\n",
       "    </tr>\n",
       "    <tr>\n",
       "      <th>5</th>\n",
       "      <td>0</td>\n",
       "      <td>0</td>\n",
       "    </tr>\n",
       "    <tr>\n",
       "      <th>6</th>\n",
       "      <td>0</td>\n",
       "      <td>0</td>\n",
       "    </tr>\n",
       "    <tr>\n",
       "      <th>7</th>\n",
       "      <td>0</td>\n",
       "      <td>0</td>\n",
       "    </tr>\n",
       "    <tr>\n",
       "      <th>8</th>\n",
       "      <td>0</td>\n",
       "      <td>0</td>\n",
       "    </tr>\n",
       "    <tr>\n",
       "      <th>9</th>\n",
       "      <td>0</td>\n",
       "      <td>0</td>\n",
       "    </tr>\n",
       "    <tr>\n",
       "      <th>10</th>\n",
       "      <td>0</td>\n",
       "      <td>0</td>\n",
       "    </tr>\n",
       "    <tr>\n",
       "      <th>11</th>\n",
       "      <td>0</td>\n",
       "      <td>0</td>\n",
       "    </tr>\n",
       "    <tr>\n",
       "      <th>12</th>\n",
       "      <td>0</td>\n",
       "      <td>0</td>\n",
       "    </tr>\n",
       "    <tr>\n",
       "      <th>13</th>\n",
       "      <td>1</td>\n",
       "      <td>0</td>\n",
       "    </tr>\n",
       "    <tr>\n",
       "      <th>14</th>\n",
       "      <td>0</td>\n",
       "      <td>0</td>\n",
       "    </tr>\n",
       "    <tr>\n",
       "      <th>15</th>\n",
       "      <td>0</td>\n",
       "      <td>0</td>\n",
       "    </tr>\n",
       "    <tr>\n",
       "      <th>16</th>\n",
       "      <td>0</td>\n",
       "      <td>0</td>\n",
       "    </tr>\n",
       "    <tr>\n",
       "      <th>17</th>\n",
       "      <td>0</td>\n",
       "      <td>0</td>\n",
       "    </tr>\n",
       "    <tr>\n",
       "      <th>18</th>\n",
       "      <td>0</td>\n",
       "      <td>0</td>\n",
       "    </tr>\n",
       "    <tr>\n",
       "      <th>19</th>\n",
       "      <td>0</td>\n",
       "      <td>0</td>\n",
       "    </tr>\n",
       "    <tr>\n",
       "      <th>20</th>\n",
       "      <td>0</td>\n",
       "      <td>0</td>\n",
       "    </tr>\n",
       "    <tr>\n",
       "      <th>21</th>\n",
       "      <td>0</td>\n",
       "      <td>0</td>\n",
       "    </tr>\n",
       "    <tr>\n",
       "      <th>22</th>\n",
       "      <td>0</td>\n",
       "      <td>0</td>\n",
       "    </tr>\n",
       "    <tr>\n",
       "      <th>23</th>\n",
       "      <td>0</td>\n",
       "      <td>0</td>\n",
       "    </tr>\n",
       "    <tr>\n",
       "      <th>24</th>\n",
       "      <td>0</td>\n",
       "      <td>0</td>\n",
       "    </tr>\n",
       "    <tr>\n",
       "      <th>25</th>\n",
       "      <td>1</td>\n",
       "      <td>0</td>\n",
       "    </tr>\n",
       "    <tr>\n",
       "      <th>26</th>\n",
       "      <td>0</td>\n",
       "      <td>0</td>\n",
       "    </tr>\n",
       "    <tr>\n",
       "      <th>27</th>\n",
       "      <td>0</td>\n",
       "      <td>0</td>\n",
       "    </tr>\n",
       "    <tr>\n",
       "      <th>28</th>\n",
       "      <td>0</td>\n",
       "      <td>0</td>\n",
       "    </tr>\n",
       "    <tr>\n",
       "      <th>29</th>\n",
       "      <td>0</td>\n",
       "      <td>0</td>\n",
       "    </tr>\n",
       "    <tr>\n",
       "      <th>...</th>\n",
       "      <td>...</td>\n",
       "      <td>...</td>\n",
       "    </tr>\n",
       "    <tr>\n",
       "      <th>5821</th>\n",
       "      <td>0</td>\n",
       "      <td>0</td>\n",
       "    </tr>\n",
       "    <tr>\n",
       "      <th>5822</th>\n",
       "      <td>0</td>\n",
       "      <td>0</td>\n",
       "    </tr>\n",
       "    <tr>\n",
       "      <th>5823</th>\n",
       "      <td>0</td>\n",
       "      <td>0</td>\n",
       "    </tr>\n",
       "    <tr>\n",
       "      <th>5824</th>\n",
       "      <td>0</td>\n",
       "      <td>0</td>\n",
       "    </tr>\n",
       "    <tr>\n",
       "      <th>5825</th>\n",
       "      <td>0</td>\n",
       "      <td>0</td>\n",
       "    </tr>\n",
       "    <tr>\n",
       "      <th>5826</th>\n",
       "      <td>1</td>\n",
       "      <td>0</td>\n",
       "    </tr>\n",
       "    <tr>\n",
       "      <th>5827</th>\n",
       "      <td>0</td>\n",
       "      <td>0</td>\n",
       "    </tr>\n",
       "    <tr>\n",
       "      <th>5828</th>\n",
       "      <td>0</td>\n",
       "      <td>0</td>\n",
       "    </tr>\n",
       "    <tr>\n",
       "      <th>5829</th>\n",
       "      <td>0</td>\n",
       "      <td>0</td>\n",
       "    </tr>\n",
       "    <tr>\n",
       "      <th>5830</th>\n",
       "      <td>0</td>\n",
       "      <td>0</td>\n",
       "    </tr>\n",
       "    <tr>\n",
       "      <th>5831</th>\n",
       "      <td>0</td>\n",
       "      <td>0</td>\n",
       "    </tr>\n",
       "    <tr>\n",
       "      <th>5832</th>\n",
       "      <td>0</td>\n",
       "      <td>0</td>\n",
       "    </tr>\n",
       "    <tr>\n",
       "      <th>5833</th>\n",
       "      <td>0</td>\n",
       "      <td>0</td>\n",
       "    </tr>\n",
       "    <tr>\n",
       "      <th>5834</th>\n",
       "      <td>0</td>\n",
       "      <td>0</td>\n",
       "    </tr>\n",
       "    <tr>\n",
       "      <th>5835</th>\n",
       "      <td>0</td>\n",
       "      <td>0</td>\n",
       "    </tr>\n",
       "    <tr>\n",
       "      <th>5836</th>\n",
       "      <td>0</td>\n",
       "      <td>0</td>\n",
       "    </tr>\n",
       "    <tr>\n",
       "      <th>5837</th>\n",
       "      <td>0</td>\n",
       "      <td>0</td>\n",
       "    </tr>\n",
       "    <tr>\n",
       "      <th>5838</th>\n",
       "      <td>0</td>\n",
       "      <td>0</td>\n",
       "    </tr>\n",
       "    <tr>\n",
       "      <th>5839</th>\n",
       "      <td>0</td>\n",
       "      <td>0</td>\n",
       "    </tr>\n",
       "    <tr>\n",
       "      <th>5840</th>\n",
       "      <td>0</td>\n",
       "      <td>0</td>\n",
       "    </tr>\n",
       "    <tr>\n",
       "      <th>5841</th>\n",
       "      <td>0</td>\n",
       "      <td>0</td>\n",
       "    </tr>\n",
       "    <tr>\n",
       "      <th>5842</th>\n",
       "      <td>0</td>\n",
       "      <td>0</td>\n",
       "    </tr>\n",
       "    <tr>\n",
       "      <th>5843</th>\n",
       "      <td>0</td>\n",
       "      <td>0</td>\n",
       "    </tr>\n",
       "    <tr>\n",
       "      <th>5844</th>\n",
       "      <td>0</td>\n",
       "      <td>0</td>\n",
       "    </tr>\n",
       "    <tr>\n",
       "      <th>5845</th>\n",
       "      <td>0</td>\n",
       "      <td>0</td>\n",
       "    </tr>\n",
       "    <tr>\n",
       "      <th>5846</th>\n",
       "      <td>0</td>\n",
       "      <td>0</td>\n",
       "    </tr>\n",
       "    <tr>\n",
       "      <th>5847</th>\n",
       "      <td>0</td>\n",
       "      <td>0</td>\n",
       "    </tr>\n",
       "    <tr>\n",
       "      <th>5848</th>\n",
       "      <td>0</td>\n",
       "      <td>0</td>\n",
       "    </tr>\n",
       "    <tr>\n",
       "      <th>5849</th>\n",
       "      <td>0</td>\n",
       "      <td>0</td>\n",
       "    </tr>\n",
       "    <tr>\n",
       "      <th>5850</th>\n",
       "      <td>0</td>\n",
       "      <td>0</td>\n",
       "    </tr>\n",
       "  </tbody>\n",
       "</table>\n",
       "<p>5851 rows × 2 columns</p>\n",
       "</div>"
      ],
      "text/plain": [
       "      ActualClass  PredictedClass\n",
       "0               1               0\n",
       "1               0               0\n",
       "2               0               0\n",
       "3               0               0\n",
       "4               0               0\n",
       "5               0               0\n",
       "6               0               0\n",
       "7               0               0\n",
       "8               0               0\n",
       "9               0               0\n",
       "10              0               0\n",
       "11              0               0\n",
       "12              0               0\n",
       "13              1               0\n",
       "14              0               0\n",
       "15              0               0\n",
       "16              0               0\n",
       "17              0               0\n",
       "18              0               0\n",
       "19              0               0\n",
       "20              0               0\n",
       "21              0               0\n",
       "22              0               0\n",
       "23              0               0\n",
       "24              0               0\n",
       "25              1               0\n",
       "26              0               0\n",
       "27              0               0\n",
       "28              0               0\n",
       "29              0               0\n",
       "...           ...             ...\n",
       "5821            0               0\n",
       "5822            0               0\n",
       "5823            0               0\n",
       "5824            0               0\n",
       "5825            0               0\n",
       "5826            1               0\n",
       "5827            0               0\n",
       "5828            0               0\n",
       "5829            0               0\n",
       "5830            0               0\n",
       "5831            0               0\n",
       "5832            0               0\n",
       "5833            0               0\n",
       "5834            0               0\n",
       "5835            0               0\n",
       "5836            0               0\n",
       "5837            0               0\n",
       "5838            0               0\n",
       "5839            0               0\n",
       "5840            0               0\n",
       "5841            0               0\n",
       "5842            0               0\n",
       "5843            0               0\n",
       "5844            0               0\n",
       "5845            0               0\n",
       "5846            0               0\n",
       "5847            0               0\n",
       "5848            0               0\n",
       "5849            0               0\n",
       "5850            0               0\n",
       "\n",
       "[5851 rows x 2 columns]"
      ]
     },
     "execution_count": 360,
     "metadata": {},
     "output_type": "execute_result"
    }
   ],
   "source": [
    "#lm2_predictions = lm_2.predict(df_new[feature_cols_2])\n",
    "df_true_vs_lm2_predicted = pd.DataFrame({'ActualClass': df_new.IsWinner, 'PredictedClass': predicted_class})\n",
    "df_true_vs_lm2_predicted"
   ]
  },
  {
   "cell_type": "code",
   "execution_count": 361,
   "metadata": {
    "collapsed": false
   },
   "outputs": [
    {
     "name": "stderr",
     "output_type": "stream",
     "text": [
      "C:\\Users\\pamel\\Anaconda3\\lib\\site-packages\\sklearn\\metrics\\classification.py:1113: UndefinedMetricWarning: Precision and F-score are ill-defined and being set to 0.0 in labels with no predicted samples.\n",
      "  'precision', 'predicted', average, warn_for)\n"
     ]
    }
   ],
   "source": [
    "accuracy = metrics.accuracy_score(df_true_vs_lm2_predicted[\"ActualClass\"], df_true_vs_lm2_predicted[\"PredictedClass\"])\n",
    "confusion_matrix = metrics.confusion_matrix(df_true_vs_lm2_predicted[\"ActualClass\"], df_true_vs_lm2_predicted[\"PredictedClass\"])\n",
    "class_report = metrics.classification_report(df_true_vs_lm2_predicted[\"ActualClass\"], df_true_vs_lm2_predicted[\"PredictedClass\"])"
   ]
  },
  {
   "cell_type": "code",
   "execution_count": 362,
   "metadata": {
    "collapsed": false
   },
   "outputs": [
    {
     "name": "stdout",
     "output_type": "stream",
     "text": [
      "Accuracy:  0.948043069561\n",
      "Confusion matrix: \n",
      " [[5547    0]\n",
      " [ 304    0]]\n",
      "Classification report:\n",
      "               precision    recall  f1-score   support\n",
      "\n",
      "          0       0.95      1.00      0.97      5547\n",
      "          1       0.00      0.00      0.00       304\n",
      "\n",
      "avg / total       0.90      0.95      0.92      5851\n",
      "\n"
     ]
    }
   ],
   "source": [
    "print(\"Accuracy: \", accuracy)\n",
    "print(\"Confusion matrix: \\n\", confusion_matrix)\n",
    "print(\"Classification report:\\n \", class_report)"
   ]
  },
  {
   "cell_type": "markdown",
   "metadata": {},
   "source": [
    "### Evaluation Analysis: \n",
    "\n",
    "It's hard to tell what's happening here because we have gotten the exact same results even though I have only included the features that were shown to be statistically significant. It may be that we have to look at the appropriateness of using a linear regression model with this data set at all. "
   ]
  },
  {
   "cell_type": "markdown",
   "metadata": {},
   "source": [
    "## 2.4 Using the better model (as per evaluation on training set), print the predicted target feature value for all the examples in the training set. Threshold the predicted target feature value at 0.5 get the predicted class for each example. "
   ]
  },
  {
   "cell_type": "code",
   "execution_count": 363,
   "metadata": {
    "collapsed": false
   },
   "outputs": [
    {
     "data": {
      "text/plain": [
       "array([ 0.04939578,  0.04939578,  0.04939578, ...,  0.04939578,\n",
       "        0.04939578,  0.04939578])"
      ]
     },
     "execution_count": 363,
     "metadata": {},
     "output_type": "execute_result"
    }
   ],
   "source": [
    "# Both models produce the same results - I have done the thresholding above in order to evaluate the models using\n",
    "# Confusion matrix - see below for the predicted class before thresholding and 2.3 for the predicted class after thresholding\n",
    "lm2_predictions"
   ]
  },
  {
   "cell_type": "markdown",
   "metadata": {},
   "source": [
    "# Question 3: Predictive Modeling: Logistic Regression"
   ]
  },
  {
   "cell_type": "markdown",
   "metadata": {},
   "source": [
    "## 3.1 Train a logistic regression model to predict the target feature IsWinner, using the descriptive features selected in exercise (1). Evaluate the quality of the model on the training set. "
   ]
  },
  {
   "cell_type": "code",
   "execution_count": 364,
   "metadata": {
    "collapsed": false,
    "scrolled": true
   },
   "outputs": [
    {
     "name": "stdout",
     "output_type": "stream",
     "text": [
      "Warning: Maximum number of iterations has been exceeded.\n",
      "         Current function value: 0.175317\n",
      "         Iterations: 35\n"
     ]
    },
    {
     "name": "stderr",
     "output_type": "stream",
     "text": [
      "C:\\Users\\pamel\\Anaconda3\\lib\\site-packages\\statsmodels\\base\\model.py:466: ConvergenceWarning: Maximum Likelihood optimization failed to converge. Check mle_retvals\n",
      "  \"Check mle_retvals\", ConvergenceWarning)\n"
     ]
    }
   ],
   "source": [
    "# Train a model using logistic regression & statsmodels\n",
    "# I had to cut out a feature here because I got a LinAlg Singular Matrix Error - from what I can gather online that means \n",
    "# that there is no solution to the model proposed - I cut the least significant feature - ShispFrom_PA\n",
    "feature_cols.remove(\"ShipsFrom_PA\")\n",
    "df_log = df[['IsWinner', 'ListingPrice', 'IsFeaturedMerchant', 'SellerFeedbackRating', 'ShipsFrom_BC']]\n",
    "logreg = sm.logit(formula=\"IsWinner ~ ListingPrice + IsFeaturedMerchant + SellerFeedbackRating + ShipsFrom_BC\", data=df_log).fit()\n"
   ]
  },
  {
   "cell_type": "code",
   "execution_count": 365,
   "metadata": {
    "collapsed": true
   },
   "outputs": [],
   "source": [
    "predictions = logreg.predict(df_log[feature_cols])\n",
    "predicted_class = list()\n",
    "for i in predictions:\n",
    "    if i >= 0.5:\n",
    "        predicted_class.append(1)\n",
    "    else:\n",
    "        predicted_class.append(0)"
   ]
  },
  {
   "cell_type": "code",
   "execution_count": 366,
   "metadata": {
    "collapsed": false
   },
   "outputs": [
    {
     "data": {
      "text/html": [
       "<div>\n",
       "<table border=\"1\" class=\"dataframe\">\n",
       "  <thead>\n",
       "    <tr style=\"text-align: right;\">\n",
       "      <th></th>\n",
       "      <th>ActualClass</th>\n",
       "      <th>PredictedClass</th>\n",
       "    </tr>\n",
       "  </thead>\n",
       "  <tbody>\n",
       "    <tr>\n",
       "      <th>0</th>\n",
       "      <td>1</td>\n",
       "      <td>0</td>\n",
       "    </tr>\n",
       "    <tr>\n",
       "      <th>1</th>\n",
       "      <td>0</td>\n",
       "      <td>0</td>\n",
       "    </tr>\n",
       "    <tr>\n",
       "      <th>2</th>\n",
       "      <td>0</td>\n",
       "      <td>0</td>\n",
       "    </tr>\n",
       "    <tr>\n",
       "      <th>3</th>\n",
       "      <td>0</td>\n",
       "      <td>0</td>\n",
       "    </tr>\n",
       "    <tr>\n",
       "      <th>4</th>\n",
       "      <td>0</td>\n",
       "      <td>0</td>\n",
       "    </tr>\n",
       "    <tr>\n",
       "      <th>5</th>\n",
       "      <td>0</td>\n",
       "      <td>0</td>\n",
       "    </tr>\n",
       "    <tr>\n",
       "      <th>6</th>\n",
       "      <td>0</td>\n",
       "      <td>0</td>\n",
       "    </tr>\n",
       "    <tr>\n",
       "      <th>7</th>\n",
       "      <td>0</td>\n",
       "      <td>0</td>\n",
       "    </tr>\n",
       "    <tr>\n",
       "      <th>8</th>\n",
       "      <td>0</td>\n",
       "      <td>0</td>\n",
       "    </tr>\n",
       "    <tr>\n",
       "      <th>9</th>\n",
       "      <td>0</td>\n",
       "      <td>0</td>\n",
       "    </tr>\n",
       "    <tr>\n",
       "      <th>10</th>\n",
       "      <td>0</td>\n",
       "      <td>0</td>\n",
       "    </tr>\n",
       "    <tr>\n",
       "      <th>11</th>\n",
       "      <td>0</td>\n",
       "      <td>0</td>\n",
       "    </tr>\n",
       "    <tr>\n",
       "      <th>12</th>\n",
       "      <td>0</td>\n",
       "      <td>0</td>\n",
       "    </tr>\n",
       "    <tr>\n",
       "      <th>13</th>\n",
       "      <td>1</td>\n",
       "      <td>0</td>\n",
       "    </tr>\n",
       "    <tr>\n",
       "      <th>14</th>\n",
       "      <td>0</td>\n",
       "      <td>0</td>\n",
       "    </tr>\n",
       "    <tr>\n",
       "      <th>15</th>\n",
       "      <td>0</td>\n",
       "      <td>0</td>\n",
       "    </tr>\n",
       "    <tr>\n",
       "      <th>16</th>\n",
       "      <td>0</td>\n",
       "      <td>0</td>\n",
       "    </tr>\n",
       "    <tr>\n",
       "      <th>17</th>\n",
       "      <td>0</td>\n",
       "      <td>0</td>\n",
       "    </tr>\n",
       "    <tr>\n",
       "      <th>18</th>\n",
       "      <td>0</td>\n",
       "      <td>0</td>\n",
       "    </tr>\n",
       "    <tr>\n",
       "      <th>19</th>\n",
       "      <td>0</td>\n",
       "      <td>0</td>\n",
       "    </tr>\n",
       "    <tr>\n",
       "      <th>20</th>\n",
       "      <td>0</td>\n",
       "      <td>0</td>\n",
       "    </tr>\n",
       "    <tr>\n",
       "      <th>21</th>\n",
       "      <td>0</td>\n",
       "      <td>0</td>\n",
       "    </tr>\n",
       "    <tr>\n",
       "      <th>22</th>\n",
       "      <td>0</td>\n",
       "      <td>0</td>\n",
       "    </tr>\n",
       "    <tr>\n",
       "      <th>23</th>\n",
       "      <td>0</td>\n",
       "      <td>0</td>\n",
       "    </tr>\n",
       "    <tr>\n",
       "      <th>24</th>\n",
       "      <td>0</td>\n",
       "      <td>0</td>\n",
       "    </tr>\n",
       "    <tr>\n",
       "      <th>25</th>\n",
       "      <td>1</td>\n",
       "      <td>0</td>\n",
       "    </tr>\n",
       "    <tr>\n",
       "      <th>26</th>\n",
       "      <td>0</td>\n",
       "      <td>0</td>\n",
       "    </tr>\n",
       "    <tr>\n",
       "      <th>27</th>\n",
       "      <td>0</td>\n",
       "      <td>0</td>\n",
       "    </tr>\n",
       "    <tr>\n",
       "      <th>28</th>\n",
       "      <td>0</td>\n",
       "      <td>0</td>\n",
       "    </tr>\n",
       "    <tr>\n",
       "      <th>29</th>\n",
       "      <td>0</td>\n",
       "      <td>0</td>\n",
       "    </tr>\n",
       "    <tr>\n",
       "      <th>...</th>\n",
       "      <td>...</td>\n",
       "      <td>...</td>\n",
       "    </tr>\n",
       "    <tr>\n",
       "      <th>5821</th>\n",
       "      <td>0</td>\n",
       "      <td>0</td>\n",
       "    </tr>\n",
       "    <tr>\n",
       "      <th>5822</th>\n",
       "      <td>0</td>\n",
       "      <td>0</td>\n",
       "    </tr>\n",
       "    <tr>\n",
       "      <th>5823</th>\n",
       "      <td>0</td>\n",
       "      <td>0</td>\n",
       "    </tr>\n",
       "    <tr>\n",
       "      <th>5824</th>\n",
       "      <td>0</td>\n",
       "      <td>0</td>\n",
       "    </tr>\n",
       "    <tr>\n",
       "      <th>5825</th>\n",
       "      <td>0</td>\n",
       "      <td>0</td>\n",
       "    </tr>\n",
       "    <tr>\n",
       "      <th>5826</th>\n",
       "      <td>1</td>\n",
       "      <td>0</td>\n",
       "    </tr>\n",
       "    <tr>\n",
       "      <th>5827</th>\n",
       "      <td>0</td>\n",
       "      <td>0</td>\n",
       "    </tr>\n",
       "    <tr>\n",
       "      <th>5828</th>\n",
       "      <td>0</td>\n",
       "      <td>0</td>\n",
       "    </tr>\n",
       "    <tr>\n",
       "      <th>5829</th>\n",
       "      <td>0</td>\n",
       "      <td>0</td>\n",
       "    </tr>\n",
       "    <tr>\n",
       "      <th>5830</th>\n",
       "      <td>0</td>\n",
       "      <td>0</td>\n",
       "    </tr>\n",
       "    <tr>\n",
       "      <th>5831</th>\n",
       "      <td>0</td>\n",
       "      <td>0</td>\n",
       "    </tr>\n",
       "    <tr>\n",
       "      <th>5832</th>\n",
       "      <td>0</td>\n",
       "      <td>0</td>\n",
       "    </tr>\n",
       "    <tr>\n",
       "      <th>5833</th>\n",
       "      <td>0</td>\n",
       "      <td>0</td>\n",
       "    </tr>\n",
       "    <tr>\n",
       "      <th>5834</th>\n",
       "      <td>0</td>\n",
       "      <td>0</td>\n",
       "    </tr>\n",
       "    <tr>\n",
       "      <th>5835</th>\n",
       "      <td>0</td>\n",
       "      <td>0</td>\n",
       "    </tr>\n",
       "    <tr>\n",
       "      <th>5836</th>\n",
       "      <td>0</td>\n",
       "      <td>0</td>\n",
       "    </tr>\n",
       "    <tr>\n",
       "      <th>5837</th>\n",
       "      <td>0</td>\n",
       "      <td>0</td>\n",
       "    </tr>\n",
       "    <tr>\n",
       "      <th>5838</th>\n",
       "      <td>0</td>\n",
       "      <td>0</td>\n",
       "    </tr>\n",
       "    <tr>\n",
       "      <th>5839</th>\n",
       "      <td>0</td>\n",
       "      <td>0</td>\n",
       "    </tr>\n",
       "    <tr>\n",
       "      <th>5840</th>\n",
       "      <td>0</td>\n",
       "      <td>0</td>\n",
       "    </tr>\n",
       "    <tr>\n",
       "      <th>5841</th>\n",
       "      <td>0</td>\n",
       "      <td>0</td>\n",
       "    </tr>\n",
       "    <tr>\n",
       "      <th>5842</th>\n",
       "      <td>0</td>\n",
       "      <td>0</td>\n",
       "    </tr>\n",
       "    <tr>\n",
       "      <th>5843</th>\n",
       "      <td>0</td>\n",
       "      <td>0</td>\n",
       "    </tr>\n",
       "    <tr>\n",
       "      <th>5844</th>\n",
       "      <td>0</td>\n",
       "      <td>0</td>\n",
       "    </tr>\n",
       "    <tr>\n",
       "      <th>5845</th>\n",
       "      <td>0</td>\n",
       "      <td>0</td>\n",
       "    </tr>\n",
       "    <tr>\n",
       "      <th>5846</th>\n",
       "      <td>0</td>\n",
       "      <td>0</td>\n",
       "    </tr>\n",
       "    <tr>\n",
       "      <th>5847</th>\n",
       "      <td>0</td>\n",
       "      <td>0</td>\n",
       "    </tr>\n",
       "    <tr>\n",
       "      <th>5848</th>\n",
       "      <td>0</td>\n",
       "      <td>0</td>\n",
       "    </tr>\n",
       "    <tr>\n",
       "      <th>5849</th>\n",
       "      <td>0</td>\n",
       "      <td>0</td>\n",
       "    </tr>\n",
       "    <tr>\n",
       "      <th>5850</th>\n",
       "      <td>0</td>\n",
       "      <td>0</td>\n",
       "    </tr>\n",
       "  </tbody>\n",
       "</table>\n",
       "<p>5851 rows × 2 columns</p>\n",
       "</div>"
      ],
      "text/plain": [
       "      ActualClass  PredictedClass\n",
       "0               1               0\n",
       "1               0               0\n",
       "2               0               0\n",
       "3               0               0\n",
       "4               0               0\n",
       "5               0               0\n",
       "6               0               0\n",
       "7               0               0\n",
       "8               0               0\n",
       "9               0               0\n",
       "10              0               0\n",
       "11              0               0\n",
       "12              0               0\n",
       "13              1               0\n",
       "14              0               0\n",
       "15              0               0\n",
       "16              0               0\n",
       "17              0               0\n",
       "18              0               0\n",
       "19              0               0\n",
       "20              0               0\n",
       "21              0               0\n",
       "22              0               0\n",
       "23              0               0\n",
       "24              0               0\n",
       "25              1               0\n",
       "26              0               0\n",
       "27              0               0\n",
       "28              0               0\n",
       "29              0               0\n",
       "...           ...             ...\n",
       "5821            0               0\n",
       "5822            0               0\n",
       "5823            0               0\n",
       "5824            0               0\n",
       "5825            0               0\n",
       "5826            1               0\n",
       "5827            0               0\n",
       "5828            0               0\n",
       "5829            0               0\n",
       "5830            0               0\n",
       "5831            0               0\n",
       "5832            0               0\n",
       "5833            0               0\n",
       "5834            0               0\n",
       "5835            0               0\n",
       "5836            0               0\n",
       "5837            0               0\n",
       "5838            0               0\n",
       "5839            0               0\n",
       "5840            0               0\n",
       "5841            0               0\n",
       "5842            0               0\n",
       "5843            0               0\n",
       "5844            0               0\n",
       "5845            0               0\n",
       "5846            0               0\n",
       "5847            0               0\n",
       "5848            0               0\n",
       "5849            0               0\n",
       "5850            0               0\n",
       "\n",
       "[5851 rows x 2 columns]"
      ]
     },
     "execution_count": 366,
     "metadata": {},
     "output_type": "execute_result"
    }
   ],
   "source": [
    "#Evaluating the model with accuracy and confusion matrix\n",
    "df_true_vs_logreg_pred = pd.DataFrame({'ActualClass': df_log.IsWinner, 'PredictedClass': predicted_class})\n",
    "df_true_vs_logreg_pred"
   ]
  },
  {
   "cell_type": "code",
   "execution_count": 367,
   "metadata": {
    "collapsed": false
   },
   "outputs": [
    {
     "name": "stderr",
     "output_type": "stream",
     "text": [
      "C:\\Users\\pamel\\Anaconda3\\lib\\site-packages\\sklearn\\metrics\\classification.py:1113: UndefinedMetricWarning: Precision and F-score are ill-defined and being set to 0.0 in labels with no predicted samples.\n",
      "  'precision', 'predicted', average, warn_for)\n"
     ]
    }
   ],
   "source": [
    "accuracy = metrics.accuracy_score(df_true_vs_logreg_pred[\"ActualClass\"], df_true_vs_logreg_pred[\"PredictedClass\"])\n",
    "confusion_matrix = metrics.confusion_matrix(df_true_vs_logreg_pred[\"ActualClass\"], df_true_vs_logreg_pred[\"PredictedClass\"])\n",
    "class_report = metrics.classification_report(df_true_vs_logreg_pred[\"ActualClass\"], df_true_vs_logreg_pred[\"PredictedClass\"])"
   ]
  },
  {
   "cell_type": "code",
   "execution_count": 368,
   "metadata": {
    "collapsed": false
   },
   "outputs": [
    {
     "name": "stdout",
     "output_type": "stream",
     "text": [
      "Accuracy:  0.948043069561\n",
      "Confusion matrix: \n",
      " [[5547    0]\n",
      " [ 304    0]]\n",
      "Classification report:\n",
      "               precision    recall  f1-score   support\n",
      "\n",
      "          0       0.95      1.00      0.97      5547\n",
      "          1       0.00      0.00      0.00       304\n",
      "\n",
      "avg / total       0.90      0.95      0.92      5851\n",
      "\n"
     ]
    }
   ],
   "source": [
    "print(\"Accuracy: \", accuracy)\n",
    "print(\"Confusion matrix: \\n\", confusion_matrix)\n",
    "print(\"Classification report:\\n \", class_report)"
   ]
  },
  {
   "cell_type": "markdown",
   "metadata": {},
   "source": [
    "### Evaluation Analysis: \n",
    "\n",
    "Again, the results are the same as in 2.1 - we are predicting all negatives. We have failed to predict any instances in the positive class. "
   ]
  },
  {
   "cell_type": "markdown",
   "metadata": {},
   "source": [
    "## 3.2 Print the coefficients learned by the model and discuss their statistical significance as well as their role in the model (e.g. interpret the model). "
   ]
  },
  {
   "cell_type": "code",
   "execution_count": 369,
   "metadata": {
    "collapsed": false
   },
   "outputs": [
    {
     "name": "stdout",
     "output_type": "stream",
     "text": [
      "Intercept              -25.503662\n",
      "ListingPrice             0.000066\n",
      "IsFeaturedMerchant      23.310172\n",
      "SellerFeedbackRating    -0.008162\n",
      "ShipsFrom_BC             2.156174\n",
      "dtype: float64\n"
     ]
    }
   ],
   "source": [
    "print(logreg.params)"
   ]
  },
  {
   "cell_type": "code",
   "execution_count": 370,
   "metadata": {
    "collapsed": false
   },
   "outputs": [
    {
     "name": "stdout",
     "output_type": "stream",
     "text": [
      "                           Logit Regression Results                           \n",
      "==============================================================================\n",
      "Dep. Variable:               IsWinner   No. Observations:                 5851\n",
      "Model:                          Logit   Df Residuals:                     5846\n",
      "Method:                           MLE   Df Model:                            4\n",
      "Date:                Tue, 18 Apr 2017   Pseudo R-squ.:                  0.1416\n",
      "Time:                        22:10:32   Log-Likelihood:                -1025.8\n",
      "converged:                      False   LL-Null:                       -1195.0\n",
      "                                        LLR p-value:                 5.520e-72\n",
      "========================================================================================\n",
      "                           coef    std err          z      P>|z|      [95.0% Conf. Int.]\n",
      "----------------------------------------------------------------------------------------\n",
      "Intercept              -25.5037   1.35e+04     -0.002      0.998     -2.65e+04  2.64e+04\n",
      "ListingPrice          6.638e-05      0.000      0.259      0.795        -0.000     0.001\n",
      "IsFeaturedMerchant      23.3102   1.35e+04      0.002      0.999     -2.64e+04  2.65e+04\n",
      "SellerFeedbackRating    -0.0082      0.009     -0.907      0.364        -0.026     0.009\n",
      "ShipsFrom_BC             2.1562      0.144     14.986      0.000         1.874     2.438\n",
      "========================================================================================\n",
      "\n",
      "Possibly complete quasi-separation: A fraction 0.22 of observations can be\n",
      "perfectly predicted. This might indicate that there is complete\n",
      "quasi-separation. In this case some parameters will not be identified.\n"
     ]
    }
   ],
   "source": [
    "print(logreg.summary())"
   ]
  },
  {
   "cell_type": "markdown",
   "metadata": {},
   "source": [
    "## Statistical Significance \n",
    "\n",
    "### Looking at Coefficients\n",
    "\n",
    "1. Keep in mind we have reduced by one feature because of the Singular Matrix error. The most significant feature by far is Featured Merchant followed by ShipsFrom_BC. We can see that Featured Merchant has 10 times an impact on the target outcome than ShipsFrom_Bc. \n",
    "\n",
    "### Looking at PValues\n",
    "\n",
    "1. Looking at the pvalues we can see that Ships From BC and Seller Feedback Rating are the lowest values - here we see a divergence from the results seen above with the coefficients. \n",
    "\n",
    "### What Next?\n",
    "\n",
    "Although Featured Merchant does not have a 'good' P-Value I am going to include it going further because of the scale of its coefficient. In addition I am also going to include ShipsFrom_BC as that has the best P-Value and see how this simple model works moving forward. \n",
    "\n"
   ]
  },
  {
   "cell_type": "markdown",
   "metadata": {},
   "source": [
    "## 3.3 Retrain the model using only the subset of features found to be statistically significant. Evaluate the quality of the model on the training set. "
   ]
  },
  {
   "cell_type": "code",
   "execution_count": 371,
   "metadata": {
    "collapsed": false
   },
   "outputs": [],
   "source": [
    "#maintain the prepared data frame for use in part 3 and part 4\n",
    "df_newlog = df[['IsWinner', 'IsFeaturedMerchant', 'ShipsFrom_BC']]"
   ]
  },
  {
   "cell_type": "code",
   "execution_count": 372,
   "metadata": {
    "collapsed": false,
    "scrolled": false
   },
   "outputs": [
    {
     "name": "stdout",
     "output_type": "stream",
     "text": [
      "Warning: Maximum number of iterations has been exceeded.\n",
      "         Current function value: 0.175383\n",
      "         Iterations: 35\n"
     ]
    },
    {
     "name": "stderr",
     "output_type": "stream",
     "text": [
      "C:\\Users\\pamel\\Anaconda3\\lib\\site-packages\\statsmodels\\base\\model.py:466: ConvergenceWarning: Maximum Likelihood optimization failed to converge. Check mle_retvals\n",
      "  \"Check mle_retvals\", ConvergenceWarning)\n"
     ]
    }
   ],
   "source": [
    "feature_cols_2 = ['IsFeaturedMerchant', 'ShipsFrom_BC']\n",
    "\n",
    "logreg2 = sm.logit(formula=\"IsWinner ~ IsFeaturedMerchant + ShipsFrom_BC\", data=df_newlog).fit()"
   ]
  },
  {
   "cell_type": "code",
   "execution_count": 373,
   "metadata": {
    "collapsed": true
   },
   "outputs": [],
   "source": [
    "predictions = logreg2.predict(df_newlog[feature_cols_2])\n",
    "predicted_class = list()\n",
    "for i in predictions:\n",
    "    if i >= 0.5:\n",
    "        predicted_class.append(1)\n",
    "    else:\n",
    "        predicted_class.append(0)"
   ]
  },
  {
   "cell_type": "code",
   "execution_count": 374,
   "metadata": {
    "collapsed": false
   },
   "outputs": [
    {
     "data": {
      "text/html": [
       "<div>\n",
       "<table border=\"1\" class=\"dataframe\">\n",
       "  <thead>\n",
       "    <tr style=\"text-align: right;\">\n",
       "      <th></th>\n",
       "      <th>ActualClass</th>\n",
       "      <th>PredictedClass</th>\n",
       "    </tr>\n",
       "  </thead>\n",
       "  <tbody>\n",
       "    <tr>\n",
       "      <th>0</th>\n",
       "      <td>1</td>\n",
       "      <td>0</td>\n",
       "    </tr>\n",
       "    <tr>\n",
       "      <th>1</th>\n",
       "      <td>0</td>\n",
       "      <td>0</td>\n",
       "    </tr>\n",
       "    <tr>\n",
       "      <th>2</th>\n",
       "      <td>0</td>\n",
       "      <td>0</td>\n",
       "    </tr>\n",
       "    <tr>\n",
       "      <th>3</th>\n",
       "      <td>0</td>\n",
       "      <td>0</td>\n",
       "    </tr>\n",
       "    <tr>\n",
       "      <th>4</th>\n",
       "      <td>0</td>\n",
       "      <td>0</td>\n",
       "    </tr>\n",
       "    <tr>\n",
       "      <th>5</th>\n",
       "      <td>0</td>\n",
       "      <td>0</td>\n",
       "    </tr>\n",
       "    <tr>\n",
       "      <th>6</th>\n",
       "      <td>0</td>\n",
       "      <td>0</td>\n",
       "    </tr>\n",
       "    <tr>\n",
       "      <th>7</th>\n",
       "      <td>0</td>\n",
       "      <td>0</td>\n",
       "    </tr>\n",
       "    <tr>\n",
       "      <th>8</th>\n",
       "      <td>0</td>\n",
       "      <td>0</td>\n",
       "    </tr>\n",
       "    <tr>\n",
       "      <th>9</th>\n",
       "      <td>0</td>\n",
       "      <td>0</td>\n",
       "    </tr>\n",
       "    <tr>\n",
       "      <th>10</th>\n",
       "      <td>0</td>\n",
       "      <td>0</td>\n",
       "    </tr>\n",
       "    <tr>\n",
       "      <th>11</th>\n",
       "      <td>0</td>\n",
       "      <td>0</td>\n",
       "    </tr>\n",
       "    <tr>\n",
       "      <th>12</th>\n",
       "      <td>0</td>\n",
       "      <td>0</td>\n",
       "    </tr>\n",
       "    <tr>\n",
       "      <th>13</th>\n",
       "      <td>1</td>\n",
       "      <td>0</td>\n",
       "    </tr>\n",
       "    <tr>\n",
       "      <th>14</th>\n",
       "      <td>0</td>\n",
       "      <td>0</td>\n",
       "    </tr>\n",
       "    <tr>\n",
       "      <th>15</th>\n",
       "      <td>0</td>\n",
       "      <td>0</td>\n",
       "    </tr>\n",
       "    <tr>\n",
       "      <th>16</th>\n",
       "      <td>0</td>\n",
       "      <td>0</td>\n",
       "    </tr>\n",
       "    <tr>\n",
       "      <th>17</th>\n",
       "      <td>0</td>\n",
       "      <td>0</td>\n",
       "    </tr>\n",
       "    <tr>\n",
       "      <th>18</th>\n",
       "      <td>0</td>\n",
       "      <td>0</td>\n",
       "    </tr>\n",
       "    <tr>\n",
       "      <th>19</th>\n",
       "      <td>0</td>\n",
       "      <td>0</td>\n",
       "    </tr>\n",
       "    <tr>\n",
       "      <th>20</th>\n",
       "      <td>0</td>\n",
       "      <td>0</td>\n",
       "    </tr>\n",
       "    <tr>\n",
       "      <th>21</th>\n",
       "      <td>0</td>\n",
       "      <td>0</td>\n",
       "    </tr>\n",
       "    <tr>\n",
       "      <th>22</th>\n",
       "      <td>0</td>\n",
       "      <td>0</td>\n",
       "    </tr>\n",
       "    <tr>\n",
       "      <th>23</th>\n",
       "      <td>0</td>\n",
       "      <td>0</td>\n",
       "    </tr>\n",
       "    <tr>\n",
       "      <th>24</th>\n",
       "      <td>0</td>\n",
       "      <td>0</td>\n",
       "    </tr>\n",
       "    <tr>\n",
       "      <th>25</th>\n",
       "      <td>1</td>\n",
       "      <td>0</td>\n",
       "    </tr>\n",
       "    <tr>\n",
       "      <th>26</th>\n",
       "      <td>0</td>\n",
       "      <td>0</td>\n",
       "    </tr>\n",
       "    <tr>\n",
       "      <th>27</th>\n",
       "      <td>0</td>\n",
       "      <td>0</td>\n",
       "    </tr>\n",
       "    <tr>\n",
       "      <th>28</th>\n",
       "      <td>0</td>\n",
       "      <td>0</td>\n",
       "    </tr>\n",
       "    <tr>\n",
       "      <th>29</th>\n",
       "      <td>0</td>\n",
       "      <td>0</td>\n",
       "    </tr>\n",
       "    <tr>\n",
       "      <th>...</th>\n",
       "      <td>...</td>\n",
       "      <td>...</td>\n",
       "    </tr>\n",
       "    <tr>\n",
       "      <th>5821</th>\n",
       "      <td>0</td>\n",
       "      <td>0</td>\n",
       "    </tr>\n",
       "    <tr>\n",
       "      <th>5822</th>\n",
       "      <td>0</td>\n",
       "      <td>0</td>\n",
       "    </tr>\n",
       "    <tr>\n",
       "      <th>5823</th>\n",
       "      <td>0</td>\n",
       "      <td>0</td>\n",
       "    </tr>\n",
       "    <tr>\n",
       "      <th>5824</th>\n",
       "      <td>0</td>\n",
       "      <td>0</td>\n",
       "    </tr>\n",
       "    <tr>\n",
       "      <th>5825</th>\n",
       "      <td>0</td>\n",
       "      <td>0</td>\n",
       "    </tr>\n",
       "    <tr>\n",
       "      <th>5826</th>\n",
       "      <td>1</td>\n",
       "      <td>0</td>\n",
       "    </tr>\n",
       "    <tr>\n",
       "      <th>5827</th>\n",
       "      <td>0</td>\n",
       "      <td>0</td>\n",
       "    </tr>\n",
       "    <tr>\n",
       "      <th>5828</th>\n",
       "      <td>0</td>\n",
       "      <td>0</td>\n",
       "    </tr>\n",
       "    <tr>\n",
       "      <th>5829</th>\n",
       "      <td>0</td>\n",
       "      <td>0</td>\n",
       "    </tr>\n",
       "    <tr>\n",
       "      <th>5830</th>\n",
       "      <td>0</td>\n",
       "      <td>0</td>\n",
       "    </tr>\n",
       "    <tr>\n",
       "      <th>5831</th>\n",
       "      <td>0</td>\n",
       "      <td>0</td>\n",
       "    </tr>\n",
       "    <tr>\n",
       "      <th>5832</th>\n",
       "      <td>0</td>\n",
       "      <td>0</td>\n",
       "    </tr>\n",
       "    <tr>\n",
       "      <th>5833</th>\n",
       "      <td>0</td>\n",
       "      <td>0</td>\n",
       "    </tr>\n",
       "    <tr>\n",
       "      <th>5834</th>\n",
       "      <td>0</td>\n",
       "      <td>0</td>\n",
       "    </tr>\n",
       "    <tr>\n",
       "      <th>5835</th>\n",
       "      <td>0</td>\n",
       "      <td>0</td>\n",
       "    </tr>\n",
       "    <tr>\n",
       "      <th>5836</th>\n",
       "      <td>0</td>\n",
       "      <td>0</td>\n",
       "    </tr>\n",
       "    <tr>\n",
       "      <th>5837</th>\n",
       "      <td>0</td>\n",
       "      <td>0</td>\n",
       "    </tr>\n",
       "    <tr>\n",
       "      <th>5838</th>\n",
       "      <td>0</td>\n",
       "      <td>0</td>\n",
       "    </tr>\n",
       "    <tr>\n",
       "      <th>5839</th>\n",
       "      <td>0</td>\n",
       "      <td>0</td>\n",
       "    </tr>\n",
       "    <tr>\n",
       "      <th>5840</th>\n",
       "      <td>0</td>\n",
       "      <td>0</td>\n",
       "    </tr>\n",
       "    <tr>\n",
       "      <th>5841</th>\n",
       "      <td>0</td>\n",
       "      <td>0</td>\n",
       "    </tr>\n",
       "    <tr>\n",
       "      <th>5842</th>\n",
       "      <td>0</td>\n",
       "      <td>0</td>\n",
       "    </tr>\n",
       "    <tr>\n",
       "      <th>5843</th>\n",
       "      <td>0</td>\n",
       "      <td>0</td>\n",
       "    </tr>\n",
       "    <tr>\n",
       "      <th>5844</th>\n",
       "      <td>0</td>\n",
       "      <td>0</td>\n",
       "    </tr>\n",
       "    <tr>\n",
       "      <th>5845</th>\n",
       "      <td>0</td>\n",
       "      <td>0</td>\n",
       "    </tr>\n",
       "    <tr>\n",
       "      <th>5846</th>\n",
       "      <td>0</td>\n",
       "      <td>0</td>\n",
       "    </tr>\n",
       "    <tr>\n",
       "      <th>5847</th>\n",
       "      <td>0</td>\n",
       "      <td>0</td>\n",
       "    </tr>\n",
       "    <tr>\n",
       "      <th>5848</th>\n",
       "      <td>0</td>\n",
       "      <td>0</td>\n",
       "    </tr>\n",
       "    <tr>\n",
       "      <th>5849</th>\n",
       "      <td>0</td>\n",
       "      <td>0</td>\n",
       "    </tr>\n",
       "    <tr>\n",
       "      <th>5850</th>\n",
       "      <td>0</td>\n",
       "      <td>0</td>\n",
       "    </tr>\n",
       "  </tbody>\n",
       "</table>\n",
       "<p>5851 rows × 2 columns</p>\n",
       "</div>"
      ],
      "text/plain": [
       "      ActualClass  PredictedClass\n",
       "0               1               0\n",
       "1               0               0\n",
       "2               0               0\n",
       "3               0               0\n",
       "4               0               0\n",
       "5               0               0\n",
       "6               0               0\n",
       "7               0               0\n",
       "8               0               0\n",
       "9               0               0\n",
       "10              0               0\n",
       "11              0               0\n",
       "12              0               0\n",
       "13              1               0\n",
       "14              0               0\n",
       "15              0               0\n",
       "16              0               0\n",
       "17              0               0\n",
       "18              0               0\n",
       "19              0               0\n",
       "20              0               0\n",
       "21              0               0\n",
       "22              0               0\n",
       "23              0               0\n",
       "24              0               0\n",
       "25              1               0\n",
       "26              0               0\n",
       "27              0               0\n",
       "28              0               0\n",
       "29              0               0\n",
       "...           ...             ...\n",
       "5821            0               0\n",
       "5822            0               0\n",
       "5823            0               0\n",
       "5824            0               0\n",
       "5825            0               0\n",
       "5826            1               0\n",
       "5827            0               0\n",
       "5828            0               0\n",
       "5829            0               0\n",
       "5830            0               0\n",
       "5831            0               0\n",
       "5832            0               0\n",
       "5833            0               0\n",
       "5834            0               0\n",
       "5835            0               0\n",
       "5836            0               0\n",
       "5837            0               0\n",
       "5838            0               0\n",
       "5839            0               0\n",
       "5840            0               0\n",
       "5841            0               0\n",
       "5842            0               0\n",
       "5843            0               0\n",
       "5844            0               0\n",
       "5845            0               0\n",
       "5846            0               0\n",
       "5847            0               0\n",
       "5848            0               0\n",
       "5849            0               0\n",
       "5850            0               0\n",
       "\n",
       "[5851 rows x 2 columns]"
      ]
     },
     "execution_count": 374,
     "metadata": {},
     "output_type": "execute_result"
    }
   ],
   "source": [
    "#Evaluating the model with accuracy and confusion matrix\n",
    "df_true_vs_logreg_pred = pd.DataFrame({'ActualClass': df_newlog.IsWinner, 'PredictedClass': predicted_class})\n",
    "df_true_vs_logreg_pred"
   ]
  },
  {
   "cell_type": "code",
   "execution_count": 375,
   "metadata": {
    "collapsed": false
   },
   "outputs": [
    {
     "name": "stderr",
     "output_type": "stream",
     "text": [
      "C:\\Users\\pamel\\Anaconda3\\lib\\site-packages\\sklearn\\metrics\\classification.py:1113: UndefinedMetricWarning: Precision and F-score are ill-defined and being set to 0.0 in labels with no predicted samples.\n",
      "  'precision', 'predicted', average, warn_for)\n"
     ]
    }
   ],
   "source": [
    "accuracy = metrics.accuracy_score(df_true_vs_logreg_pred[\"ActualClass\"], df_true_vs_logreg_pred[\"PredictedClass\"])\n",
    "confusion_matrix = metrics.confusion_matrix(df_true_vs_logreg_pred[\"ActualClass\"], df_true_vs_logreg_pred[\"PredictedClass\"])\n",
    "class_report = metrics.classification_report(df_true_vs_logreg_pred[\"ActualClass\"], df_true_vs_logreg_pred[\"PredictedClass\"])"
   ]
  },
  {
   "cell_type": "code",
   "execution_count": 376,
   "metadata": {
    "collapsed": false
   },
   "outputs": [
    {
     "name": "stdout",
     "output_type": "stream",
     "text": [
      "Accuracy:  0.948043069561\n",
      "Confusion matrix: \n",
      " [[5547    0]\n",
      " [ 304    0]]\n",
      "Classification report:\n",
      "               precision    recall  f1-score   support\n",
      "\n",
      "          0       0.95      1.00      0.97      5547\n",
      "          1       0.00      0.00      0.00       304\n",
      "\n",
      "avg / total       0.90      0.95      0.92      5851\n",
      "\n"
     ]
    }
   ],
   "source": [
    "print(\"Accuracy: \", accuracy)\n",
    "print(\"Confusion matrix: \\n\", confusion_matrix)\n",
    "print(\"Classification report:\\n \", class_report)"
   ]
  },
  {
   "cell_type": "markdown",
   "metadata": {},
   "source": [
    "## Evaluation Analysis: \n",
    "\n",
    "The models here may be underfitted too much because they are only producing negatives and not successfully producing any postive cases. They are too 'simple' and perhaps need to better fit the data given. "
   ]
  },
  {
   "cell_type": "markdown",
   "metadata": {},
   "source": [
    "## 3.4 Using the better model (as per evaluation on training set), print the predicted target feature value for all the examples in the training set. Print the predicted class for each example. "
   ]
  },
  {
   "cell_type": "code",
   "execution_count": 377,
   "metadata": {
    "collapsed": false
   },
   "outputs": [
    {
     "data": {
      "text/plain": [
       "array([ 0.04937983,  0.04937983,  0.04937983, ...,  0.04937983,\n",
       "        0.04937983,  0.04937983])"
      ]
     },
     "execution_count": 377,
     "metadata": {},
     "output_type": "execute_result"
    }
   ],
   "source": [
    "# I had to threshold the data above to evaluate the model - see below for detailed predictions and see 3.3 for predicted class\n",
    "# After thresholding\n",
    "predictions"
   ]
  },
  {
   "cell_type": "markdown",
   "metadata": {},
   "source": [
    "# Question 4: Predictive Modeling: Random Forest"
   ]
  },
  {
   "cell_type": "markdown",
   "metadata": {},
   "source": [
    "## 4.1 Train a random forest model to predict the target feature IsWinner, using the descriptive features selected in exercise (1). Evaluate the quality of the model on the training set. "
   ]
  },
  {
   "cell_type": "code",
   "execution_count": 378,
   "metadata": {
    "collapsed": false
   },
   "outputs": [],
   "source": [
    "#reference: https://www.youtube.com/watch?v=0GrciaGYzV0&list=PLx1nh9sMznmKoUjw6uHR2enxCrenhn5zD&index=4\n",
    "# Going back to our original set of selected features for Random Forest - Hopefully we won't get Singular Matrix Error\n",
    "feature_cols = ['IsFeaturedMerchant', 'ListingPrice', 'SellerFeedbackRating', 'ShipsFrom_BC']\n",
    "X = df[feature_cols]\n",
    "y = df.IsWinner"
   ]
  },
  {
   "cell_type": "code",
   "execution_count": 379,
   "metadata": {
    "collapsed": false,
    "scrolled": true
   },
   "outputs": [
    {
     "name": "stderr",
     "output_type": "stream",
     "text": [
      "C:\\Users\\pamel\\Anaconda3\\lib\\site-packages\\sklearn\\ensemble\\forest.py:723: UserWarning: Some inputs do not have OOB scores. This probably means too few trees were used to compute any reliable oob estimates.\n",
      "  warn(\"Some inputs do not have OOB scores. \"\n"
     ]
    },
    {
     "data": {
      "text/plain": [
       "RandomForestRegressor(bootstrap=True, criterion='mse', max_depth=None,\n",
       "           max_features='auto', max_leaf_nodes=None,\n",
       "           min_impurity_split=1e-07, min_samples_leaf=1,\n",
       "           min_samples_split=2, min_weight_fraction_leaf=0.0,\n",
       "           n_estimators=10, n_jobs=1, oob_score=True, random_state=None,\n",
       "           verbose=0, warm_start=False)"
      ]
     },
     "execution_count": 379,
     "metadata": {},
     "output_type": "execute_result"
    }
   ],
   "source": [
    "rfm = RandomForestRegressor(oob_score=True)\n",
    "rfm.fit(X, y)"
   ]
  },
  {
   "cell_type": "code",
   "execution_count": 380,
   "metadata": {
    "collapsed": false
   },
   "outputs": [
    {
     "data": {
      "text/plain": [
       "0.082792643917920405"
      ]
     },
     "execution_count": 380,
     "metadata": {},
     "output_type": "execute_result"
    }
   ],
   "source": [
    "#out of bag score - only available after the model has been trained (all methods with trailing underscore are only available\n",
    "#after the model has been trained) This produces the r squared value\n",
    "rfm.oob_score_"
   ]
  },
  {
   "cell_type": "code",
   "execution_count": 381,
   "metadata": {
    "collapsed": false,
    "scrolled": true
   },
   "outputs": [
    {
     "name": "stdout",
     "output_type": "stream",
     "text": [
      "C-Stat:  0.779512159252\n"
     ]
    }
   ],
   "source": [
    "#we can use this to calculate roc/auc\n",
    "y_oob = rfm.oob_prediction_\n",
    "print(\"C-Stat: \", roc_auc_score(y, y_oob))"
   ]
  },
  {
   "cell_type": "code",
   "execution_count": 382,
   "metadata": {
    "collapsed": false
   },
   "outputs": [],
   "source": [
    "rfc_predictions = rfm.predict(X)\n",
    "predicted_class = list()\n",
    "for i in rfc_predictions:\n",
    "    if i >= 0.5:\n",
    "        predicted_class.append(1)\n",
    "    else:\n",
    "        predicted_class.append(0)"
   ]
  },
  {
   "cell_type": "code",
   "execution_count": 383,
   "metadata": {
    "collapsed": false
   },
   "outputs": [
    {
     "data": {
      "text/html": [
       "<div>\n",
       "<table border=\"1\" class=\"dataframe\">\n",
       "  <thead>\n",
       "    <tr style=\"text-align: right;\">\n",
       "      <th></th>\n",
       "      <th>ActualClass</th>\n",
       "      <th>PredictedClass</th>\n",
       "    </tr>\n",
       "  </thead>\n",
       "  <tbody>\n",
       "    <tr>\n",
       "      <th>0</th>\n",
       "      <td>1</td>\n",
       "      <td>1</td>\n",
       "    </tr>\n",
       "    <tr>\n",
       "      <th>1</th>\n",
       "      <td>0</td>\n",
       "      <td>0</td>\n",
       "    </tr>\n",
       "    <tr>\n",
       "      <th>2</th>\n",
       "      <td>0</td>\n",
       "      <td>0</td>\n",
       "    </tr>\n",
       "    <tr>\n",
       "      <th>3</th>\n",
       "      <td>0</td>\n",
       "      <td>0</td>\n",
       "    </tr>\n",
       "    <tr>\n",
       "      <th>4</th>\n",
       "      <td>0</td>\n",
       "      <td>0</td>\n",
       "    </tr>\n",
       "    <tr>\n",
       "      <th>5</th>\n",
       "      <td>0</td>\n",
       "      <td>0</td>\n",
       "    </tr>\n",
       "    <tr>\n",
       "      <th>6</th>\n",
       "      <td>0</td>\n",
       "      <td>0</td>\n",
       "    </tr>\n",
       "    <tr>\n",
       "      <th>7</th>\n",
       "      <td>0</td>\n",
       "      <td>0</td>\n",
       "    </tr>\n",
       "    <tr>\n",
       "      <th>8</th>\n",
       "      <td>0</td>\n",
       "      <td>0</td>\n",
       "    </tr>\n",
       "    <tr>\n",
       "      <th>9</th>\n",
       "      <td>0</td>\n",
       "      <td>0</td>\n",
       "    </tr>\n",
       "    <tr>\n",
       "      <th>10</th>\n",
       "      <td>0</td>\n",
       "      <td>0</td>\n",
       "    </tr>\n",
       "    <tr>\n",
       "      <th>11</th>\n",
       "      <td>0</td>\n",
       "      <td>0</td>\n",
       "    </tr>\n",
       "    <tr>\n",
       "      <th>12</th>\n",
       "      <td>0</td>\n",
       "      <td>0</td>\n",
       "    </tr>\n",
       "    <tr>\n",
       "      <th>13</th>\n",
       "      <td>1</td>\n",
       "      <td>1</td>\n",
       "    </tr>\n",
       "    <tr>\n",
       "      <th>14</th>\n",
       "      <td>0</td>\n",
       "      <td>0</td>\n",
       "    </tr>\n",
       "    <tr>\n",
       "      <th>15</th>\n",
       "      <td>0</td>\n",
       "      <td>0</td>\n",
       "    </tr>\n",
       "    <tr>\n",
       "      <th>16</th>\n",
       "      <td>0</td>\n",
       "      <td>0</td>\n",
       "    </tr>\n",
       "    <tr>\n",
       "      <th>17</th>\n",
       "      <td>0</td>\n",
       "      <td>0</td>\n",
       "    </tr>\n",
       "    <tr>\n",
       "      <th>18</th>\n",
       "      <td>0</td>\n",
       "      <td>0</td>\n",
       "    </tr>\n",
       "    <tr>\n",
       "      <th>19</th>\n",
       "      <td>0</td>\n",
       "      <td>0</td>\n",
       "    </tr>\n",
       "    <tr>\n",
       "      <th>20</th>\n",
       "      <td>0</td>\n",
       "      <td>0</td>\n",
       "    </tr>\n",
       "    <tr>\n",
       "      <th>21</th>\n",
       "      <td>0</td>\n",
       "      <td>0</td>\n",
       "    </tr>\n",
       "    <tr>\n",
       "      <th>22</th>\n",
       "      <td>0</td>\n",
       "      <td>0</td>\n",
       "    </tr>\n",
       "    <tr>\n",
       "      <th>23</th>\n",
       "      <td>0</td>\n",
       "      <td>0</td>\n",
       "    </tr>\n",
       "    <tr>\n",
       "      <th>24</th>\n",
       "      <td>0</td>\n",
       "      <td>0</td>\n",
       "    </tr>\n",
       "    <tr>\n",
       "      <th>25</th>\n",
       "      <td>1</td>\n",
       "      <td>1</td>\n",
       "    </tr>\n",
       "    <tr>\n",
       "      <th>26</th>\n",
       "      <td>0</td>\n",
       "      <td>0</td>\n",
       "    </tr>\n",
       "    <tr>\n",
       "      <th>27</th>\n",
       "      <td>0</td>\n",
       "      <td>0</td>\n",
       "    </tr>\n",
       "    <tr>\n",
       "      <th>28</th>\n",
       "      <td>0</td>\n",
       "      <td>0</td>\n",
       "    </tr>\n",
       "    <tr>\n",
       "      <th>29</th>\n",
       "      <td>0</td>\n",
       "      <td>0</td>\n",
       "    </tr>\n",
       "    <tr>\n",
       "      <th>...</th>\n",
       "      <td>...</td>\n",
       "      <td>...</td>\n",
       "    </tr>\n",
       "    <tr>\n",
       "      <th>5821</th>\n",
       "      <td>0</td>\n",
       "      <td>0</td>\n",
       "    </tr>\n",
       "    <tr>\n",
       "      <th>5822</th>\n",
       "      <td>0</td>\n",
       "      <td>0</td>\n",
       "    </tr>\n",
       "    <tr>\n",
       "      <th>5823</th>\n",
       "      <td>0</td>\n",
       "      <td>0</td>\n",
       "    </tr>\n",
       "    <tr>\n",
       "      <th>5824</th>\n",
       "      <td>0</td>\n",
       "      <td>0</td>\n",
       "    </tr>\n",
       "    <tr>\n",
       "      <th>5825</th>\n",
       "      <td>0</td>\n",
       "      <td>0</td>\n",
       "    </tr>\n",
       "    <tr>\n",
       "      <th>5826</th>\n",
       "      <td>1</td>\n",
       "      <td>0</td>\n",
       "    </tr>\n",
       "    <tr>\n",
       "      <th>5827</th>\n",
       "      <td>0</td>\n",
       "      <td>0</td>\n",
       "    </tr>\n",
       "    <tr>\n",
       "      <th>5828</th>\n",
       "      <td>0</td>\n",
       "      <td>0</td>\n",
       "    </tr>\n",
       "    <tr>\n",
       "      <th>5829</th>\n",
       "      <td>0</td>\n",
       "      <td>0</td>\n",
       "    </tr>\n",
       "    <tr>\n",
       "      <th>5830</th>\n",
       "      <td>0</td>\n",
       "      <td>0</td>\n",
       "    </tr>\n",
       "    <tr>\n",
       "      <th>5831</th>\n",
       "      <td>0</td>\n",
       "      <td>0</td>\n",
       "    </tr>\n",
       "    <tr>\n",
       "      <th>5832</th>\n",
       "      <td>0</td>\n",
       "      <td>0</td>\n",
       "    </tr>\n",
       "    <tr>\n",
       "      <th>5833</th>\n",
       "      <td>0</td>\n",
       "      <td>0</td>\n",
       "    </tr>\n",
       "    <tr>\n",
       "      <th>5834</th>\n",
       "      <td>0</td>\n",
       "      <td>0</td>\n",
       "    </tr>\n",
       "    <tr>\n",
       "      <th>5835</th>\n",
       "      <td>0</td>\n",
       "      <td>0</td>\n",
       "    </tr>\n",
       "    <tr>\n",
       "      <th>5836</th>\n",
       "      <td>0</td>\n",
       "      <td>0</td>\n",
       "    </tr>\n",
       "    <tr>\n",
       "      <th>5837</th>\n",
       "      <td>0</td>\n",
       "      <td>0</td>\n",
       "    </tr>\n",
       "    <tr>\n",
       "      <th>5838</th>\n",
       "      <td>0</td>\n",
       "      <td>0</td>\n",
       "    </tr>\n",
       "    <tr>\n",
       "      <th>5839</th>\n",
       "      <td>0</td>\n",
       "      <td>0</td>\n",
       "    </tr>\n",
       "    <tr>\n",
       "      <th>5840</th>\n",
       "      <td>0</td>\n",
       "      <td>0</td>\n",
       "    </tr>\n",
       "    <tr>\n",
       "      <th>5841</th>\n",
       "      <td>0</td>\n",
       "      <td>0</td>\n",
       "    </tr>\n",
       "    <tr>\n",
       "      <th>5842</th>\n",
       "      <td>0</td>\n",
       "      <td>0</td>\n",
       "    </tr>\n",
       "    <tr>\n",
       "      <th>5843</th>\n",
       "      <td>0</td>\n",
       "      <td>0</td>\n",
       "    </tr>\n",
       "    <tr>\n",
       "      <th>5844</th>\n",
       "      <td>0</td>\n",
       "      <td>0</td>\n",
       "    </tr>\n",
       "    <tr>\n",
       "      <th>5845</th>\n",
       "      <td>0</td>\n",
       "      <td>0</td>\n",
       "    </tr>\n",
       "    <tr>\n",
       "      <th>5846</th>\n",
       "      <td>0</td>\n",
       "      <td>0</td>\n",
       "    </tr>\n",
       "    <tr>\n",
       "      <th>5847</th>\n",
       "      <td>0</td>\n",
       "      <td>0</td>\n",
       "    </tr>\n",
       "    <tr>\n",
       "      <th>5848</th>\n",
       "      <td>0</td>\n",
       "      <td>0</td>\n",
       "    </tr>\n",
       "    <tr>\n",
       "      <th>5849</th>\n",
       "      <td>0</td>\n",
       "      <td>0</td>\n",
       "    </tr>\n",
       "    <tr>\n",
       "      <th>5850</th>\n",
       "      <td>0</td>\n",
       "      <td>0</td>\n",
       "    </tr>\n",
       "  </tbody>\n",
       "</table>\n",
       "<p>5851 rows × 2 columns</p>\n",
       "</div>"
      ],
      "text/plain": [
       "      ActualClass  PredictedClass\n",
       "0               1               1\n",
       "1               0               0\n",
       "2               0               0\n",
       "3               0               0\n",
       "4               0               0\n",
       "5               0               0\n",
       "6               0               0\n",
       "7               0               0\n",
       "8               0               0\n",
       "9               0               0\n",
       "10              0               0\n",
       "11              0               0\n",
       "12              0               0\n",
       "13              1               1\n",
       "14              0               0\n",
       "15              0               0\n",
       "16              0               0\n",
       "17              0               0\n",
       "18              0               0\n",
       "19              0               0\n",
       "20              0               0\n",
       "21              0               0\n",
       "22              0               0\n",
       "23              0               0\n",
       "24              0               0\n",
       "25              1               1\n",
       "26              0               0\n",
       "27              0               0\n",
       "28              0               0\n",
       "29              0               0\n",
       "...           ...             ...\n",
       "5821            0               0\n",
       "5822            0               0\n",
       "5823            0               0\n",
       "5824            0               0\n",
       "5825            0               0\n",
       "5826            1               0\n",
       "5827            0               0\n",
       "5828            0               0\n",
       "5829            0               0\n",
       "5830            0               0\n",
       "5831            0               0\n",
       "5832            0               0\n",
       "5833            0               0\n",
       "5834            0               0\n",
       "5835            0               0\n",
       "5836            0               0\n",
       "5837            0               0\n",
       "5838            0               0\n",
       "5839            0               0\n",
       "5840            0               0\n",
       "5841            0               0\n",
       "5842            0               0\n",
       "5843            0               0\n",
       "5844            0               0\n",
       "5845            0               0\n",
       "5846            0               0\n",
       "5847            0               0\n",
       "5848            0               0\n",
       "5849            0               0\n",
       "5850            0               0\n",
       "\n",
       "[5851 rows x 2 columns]"
      ]
     },
     "execution_count": 383,
     "metadata": {},
     "output_type": "execute_result"
    }
   ],
   "source": [
    "df_true_vs_rfc_predicted = pd.DataFrame({'ActualClass': y, 'PredictedClass': predicted_class})\n",
    "df_true_vs_rfc_predicted"
   ]
  },
  {
   "cell_type": "code",
   "execution_count": 384,
   "metadata": {
    "collapsed": false
   },
   "outputs": [],
   "source": [
    "accuracy = metrics.accuracy_score(df_true_vs_rfc_predicted[\"ActualClass\"], df_true_vs_rfc_predicted[\"PredictedClass\"])\n",
    "confusion_matrix = metrics.confusion_matrix(df_true_vs_rfc_predicted[\"ActualClass\"], df_true_vs_rfc_predicted[\"PredictedClass\"])\n",
    "class_report = metrics.classification_report(df_true_vs_rfc_predicted[\"ActualClass\"], df_true_vs_rfc_predicted[\"PredictedClass\"])"
   ]
  },
  {
   "cell_type": "code",
   "execution_count": 385,
   "metadata": {
    "collapsed": false
   },
   "outputs": [
    {
     "name": "stdout",
     "output_type": "stream",
     "text": [
      "Accuracy:  0.988378055033\n",
      "Confusion matrix: \n",
      " [[5517   30]\n",
      " [  38  266]]\n",
      "Classification report:\n",
      "               precision    recall  f1-score   support\n",
      "\n",
      "          0       0.99      0.99      0.99      5547\n",
      "          1       0.90      0.88      0.89       304\n",
      "\n",
      "avg / total       0.99      0.99      0.99      5851\n",
      "\n"
     ]
    }
   ],
   "source": [
    "print(\"Accuracy: \", accuracy)\n",
    "print(\"Confusion matrix: \\n\", confusion_matrix)\n",
    "print(\"Classification report:\\n \", class_report)"
   ]
  },
  {
   "cell_type": "markdown",
   "metadata": {},
   "source": [
    "## Evaluation Analysis:\n",
    "\n",
    "1. Finally we can see some good results here with the Random Forest Model. The number of false positives is only 27 and the number of false negatives is only 36. The accuracy of the model is 99% which is excellent. This is definitely a much more effective model than either of the linear regression or logistic regression models that I tried. "
   ]
  },
  {
   "cell_type": "markdown",
   "metadata": {},
   "source": [
    "## 4.2 Print the features ranked by random forest importance. Discuss your findings and choose a subset of features you find promising. "
   ]
  },
  {
   "cell_type": "code",
   "execution_count": 386,
   "metadata": {
    "collapsed": false
   },
   "outputs": [
    {
     "data": {
      "text/plain": [
       "array([ 0.01298132,  0.86087813,  0.05273397,  0.07340657])"
      ]
     },
     "execution_count": 386,
     "metadata": {},
     "output_type": "execute_result"
    }
   ],
   "source": [
    "rfm.feature_importances_"
   ]
  },
  {
   "cell_type": "code",
   "execution_count": 387,
   "metadata": {
    "collapsed": false,
    "scrolled": true
   },
   "outputs": [
    {
     "data": {
      "image/png": "[encoded data removed]",
      "text/plain": [
       "<matplotlib.figure.Figure at 0x1146db9f6a0>"
      ]
     },
     "metadata": {},
     "output_type": "display_data"
    }
   ],
   "source": [
    "feature_importances = pd.Series(rfm.feature_importances_, index=X.columns)\n",
    "feature_importances.sort_values(inplace = True)\n",
    "feature_importances.plot(kind=\"barh\", figsize=(7, 6));"
   ]
  },
  {
   "cell_type": "markdown",
   "metadata": {},
   "source": [
    "### Evaluation of Feature Importance:\n",
    "\n",
    "Looking at the above graph we can clearly see that Listing Price has the highest ranking in terms of importance.\n",
    "\n",
    "Because there is such a massive difference in feature importance between Listing Price and the next feature I am going to try a very simple model with just listing price to see how that works. "
   ]
  },
  {
   "cell_type": "markdown",
   "metadata": {},
   "source": [
    "## 4.3 Retrain the model using only the subset of features found to be promising. Evaluate the quality of the model on the training set. "
   ]
  },
  {
   "cell_type": "code",
   "execution_count": 388,
   "metadata": {
    "collapsed": false
   },
   "outputs": [
    {
     "data": {
      "text/plain": [
       "Index(['IsWinner', 'IsFeaturedMerchant', 'ListingPrice',\n",
       "       'SellerFeedbackRating', 'ShipsFrom_BC', 'ShipsFrom_PA'],\n",
       "      dtype='object')"
      ]
     },
     "execution_count": 388,
     "metadata": {},
     "output_type": "execute_result"
    }
   ],
   "source": [
    "df.columns"
   ]
  },
  {
   "cell_type": "code",
   "execution_count": 389,
   "metadata": {
    "collapsed": false
   },
   "outputs": [
    {
     "name": "stderr",
     "output_type": "stream",
     "text": [
      "C:\\Users\\pamel\\Anaconda3\\lib\\site-packages\\sklearn\\ensemble\\forest.py:723: UserWarning: Some inputs do not have OOB scores. This probably means too few trees were used to compute any reliable oob estimates.\n",
      "  warn(\"Some inputs do not have OOB scores. \"\n"
     ]
    },
    {
     "data": {
      "text/plain": [
       "RandomForestRegressor(bootstrap=True, criterion='mse', max_depth=None,\n",
       "           max_features='auto', max_leaf_nodes=None,\n",
       "           min_impurity_split=1e-07, min_samples_leaf=1,\n",
       "           min_samples_split=2, min_weight_fraction_leaf=0.0,\n",
       "           n_estimators=10, n_jobs=1, oob_score=True, random_state=None,\n",
       "           verbose=0, warm_start=False)"
      ]
     },
     "execution_count": 389,
     "metadata": {},
     "output_type": "execute_result"
    }
   ],
   "source": [
    "df_rf = df[['IsWinner', 'ListingPrice']]\n",
    "feature_cols = [\"ListingPrice\"]\n",
    "X = df_rf[feature_cols]\n",
    "rfm2 = RandomForestRegressor(oob_score=True)\n",
    "rfm2.fit(X, y)"
   ]
  },
  {
   "cell_type": "code",
   "execution_count": 390,
   "metadata": {
    "collapsed": false
   },
   "outputs": [
    {
     "data": {
      "text/plain": [
       "0.00283005356181254"
      ]
     },
     "execution_count": 390,
     "metadata": {},
     "output_type": "execute_result"
    }
   ],
   "source": [
    "rfm2.oob_score_"
   ]
  },
  {
   "cell_type": "code",
   "execution_count": 391,
   "metadata": {
    "collapsed": false
   },
   "outputs": [
    {
     "name": "stdout",
     "output_type": "stream",
     "text": [
      "C-Stat:  0.739607054074\n"
     ]
    }
   ],
   "source": [
    "y_oob = rfm2.oob_prediction_\n",
    "print(\"C-Stat: \", roc_auc_score(y, y_oob))"
   ]
  },
  {
   "cell_type": "code",
   "execution_count": 392,
   "metadata": {
    "collapsed": true
   },
   "outputs": [],
   "source": [
    "rfc_predictions = rfm2.predict(X)\n",
    "predicted_class = list()\n",
    "for i in rfc_predictions:\n",
    "    if i >= 0.5:\n",
    "        predicted_class.append(1)\n",
    "    else:\n",
    "        predicted_class.append(0)"
   ]
  },
  {
   "cell_type": "code",
   "execution_count": 393,
   "metadata": {
    "collapsed": false
   },
   "outputs": [
    {
     "data": {
      "text/html": [
       "<div>\n",
       "<table border=\"1\" class=\"dataframe\">\n",
       "  <thead>\n",
       "    <tr style=\"text-align: right;\">\n",
       "      <th></th>\n",
       "      <th>ActualClass</th>\n",
       "      <th>PredictedClass</th>\n",
       "    </tr>\n",
       "  </thead>\n",
       "  <tbody>\n",
       "    <tr>\n",
       "      <th>0</th>\n",
       "      <td>1</td>\n",
       "      <td>1</td>\n",
       "    </tr>\n",
       "    <tr>\n",
       "      <th>1</th>\n",
       "      <td>0</td>\n",
       "      <td>0</td>\n",
       "    </tr>\n",
       "    <tr>\n",
       "      <th>2</th>\n",
       "      <td>0</td>\n",
       "      <td>0</td>\n",
       "    </tr>\n",
       "    <tr>\n",
       "      <th>3</th>\n",
       "      <td>0</td>\n",
       "      <td>0</td>\n",
       "    </tr>\n",
       "    <tr>\n",
       "      <th>4</th>\n",
       "      <td>0</td>\n",
       "      <td>0</td>\n",
       "    </tr>\n",
       "    <tr>\n",
       "      <th>5</th>\n",
       "      <td>0</td>\n",
       "      <td>0</td>\n",
       "    </tr>\n",
       "    <tr>\n",
       "      <th>6</th>\n",
       "      <td>0</td>\n",
       "      <td>0</td>\n",
       "    </tr>\n",
       "    <tr>\n",
       "      <th>7</th>\n",
       "      <td>0</td>\n",
       "      <td>0</td>\n",
       "    </tr>\n",
       "    <tr>\n",
       "      <th>8</th>\n",
       "      <td>0</td>\n",
       "      <td>0</td>\n",
       "    </tr>\n",
       "    <tr>\n",
       "      <th>9</th>\n",
       "      <td>0</td>\n",
       "      <td>0</td>\n",
       "    </tr>\n",
       "    <tr>\n",
       "      <th>10</th>\n",
       "      <td>0</td>\n",
       "      <td>0</td>\n",
       "    </tr>\n",
       "    <tr>\n",
       "      <th>11</th>\n",
       "      <td>0</td>\n",
       "      <td>0</td>\n",
       "    </tr>\n",
       "    <tr>\n",
       "      <th>12</th>\n",
       "      <td>0</td>\n",
       "      <td>0</td>\n",
       "    </tr>\n",
       "    <tr>\n",
       "      <th>13</th>\n",
       "      <td>1</td>\n",
       "      <td>1</td>\n",
       "    </tr>\n",
       "    <tr>\n",
       "      <th>14</th>\n",
       "      <td>0</td>\n",
       "      <td>0</td>\n",
       "    </tr>\n",
       "    <tr>\n",
       "      <th>15</th>\n",
       "      <td>0</td>\n",
       "      <td>0</td>\n",
       "    </tr>\n",
       "    <tr>\n",
       "      <th>16</th>\n",
       "      <td>0</td>\n",
       "      <td>0</td>\n",
       "    </tr>\n",
       "    <tr>\n",
       "      <th>17</th>\n",
       "      <td>0</td>\n",
       "      <td>0</td>\n",
       "    </tr>\n",
       "    <tr>\n",
       "      <th>18</th>\n",
       "      <td>0</td>\n",
       "      <td>0</td>\n",
       "    </tr>\n",
       "    <tr>\n",
       "      <th>19</th>\n",
       "      <td>0</td>\n",
       "      <td>0</td>\n",
       "    </tr>\n",
       "    <tr>\n",
       "      <th>20</th>\n",
       "      <td>0</td>\n",
       "      <td>0</td>\n",
       "    </tr>\n",
       "    <tr>\n",
       "      <th>21</th>\n",
       "      <td>0</td>\n",
       "      <td>0</td>\n",
       "    </tr>\n",
       "    <tr>\n",
       "      <th>22</th>\n",
       "      <td>0</td>\n",
       "      <td>0</td>\n",
       "    </tr>\n",
       "    <tr>\n",
       "      <th>23</th>\n",
       "      <td>0</td>\n",
       "      <td>0</td>\n",
       "    </tr>\n",
       "    <tr>\n",
       "      <th>24</th>\n",
       "      <td>0</td>\n",
       "      <td>0</td>\n",
       "    </tr>\n",
       "    <tr>\n",
       "      <th>25</th>\n",
       "      <td>1</td>\n",
       "      <td>1</td>\n",
       "    </tr>\n",
       "    <tr>\n",
       "      <th>26</th>\n",
       "      <td>0</td>\n",
       "      <td>0</td>\n",
       "    </tr>\n",
       "    <tr>\n",
       "      <th>27</th>\n",
       "      <td>0</td>\n",
       "      <td>0</td>\n",
       "    </tr>\n",
       "    <tr>\n",
       "      <th>28</th>\n",
       "      <td>0</td>\n",
       "      <td>0</td>\n",
       "    </tr>\n",
       "    <tr>\n",
       "      <th>29</th>\n",
       "      <td>0</td>\n",
       "      <td>0</td>\n",
       "    </tr>\n",
       "    <tr>\n",
       "      <th>...</th>\n",
       "      <td>...</td>\n",
       "      <td>...</td>\n",
       "    </tr>\n",
       "    <tr>\n",
       "      <th>5821</th>\n",
       "      <td>0</td>\n",
       "      <td>0</td>\n",
       "    </tr>\n",
       "    <tr>\n",
       "      <th>5822</th>\n",
       "      <td>0</td>\n",
       "      <td>0</td>\n",
       "    </tr>\n",
       "    <tr>\n",
       "      <th>5823</th>\n",
       "      <td>0</td>\n",
       "      <td>0</td>\n",
       "    </tr>\n",
       "    <tr>\n",
       "      <th>5824</th>\n",
       "      <td>0</td>\n",
       "      <td>0</td>\n",
       "    </tr>\n",
       "    <tr>\n",
       "      <th>5825</th>\n",
       "      <td>0</td>\n",
       "      <td>0</td>\n",
       "    </tr>\n",
       "    <tr>\n",
       "      <th>5826</th>\n",
       "      <td>1</td>\n",
       "      <td>0</td>\n",
       "    </tr>\n",
       "    <tr>\n",
       "      <th>5827</th>\n",
       "      <td>0</td>\n",
       "      <td>0</td>\n",
       "    </tr>\n",
       "    <tr>\n",
       "      <th>5828</th>\n",
       "      <td>0</td>\n",
       "      <td>0</td>\n",
       "    </tr>\n",
       "    <tr>\n",
       "      <th>5829</th>\n",
       "      <td>0</td>\n",
       "      <td>0</td>\n",
       "    </tr>\n",
       "    <tr>\n",
       "      <th>5830</th>\n",
       "      <td>0</td>\n",
       "      <td>0</td>\n",
       "    </tr>\n",
       "    <tr>\n",
       "      <th>5831</th>\n",
       "      <td>0</td>\n",
       "      <td>0</td>\n",
       "    </tr>\n",
       "    <tr>\n",
       "      <th>5832</th>\n",
       "      <td>0</td>\n",
       "      <td>0</td>\n",
       "    </tr>\n",
       "    <tr>\n",
       "      <th>5833</th>\n",
       "      <td>0</td>\n",
       "      <td>0</td>\n",
       "    </tr>\n",
       "    <tr>\n",
       "      <th>5834</th>\n",
       "      <td>0</td>\n",
       "      <td>0</td>\n",
       "    </tr>\n",
       "    <tr>\n",
       "      <th>5835</th>\n",
       "      <td>0</td>\n",
       "      <td>0</td>\n",
       "    </tr>\n",
       "    <tr>\n",
       "      <th>5836</th>\n",
       "      <td>0</td>\n",
       "      <td>0</td>\n",
       "    </tr>\n",
       "    <tr>\n",
       "      <th>5837</th>\n",
       "      <td>0</td>\n",
       "      <td>0</td>\n",
       "    </tr>\n",
       "    <tr>\n",
       "      <th>5838</th>\n",
       "      <td>0</td>\n",
       "      <td>0</td>\n",
       "    </tr>\n",
       "    <tr>\n",
       "      <th>5839</th>\n",
       "      <td>0</td>\n",
       "      <td>0</td>\n",
       "    </tr>\n",
       "    <tr>\n",
       "      <th>5840</th>\n",
       "      <td>0</td>\n",
       "      <td>0</td>\n",
       "    </tr>\n",
       "    <tr>\n",
       "      <th>5841</th>\n",
       "      <td>0</td>\n",
       "      <td>0</td>\n",
       "    </tr>\n",
       "    <tr>\n",
       "      <th>5842</th>\n",
       "      <td>0</td>\n",
       "      <td>0</td>\n",
       "    </tr>\n",
       "    <tr>\n",
       "      <th>5843</th>\n",
       "      <td>0</td>\n",
       "      <td>0</td>\n",
       "    </tr>\n",
       "    <tr>\n",
       "      <th>5844</th>\n",
       "      <td>0</td>\n",
       "      <td>0</td>\n",
       "    </tr>\n",
       "    <tr>\n",
       "      <th>5845</th>\n",
       "      <td>0</td>\n",
       "      <td>0</td>\n",
       "    </tr>\n",
       "    <tr>\n",
       "      <th>5846</th>\n",
       "      <td>0</td>\n",
       "      <td>0</td>\n",
       "    </tr>\n",
       "    <tr>\n",
       "      <th>5847</th>\n",
       "      <td>0</td>\n",
       "      <td>0</td>\n",
       "    </tr>\n",
       "    <tr>\n",
       "      <th>5848</th>\n",
       "      <td>0</td>\n",
       "      <td>0</td>\n",
       "    </tr>\n",
       "    <tr>\n",
       "      <th>5849</th>\n",
       "      <td>0</td>\n",
       "      <td>0</td>\n",
       "    </tr>\n",
       "    <tr>\n",
       "      <th>5850</th>\n",
       "      <td>0</td>\n",
       "      <td>0</td>\n",
       "    </tr>\n",
       "  </tbody>\n",
       "</table>\n",
       "<p>5851 rows × 2 columns</p>\n",
       "</div>"
      ],
      "text/plain": [
       "      ActualClass  PredictedClass\n",
       "0               1               1\n",
       "1               0               0\n",
       "2               0               0\n",
       "3               0               0\n",
       "4               0               0\n",
       "5               0               0\n",
       "6               0               0\n",
       "7               0               0\n",
       "8               0               0\n",
       "9               0               0\n",
       "10              0               0\n",
       "11              0               0\n",
       "12              0               0\n",
       "13              1               1\n",
       "14              0               0\n",
       "15              0               0\n",
       "16              0               0\n",
       "17              0               0\n",
       "18              0               0\n",
       "19              0               0\n",
       "20              0               0\n",
       "21              0               0\n",
       "22              0               0\n",
       "23              0               0\n",
       "24              0               0\n",
       "25              1               1\n",
       "26              0               0\n",
       "27              0               0\n",
       "28              0               0\n",
       "29              0               0\n",
       "...           ...             ...\n",
       "5821            0               0\n",
       "5822            0               0\n",
       "5823            0               0\n",
       "5824            0               0\n",
       "5825            0               0\n",
       "5826            1               0\n",
       "5827            0               0\n",
       "5828            0               0\n",
       "5829            0               0\n",
       "5830            0               0\n",
       "5831            0               0\n",
       "5832            0               0\n",
       "5833            0               0\n",
       "5834            0               0\n",
       "5835            0               0\n",
       "5836            0               0\n",
       "5837            0               0\n",
       "5838            0               0\n",
       "5839            0               0\n",
       "5840            0               0\n",
       "5841            0               0\n",
       "5842            0               0\n",
       "5843            0               0\n",
       "5844            0               0\n",
       "5845            0               0\n",
       "5846            0               0\n",
       "5847            0               0\n",
       "5848            0               0\n",
       "5849            0               0\n",
       "5850            0               0\n",
       "\n",
       "[5851 rows x 2 columns]"
      ]
     },
     "execution_count": 393,
     "metadata": {},
     "output_type": "execute_result"
    }
   ],
   "source": [
    "df_true_vs_rfc_predicted = pd.DataFrame({'ActualClass': y, 'PredictedClass': result})\n",
    "df_true_vs_rfc_predicted"
   ]
  },
  {
   "cell_type": "code",
   "execution_count": 394,
   "metadata": {
    "collapsed": false
   },
   "outputs": [],
   "source": [
    "accuracy = metrics.accuracy_score(df_true_vs_rfc_predicted[\"ActualClass\"], df_true_vs_rfc_predicted[\"PredictedClass\"])\n",
    "confusion_matrix = metrics.confusion_matrix(df_true_vs_rfc_predicted[\"ActualClass\"], df_true_vs_rfc_predicted[\"PredictedClass\"])\n",
    "class_report = metrics.classification_report(df_true_vs_rfc_predicted[\"ActualClass\"], df_true_vs_rfc_predicted[\"PredictedClass\"])"
   ]
  },
  {
   "cell_type": "code",
   "execution_count": 395,
   "metadata": {
    "collapsed": false
   },
   "outputs": [
    {
     "name": "stdout",
     "output_type": "stream",
     "text": [
      "Accuracy:  0.983421637327\n",
      "Confusion matrix: \n",
      " [[5506   41]\n",
      " [  56  248]]\n",
      "Classification report:\n",
      "               precision    recall  f1-score   support\n",
      "\n",
      "          0       0.99      0.99      0.99      5547\n",
      "          1       0.86      0.82      0.84       304\n",
      "\n",
      "avg / total       0.98      0.98      0.98      5851\n",
      "\n"
     ]
    }
   ],
   "source": [
    "print(\"Accuracy: \", accuracy)\n",
    "print(\"Confusion matrix: \\n\", confusion_matrix)\n",
    "print(\"Classification report:\\n \", class_report)"
   ]
  },
  {
   "cell_type": "markdown",
   "metadata": {},
   "source": [
    "## Evaluation Analysis: \n",
    "\n",
    "1. This model is slightly worse than the previous one - it is only 98% accurate and has a slightly higher number of false positives and false negatives. Although it is still much more effective than either of the linear regression or logistic regression models. "
   ]
  },
  {
   "cell_type": "markdown",
   "metadata": {},
   "source": [
    "## 4.4 Using the better model (as per evaluation on training set), print the predicted target feature value for all the examples in the training set. Print the predicted class for each example. "
   ]
  },
  {
   "cell_type": "code",
   "execution_count": 396,
   "metadata": {
    "collapsed": false
   },
   "outputs": [
    {
     "name": "stderr",
     "output_type": "stream",
     "text": [
      "C:\\Users\\pamel\\Anaconda3\\lib\\site-packages\\sklearn\\ensemble\\forest.py:723: UserWarning: Some inputs do not have OOB scores. This probably means too few trees were used to compute any reliable oob estimates.\n",
      "  warn(\"Some inputs do not have OOB scores. \"\n"
     ]
    },
    {
     "data": {
      "text/plain": [
       "array([ 1.,  0.,  0., ...,  0.,  0.,  0.])"
      ]
     },
     "execution_count": 396,
     "metadata": {},
     "output_type": "execute_result"
    }
   ],
   "source": [
    "# The first Random Forest Model was more effective so we will use this one to print the predicted target feature\n",
    "feature_cols = ['IsFeaturedMerchant', 'ListingPrice', 'SellerFeedbackRating', 'ShipsFrom_BC']\n",
    "X = df[feature_cols]\n",
    "y = df.IsWinner\n",
    "rfm = RandomForestRegressor(oob_score=True)\n",
    "rfm.fit(X, y)\n",
    "rfc_predictions = rfm.predict(X)\n",
    "rfc_predictions"
   ]
  },
  {
   "cell_type": "code",
   "execution_count": 397,
   "metadata": {
    "collapsed": false
   },
   "outputs": [
    {
     "data": {
      "text/html": [
       "<div>\n",
       "<table border=\"1\" class=\"dataframe\">\n",
       "  <thead>\n",
       "    <tr style=\"text-align: right;\">\n",
       "      <th></th>\n",
       "      <th>ActualClass</th>\n",
       "      <th>PredictedClass</th>\n",
       "    </tr>\n",
       "  </thead>\n",
       "  <tbody>\n",
       "    <tr>\n",
       "      <th>0</th>\n",
       "      <td>1</td>\n",
       "      <td>1.000000</td>\n",
       "    </tr>\n",
       "    <tr>\n",
       "      <th>1</th>\n",
       "      <td>0</td>\n",
       "      <td>0.000000</td>\n",
       "    </tr>\n",
       "    <tr>\n",
       "      <th>2</th>\n",
       "      <td>0</td>\n",
       "      <td>0.000000</td>\n",
       "    </tr>\n",
       "    <tr>\n",
       "      <th>3</th>\n",
       "      <td>0</td>\n",
       "      <td>0.000000</td>\n",
       "    </tr>\n",
       "    <tr>\n",
       "      <th>4</th>\n",
       "      <td>0</td>\n",
       "      <td>0.000000</td>\n",
       "    </tr>\n",
       "    <tr>\n",
       "      <th>5</th>\n",
       "      <td>0</td>\n",
       "      <td>0.000000</td>\n",
       "    </tr>\n",
       "    <tr>\n",
       "      <th>6</th>\n",
       "      <td>0</td>\n",
       "      <td>0.000000</td>\n",
       "    </tr>\n",
       "    <tr>\n",
       "      <th>7</th>\n",
       "      <td>0</td>\n",
       "      <td>0.000000</td>\n",
       "    </tr>\n",
       "    <tr>\n",
       "      <th>8</th>\n",
       "      <td>0</td>\n",
       "      <td>0.000000</td>\n",
       "    </tr>\n",
       "    <tr>\n",
       "      <th>9</th>\n",
       "      <td>0</td>\n",
       "      <td>0.300000</td>\n",
       "    </tr>\n",
       "    <tr>\n",
       "      <th>10</th>\n",
       "      <td>0</td>\n",
       "      <td>0.000000</td>\n",
       "    </tr>\n",
       "    <tr>\n",
       "      <th>11</th>\n",
       "      <td>0</td>\n",
       "      <td>0.000000</td>\n",
       "    </tr>\n",
       "    <tr>\n",
       "      <th>12</th>\n",
       "      <td>0</td>\n",
       "      <td>0.000000</td>\n",
       "    </tr>\n",
       "    <tr>\n",
       "      <th>13</th>\n",
       "      <td>1</td>\n",
       "      <td>1.000000</td>\n",
       "    </tr>\n",
       "    <tr>\n",
       "      <th>14</th>\n",
       "      <td>0</td>\n",
       "      <td>0.000000</td>\n",
       "    </tr>\n",
       "    <tr>\n",
       "      <th>15</th>\n",
       "      <td>0</td>\n",
       "      <td>0.000000</td>\n",
       "    </tr>\n",
       "    <tr>\n",
       "      <th>16</th>\n",
       "      <td>0</td>\n",
       "      <td>0.000000</td>\n",
       "    </tr>\n",
       "    <tr>\n",
       "      <th>17</th>\n",
       "      <td>0</td>\n",
       "      <td>0.000000</td>\n",
       "    </tr>\n",
       "    <tr>\n",
       "      <th>18</th>\n",
       "      <td>0</td>\n",
       "      <td>0.000000</td>\n",
       "    </tr>\n",
       "    <tr>\n",
       "      <th>19</th>\n",
       "      <td>0</td>\n",
       "      <td>0.000000</td>\n",
       "    </tr>\n",
       "    <tr>\n",
       "      <th>20</th>\n",
       "      <td>0</td>\n",
       "      <td>0.000000</td>\n",
       "    </tr>\n",
       "    <tr>\n",
       "      <th>21</th>\n",
       "      <td>0</td>\n",
       "      <td>0.000000</td>\n",
       "    </tr>\n",
       "    <tr>\n",
       "      <th>22</th>\n",
       "      <td>0</td>\n",
       "      <td>0.000000</td>\n",
       "    </tr>\n",
       "    <tr>\n",
       "      <th>23</th>\n",
       "      <td>0</td>\n",
       "      <td>0.000000</td>\n",
       "    </tr>\n",
       "    <tr>\n",
       "      <th>24</th>\n",
       "      <td>0</td>\n",
       "      <td>0.000000</td>\n",
       "    </tr>\n",
       "    <tr>\n",
       "      <th>25</th>\n",
       "      <td>1</td>\n",
       "      <td>0.800000</td>\n",
       "    </tr>\n",
       "    <tr>\n",
       "      <th>26</th>\n",
       "      <td>0</td>\n",
       "      <td>0.000000</td>\n",
       "    </tr>\n",
       "    <tr>\n",
       "      <th>27</th>\n",
       "      <td>0</td>\n",
       "      <td>0.000000</td>\n",
       "    </tr>\n",
       "    <tr>\n",
       "      <th>28</th>\n",
       "      <td>0</td>\n",
       "      <td>0.000000</td>\n",
       "    </tr>\n",
       "    <tr>\n",
       "      <th>29</th>\n",
       "      <td>0</td>\n",
       "      <td>0.000000</td>\n",
       "    </tr>\n",
       "    <tr>\n",
       "      <th>...</th>\n",
       "      <td>...</td>\n",
       "      <td>...</td>\n",
       "    </tr>\n",
       "    <tr>\n",
       "      <th>5821</th>\n",
       "      <td>0</td>\n",
       "      <td>0.000000</td>\n",
       "    </tr>\n",
       "    <tr>\n",
       "      <th>5822</th>\n",
       "      <td>0</td>\n",
       "      <td>0.000000</td>\n",
       "    </tr>\n",
       "    <tr>\n",
       "      <th>5823</th>\n",
       "      <td>0</td>\n",
       "      <td>0.000000</td>\n",
       "    </tr>\n",
       "    <tr>\n",
       "      <th>5824</th>\n",
       "      <td>0</td>\n",
       "      <td>0.000000</td>\n",
       "    </tr>\n",
       "    <tr>\n",
       "      <th>5825</th>\n",
       "      <td>0</td>\n",
       "      <td>0.000000</td>\n",
       "    </tr>\n",
       "    <tr>\n",
       "      <th>5826</th>\n",
       "      <td>1</td>\n",
       "      <td>0.578333</td>\n",
       "    </tr>\n",
       "    <tr>\n",
       "      <th>5827</th>\n",
       "      <td>0</td>\n",
       "      <td>0.000000</td>\n",
       "    </tr>\n",
       "    <tr>\n",
       "      <th>5828</th>\n",
       "      <td>0</td>\n",
       "      <td>0.000000</td>\n",
       "    </tr>\n",
       "    <tr>\n",
       "      <th>5829</th>\n",
       "      <td>0</td>\n",
       "      <td>0.000000</td>\n",
       "    </tr>\n",
       "    <tr>\n",
       "      <th>5830</th>\n",
       "      <td>0</td>\n",
       "      <td>0.000000</td>\n",
       "    </tr>\n",
       "    <tr>\n",
       "      <th>5831</th>\n",
       "      <td>0</td>\n",
       "      <td>0.000000</td>\n",
       "    </tr>\n",
       "    <tr>\n",
       "      <th>5832</th>\n",
       "      <td>0</td>\n",
       "      <td>0.000000</td>\n",
       "    </tr>\n",
       "    <tr>\n",
       "      <th>5833</th>\n",
       "      <td>0</td>\n",
       "      <td>0.000000</td>\n",
       "    </tr>\n",
       "    <tr>\n",
       "      <th>5834</th>\n",
       "      <td>0</td>\n",
       "      <td>0.000000</td>\n",
       "    </tr>\n",
       "    <tr>\n",
       "      <th>5835</th>\n",
       "      <td>0</td>\n",
       "      <td>0.000000</td>\n",
       "    </tr>\n",
       "    <tr>\n",
       "      <th>5836</th>\n",
       "      <td>0</td>\n",
       "      <td>0.000000</td>\n",
       "    </tr>\n",
       "    <tr>\n",
       "      <th>5837</th>\n",
       "      <td>0</td>\n",
       "      <td>0.000000</td>\n",
       "    </tr>\n",
       "    <tr>\n",
       "      <th>5838</th>\n",
       "      <td>0</td>\n",
       "      <td>0.000000</td>\n",
       "    </tr>\n",
       "    <tr>\n",
       "      <th>5839</th>\n",
       "      <td>0</td>\n",
       "      <td>0.578333</td>\n",
       "    </tr>\n",
       "    <tr>\n",
       "      <th>5840</th>\n",
       "      <td>0</td>\n",
       "      <td>0.000000</td>\n",
       "    </tr>\n",
       "    <tr>\n",
       "      <th>5841</th>\n",
       "      <td>0</td>\n",
       "      <td>0.000000</td>\n",
       "    </tr>\n",
       "    <tr>\n",
       "      <th>5842</th>\n",
       "      <td>0</td>\n",
       "      <td>0.000000</td>\n",
       "    </tr>\n",
       "    <tr>\n",
       "      <th>5843</th>\n",
       "      <td>0</td>\n",
       "      <td>0.000000</td>\n",
       "    </tr>\n",
       "    <tr>\n",
       "      <th>5844</th>\n",
       "      <td>0</td>\n",
       "      <td>0.000000</td>\n",
       "    </tr>\n",
       "    <tr>\n",
       "      <th>5845</th>\n",
       "      <td>0</td>\n",
       "      <td>0.000000</td>\n",
       "    </tr>\n",
       "    <tr>\n",
       "      <th>5846</th>\n",
       "      <td>0</td>\n",
       "      <td>0.000000</td>\n",
       "    </tr>\n",
       "    <tr>\n",
       "      <th>5847</th>\n",
       "      <td>0</td>\n",
       "      <td>0.000000</td>\n",
       "    </tr>\n",
       "    <tr>\n",
       "      <th>5848</th>\n",
       "      <td>0</td>\n",
       "      <td>0.000000</td>\n",
       "    </tr>\n",
       "    <tr>\n",
       "      <th>5849</th>\n",
       "      <td>0</td>\n",
       "      <td>0.000000</td>\n",
       "    </tr>\n",
       "    <tr>\n",
       "      <th>5850</th>\n",
       "      <td>0</td>\n",
       "      <td>0.000000</td>\n",
       "    </tr>\n",
       "  </tbody>\n",
       "</table>\n",
       "<p>5851 rows × 2 columns</p>\n",
       "</div>"
      ],
      "text/plain": [
       "      ActualClass  PredictedClass\n",
       "0               1        1.000000\n",
       "1               0        0.000000\n",
       "2               0        0.000000\n",
       "3               0        0.000000\n",
       "4               0        0.000000\n",
       "5               0        0.000000\n",
       "6               0        0.000000\n",
       "7               0        0.000000\n",
       "8               0        0.000000\n",
       "9               0        0.300000\n",
       "10              0        0.000000\n",
       "11              0        0.000000\n",
       "12              0        0.000000\n",
       "13              1        1.000000\n",
       "14              0        0.000000\n",
       "15              0        0.000000\n",
       "16              0        0.000000\n",
       "17              0        0.000000\n",
       "18              0        0.000000\n",
       "19              0        0.000000\n",
       "20              0        0.000000\n",
       "21              0        0.000000\n",
       "22              0        0.000000\n",
       "23              0        0.000000\n",
       "24              0        0.000000\n",
       "25              1        0.800000\n",
       "26              0        0.000000\n",
       "27              0        0.000000\n",
       "28              0        0.000000\n",
       "29              0        0.000000\n",
       "...           ...             ...\n",
       "5821            0        0.000000\n",
       "5822            0        0.000000\n",
       "5823            0        0.000000\n",
       "5824            0        0.000000\n",
       "5825            0        0.000000\n",
       "5826            1        0.578333\n",
       "5827            0        0.000000\n",
       "5828            0        0.000000\n",
       "5829            0        0.000000\n",
       "5830            0        0.000000\n",
       "5831            0        0.000000\n",
       "5832            0        0.000000\n",
       "5833            0        0.000000\n",
       "5834            0        0.000000\n",
       "5835            0        0.000000\n",
       "5836            0        0.000000\n",
       "5837            0        0.000000\n",
       "5838            0        0.000000\n",
       "5839            0        0.578333\n",
       "5840            0        0.000000\n",
       "5841            0        0.000000\n",
       "5842            0        0.000000\n",
       "5843            0        0.000000\n",
       "5844            0        0.000000\n",
       "5845            0        0.000000\n",
       "5846            0        0.000000\n",
       "5847            0        0.000000\n",
       "5848            0        0.000000\n",
       "5849            0        0.000000\n",
       "5850            0        0.000000\n",
       "\n",
       "[5851 rows x 2 columns]"
      ]
     },
     "execution_count": 397,
     "metadata": {},
     "output_type": "execute_result"
    }
   ],
   "source": [
    "# Slightly nicer display of the predictions\n",
    "df_true_vs_rfc2_predicted = pd.DataFrame({'ActualClass': y, 'PredictedClass': rfc_predictions})\n",
    "df_true_vs_rfc2_predicted"
   ]
  },
  {
   "cell_type": "markdown",
   "metadata": {},
   "source": [
    "# Question 5: Evaluating Predictive Models\n"
   ]
  },
  {
   "cell_type": "markdown",
   "metadata": {},
   "source": [
    "## 5.1 Split the dataset into 70% training and remaining 30% test. Train all models from the previous exercises using the new training set and evaluate their quality on the new test set. Print classification evaluation metrics for all models on the test set (e.g., Accuracy, Confusion matrix, Precision, Recall, F1). Discuss how does evaluation on the test set compare to evaluation using the full data for training and also for testing. "
   ]
  },
  {
   "cell_type": "markdown",
   "metadata": {},
   "source": [
    "## Splitting the Data into Training and Test Sets: "
   ]
  },
  {
   "cell_type": "code",
   "execution_count": 398,
   "metadata": {
    "collapsed": false
   },
   "outputs": [],
   "source": [
    "feature_cols = ['IsFeaturedMerchant', 'ListingPrice', 'SellerFeedbackRating', 'ShipsFrom_BC', 'ShipsFrom_PA']\n",
    "X = df[feature_cols]\n",
    "X.columns\n",
    "\n",
    "X_train, X_test, y_train, y_test = train_test_split(X, y, test_size=0.3)\n",
    "\n",
    "#print(\"Training data:\\n\", pd.concat([X_train, y_train], axis=1))\n",
    "#print(\"\\nTest data:\\n\", pd.concat([X_test, y_test], axis=1))"
   ]
  },
  {
   "cell_type": "markdown",
   "metadata": {},
   "source": [
    "### Linear Regression Model 1: "
   ]
  },
  {
   "cell_type": "code",
   "execution_count": 399,
   "metadata": {
    "collapsed": false
   },
   "outputs": [],
   "source": [
    "#train the model on the training set\n",
    "df_linear = pd.concat([X_train, y_train], axis = 1)\n",
    "lm = sm.ols(formula = \"IsWinner ~ IsFeaturedMerchant + ListingPrice + SellerFeedbackRating + ShipsFrom_BC + ShipsFrom_PA\", data=df_linear).fit()"
   ]
  },
  {
   "cell_type": "code",
   "execution_count": 400,
   "metadata": {
    "collapsed": false
   },
   "outputs": [
    {
     "data": {
      "text/html": [
       "<table class=\"simpletable\">\n",
       "<caption>OLS Regression Results</caption>\n",
       "<tr>\n",
       "  <th>Dep. Variable:</th>        <td>IsWinner</td>     <th>  R-squared:         </th> <td>   0.095</td>\n",
       "</tr>\n",
       "<tr>\n",
       "  <th>Model:</th>                   <td>OLS</td>       <th>  Adj. R-squared:    </th> <td>   0.094</td>\n",
       "</tr>\n",
       "<tr>\n",
       "  <th>Method:</th>             <td>Least Squares</td>  <th>  F-statistic:       </th> <td>   86.10</td>\n",
       "</tr>\n",
       "<tr>\n",
       "  <th>Date:</th>             <td>Tue, 18 Apr 2017</td> <th>  Prob (F-statistic):</th> <td>2.71e-86</td>\n",
       "</tr>\n",
       "<tr>\n",
       "  <th>Time:</th>                 <td>22:10:36</td>     <th>  Log-Likelihood:    </th> <td>  529.60</td>\n",
       "</tr>\n",
       "<tr>\n",
       "  <th>No. Observations:</th>      <td>  4095</td>      <th>  AIC:               </th> <td>  -1047.</td>\n",
       "</tr>\n",
       "<tr>\n",
       "  <th>Df Residuals:</th>          <td>  4089</td>      <th>  BIC:               </th> <td>  -1009.</td>\n",
       "</tr>\n",
       "<tr>\n",
       "  <th>Df Model:</th>              <td>     5</td>      <th>                     </th>     <td> </td>   \n",
       "</tr>\n",
       "<tr>\n",
       "  <th>Covariance Type:</th>      <td>nonrobust</td>    <th>                     </th>     <td> </td>   \n",
       "</tr>\n",
       "</table>\n",
       "<table class=\"simpletable\">\n",
       "<tr>\n",
       "            <td></td>              <th>coef</th>     <th>std err</th>      <th>t</th>      <th>P>|t|</th> <th>[95.0% Conf. Int.]</th> \n",
       "</tr>\n",
       "<tr>\n",
       "  <th>Intercept</th>            <td>    0.0050</td> <td>    0.026</td> <td>    0.197</td> <td> 0.844</td> <td>   -0.045     0.055</td>\n",
       "</tr>\n",
       "<tr>\n",
       "  <th>IsFeaturedMerchant</th>   <td>    0.0497</td> <td>    0.008</td> <td>    5.904</td> <td> 0.000</td> <td>    0.033     0.066</td>\n",
       "</tr>\n",
       "<tr>\n",
       "  <th>ListingPrice</th>         <td>-9.272e-07</td> <td> 1.34e-05</td> <td>   -0.069</td> <td> 0.945</td> <td>-2.72e-05  2.53e-05</td>\n",
       "</tr>\n",
       "<tr>\n",
       "  <th>SellerFeedbackRating</th> <td>-5.947e-05</td> <td>    0.000</td> <td>   -0.212</td> <td> 0.832</td> <td>   -0.001     0.000</td>\n",
       "</tr>\n",
       "<tr>\n",
       "  <th>ShipsFrom_BC</th>         <td>    0.2862</td> <td>    0.015</td> <td>   18.911</td> <td> 0.000</td> <td>    0.257     0.316</td>\n",
       "</tr>\n",
       "<tr>\n",
       "  <th>ShipsFrom_PA</th>         <td>   -0.0040</td> <td>    0.125</td> <td>   -0.032</td> <td> 0.974</td> <td>   -0.248     0.240</td>\n",
       "</tr>\n",
       "</table>\n",
       "<table class=\"simpletable\">\n",
       "<tr>\n",
       "  <th>Omnibus:</th>       <td>3005.347</td> <th>  Durbin-Watson:     </th> <td>   1.999</td> \n",
       "</tr>\n",
       "<tr>\n",
       "  <th>Prob(Omnibus):</th>  <td> 0.000</td>  <th>  Jarque-Bera (JB):  </th> <td>37697.015</td>\n",
       "</tr>\n",
       "<tr>\n",
       "  <th>Skew:</th>           <td> 3.557</td>  <th>  Prob(JB):          </th> <td>    0.00</td> \n",
       "</tr>\n",
       "<tr>\n",
       "  <th>Kurtosis:</th>       <td>16.051</td>  <th>  Cond. No.          </th> <td>1.24e+04</td> \n",
       "</tr>\n",
       "</table>"
      ],
      "text/plain": [
       "<class 'statsmodels.iolib.summary.Summary'>\n",
       "\"\"\"\n",
       "                            OLS Regression Results                            \n",
       "==============================================================================\n",
       "Dep. Variable:               IsWinner   R-squared:                       0.095\n",
       "Model:                            OLS   Adj. R-squared:                  0.094\n",
       "Method:                 Least Squares   F-statistic:                     86.10\n",
       "Date:                Tue, 18 Apr 2017   Prob (F-statistic):           2.71e-86\n",
       "Time:                        22:10:36   Log-Likelihood:                 529.60\n",
       "No. Observations:                4095   AIC:                            -1047.\n",
       "Df Residuals:                    4089   BIC:                            -1009.\n",
       "Df Model:                           5                                         \n",
       "Covariance Type:            nonrobust                                         \n",
       "========================================================================================\n",
       "                           coef    std err          t      P>|t|      [95.0% Conf. Int.]\n",
       "----------------------------------------------------------------------------------------\n",
       "Intercept                0.0050      0.026      0.197      0.844        -0.045     0.055\n",
       "IsFeaturedMerchant       0.0497      0.008      5.904      0.000         0.033     0.066\n",
       "ListingPrice         -9.272e-07   1.34e-05     -0.069      0.945     -2.72e-05  2.53e-05\n",
       "SellerFeedbackRating -5.947e-05      0.000     -0.212      0.832        -0.001     0.000\n",
       "ShipsFrom_BC             0.2862      0.015     18.911      0.000         0.257     0.316\n",
       "ShipsFrom_PA            -0.0040      0.125     -0.032      0.974        -0.248     0.240\n",
       "==============================================================================\n",
       "Omnibus:                     3005.347   Durbin-Watson:                   1.999\n",
       "Prob(Omnibus):                  0.000   Jarque-Bera (JB):            37697.015\n",
       "Skew:                           3.557   Prob(JB):                         0.00\n",
       "Kurtosis:                      16.051   Cond. No.                     1.24e+04\n",
       "==============================================================================\n",
       "\n",
       "Warnings:\n",
       "[1] Standard Errors assume that the covariance matrix of the errors is correctly specified.\n",
       "[2] The condition number is large, 1.24e+04. This might indicate that there are\n",
       "strong multicollinearity or other numerical problems.\n",
       "\"\"\""
      ]
     },
     "execution_count": 400,
     "metadata": {},
     "output_type": "execute_result"
    }
   ],
   "source": [
    "lm.summary()"
   ]
  },
  {
   "cell_type": "code",
   "execution_count": 401,
   "metadata": {
    "collapsed": false
   },
   "outputs": [],
   "source": [
    "lm_predictions = lm.predict(X_test)\n",
    "predicted_class = list()\n",
    "for i in lm_predictions:\n",
    "    if i >= 0.5:\n",
    "        predicted_class.append(1)\n",
    "    else:\n",
    "        predicted_class.append(0)"
   ]
  },
  {
   "cell_type": "code",
   "execution_count": 402,
   "metadata": {
    "collapsed": false
   },
   "outputs": [],
   "source": [
    "#Evaluate the quality of the model on the test set\n",
    "df_true_vs_lm_predicted = pd.DataFrame({'ActualClass': y_test, 'PredictedClass': predicted_class})"
   ]
  },
  {
   "cell_type": "code",
   "execution_count": 403,
   "metadata": {
    "collapsed": false
   },
   "outputs": [
    {
     "name": "stderr",
     "output_type": "stream",
     "text": [
      "C:\\Users\\pamel\\Anaconda3\\lib\\site-packages\\sklearn\\metrics\\classification.py:1113: UndefinedMetricWarning: Precision and F-score are ill-defined and being set to 0.0 in labels with no predicted samples.\n",
      "  'precision', 'predicted', average, warn_for)\n"
     ]
    }
   ],
   "source": [
    "accuracy = metrics.accuracy_score(df_true_vs_lm_predicted[\"ActualClass\"], df_true_vs_lm_predicted[\"PredictedClass\"])\n",
    "confusion_matrix = metrics.confusion_matrix(df_true_vs_lm_predicted[\"ActualClass\"], df_true_vs_lm_predicted[\"PredictedClass\"])\n",
    "class_report = metrics.classification_report(df_true_vs_lm_predicted[\"ActualClass\"], df_true_vs_lm_predicted[\"PredictedClass\"])"
   ]
  },
  {
   "cell_type": "code",
   "execution_count": 404,
   "metadata": {
    "collapsed": false,
    "scrolled": true
   },
   "outputs": [
    {
     "name": "stdout",
     "output_type": "stream",
     "text": [
      "Accuracy:  0.949886104784\n",
      "Confusion matrix: \n",
      " [[1668    0]\n",
      " [  88    0]]\n",
      "Classification report:\n",
      "               precision    recall  f1-score   support\n",
      "\n",
      "          0       0.95      1.00      0.97      1668\n",
      "          1       0.00      0.00      0.00        88\n",
      "\n",
      "avg / total       0.90      0.95      0.93      1756\n",
      "\n"
     ]
    }
   ],
   "source": [
    "print(\"Accuracy: \", accuracy)\n",
    "print(\"Confusion matrix: \\n\", confusion_matrix)\n",
    "print(\"Classification report:\\n \", class_report)"
   ]
  },
  {
   "cell_type": "markdown",
   "metadata": {},
   "source": [
    "### Linear Regression Model 2"
   ]
  },
  {
   "cell_type": "code",
   "execution_count": 405,
   "metadata": {
    "collapsed": false
   },
   "outputs": [],
   "source": [
    "#Train the model on the training set\n",
    "feature_cols_2 = ['IsFeaturedMerchant', 'ShipsFrom_BC', 'ShipsFrom_PA']\n",
    "df_linear = df_linear[['IsWinner', 'IsFeaturedMerchant', 'ShipsFrom_BC', 'ShipsFrom_PA']]\n",
    "lm_2 = sm.ols(formula = \"IsWinner ~ IsFeaturedMerchant + ShipsFrom_BC + ShipsFrom_PA\", data = df_linear).fit()"
   ]
  },
  {
   "cell_type": "code",
   "execution_count": 406,
   "metadata": {
    "collapsed": false
   },
   "outputs": [
    {
     "data": {
      "text/html": [
       "<table class=\"simpletable\">\n",
       "<caption>OLS Regression Results</caption>\n",
       "<tr>\n",
       "  <th>Dep. Variable:</th>        <td>IsWinner</td>     <th>  R-squared:         </th> <td>   0.095</td>\n",
       "</tr>\n",
       "<tr>\n",
       "  <th>Model:</th>                   <td>OLS</td>       <th>  Adj. R-squared:    </th> <td>   0.095</td>\n",
       "</tr>\n",
       "<tr>\n",
       "  <th>Method:</th>             <td>Least Squares</td>  <th>  F-statistic:       </th> <td>   143.6</td>\n",
       "</tr>\n",
       "<tr>\n",
       "  <th>Date:</th>             <td>Tue, 18 Apr 2017</td> <th>  Prob (F-statistic):</th> <td>1.93e-88</td>\n",
       "</tr>\n",
       "<tr>\n",
       "  <th>Time:</th>                 <td>22:10:37</td>     <th>  Log-Likelihood:    </th> <td>  529.57</td>\n",
       "</tr>\n",
       "<tr>\n",
       "  <th>No. Observations:</th>      <td>  4095</td>      <th>  AIC:               </th> <td>  -1051.</td>\n",
       "</tr>\n",
       "<tr>\n",
       "  <th>Df Residuals:</th>          <td>  4091</td>      <th>  BIC:               </th> <td>  -1026.</td>\n",
       "</tr>\n",
       "<tr>\n",
       "  <th>Df Model:</th>              <td>     3</td>      <th>                     </th>     <td> </td>   \n",
       "</tr>\n",
       "<tr>\n",
       "  <th>Covariance Type:</th>      <td>nonrobust</td>    <th>                     </th>     <td> </td>   \n",
       "</tr>\n",
       "</table>\n",
       "<table class=\"simpletable\">\n",
       "<tr>\n",
       "           <td></td>             <th>coef</th>     <th>std err</th>      <th>t</th>      <th>P>|t|</th> <th>[95.0% Conf. Int.]</th> \n",
       "</tr>\n",
       "<tr>\n",
       "  <th>Intercept</th>          <td>   -0.0003</td> <td>    0.007</td> <td>   -0.045</td> <td> 0.964</td> <td>   -0.014     0.014</td>\n",
       "</tr>\n",
       "<tr>\n",
       "  <th>IsFeaturedMerchant</th> <td>    0.0492</td> <td>    0.008</td> <td>    6.100</td> <td> 0.000</td> <td>    0.033     0.065</td>\n",
       "</tr>\n",
       "<tr>\n",
       "  <th>ShipsFrom_BC</th>       <td>    0.2863</td> <td>    0.015</td> <td>   18.937</td> <td> 0.000</td> <td>    0.257     0.316</td>\n",
       "</tr>\n",
       "<tr>\n",
       "  <th>ShipsFrom_PA</th>       <td>    0.0003</td> <td>    0.123</td> <td>    0.003</td> <td> 0.998</td> <td>   -0.241     0.241</td>\n",
       "</tr>\n",
       "</table>\n",
       "<table class=\"simpletable\">\n",
       "<tr>\n",
       "  <th>Omnibus:</th>       <td>3005.453</td> <th>  Durbin-Watson:     </th> <td>   1.999</td> \n",
       "</tr>\n",
       "<tr>\n",
       "  <th>Prob(Omnibus):</th>  <td> 0.000</td>  <th>  Jarque-Bera (JB):  </th> <td>37701.423</td>\n",
       "</tr>\n",
       "<tr>\n",
       "  <th>Skew:</th>           <td> 3.557</td>  <th>  Prob(JB):          </th> <td>    0.00</td> \n",
       "</tr>\n",
       "<tr>\n",
       "  <th>Kurtosis:</th>       <td>16.052</td>  <th>  Cond. No.          </th> <td>    47.9</td> \n",
       "</tr>\n",
       "</table>"
      ],
      "text/plain": [
       "<class 'statsmodels.iolib.summary.Summary'>\n",
       "\"\"\"\n",
       "                            OLS Regression Results                            \n",
       "==============================================================================\n",
       "Dep. Variable:               IsWinner   R-squared:                       0.095\n",
       "Model:                            OLS   Adj. R-squared:                  0.095\n",
       "Method:                 Least Squares   F-statistic:                     143.6\n",
       "Date:                Tue, 18 Apr 2017   Prob (F-statistic):           1.93e-88\n",
       "Time:                        22:10:37   Log-Likelihood:                 529.57\n",
       "No. Observations:                4095   AIC:                            -1051.\n",
       "Df Residuals:                    4091   BIC:                            -1026.\n",
       "Df Model:                           3                                         \n",
       "Covariance Type:            nonrobust                                         \n",
       "======================================================================================\n",
       "                         coef    std err          t      P>|t|      [95.0% Conf. Int.]\n",
       "--------------------------------------------------------------------------------------\n",
       "Intercept             -0.0003      0.007     -0.045      0.964        -0.014     0.014\n",
       "IsFeaturedMerchant     0.0492      0.008      6.100      0.000         0.033     0.065\n",
       "ShipsFrom_BC           0.2863      0.015     18.937      0.000         0.257     0.316\n",
       "ShipsFrom_PA           0.0003      0.123      0.003      0.998        -0.241     0.241\n",
       "==============================================================================\n",
       "Omnibus:                     3005.453   Durbin-Watson:                   1.999\n",
       "Prob(Omnibus):                  0.000   Jarque-Bera (JB):            37701.423\n",
       "Skew:                           3.557   Prob(JB):                         0.00\n",
       "Kurtosis:                      16.052   Cond. No.                         47.9\n",
       "==============================================================================\n",
       "\n",
       "Warnings:\n",
       "[1] Standard Errors assume that the covariance matrix of the errors is correctly specified.\n",
       "\"\"\""
      ]
     },
     "execution_count": 406,
     "metadata": {},
     "output_type": "execute_result"
    }
   ],
   "source": [
    "lm_2.summary()"
   ]
  },
  {
   "cell_type": "code",
   "execution_count": 407,
   "metadata": {
    "collapsed": false
   },
   "outputs": [],
   "source": [
    "#Evaluate the quality of the model on the test set\n",
    "lm2_predictions = lm_2.predict(X_test[feature_cols])\n",
    "predicted_class = list()\n",
    "for i in lm2_predictions:\n",
    "    if i >= 0.5:\n",
    "        predicted_class.append(1)\n",
    "    else:\n",
    "        predicted_class.append(0)\n",
    "        \n",
    "df_true_vs_lm_predicted = pd.DataFrame({'ActualClass': y_test, 'PredictedClass': predicted_class})"
   ]
  },
  {
   "cell_type": "code",
   "execution_count": 408,
   "metadata": {
    "collapsed": false
   },
   "outputs": [
    {
     "name": "stderr",
     "output_type": "stream",
     "text": [
      "C:\\Users\\pamel\\Anaconda3\\lib\\site-packages\\sklearn\\metrics\\classification.py:1113: UndefinedMetricWarning: Precision and F-score are ill-defined and being set to 0.0 in labels with no predicted samples.\n",
      "  'precision', 'predicted', average, warn_for)\n"
     ]
    }
   ],
   "source": [
    "accuracy = metrics.accuracy_score(df_true_vs_lm_predicted[\"ActualClass\"], df_true_vs_lm_predicted[\"PredictedClass\"])\n",
    "confusion_matrix = metrics.confusion_matrix(df_true_vs_lm_predicted[\"ActualClass\"], df_true_vs_lm_predicted[\"PredictedClass\"])\n",
    "class_report = metrics.classification_report(df_true_vs_lm_predicted[\"ActualClass\"], df_true_vs_lm_predicted[\"PredictedClass\"])"
   ]
  },
  {
   "cell_type": "code",
   "execution_count": 409,
   "metadata": {
    "collapsed": false,
    "scrolled": true
   },
   "outputs": [
    {
     "name": "stdout",
     "output_type": "stream",
     "text": [
      "Accuracy:  0.949886104784\n",
      "Confusion matrix: \n",
      " [[1668    0]\n",
      " [  88    0]]\n",
      "Classification report:\n",
      "               precision    recall  f1-score   support\n",
      "\n",
      "          0       0.95      1.00      0.97      1668\n",
      "          1       0.00      0.00      0.00        88\n",
      "\n",
      "avg / total       0.90      0.95      0.93      1756\n",
      "\n"
     ]
    }
   ],
   "source": [
    "print(\"Accuracy: \", accuracy)\n",
    "print(\"Confusion matrix: \\n\", confusion_matrix)\n",
    "print(\"Classification report:\\n \", class_report)"
   ]
  },
  {
   "cell_type": "markdown",
   "metadata": {},
   "source": [
    "### Logistic Regression Model 1"
   ]
  },
  {
   "cell_type": "code",
   "execution_count": 410,
   "metadata": {
    "collapsed": false
   },
   "outputs": [
    {
     "name": "stdout",
     "output_type": "stream",
     "text": [
      "Warning: Maximum number of iterations has been exceeded.\n",
      "         Current function value: 0.175317\n",
      "         Iterations: 35\n"
     ]
    },
    {
     "name": "stderr",
     "output_type": "stream",
     "text": [
      "C:\\Users\\pamel\\Anaconda3\\lib\\site-packages\\statsmodels\\base\\model.py:466: ConvergenceWarning: Maximum Likelihood optimization failed to converge. Check mle_retvals\n",
      "  \"Check mle_retvals\", ConvergenceWarning)\n"
     ]
    }
   ],
   "source": [
    "#Train the model on the training set\n",
    "feature_cols = ['IsFeaturedMerchant', 'ListingPrice', 'SellerFeedbackRating', 'ShipsFrom_BC']\n",
    "logreg = sm.logit(formula=\"IsWinner ~ IsFeaturedMerchant + ListingPrice + SellerFeedbackRating + ShipsFrom_BC\", data=df_log).fit()\n"
   ]
  },
  {
   "cell_type": "code",
   "execution_count": 411,
   "metadata": {
    "collapsed": false
   },
   "outputs": [
    {
     "name": "stdout",
     "output_type": "stream",
     "text": [
      "                           Logit Regression Results                           \n",
      "==============================================================================\n",
      "Dep. Variable:               IsWinner   No. Observations:                 5851\n",
      "Model:                          Logit   Df Residuals:                     5846\n",
      "Method:                           MLE   Df Model:                            4\n",
      "Date:                Tue, 18 Apr 2017   Pseudo R-squ.:                  0.1416\n",
      "Time:                        22:10:37   Log-Likelihood:                -1025.8\n",
      "converged:                      False   LL-Null:                       -1195.0\n",
      "                                        LLR p-value:                 5.520e-72\n",
      "========================================================================================\n",
      "                           coef    std err          z      P>|z|      [95.0% Conf. Int.]\n",
      "----------------------------------------------------------------------------------------\n",
      "Intercept              -25.5037   1.35e+04     -0.002      0.998     -2.65e+04  2.64e+04\n",
      "IsFeaturedMerchant      23.3102   1.35e+04      0.002      0.999     -2.64e+04  2.65e+04\n",
      "ListingPrice          6.638e-05      0.000      0.259      0.795        -0.000     0.001\n",
      "SellerFeedbackRating    -0.0082      0.009     -0.907      0.364        -0.026     0.009\n",
      "ShipsFrom_BC             2.1562      0.144     14.986      0.000         1.874     2.438\n",
      "========================================================================================\n",
      "\n",
      "Possibly complete quasi-separation: A fraction 0.22 of observations can be\n",
      "perfectly predicted. This might indicate that there is complete\n",
      "quasi-separation. In this case some parameters will not be identified.\n"
     ]
    }
   ],
   "source": [
    "print(logreg.summary())"
   ]
  },
  {
   "cell_type": "code",
   "execution_count": 412,
   "metadata": {
    "collapsed": false
   },
   "outputs": [],
   "source": [
    "predictions = logreg.predict(X_test[feature_cols])\n",
    "\n",
    "predicted_class = list()\n",
    "for i in predictions:\n",
    "    if i >= 0.5:\n",
    "        predicted_class.append(1)\n",
    "    else:\n",
    "        predicted_class.append(0)\n",
    "        \n",
    "df_true_vs_logreg_pred = pd.DataFrame({'ActualClass': y_test, 'PredictedClass': predicted_class})"
   ]
  },
  {
   "cell_type": "code",
   "execution_count": 413,
   "metadata": {
    "collapsed": false
   },
   "outputs": [
    {
     "name": "stderr",
     "output_type": "stream",
     "text": [
      "C:\\Users\\pamel\\Anaconda3\\lib\\site-packages\\sklearn\\metrics\\classification.py:1113: UndefinedMetricWarning: Precision and F-score are ill-defined and being set to 0.0 in labels with no predicted samples.\n",
      "  'precision', 'predicted', average, warn_for)\n"
     ]
    }
   ],
   "source": [
    "accuracy = metrics.accuracy_score(df_true_vs_logreg_pred[\"ActualClass\"], df_true_vs_logreg_pred[\"PredictedClass\"])\n",
    "confusion_matrix = metrics.confusion_matrix(df_true_vs_logreg_pred[\"ActualClass\"], df_true_vs_logreg_pred[\"PredictedClass\"])\n",
    "class_report = metrics.classification_report(df_true_vs_logreg_pred[\"ActualClass\"], df_true_vs_logreg_pred[\"PredictedClass\"])"
   ]
  },
  {
   "cell_type": "code",
   "execution_count": 414,
   "metadata": {
    "collapsed": false
   },
   "outputs": [
    {
     "name": "stdout",
     "output_type": "stream",
     "text": [
      "Accuracy:  0.949886104784\n",
      "Confusion matrix: \n",
      " [[1668    0]\n",
      " [  88    0]]\n",
      "Classification report:\n",
      "               precision    recall  f1-score   support\n",
      "\n",
      "          0       0.95      1.00      0.97      1668\n",
      "          1       0.00      0.00      0.00        88\n",
      "\n",
      "avg / total       0.90      0.95      0.93      1756\n",
      "\n"
     ]
    }
   ],
   "source": [
    "print(\"Accuracy: \", accuracy)\n",
    "print(\"Confusion matrix: \\n\", confusion_matrix)\n",
    "print(\"Classification report:\\n \", class_report)"
   ]
  },
  {
   "cell_type": "markdown",
   "metadata": {},
   "source": [
    "### Logistic Regression Model 2: "
   ]
  },
  {
   "cell_type": "code",
   "execution_count": 415,
   "metadata": {
    "collapsed": false
   },
   "outputs": [
    {
     "name": "stdout",
     "output_type": "stream",
     "text": [
      "Warning: Maximum number of iterations has been exceeded.\n",
      "         Current function value: 0.175383\n",
      "         Iterations: 35\n"
     ]
    },
    {
     "name": "stderr",
     "output_type": "stream",
     "text": [
      "C:\\Users\\pamel\\Anaconda3\\lib\\site-packages\\statsmodels\\base\\model.py:466: ConvergenceWarning: Maximum Likelihood optimization failed to converge. Check mle_retvals\n",
      "  \"Check mle_retvals\", ConvergenceWarning)\n"
     ]
    }
   ],
   "source": [
    "df_newlog = df[['IsWinner', 'IsFeaturedMerchant', 'ShipsFrom_BC']]\n",
    "feature_cols = ['IsFeaturedMerchant', 'ShipsFrom_BC']\n",
    "logreg2 = sm.logit(formula = \"IsWinner ~ IsFeaturedMerchant + ShipsFrom_BC\", data=df_newlog).fit()"
   ]
  },
  {
   "cell_type": "code",
   "execution_count": 416,
   "metadata": {
    "collapsed": false
   },
   "outputs": [
    {
     "name": "stdout",
     "output_type": "stream",
     "text": [
      "                           Logit Regression Results                           \n",
      "==============================================================================\n",
      "Dep. Variable:               IsWinner   No. Observations:                 5851\n",
      "Model:                          Logit   Df Residuals:                     5848\n",
      "Method:                           MLE   Df Model:                            2\n",
      "Date:                Tue, 18 Apr 2017   Pseudo R-squ.:                  0.1413\n",
      "Time:                        22:10:38   Log-Likelihood:                -1026.2\n",
      "converged:                      False   LL-Null:                       -1195.0\n",
      "                                        LLR p-value:                 4.775e-74\n",
      "======================================================================================\n",
      "                         coef    std err          z      P>|z|      [95.0% Conf. Int.]\n",
      "--------------------------------------------------------------------------------------\n",
      "Intercept            -26.4101   1.51e+04     -0.002      0.999     -2.97e+04  2.97e+04\n",
      "IsFeaturedMerchant    23.4525   1.51e+04      0.002      0.999     -2.97e+04  2.97e+04\n",
      "ShipsFrom_BC           2.1575      0.143     15.043      0.000         1.876     2.439\n",
      "======================================================================================\n",
      "\n",
      "Possibly complete quasi-separation: A fraction 0.22 of observations can be\n",
      "perfectly predicted. This might indicate that there is complete\n",
      "quasi-separation. In this case some parameters will not be identified.\n"
     ]
    }
   ],
   "source": [
    "print(logreg2.summary())"
   ]
  },
  {
   "cell_type": "code",
   "execution_count": 417,
   "metadata": {
    "collapsed": false
   },
   "outputs": [],
   "source": [
    "predictions = logreg2.predict(X_test[feature_cols])\n",
    "\n",
    "predicted_class = list()\n",
    "for i in predictions:\n",
    "    if i >= 0.5:\n",
    "        predicted_class.append(1)\n",
    "    else:\n",
    "        predicted_class.append(0)\n",
    "        \n",
    "df_true_vs_logreg_pred = pd.DataFrame({'ActualClass': y_test, 'PredictedClass': predicted_class})\n"
   ]
  },
  {
   "cell_type": "code",
   "execution_count": 418,
   "metadata": {
    "collapsed": false
   },
   "outputs": [
    {
     "name": "stderr",
     "output_type": "stream",
     "text": [
      "C:\\Users\\pamel\\Anaconda3\\lib\\site-packages\\sklearn\\metrics\\classification.py:1113: UndefinedMetricWarning: Precision and F-score are ill-defined and being set to 0.0 in labels with no predicted samples.\n",
      "  'precision', 'predicted', average, warn_for)\n"
     ]
    }
   ],
   "source": [
    "accuracy = metrics.accuracy_score(df_true_vs_logreg_pred[\"ActualClass\"], df_true_vs_logreg_pred[\"PredictedClass\"])\n",
    "confusion_matrix = metrics.confusion_matrix(df_true_vs_logreg_pred[\"ActualClass\"], df_true_vs_logreg_pred[\"PredictedClass\"])\n",
    "class_report = metrics.classification_report(df_true_vs_logreg_pred[\"ActualClass\"], df_true_vs_logreg_pred[\"PredictedClass\"])"
   ]
  },
  {
   "cell_type": "code",
   "execution_count": 419,
   "metadata": {
    "collapsed": false
   },
   "outputs": [
    {
     "name": "stdout",
     "output_type": "stream",
     "text": [
      "Accuracy:  0.949886104784\n",
      "Confusion matrix: \n",
      " [[1668    0]\n",
      " [  88    0]]\n",
      "Classification report:\n",
      "               precision    recall  f1-score   support\n",
      "\n",
      "          0       0.95      1.00      0.97      1668\n",
      "          1       0.00      0.00      0.00        88\n",
      "\n",
      "avg / total       0.90      0.95      0.93      1756\n",
      "\n"
     ]
    }
   ],
   "source": [
    "print(\"Accuracy: \", accuracy)\n",
    "print(\"Confusion matrix: \\n\", confusion_matrix)\n",
    "print(\"Classification report:\\n \", class_report)"
   ]
  },
  {
   "cell_type": "markdown",
   "metadata": {},
   "source": [
    "### Random Forest Model 1"
   ]
  },
  {
   "cell_type": "code",
   "execution_count": 420,
   "metadata": {
    "collapsed": false
   },
   "outputs": [
    {
     "name": "stderr",
     "output_type": "stream",
     "text": [
      "C:\\Users\\pamel\\Anaconda3\\lib\\site-packages\\sklearn\\ensemble\\forest.py:723: UserWarning: Some inputs do not have OOB scores. This probably means too few trees were used to compute any reliable oob estimates.\n",
      "  warn(\"Some inputs do not have OOB scores. \"\n"
     ]
    },
    {
     "data": {
      "text/plain": [
       "RandomForestRegressor(bootstrap=True, criterion='mse', max_depth=None,\n",
       "           max_features='auto', max_leaf_nodes=None,\n",
       "           min_impurity_split=1e-07, min_samples_leaf=1,\n",
       "           min_samples_split=2, min_weight_fraction_leaf=0.0,\n",
       "           n_estimators=10, n_jobs=1, oob_score=True, random_state=None,\n",
       "           verbose=0, warm_start=False)"
      ]
     },
     "execution_count": 420,
     "metadata": {},
     "output_type": "execute_result"
    }
   ],
   "source": [
    "feature_cols = ['ListingPrice', 'IsFeaturedMerchant', 'SellerFeedbackRating', 'ShipsFrom_BC', 'ShipsFrom_PA']\n",
    "rfm = RandomForestRegressor(oob_score=True)\n",
    "rfm.fit(X_train[feature_cols], y_train)"
   ]
  },
  {
   "cell_type": "code",
   "execution_count": 421,
   "metadata": {
    "collapsed": false
   },
   "outputs": [
    {
     "data": {
      "text/plain": [
       "-0.076419608810107231"
      ]
     },
     "execution_count": 421,
     "metadata": {},
     "output_type": "execute_result"
    }
   ],
   "source": [
    "rfm.oob_score_"
   ]
  },
  {
   "cell_type": "code",
   "execution_count": 422,
   "metadata": {
    "collapsed": false
   },
   "outputs": [
    {
     "name": "stdout",
     "output_type": "stream",
     "text": [
      "C-Stat:  0.745037977524\n"
     ]
    }
   ],
   "source": [
    "#not sure whether to use y_train or y_test here? \n",
    "y_oob = rfm.oob_prediction_\n",
    "print(\"C-Stat: \", roc_auc_score(y_train, y_oob))"
   ]
  },
  {
   "cell_type": "code",
   "execution_count": 423,
   "metadata": {
    "collapsed": false
   },
   "outputs": [],
   "source": [
    "predictions = rfm.predict(X_test[feature_cols])\n",
    "\n",
    "predicted_class = list()\n",
    "for i in predictions:\n",
    "    if i >= 0.5:\n",
    "        predicted_class.append(1)\n",
    "    else:\n",
    "        predicted_class.append(0)\n",
    "        \n",
    "df_true_vs_rfm_pred = pd.DataFrame({'ActualClass': y_test, 'PredictedClass': predicted_class})"
   ]
  },
  {
   "cell_type": "code",
   "execution_count": 424,
   "metadata": {
    "collapsed": false
   },
   "outputs": [],
   "source": [
    "accuracy = metrics.accuracy_score(df_true_vs_rfm_pred[\"ActualClass\"], df_true_vs_rfm_pred[\"PredictedClass\"])\n",
    "confusion_matrix = metrics.confusion_matrix(df_true_vs_rfm_pred[\"ActualClass\"], df_true_vs_rfm_pred[\"PredictedClass\"])\n",
    "class_report = metrics.classification_report(df_true_vs_rfm_pred[\"ActualClass\"], df_true_vs_rfm_pred[\"PredictedClass\"])"
   ]
  },
  {
   "cell_type": "code",
   "execution_count": 425,
   "metadata": {
    "collapsed": false
   },
   "outputs": [
    {
     "name": "stdout",
     "output_type": "stream",
     "text": [
      "Accuracy:  0.938496583144\n",
      "Confusion matrix: \n",
      " [[1613   55]\n",
      " [  53   35]]\n",
      "Classification report:\n",
      "               precision    recall  f1-score   support\n",
      "\n",
      "          0       0.97      0.97      0.97      1668\n",
      "          1       0.39      0.40      0.39        88\n",
      "\n",
      "avg / total       0.94      0.94      0.94      1756\n",
      "\n"
     ]
    }
   ],
   "source": [
    "print(\"Accuracy: \", accuracy)\n",
    "print(\"Confusion matrix: \\n\", confusion_matrix)\n",
    "print(\"Classification report:\\n \", class_report)"
   ]
  },
  {
   "cell_type": "markdown",
   "metadata": {},
   "source": [
    "### Random Forest Model 2"
   ]
  },
  {
   "cell_type": "code",
   "execution_count": 426,
   "metadata": {
    "collapsed": false
   },
   "outputs": [
    {
     "name": "stderr",
     "output_type": "stream",
     "text": [
      "C:\\Users\\pamel\\Anaconda3\\lib\\site-packages\\sklearn\\ensemble\\forest.py:723: UserWarning: Some inputs do not have OOB scores. This probably means too few trees were used to compute any reliable oob estimates.\n",
      "  warn(\"Some inputs do not have OOB scores. \"\n"
     ]
    },
    {
     "data": {
      "text/plain": [
       "RandomForestRegressor(bootstrap=True, criterion='mse', max_depth=None,\n",
       "           max_features='auto', max_leaf_nodes=None,\n",
       "           min_impurity_split=1e-07, min_samples_leaf=1,\n",
       "           min_samples_split=2, min_weight_fraction_leaf=0.0,\n",
       "           n_estimators=10, n_jobs=1, oob_score=True, random_state=None,\n",
       "           verbose=0, warm_start=False)"
      ]
     },
     "execution_count": 426,
     "metadata": {},
     "output_type": "execute_result"
    }
   ],
   "source": [
    "feature_cols = ['ListingPrice']\n",
    "rfm2 = RandomForestRegressor(oob_score=True)\n",
    "rfm2.fit(X_train[feature_cols], y_train)"
   ]
  },
  {
   "cell_type": "code",
   "execution_count": 427,
   "metadata": {
    "collapsed": false
   },
   "outputs": [
    {
     "data": {
      "text/plain": [
       "-0.095295176796352354"
      ]
     },
     "execution_count": 427,
     "metadata": {},
     "output_type": "execute_result"
    }
   ],
   "source": [
    "rfm2.oob_score_"
   ]
  },
  {
   "cell_type": "code",
   "execution_count": 428,
   "metadata": {
    "collapsed": false
   },
   "outputs": [
    {
     "name": "stdout",
     "output_type": "stream",
     "text": [
      "C-Stat:  0.703970453439\n"
     ]
    }
   ],
   "source": [
    "y_oob = rfm2.oob_prediction_\n",
    "print(\"C-Stat: \", roc_auc_score(y_train, y_oob))"
   ]
  },
  {
   "cell_type": "code",
   "execution_count": 429,
   "metadata": {
    "collapsed": true
   },
   "outputs": [],
   "source": [
    "predictions = rfm2.predict(X_test[feature_cols])\n",
    "\n",
    "predicted_class = list()\n",
    "for i in predictions:\n",
    "    if i >= 0.5:\n",
    "        predicted_class.append(1)\n",
    "    else:\n",
    "        predicted_class.append(0)\n",
    "        \n",
    "df_true_vs_rfm2_pred = pd.DataFrame({'ActualClass': y_test, 'PredictedClass': predicted_class})"
   ]
  },
  {
   "cell_type": "code",
   "execution_count": 430,
   "metadata": {
    "collapsed": false
   },
   "outputs": [],
   "source": [
    "accuracy = metrics.accuracy_score(df_true_vs_rfm2_pred[\"ActualClass\"], df_true_vs_rfm2_pred[\"PredictedClass\"])\n",
    "confusion_matrix = metrics.confusion_matrix(df_true_vs_rfm2_pred[\"ActualClass\"], df_true_vs_rfm2_pred[\"PredictedClass\"])\n",
    "class_report = metrics.classification_report(df_true_vs_rfm2_pred[\"ActualClass\"], df_true_vs_rfm2_pred[\"PredictedClass\"])"
   ]
  },
  {
   "cell_type": "code",
   "execution_count": 431,
   "metadata": {
    "collapsed": false
   },
   "outputs": [
    {
     "name": "stdout",
     "output_type": "stream",
     "text": [
      "Accuracy:  0.938496583144\n",
      "Confusion matrix: \n",
      " [[1621   47]\n",
      " [  61   27]]\n",
      "Classification report:\n",
      "               precision    recall  f1-score   support\n",
      "\n",
      "          0       0.96      0.97      0.97      1668\n",
      "          1       0.36      0.31      0.33        88\n",
      "\n",
      "avg / total       0.93      0.94      0.94      1756\n",
      "\n"
     ]
    }
   ],
   "source": [
    "print(\"Accuracy: \", accuracy)\n",
    "print(\"Confusion matrix: \\n\", confusion_matrix)\n",
    "print(\"Classification report:\\n \", class_report)"
   ]
  },
  {
   "cell_type": "markdown",
   "metadata": {},
   "source": [
    "## Evaluation Comparison Analysis: \n",
    "\n",
    "1. We can see no difference between the linear models trained and tested on the whole set and those trained and tested with the split set. \n",
    "2. The same goes for the logistic models. \n",
    "3. However, with the random forest we can see that the accuracy of the model is reduced by a few percent. This is valuable in that it shows us how testing the model on the same data you trained it on can produce a falsely high accuracy. "
   ]
  },
  {
   "cell_type": "markdown",
   "metadata": {},
   "source": [
    "## 5.2 Summarize and try to improve your results so far"
   ]
  },
  {
   "cell_type": "markdown",
   "metadata": {},
   "source": [
    "## 5.2.1 Which model performs best and is it more accurate than a simple (but useless) model that always predicts IsWinner=0? Justify your answers. "
   ]
  },
  {
   "cell_type": "markdown",
   "metadata": {
    "collapsed": true
   },
   "source": [
    "### The Random Forest Model definitely performed best. When trained on the training set and tested on the testing set it had an accuracy of 94% which is a pretty good model. This is surely preferable to a simple model that always predicts IsWinner = 0. Keep in mind that although the model has 94% accuracy it is not exactly the truth of the evaluation. Because there are a disproportionate number of the negative class we should also look at the percentage of true positives that the model was able to predict: 39%. We were able to predict a correct case of the positive class 39% of the time. This is still better than either of the linear or logistic regression models but would it be deployable in a real business scenario? Possibly not. "
   ]
  },
  {
   "cell_type": "markdown",
   "metadata": {},
   "source": [
    "## 5.2.2 Discuss your understanding of the problem and predictive modeling results so far. Can you find  any tricks to improve the best model so far (e.g., using feature significance, feature rescaling, creating new features, combining models, or other knowledge)?"
   ]
  },
  {
   "cell_type": "markdown",
   "metadata": {},
   "source": [
    "### Discussion of the Problem and the Data Set:\n",
    "\n",
    "Having analysed the data set in depth I can see that there is no one feature that determines whether or not an offer will be determined a winner. It makes sense that a Random Forest model works better in this case because we don't have a clear numerical relationship between any one feature and the target feature. \n",
    "\n",
    "### Possible Improvements: \n",
    "\n",
    "1. We discussed in class the concept of ensembling. I think that using this in conjunction with Random Forest could produce a better outcome. Random Forest was the only model that predicted in the positive class (albeit exclusively so still useless). Perhaps introducing ensembling would give the model a better chance of predicting at a higher accuracy. \n",
    "2. We also discussed in class the concept of decision trees. These could be very useful for a problem like this where there is no one feature that determines a winner, but a number that have different levels of influence on the outcome. We could break down the problem so as to rule out edge cases (such as Listing Prices under 1500) and continue in this way until we have a good idea of which cases are likely to be in the positive clas. We could also weight different questions depending on the strength of the correlation between the descriptive feature in question and the target feature. "
   ]
  },
  {
   "cell_type": "markdown",
   "metadata": {},
   "source": [
    "## References: "
   ]
  },
  {
   "cell_type": "markdown",
   "metadata": {
    "collapsed": true
   },
   "source": [
    "1. http://stackoverflow.com/questions/17071871/select-rows-from-a-dataframe-based-on-values-in-a-column-in-pandas\n",
    "2. http://pandas.pydata.org/pandas-docs/stable/10min.html\n",
    "3. http://stackoverflow.com/questions/25125168/array-shape-giving-error-tuple-not-callable\n",
    "4. http://stackoverflow.com/questions/14984119/python-pandas-remove-duplicate-columns\n",
    "5. http://stackoverflow.com/questions/20209600/panda-dataframe-remove-constant-column\n",
    "6. http://stackoverflow.com/questions/19482970/get-list-from-pandas-dataframe-column-headers\n",
    "7. http://stackoverflow.com/questions/36185883/python-pandas-dataframe-remove-columns-from-header\n",
    "8. https://chrisalbon.com/python/pandas_dropping_column_and_rows.html\n",
    "9. http://pandas.pydata.org/pandas-docs/version/0.18.1/generated/pandas.DataFrame.to_csv.html\n",
    "10. http://stackoverflow.com/questions/20107570/removing-index-column-in-pandas\n",
    "11. http://stackoverflow.com/questions/9012487/matplotlib-pyplot-savefig-outputs-blank-image\n",
    "12. http://stackoverflow.com/questions/18172851/deleting-dataframe-row-in-pandas-based-on-column-value\n",
    "13. http://stackoverflow.com/questions/29017525/deleting-rows-based-on-multiple-conditions-python-pandas\n",
    "14. Lab Notebook - Notebook-Linear-Regression\n",
    "15. Lab Notebook - Notebook-Modeling-Logistic-Regression\n",
    "16. Lab Notebook - Notebook-Modeling-Random-Forest\n",
    "17. Lab 4 Notebook\n",
    "18. https://www.youtube.com/watch?v=0GrciaGYzV0&list=PLx1nh9sMznmKoUjw6uHR2enxCrenhn5zD&index=4\n",
    "19. https://github.com/justmarkham/DAT4/blob/master/notebooks/08_linear_regression.ipynb"
   ]
  },
  {
   "cell_type": "code",
   "execution_count": null,
   "metadata": {
    "collapsed": true
   },
   "outputs": [],
   "source": []
  }
 ],
 "metadata": {
  "anaconda-cloud": {},
  "kernelspec": {
   "display_name": "Python 3",
   "language": "python",
   "name": "python3"
  },
  "language_info": {
   "codemirror_mode": {
    "name": "ipython",
    "version": 3
   },
   "file_extension": ".py",
   "mimetype": "text/x-python",
   "name": "python",
   "nbconvert_exporter": "python",
   "pygments_lexer": "ipython3",
   "version": "3.6.0"
  }
 },
 "nbformat": 4,
 "nbformat_minor": 0
}
