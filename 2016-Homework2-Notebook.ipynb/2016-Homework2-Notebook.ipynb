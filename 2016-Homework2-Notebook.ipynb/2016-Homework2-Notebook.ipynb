{
 "cells": [
  {
   "cell_type": "markdown",
   "metadata": {},
   "source": [
    "# Homework2\n",
    "\n",
    "Please upload to Moodle a .zip archive containing your Jupyter Notebook with solutions and all data required to reproduce your solutions. \n",
    "\n",
    "Please also prepare a requirements.txt file which lists all the packages that you have used for your homework, one package per line (e.g., pandas). This will allow us to install all required packages in one go, by using \"pip install -r requirements.txt\".\n",
    "\n",
    "Please name your .zip archive using your full name and student id as follows - *Firstnme_Lastname_12345678_COMP47350_Homework2.zip*. \n",
    "\n",
    "For your Notebook, please split the code and explanations into many little cells so it is easy to see and read the results of each step of your solution. Please remember to name your variables and methods with self-explanatory names. Please remember to write comments and where needed, justifications, for the decisions you make and code you write. Feel free to revisit *tips_to_keep_your_ipython_notebook_readable_and_easy_to_debug.html* provided on Moodle.\n",
    "\n",
    "Your code and analysis is like a story that awaits to be read, make it a nice story please!\n",
    "\n",
    "The accepted file formats for the homework are:\n",
    "    - .ipynb\n",
    "    - .zip\n",
    "    - .pdf\n",
    "    - .csv\n",
    "    - .txt\n",
    "    - .html\n",
    "Please keep the whole code in a single notebook. Usage of external tools/files is discouraged for portability reasons. Files in any other format but mentioned above can be used but will be ignored and not considered for the submission (including .doc, .rar, .7z, .pages, .xlsx, .tex etc.). \n",
    "Any image format is allowed to be used as far as the images appear embedded in your report (.ipynb or .pdf or .html).\n",
    "\n",
    "**Deadline: Sunday, April 16, 2017, midnight.** "
   ]
  },
  {
   "cell_type": "markdown",
   "metadata": {},
   "source": [
    "## Exercises\n",
    "\n",
    "This homework focuses on building and evaluating prediction models for a particular problem and dataset.\n",
    "The problem and data come from the Amazon online shopping platform. Several sellers can sell the same product on Amazon. Based on the data provided by the seller to Amazon (seller reputation, product price, shipping details, etc) Amazon ranks seller offers from best to worst for a given product. This ranking is mostly influenced by the product price offer of the seller, but it can also be influenced by other features. We first need to understand which features are most indicative of a seller being ranked first by Amazon for a product. When the seller is ranked first for a product we say that the seller is the 'winner' among all the offers, because their offer is shown first when a user searches for a product on Amazon, which increases their chances of selling the product. Our goal is to work with the data to build and evaluate prediction models that capture the relationship between descriptive features and the target feature 'IsWinner'.\n",
    "\n",
    "We use the same dataset from Homework1 (you can use your cleaned/prepared CSV or the raw dataset), a CSV file describing offers by given sellers for given products and a column which records whether an offer was a winner or not.\n",
    "\n",
    "(1). [25] Data Understanding: Exploring relationships between feature pairs:\n",
    "    - (1.1) [5] Print the correlations between the continuous features.\n",
    "    - (1.2) [5] Plot the scatter plots of each pair of continuous descriptive feature and target feature.\n",
    "    - (1.3) [5] Discuss what you observe from the scatter plots and correlations, e.g., which continuous features seem to be better at predicting the target feature. Choose a subset of continuous features you find promising. Justify your choices.\n",
    "    - (1.4) [5] For each categorical feature, plot the pairwise interaction with the target feature (barplots or stacked barplots).\n",
    "    - (1.5) [5] Discuss what knowledge you gain from plotting the interaction of descriptive categorical features and the target feature, e.g., which categorical features seem to be better at predicting the target feature. Choose a subset of categorical features you find promising. Justify your choices.\n",
    "    \n",
    "(2). [15] Predictive Modeling: Linear Regression  \n",
    "    - (2.1) [5] Train a linear regression model to predict the target feature IsWinner, using the descriptive features selected in exercise (1). Evaluate the quality of the model on the training set.   \n",
    "    - (2.2) [2.5] Print the coefficients learned by the model and discuss their statistical significance as well as their role in the model (e.g., interpret the model).    \n",
    "    - (2.3) [2.5] Retrain the model using only the subset of features found to be statistically significant. Evaluate the quality of the model on the training set.\n",
    "    - (2.4) [5] Using the better model (as per evaluation on training set), print the predicted target feature value for all the examples in the training set. Threshold the predicted target feature value at 0.5 to get the predicted class for each example. \n",
    "\n",
    "(3). [15] Predictive Modeling: Logistic Regression  \n",
    "    - (3.1) [5] Train a logistic regression model to predict the target feature IsWinner, using the descriptive features selected in exercise (1). Evaluate the quality of the model on the training set.   \n",
    "    - (3.2) [5] Print the coefficients learned by the model and discuss their statistical significance as well as their role in the model (e.g., interpret the model).    \n",
    "    - (3.3) [2.5] Retrain the model using only the subset of features found to be statistically significant. Evaluate the quality of the model on the training set.\n",
    "    - (3.4) [2.5] Using the better model (as per evaluation on training set), print the predicted target feature value for all the examples in the training set. Print the predicted class for each example.\n",
    "    \n",
    "(4). [20] Predictive Modeling: Random Forest \n",
    "    - (4.1) [5] Train a random forest model to predict the target feature IsWinner, using the descriptive features selected in exercise (1). Evaluate the quality of the model on the training set.   \n",
    "    - (4.2) [5] Print the features ranked by random forest importance. Discuss your findings and choose a subset of features you find promising.\n",
    "    - (4.3) [5] Retrain the model using only the subset of features found to be promising. Evaluate the quality of the model on the training set.\n",
    "    - (4.4) [5] Using the better model (as per evaluation on training set), print the predicted target feature value for all the examples in the training set. Print the predicted class for each example.\n",
    "    \n",
    "(5). [25] Evaluating Predictive Models\n",
    "    - (5.1) [10] Split the dataset into 70% training and remaining 30% test. Train all models from the previous exercises using the new training set and evaluate their quality on the new test set. Print classification evaluation metrics for all models on the test set (e.g., Accuracy, Confusion matrix, Precision, Recall, F1). Discuss how does evaluation on the test set compare to evaluation using the full data for training and also for testing.\n",
    "    - (5.2) [15] Summarize and try to improve your results so far:\n",
    "        - (5.2.1) [5] Which model performs best and is it more accurate than a simple (but useless) model that always predicts IsWinner=0? Justify your answers.\n",
    "        - (5.2.2) [10] Discuss your understanding of the problem and predictive modeling results so far. Can you find any tricks to improve the best model so far (e.g., using feature significance, feature re-scaling, creating new features, combining models, or other knowledge)?"
   ]
  },
  {
   "cell_type": "code",
   "execution_count": 2,
   "metadata": {
    "collapsed": false
   },
   "outputs": [],
   "source": [
    "#import necessary libraries\n",
    "import pandas as pd\n",
    "import numpy as np\n",
    "import matplotlib\n",
    "import matplotlib.pyplot as plt\n",
    "import matplotlib.patches as mpatches\n",
    "from matplotlib.backends.backend_pdf import PdfPages\n",
    "matplotlib.style.use('ggplot')\n",
    "import seaborn as sns\n",
    "from sklearn.linear_model import LinearRegression\n",
    "#for showing plots directly in the notebook\n",
    "%matplotlib inline"
   ]
  },
  {
   "cell_type": "code",
   "execution_count": 3,
   "metadata": {
    "collapsed": false
   },
   "outputs": [],
   "source": [
    "df = pd.read_csv('C:/Users/pamel/Anaconda3/envs/DataAnalytics/workspace/Data_Analytics_Homework2/amazon-offers-10k-samples-new2.csv', encoding = \"ISO-8859-1\")"
   ]
  },
  {
   "cell_type": "code",
   "execution_count": 4,
   "metadata": {
    "collapsed": false
   },
   "outputs": [
    {
     "data": {
      "text/html": [
       "<div>\n",
       "<table border=\"1\" class=\"dataframe\">\n",
       "  <thead>\n",
       "    <tr style=\"text-align: right;\">\n",
       "      <th></th>\n",
       "      <th>Unnamed: 0</th>\n",
       "      <th>IsWinner</th>\n",
       "      <th>ProductId</th>\n",
       "      <th>TimeOfOfferChange</th>\n",
       "      <th>ConditionNotes</th>\n",
       "      <th>IsFeaturedMerchant</th>\n",
       "      <th>IsFulfilledByAmazon</th>\n",
       "      <th>ListingPrice</th>\n",
       "      <th>SellerFeedbackRating</th>\n",
       "      <th>SellerFeedbackCount</th>\n",
       "      <th>SellerId</th>\n",
       "      <th>ShippingPrice</th>\n",
       "      <th>ShippingTime_minHours</th>\n",
       "      <th>ShippingTime_maxHours</th>\n",
       "      <th>ShipsFromCountry</th>\n",
       "      <th>ShipsFromState</th>\n",
       "    </tr>\n",
       "  </thead>\n",
       "  <tbody>\n",
       "    <tr>\n",
       "      <th>0</th>\n",
       "      <td>1</td>\n",
       "      <td>1</td>\n",
       "      <td>-4.885260e+18</td>\n",
       "      <td>2016-02-04T04:26:52.136Z</td>\n",
       "      <td>Ready To Ship - We are unable to ship to PO Bo...</td>\n",
       "      <td>1</td>\n",
       "      <td>0</td>\n",
       "      <td>107.35</td>\n",
       "      <td>95</td>\n",
       "      <td>4078</td>\n",
       "      <td>-1.789490e+18</td>\n",
       "      <td>0.00</td>\n",
       "      <td>48</td>\n",
       "      <td>72</td>\n",
       "      <td>CA</td>\n",
       "      <td>ON</td>\n",
       "    </tr>\n",
       "    <tr>\n",
       "      <th>1</th>\n",
       "      <td>2</td>\n",
       "      <td>0</td>\n",
       "      <td>-4.885260e+18</td>\n",
       "      <td>2016-02-04T04:26:52.136Z</td>\n",
       "      <td>.</td>\n",
       "      <td>1</td>\n",
       "      <td>0</td>\n",
       "      <td>100.46</td>\n",
       "      <td>98</td>\n",
       "      <td>478</td>\n",
       "      <td>5.452080e+18</td>\n",
       "      <td>6.99</td>\n",
       "      <td>24</td>\n",
       "      <td>48</td>\n",
       "      <td>CA</td>\n",
       "      <td>ON</td>\n",
       "    </tr>\n",
       "    <tr>\n",
       "      <th>2</th>\n",
       "      <td>3</td>\n",
       "      <td>0</td>\n",
       "      <td>-4.885260e+18</td>\n",
       "      <td>2016-02-04T04:26:52.136Z</td>\n",
       "      <td>Fast shipping in Canada.</td>\n",
       "      <td>1</td>\n",
       "      <td>0</td>\n",
       "      <td>99.24</td>\n",
       "      <td>95</td>\n",
       "      <td>4384</td>\n",
       "      <td>-2.572280e+18</td>\n",
       "      <td>11.67</td>\n",
       "      <td>24</td>\n",
       "      <td>48</td>\n",
       "      <td>CA</td>\n",
       "      <td>ON</td>\n",
       "    </tr>\n",
       "    <tr>\n",
       "      <th>3</th>\n",
       "      <td>4</td>\n",
       "      <td>0</td>\n",
       "      <td>-4.885260e+18</td>\n",
       "      <td>2016-02-04T04:26:52.136Z</td>\n",
       "      <td>NaN</td>\n",
       "      <td>0</td>\n",
       "      <td>0</td>\n",
       "      <td>109.48</td>\n",
       "      <td>94</td>\n",
       "      <td>105</td>\n",
       "      <td>-8.704030e+18</td>\n",
       "      <td>8.99</td>\n",
       "      <td>24</td>\n",
       "      <td>48</td>\n",
       "      <td>CA</td>\n",
       "      <td>ON</td>\n",
       "    </tr>\n",
       "    <tr>\n",
       "      <th>4</th>\n",
       "      <td>5</td>\n",
       "      <td>0</td>\n",
       "      <td>-4.885260e+18</td>\n",
       "      <td>2016-02-04T04:26:52.136Z</td>\n",
       "      <td>NaN</td>\n",
       "      <td>0</td>\n",
       "      <td>0</td>\n",
       "      <td>116.70</td>\n",
       "      <td>67</td>\n",
       "      <td>9</td>\n",
       "      <td>1.929050e+18</td>\n",
       "      <td>6.98</td>\n",
       "      <td>24</td>\n",
       "      <td>48</td>\n",
       "      <td>CA</td>\n",
       "      <td>AB</td>\n",
       "    </tr>\n",
       "  </tbody>\n",
       "</table>\n",
       "</div>"
      ],
      "text/plain": [
       "   Unnamed: 0  IsWinner     ProductId         TimeOfOfferChange  \\\n",
       "0           1         1 -4.885260e+18  2016-02-04T04:26:52.136Z   \n",
       "1           2         0 -4.885260e+18  2016-02-04T04:26:52.136Z   \n",
       "2           3         0 -4.885260e+18  2016-02-04T04:26:52.136Z   \n",
       "3           4         0 -4.885260e+18  2016-02-04T04:26:52.136Z   \n",
       "4           5         0 -4.885260e+18  2016-02-04T04:26:52.136Z   \n",
       "\n",
       "                                      ConditionNotes  IsFeaturedMerchant  \\\n",
       "0  Ready To Ship - We are unable to ship to PO Bo...                   1   \n",
       "1                                                  .                   1   \n",
       "2                           Fast shipping in Canada.                   1   \n",
       "3                                                NaN                   0   \n",
       "4                                                NaN                   0   \n",
       "\n",
       "   IsFulfilledByAmazon  ListingPrice  SellerFeedbackRating  \\\n",
       "0                    0        107.35                    95   \n",
       "1                    0        100.46                    98   \n",
       "2                    0         99.24                    95   \n",
       "3                    0        109.48                    94   \n",
       "4                    0        116.70                    67   \n",
       "\n",
       "   SellerFeedbackCount      SellerId  ShippingPrice  ShippingTime_minHours  \\\n",
       "0                 4078 -1.789490e+18           0.00                     48   \n",
       "1                  478  5.452080e+18           6.99                     24   \n",
       "2                 4384 -2.572280e+18          11.67                     24   \n",
       "3                  105 -8.704030e+18           8.99                     24   \n",
       "4                    9  1.929050e+18           6.98                     24   \n",
       "\n",
       "   ShippingTime_maxHours ShipsFromCountry ShipsFromState  \n",
       "0                     72               CA             ON  \n",
       "1                     48               CA             ON  \n",
       "2                     48               CA             ON  \n",
       "3                     48               CA             ON  \n",
       "4                     48               CA             AB  "
      ]
     },
     "execution_count": 4,
     "metadata": {},
     "output_type": "execute_result"
    }
   ],
   "source": [
    "#test that we have the data\n",
    "df.head()\n",
    "#utf-8 encoding throwing an error - have I made some unwanted change to the csv as the old file still reads fine? \n",
    "#using ISO-8859-1 introduces a new 'unnamed' column?"
   ]
  },
  {
   "cell_type": "markdown",
   "metadata": {
    "collapsed": true
   },
   "source": [
    "# Question 1. Data Understanding: Exploring Relationships Between Feature Pairs"
   ]
  },
  {
   "cell_type": "markdown",
   "metadata": {},
   "source": [
    "## 1.1 Print the correlations between the continuous features"
   ]
  },
  {
   "cell_type": "code",
   "execution_count": 5,
   "metadata": {
    "collapsed": false
   },
   "outputs": [
    {
     "data": {
      "text/html": [
       "<div>\n",
       "<table border=\"1\" class=\"dataframe\">\n",
       "  <thead>\n",
       "    <tr style=\"text-align: right;\">\n",
       "      <th></th>\n",
       "      <th>SellerFeedbackRating</th>\n",
       "      <th>SellerFeedbackCount</th>\n",
       "      <th>ListingPrice</th>\n",
       "      <th>ShippingPrice</th>\n",
       "      <th>ShippingTime_minHours</th>\n",
       "      <th>ShippingTime_maxHours</th>\n",
       "    </tr>\n",
       "  </thead>\n",
       "  <tbody>\n",
       "    <tr>\n",
       "      <th>SellerFeedbackRating</th>\n",
       "      <td>1.000000</td>\n",
       "      <td>0.105576</td>\n",
       "      <td>-0.037842</td>\n",
       "      <td>-0.005308</td>\n",
       "      <td>-0.163926</td>\n",
       "      <td>-0.176798</td>\n",
       "    </tr>\n",
       "    <tr>\n",
       "      <th>SellerFeedbackCount</th>\n",
       "      <td>0.105576</td>\n",
       "      <td>1.000000</td>\n",
       "      <td>-0.001166</td>\n",
       "      <td>-0.202074</td>\n",
       "      <td>0.295287</td>\n",
       "      <td>0.212978</td>\n",
       "    </tr>\n",
       "    <tr>\n",
       "      <th>ListingPrice</th>\n",
       "      <td>-0.037842</td>\n",
       "      <td>-0.001166</td>\n",
       "      <td>1.000000</td>\n",
       "      <td>0.215024</td>\n",
       "      <td>0.038674</td>\n",
       "      <td>0.032914</td>\n",
       "    </tr>\n",
       "    <tr>\n",
       "      <th>ShippingPrice</th>\n",
       "      <td>-0.005308</td>\n",
       "      <td>-0.202074</td>\n",
       "      <td>0.215024</td>\n",
       "      <td>1.000000</td>\n",
       "      <td>-0.016701</td>\n",
       "      <td>0.036349</td>\n",
       "    </tr>\n",
       "    <tr>\n",
       "      <th>ShippingTime_minHours</th>\n",
       "      <td>-0.163926</td>\n",
       "      <td>0.295287</td>\n",
       "      <td>0.038674</td>\n",
       "      <td>-0.016701</td>\n",
       "      <td>1.000000</td>\n",
       "      <td>0.973911</td>\n",
       "    </tr>\n",
       "    <tr>\n",
       "      <th>ShippingTime_maxHours</th>\n",
       "      <td>-0.176798</td>\n",
       "      <td>0.212978</td>\n",
       "      <td>0.032914</td>\n",
       "      <td>0.036349</td>\n",
       "      <td>0.973911</td>\n",
       "      <td>1.000000</td>\n",
       "    </tr>\n",
       "  </tbody>\n",
       "</table>\n",
       "</div>"
      ],
      "text/plain": [
       "                       SellerFeedbackRating  SellerFeedbackCount  \\\n",
       "SellerFeedbackRating               1.000000             0.105576   \n",
       "SellerFeedbackCount                0.105576             1.000000   \n",
       "ListingPrice                      -0.037842            -0.001166   \n",
       "ShippingPrice                     -0.005308            -0.202074   \n",
       "ShippingTime_minHours             -0.163926             0.295287   \n",
       "ShippingTime_maxHours             -0.176798             0.212978   \n",
       "\n",
       "                       ListingPrice  ShippingPrice  ShippingTime_minHours  \\\n",
       "SellerFeedbackRating      -0.037842      -0.005308              -0.163926   \n",
       "SellerFeedbackCount       -0.001166      -0.202074               0.295287   \n",
       "ListingPrice               1.000000       0.215024               0.038674   \n",
       "ShippingPrice              0.215024       1.000000              -0.016701   \n",
       "ShippingTime_minHours      0.038674      -0.016701               1.000000   \n",
       "ShippingTime_maxHours      0.032914       0.036349               0.973911   \n",
       "\n",
       "                       ShippingTime_maxHours  \n",
       "SellerFeedbackRating               -0.176798  \n",
       "SellerFeedbackCount                 0.212978  \n",
       "ListingPrice                        0.032914  \n",
       "ShippingPrice                       0.036349  \n",
       "ShippingTime_minHours               0.973911  \n",
       "ShippingTime_maxHours               1.000000  "
      ]
     },
     "execution_count": 5,
     "metadata": {},
     "output_type": "execute_result"
    }
   ],
   "source": [
    "df[['SellerFeedbackRating', 'SellerFeedbackCount', 'ListingPrice', 'ShippingPrice', 'ShippingTime_minHours', 'ShippingTime_maxHours']].corr()"
   ]
  },
  {
   "cell_type": "markdown",
   "metadata": {},
   "source": [
    "## 1.2 Plot the scatter plots of each pair of continuous descriptive feature and target feature"
   ]
  },
  {
   "cell_type": "code",
   "execution_count": 6,
   "metadata": {
    "collapsed": false,
    "scrolled": true
   },
   "outputs": [
    {
     "data": {
      "text/plain": [
       "<matplotlib.axes._subplots.AxesSubplot at 0x15b87201668>"
      ]
     },
     "execution_count": 6,
     "metadata": {},
     "output_type": "execute_result"
    },
    {
     "data": {
      "image/png": "[encoded data removed]",
      "text/plain": [
       "<matplotlib.figure.Figure at 0x15b86b6bac8>"
      ]
     },
     "metadata": {},
     "output_type": "display_data"
    },
    {
     "data": {
      "image/png": "[encoded data removed]",
      "text/plain": [
       "<matplotlib.figure.Figure at 0x15b86b6ba58>"
      ]
     },
     "metadata": {},
     "output_type": "display_data"
    },
    {
     "data": {
      "image/png": "[encoded data removed]",
      "text/plain": [
       "<matplotlib.figure.Figure at 0x15b8705c668>"
      ]
     },
     "metadata": {},
     "output_type": "display_data"
    },
    {
     "data": {
      "image/png": "[encoded data removed]",
      "text/plain": [
       "<matplotlib.figure.Figure at 0x15b8705cfd0>"
      ]
     },
     "metadata": {},
     "output_type": "display_data"
    },
    {
     "data": {
      "image/png": "[encoded data removed]",
      "text/plain": [
       "<matplotlib.figure.Figure at 0x15b871752e8>"
      ]
     },
     "metadata": {},
     "output_type": "display_data"
    },
    {
     "data": {
      "image/png": "[encoded data removed]",
      "text/plain": [
       "<matplotlib.figure.Figure at 0x15b87175fd0>"
      ]
     },
     "metadata": {},
     "output_type": "display_data"
    }
   ],
   "source": [
    "df.plot(kind='scatter', x='IsWinner', y='SellerFeedbackRating')\n",
    "df.plot(kind='scatter', x='IsWinner', y='SellerFeedbackCount')\n",
    "df.plot(kind='scatter', x='IsWinner', y='ListingPrice')\n",
    "df.plot(kind='scatter', x='IsWinner', y='ShippingPrice')\n",
    "df.plot(kind='scatter', x='IsWinner', y='ShippingTime_minHours')\n",
    "df.plot(kind='scatter', x='IsWinner', y='ShippingTime_maxHours')\n",
    "\n",
    "#negative values - do I need to go back at look at removing outliers? "
   ]
  },
  {
   "cell_type": "markdown",
   "metadata": {},
   "source": [
    "## 1.3 Discuss what you observe from the scatter plots and correlations, e.g., which continuous features seem to be better at predicting the target feature. Choose a subset of continuous features you find promising. Justify your choices. "
   ]
  },
  {
   "cell_type": "markdown",
   "metadata": {
    "collapsed": true
   },
   "source": [
    "1. Seller Feedback Rating looks promising - from the scatter plot we can see that there is a correlation between sellers with ratings above 80 and the target feature. While we can see that it isn't conclusive that the offer would be in the positive class based solely on this, it could act as a way to reduce the probability of an offer being in the positive class - if the seller rating is below the threshold.\n",
    "2. We can see a similar pattern in regard to Listing Price. There are no cases in the positive class above the Listing Price of 1500 dollars - this is something we could look at further. \n",
    "3. Shipping Price is similar to Listing Price. There are no positive cases above 100 dollars except one instance which could be an outlier. This is something that we could look at further also. "
   ]
  },
  {
   "cell_type": "markdown",
   "metadata": {},
   "source": [
    "## 1.4 For each categorical feature, plot the pairwise interaction with the target feature (barplots or stacked barplots). "
   ]
  },
  {
   "cell_type": "code",
   "execution_count": 7,
   "metadata": {
    "collapsed": false
   },
   "outputs": [],
   "source": [
    "%matplotlib inline\n",
    "\n",
    "#define our categorical features\n",
    "categorical_features = ['IsWinner', 'IsFeaturedMerchant', 'IsFulfilledByAmazon',\n",
    "                        'ShipsFromCountry', 'ShipsFromState', 'ConditionNotes']\n",
    "\n",
    "categorical_columns = df[categorical_features].columns\n"
   ]
  },
  {
   "cell_type": "code",
   "execution_count": 8,
   "metadata": {
    "collapsed": false,
    "scrolled": true
   },
   "outputs": [
    {
     "data": {
      "text/plain": [
       "(0, 100)"
      ]
     },
     "execution_count": 8,
     "metadata": {},
     "output_type": "execute_result"
    },
    {
     "data": {
      "image/png": "[encoded data removed]",
      "text/plain": [
       "<matplotlib.figure.Figure at 0x15b8729ca20>"
      ]
     },
     "metadata": {},
     "output_type": "display_data"
    }
   ],
   "source": [
    "# Find unique values in ShipsFromState\n",
    "\n",
    "states = pd.unique(df.ShipsFromState.ravel())\n",
    "\n",
    "# Insert a new column called 'percent' and fill it with 0s\n",
    "df['percent'] = 0\n",
    "\n",
    "# Iterate through the unique values in State and for each value count the amount of winners\n",
    "# Find the indexes of each row with a particular state and for each of these row insert count * 100 in the percent column\n",
    "for s in states:\n",
    "    count = 1 / df[df.ShipsFromState == s].count()['IsWinner']\n",
    "    index_list = df[df['ShipsFromState'] == s].index.tolist()\n",
    "    for i in index_list:\n",
    "        df.loc[i, 'percent'] = count * 100\n",
    "\n",
    "\n",
    "category_group = df[['percent', 'ShipsFromState','IsWinner']].groupby(['ShipsFromState','IsWinner']).sum()\n",
    "\n",
    "my_plot = category_group.unstack().plot(kind='bar', stacked=True, title=\"Winners by State Shipped From\", figsize=(13,7))\n",
    "\n",
    "red_patch = mpatches.Patch(color='green', label='IsWinner')\n",
    "blue_patch = mpatches.Patch(color='blue', label='NotWinner')\n",
    "my_plot.legend(handles=[red_patch, blue_patch], frameon = True)\n",
    "\n",
    "my_plot.set_xlabel(\"ShipsFromState\")\n",
    "my_plot.set_ylabel(\"IsWinner\")\n",
    "my_plot.set_ylim([0,100])"
   ]
  },
  {
   "cell_type": "code",
   "execution_count": 9,
   "metadata": {
    "collapsed": false
   },
   "outputs": [
    {
     "data": {
      "text/plain": [
       "(0, 100)"
      ]
     },
     "execution_count": 9,
     "metadata": {},
     "output_type": "execute_result"
    },
    {
     "data": {
      "image/png": "[encoded data removed]",
      "text/plain": [
       "<matplotlib.figure.Figure at 0x15b873a7e10>"
      ]
     },
     "metadata": {},
     "output_type": "display_data"
    }
   ],
   "source": [
    "# Count the number of female candidates\n",
    "count_is = 1 / df[df.IsFeaturedMerchant == 1].count()['IsFeaturedMerchant']\n",
    "\n",
    "# Counts the number of male candidates\n",
    "count_isnot = 1 / df[df.IsFeaturedMerchant == 0].count()['IsFeaturedMerchant']\n",
    "\n",
    "# Create a new column in the dataframe called percent and insert male_count in all cells\n",
    "df['percent'] = count_isnot * 100\n",
    "\n",
    "# Find indexes of all rows containing value Female for Gender\n",
    "index_list = df[df['IsFeaturedMerchant'] == 1].index.tolist()\n",
    "\n",
    "# For each row with a 'female' value, insert female_count in the percent column\n",
    "for i in index_list:\n",
    "    df.loc[i, 'percent'] = count_is * 100\n",
    "\n",
    "# Group dataframe by Gender and Elected and sum precent\n",
    "category_group = df[['percent','IsFeaturedMerchant','IsWinner']].groupby(['IsFeaturedMerchant','IsWinner']).sum()\n",
    "\n",
    "# Plot values of category_group in a stacked bar chart\n",
    "my_plot = category_group.unstack().plot(kind='bar', stacked=True, title=\"Winners by Featured Merchant Status\", figsize=(13,7))\n",
    "\n",
    "# Define legend colours and text and add to the plot\n",
    "red_patch = mpatches.Patch(color='green', label='Is Winner')\n",
    "blue_patch = mpatches.Patch(color='blue', label='Not Winner')\n",
    "my_plot.legend(handles=[red_patch, blue_patch], frameon = True)\n",
    "\n",
    "# Define x and y labels and min and max values for the y axis\n",
    "my_plot.set_xlabel(\"Is Featured Merchant\")\n",
    "my_plot.set_ylabel(\"% Winners\")\n",
    "my_plot.set_ylim([0,100])"
   ]
  },
  {
   "cell_type": "code",
   "execution_count": 10,
   "metadata": {
    "collapsed": false,
    "scrolled": false
   },
   "outputs": [
    {
     "data": {
      "text/plain": [
       "(0, 100)"
      ]
     },
     "execution_count": 10,
     "metadata": {},
     "output_type": "execute_result"
    },
    {
     "data": {
      "image/png": "[encoded data removed]",
      "text/plain": [
       "<matplotlib.figure.Figure at 0x15b848b5710>"
      ]
     },
     "metadata": {},
     "output_type": "display_data"
    }
   ],
   "source": [
    "# Count the number of female candidates\n",
    "count_CA = 1 / df[df.ShipsFromCountry == 'CA'].count()['ShipsFromCountry']\n",
    "\n",
    "# Counts the number of male candidates\n",
    "count_US = 1 / df[df.ShipsFromCountry == 'US'].count()['ShipsFromCountry']\n",
    "\n",
    "# Create a new column in the dataframe called percent and insert male_count in all cells\n",
    "df['percent'] = count_US * 100\n",
    "\n",
    "# Find indexes of all rows containing value Female for Gender\n",
    "index_list = df[df['ShipsFromCountry'] == 'CA'].index.tolist()\n",
    "\n",
    "# For each row with a 'female' value, insert female_count in the percent column\n",
    "for i in index_list:\n",
    "    df.loc[i, 'percent'] = count_CA * 100\n",
    "\n",
    "# Group dataframe by Gender and Elected and sum precent\n",
    "category_group = df[['percent','ShipsFromCountry','IsWinner']].groupby(['ShipsFromCountry','IsWinner']).sum()\n",
    "\n",
    "# Plot values of category_group in a stacked bar chart\n",
    "my_plot = category_group.unstack().plot(kind='bar', stacked=True, title=\"Winners by Ships From Country\", figsize=(13,7))\n",
    "\n",
    "# Define legend colours and text and add to the plot\n",
    "red_patch = mpatches.Patch(color='green', label='Is Winner')\n",
    "blue_patch = mpatches.Patch(color='blue', label='Not Winner')\n",
    "my_plot.legend(handles=[red_patch, blue_patch], frameon = True)\n",
    "\n",
    "# Define x and y labels and min and max values for the y axis\n",
    "my_plot.set_xlabel(\"ShipsFromCountry\")\n",
    "my_plot.set_ylabel(\"% Winners\")\n",
    "my_plot.set_ylim([0,100])"
   ]
  },
  {
   "cell_type": "code",
   "execution_count": 11,
   "metadata": {
    "collapsed": false
   },
   "outputs": [
    {
     "name": "stderr",
     "output_type": "stream",
     "text": [
      "C:\\Users\\pamel\\Anaconda3\\lib\\site-packages\\ipykernel\\__main__.py:2: RuntimeWarning: divide by zero encountered in longlong_scalars\n",
      "  from ipykernel import kernelapp as app\n"
     ]
    },
    {
     "data": {
      "text/plain": [
       "(0, 100)"
      ]
     },
     "execution_count": 11,
     "metadata": {},
     "output_type": "execute_result"
    },
    {
     "data": {
      "image/png": "[encoded data removed]",
      "text/plain": [
       "<matplotlib.figure.Figure at 0x15b8724abe0>"
      ]
     },
     "metadata": {},
     "output_type": "display_data"
    }
   ],
   "source": [
    "# Count the number of female candidates\n",
    "count_is = 1 / df[df.IsFulfilledByAmazon == 1].count()['IsFulfilledByAmazon']\n",
    "\n",
    "# Counts the number of male candidates\n",
    "count_isnot = 1 / df[df.IsFulfilledByAmazon == 0].count()['IsFulfilledByAmazon']\n",
    "\n",
    "# Create a new column in the dataframe called percent and insert male_count in all cells\n",
    "df['percent'] = count_isnot * 100\n",
    "\n",
    "# Find indexes of all rows containing value Female for Gender\n",
    "index_list = df[df['IsFulfilledByAmazon'] == 1].index.tolist()\n",
    "\n",
    "# For each row with a 'female' value, insert female_count in the percent column\n",
    "for i in index_list:\n",
    "    df.loc[i, 'percent'] = count_is * 100\n",
    "\n",
    "# Group dataframe by Gender and Elected and sum precent\n",
    "category_group = df[['percent','IsFulfilledByAmazon','IsWinner']].groupby(['IsFulfilledByAmazon','IsWinner']).sum()\n",
    "\n",
    "# Plot values of category_group in a stacked bar chart\n",
    "my_plot = category_group.unstack().plot(kind='bar', stacked=True, title=\"Winners by Fulfilled by Amazon\", figsize=(13,7))\n",
    "\n",
    "# Define legend colours and text and add to the plot\n",
    "red_patch = mpatches.Patch(color='green', label='Is Winner')\n",
    "blue_patch = mpatches.Patch(color='blue', label='Not Winner')\n",
    "my_plot.legend(handles=[red_patch, blue_patch], frameon = True)\n",
    "\n",
    "# Define x and y labels and min and max values for the y axis\n",
    "my_plot.set_xlabel(\"Fulfilled By Amazon\")\n",
    "my_plot.set_ylabel(\"% Winners\")\n",
    "my_plot.set_ylim([0,100])"
   ]
  },
  {
   "cell_type": "markdown",
   "metadata": {},
   "source": [
    "## 1.5 Discuss what knowledge you gain from plotting the interaction of descriptive categorical features and the target feature, e.g., which categorical features seem to be better at predicting the target feature. Choose a subset of categorical features you find promising. Justify your choices. "
   ]
  },
  {
   "cell_type": "markdown",
   "metadata": {
    "collapsed": true
   },
   "source": [
    "1. Ships From State seems to be the most informative - there are a high number of winners from BC (British Columbia) and CA (California). \n",
    "For the rest of the features, it is difficult to tell which are good indicators. There doesn't seem to be a high correlation between any of them and the target feature. "
   ]
  },
  {
   "cell_type": "markdown",
   "metadata": {},
   "source": [
    "# Question 2: Predictive Modeling: Linear Regression"
   ]
  },
  {
   "cell_type": "markdown",
   "metadata": {},
   "source": [
    "## 2.1 Train a linear regression model to predict the target feature IsWinner, using the descriptive features selected in exercise (1). Evaluate the quality of the model on the training set. "
   ]
  },
  {
   "cell_type": "code",
   "execution_count": 12,
   "metadata": {
    "collapsed": false
   },
   "outputs": [],
   "source": [
    "#should categorical features be in here? Is descriptive continuous or categorical or both? \n",
    "import statsmodels.formula.api as sm\n",
    "\n",
    "# The formula specifies the target feature and the descriptive features used for training the \n",
    "# linear regression model.\n",
    "# Multiple Linear Regression\n",
    "#Is a descriptive feature continuous or categorical? \n",
    "# For training the model we call the method fit() on the given data stored in our df dataframe.\n",
    "lm = sm.ols(formula=\"IsWinner ~ ListingPrice + ShippingPrice + SellerFeedbackRating + ShipsFromCountry + ShipsFromState\", data=df).fit()"
   ]
  },
  {
   "cell_type": "markdown",
   "metadata": {},
   "source": [
    "Discussion: Unsure yet how to discuss without observing firs the coefficients at least? "
   ]
  },
  {
   "cell_type": "markdown",
   "metadata": {},
   "source": [
    "## 2.2 Print the coefficients learned by the model and discuss their statistical significance as well as their role in the model. "
   ]
  },
  {
   "cell_type": "code",
   "execution_count": 13,
   "metadata": {
    "collapsed": false
   },
   "outputs": [
    {
     "name": "stdout",
     "output_type": "stream",
     "text": [
      "Intercept                 0.010748\n",
      "ShipsFromCountry[T.US]   -0.009928\n",
      "ShipsFromState[T.BC]      0.272139\n",
      "ShipsFromState[T.CA]     -0.016157\n",
      "ShipsFromState[T.CT]     -0.030239\n",
      "ShipsFromState[T.DE]     -0.017140\n",
      "ShipsFromState[T.FL]     -0.011296\n",
      "ShipsFromState[T.GA]     -0.009388\n",
      "ShipsFromState[T.IL]     -0.018178\n",
      "ShipsFromState[T.KS]     -0.021514\n",
      "ShipsFromState[T.MD]     -0.005670\n",
      "ShipsFromState[T.MI]     -0.003736\n",
      "ShipsFromState[T.MO]     -0.028249\n",
      "ShipsFromState[T.NB]     -0.027222\n",
      "ShipsFromState[T.NH]     -0.018966\n",
      "ShipsFromState[T.NJ]      0.017960\n",
      "ShipsFromState[T.NV]     -0.013375\n",
      "ShipsFromState[T.NY]     -0.008624\n",
      "ShipsFromState[T.ON]      0.021552\n",
      "ShipsFromState[T.PA]      0.199391\n",
      "ShipsFromState[T.QC]      0.002997\n",
      "ShipsFromState[T.SC]     -0.011130\n",
      "ShipsFromState[T.TN]     -0.000012\n",
      "ShipsFromState[T.TX]     -0.013709\n",
      "ShipsFromState[T.VA]      0.000104\n",
      "ListingPrice              0.000014\n",
      "ShippingPrice            -0.000291\n",
      "SellerFeedbackRating      0.000269\n",
      "dtype: float64\n"
     ]
    }
   ],
   "source": [
    "# Print the model weights/parameters\n",
    "print(lm.params)"
   ]
  },
  {
   "cell_type": "markdown",
   "metadata": {},
   "source": [
    "From the above coefficients we can see that the statistically relevant features are ShipsFromState where that state is BC, TN, ON, PA, QC, or VA; Listing Price and Seller Feedback Rating. \n",
    "\n",
    "The others are all in the negative meaning that an increase in those features does not equate to an increase in the likelyhood of an offer becoming a winner. \n",
    "\n",
    "What we need to look at now is how we can reorganise the data contained within the Ships From State column. \n",
    "\n",
    "Reference for interpreting coefficients: https://github.com/justmarkham/DAT4/blob/master/notebooks/08_linear_regression.ipynb"
   ]
  },
  {
   "cell_type": "code",
   "execution_count": 14,
   "metadata": {
    "collapsed": false
   },
   "outputs": [],
   "source": [
    "# create dummy variables using get_dummies, #normally exclude the first dummy column\n",
    "# but because there are so many categories here I have chosen to include it\n",
    "ShipsFromState_dummies = pd.get_dummies(df.ShipsFromState, prefix='ShipsFrom').iloc[:, :]\n",
    "\n",
    "# concatenate the dummy variable columns onto the original DataFrame (axis=0 means rows, axis=1 means columns)\n",
    "df = pd.concat([df, ShipsFromState_dummies], axis=1)\n",
    "\n",
    "#now we can look at only the statistically significant parts of Ships From State\n",
    "#I have a lot of colinear columns here - is there a better way to handle this? "
   ]
  },
  {
   "cell_type": "code",
   "execution_count": 15,
   "metadata": {
    "collapsed": false
   },
   "outputs": [
    {
     "data": {
      "text/html": [
       "<table class=\"simpletable\">\n",
       "<caption>OLS Regression Results</caption>\n",
       "<tr>\n",
       "  <th>Dep. Variable:</th>        <td>IsWinner</td>     <th>  R-squared:         </th> <td>   0.081</td>\n",
       "</tr>\n",
       "<tr>\n",
       "  <th>Model:</th>                   <td>OLS</td>       <th>  Adj. R-squared:    </th> <td>   0.077</td>\n",
       "</tr>\n",
       "<tr>\n",
       "  <th>Method:</th>             <td>Least Squares</td>  <th>  F-statistic:       </th> <td>   19.64</td>\n",
       "</tr>\n",
       "<tr>\n",
       "  <th>Date:</th>             <td>Wed, 12 Apr 2017</td> <th>  Prob (F-statistic):</th> <td>3.06e-87</td>\n",
       "</tr>\n",
       "<tr>\n",
       "  <th>Time:</th>                 <td>15:05:22</td>     <th>  Log-Likelihood:    </th> <td>  751.51</td>\n",
       "</tr>\n",
       "<tr>\n",
       "  <th>No. Observations:</th>      <td>  5851</td>      <th>  AIC:               </th> <td>  -1449.</td>\n",
       "</tr>\n",
       "<tr>\n",
       "  <th>Df Residuals:</th>          <td>  5824</td>      <th>  BIC:               </th> <td>  -1269.</td>\n",
       "</tr>\n",
       "<tr>\n",
       "  <th>Df Model:</th>              <td>    26</td>      <th>                     </th>     <td> </td>   \n",
       "</tr>\n",
       "<tr>\n",
       "  <th>Covariance Type:</th>      <td>nonrobust</td>    <th>                     </th>     <td> </td>   \n",
       "</tr>\n",
       "</table>\n",
       "<table class=\"simpletable\">\n",
       "<tr>\n",
       "             <td></td>               <th>coef</th>     <th>std err</th>      <th>t</th>      <th>P>|t|</th> <th>[95.0% Conf. Int.]</th> \n",
       "</tr>\n",
       "<tr>\n",
       "  <th>Intercept</th>              <td>    0.0107</td> <td>    0.040</td> <td>    0.266</td> <td> 0.790</td> <td>   -0.069     0.090</td>\n",
       "</tr>\n",
       "<tr>\n",
       "  <th>ShipsFromCountry[T.US]</th> <td>   -0.0099</td> <td>    0.041</td> <td>   -0.243</td> <td> 0.808</td> <td>   -0.090     0.070</td>\n",
       "</tr>\n",
       "<tr>\n",
       "  <th>ShipsFromState[T.BC]</th>   <td>    0.2721</td> <td>    0.038</td> <td>    7.085</td> <td> 0.000</td> <td>    0.197     0.347</td>\n",
       "</tr>\n",
       "<tr>\n",
       "  <th>ShipsFromState[T.CA]</th>   <td>   -0.0162</td> <td>    0.026</td> <td>   -0.623</td> <td> 0.533</td> <td>   -0.067     0.035</td>\n",
       "</tr>\n",
       "<tr>\n",
       "  <th>ShipsFromState[T.CT]</th>   <td>   -0.0302</td> <td>    0.094</td> <td>   -0.322</td> <td> 0.747</td> <td>   -0.214     0.154</td>\n",
       "</tr>\n",
       "<tr>\n",
       "  <th>ShipsFromState[T.DE]</th>   <td>   -0.0171</td> <td>    0.104</td> <td>   -0.164</td> <td> 0.870</td> <td>   -0.222     0.188</td>\n",
       "</tr>\n",
       "<tr>\n",
       "  <th>ShipsFromState[T.FL]</th>   <td>   -0.0113</td> <td>    0.068</td> <td>   -0.167</td> <td> 0.867</td> <td>   -0.144     0.121</td>\n",
       "</tr>\n",
       "<tr>\n",
       "  <th>ShipsFromState[T.GA]</th>   <td>   -0.0094</td> <td>    0.120</td> <td>   -0.078</td> <td> 0.937</td> <td>   -0.244     0.225</td>\n",
       "</tr>\n",
       "<tr>\n",
       "  <th>ShipsFromState[T.IL]</th>   <td>   -0.0182</td> <td>    0.204</td> <td>   -0.089</td> <td> 0.929</td> <td>   -0.418     0.381</td>\n",
       "</tr>\n",
       "<tr>\n",
       "  <th>ShipsFromState[T.KS]</th>   <td>   -0.0215</td> <td>    0.065</td> <td>   -0.329</td> <td> 0.742</td> <td>   -0.150     0.107</td>\n",
       "</tr>\n",
       "<tr>\n",
       "  <th>ShipsFromState[T.MD]</th>   <td>   -0.0057</td> <td>    0.106</td> <td>   -0.054</td> <td> 0.957</td> <td>   -0.213     0.202</td>\n",
       "</tr>\n",
       "<tr>\n",
       "  <th>ShipsFromState[T.MI]</th>   <td>   -0.0037</td> <td>    0.038</td> <td>   -0.100</td> <td> 0.921</td> <td>   -0.077     0.070</td>\n",
       "</tr>\n",
       "<tr>\n",
       "  <th>ShipsFromState[T.MO]</th>   <td>   -0.0282</td> <td>    0.145</td> <td>   -0.195</td> <td> 0.846</td> <td>   -0.313     0.256</td>\n",
       "</tr>\n",
       "<tr>\n",
       "  <th>ShipsFromState[T.NB]</th>   <td>   -0.0272</td> <td>    0.216</td> <td>   -0.126</td> <td> 0.900</td> <td>   -0.451     0.397</td>\n",
       "</tr>\n",
       "<tr>\n",
       "  <th>ShipsFromState[T.NH]</th>   <td>   -0.0190</td> <td>    0.204</td> <td>   -0.093</td> <td> 0.926</td> <td>   -0.419     0.381</td>\n",
       "</tr>\n",
       "<tr>\n",
       "  <th>ShipsFromState[T.NJ]</th>   <td>    0.0180</td> <td>    0.029</td> <td>    0.627</td> <td> 0.531</td> <td>   -0.038     0.074</td>\n",
       "</tr>\n",
       "<tr>\n",
       "  <th>ShipsFromState[T.NV]</th>   <td>   -0.0134</td> <td>    0.034</td> <td>   -0.388</td> <td> 0.698</td> <td>   -0.081     0.054</td>\n",
       "</tr>\n",
       "<tr>\n",
       "  <th>ShipsFromState[T.NY]</th>   <td>   -0.0086</td> <td>    0.025</td> <td>   -0.346</td> <td> 0.729</td> <td>   -0.057     0.040</td>\n",
       "</tr>\n",
       "<tr>\n",
       "  <th>ShipsFromState[T.ON]</th>   <td>    0.0216</td> <td>    0.037</td> <td>    0.588</td> <td> 0.557</td> <td>   -0.050     0.093</td>\n",
       "</tr>\n",
       "<tr>\n",
       "  <th>ShipsFromState[T.PA]</th>   <td>    0.1994</td> <td>    0.094</td> <td>    2.111</td> <td> 0.035</td> <td>    0.014     0.385</td>\n",
       "</tr>\n",
       "<tr>\n",
       "  <th>ShipsFromState[T.QC]</th>   <td>    0.0030</td> <td>    0.037</td> <td>    0.081</td> <td> 0.936</td> <td>   -0.070     0.076</td>\n",
       "</tr>\n",
       "<tr>\n",
       "  <th>ShipsFromState[T.SC]</th>   <td>   -0.0111</td> <td>    0.119</td> <td>   -0.093</td> <td> 0.926</td> <td>   -0.245     0.222</td>\n",
       "</tr>\n",
       "<tr>\n",
       "  <th>ShipsFromState[T.TN]</th>   <td>-1.187e-05</td> <td>    0.068</td> <td>   -0.000</td> <td> 1.000</td> <td>   -0.134     0.134</td>\n",
       "</tr>\n",
       "<tr>\n",
       "  <th>ShipsFromState[T.TX]</th>   <td>   -0.0137</td> <td>    0.104</td> <td>   -0.132</td> <td> 0.895</td> <td>   -0.217     0.190</td>\n",
       "</tr>\n",
       "<tr>\n",
       "  <th>ShipsFromState[T.VA]</th>   <td>    0.0001</td> <td>    0.027</td> <td>    0.004</td> <td> 0.997</td> <td>   -0.053     0.053</td>\n",
       "</tr>\n",
       "<tr>\n",
       "  <th>ListingPrice</th>           <td> 1.404e-05</td> <td> 1.17e-05</td> <td>    1.204</td> <td> 0.229</td> <td>-8.82e-06  3.69e-05</td>\n",
       "</tr>\n",
       "<tr>\n",
       "  <th>ShippingPrice</th>          <td>   -0.0003</td> <td>    0.000</td> <td>   -1.709</td> <td> 0.088</td> <td>   -0.001  4.28e-05</td>\n",
       "</tr>\n",
       "<tr>\n",
       "  <th>SellerFeedbackRating</th>   <td>    0.0003</td> <td>    0.000</td> <td>    0.948</td> <td> 0.343</td> <td>   -0.000     0.001</td>\n",
       "</tr>\n",
       "</table>\n",
       "<table class=\"simpletable\">\n",
       "<tr>\n",
       "  <th>Omnibus:</th>       <td>4369.697</td> <th>  Durbin-Watson:     </th> <td>   2.097</td> \n",
       "</tr>\n",
       "<tr>\n",
       "  <th>Prob(Omnibus):</th>  <td> 0.000</td>  <th>  Jarque-Bera (JB):  </th> <td>56581.038</td>\n",
       "</tr>\n",
       "<tr>\n",
       "  <th>Skew:</th>           <td> 3.652</td>  <th>  Prob(JB):          </th> <td>    0.00</td> \n",
       "</tr>\n",
       "<tr>\n",
       "  <th>Kurtosis:</th>       <td>16.369</td>  <th>  Cond. No.          </th> <td>1.45e+16</td> \n",
       "</tr>\n",
       "</table>"
      ],
      "text/plain": [
       "<class 'statsmodels.iolib.summary.Summary'>\n",
       "\"\"\"\n",
       "                            OLS Regression Results                            \n",
       "==============================================================================\n",
       "Dep. Variable:               IsWinner   R-squared:                       0.081\n",
       "Model:                            OLS   Adj. R-squared:                  0.077\n",
       "Method:                 Least Squares   F-statistic:                     19.64\n",
       "Date:                Wed, 12 Apr 2017   Prob (F-statistic):           3.06e-87\n",
       "Time:                        15:05:22   Log-Likelihood:                 751.51\n",
       "No. Observations:                5851   AIC:                            -1449.\n",
       "Df Residuals:                    5824   BIC:                            -1269.\n",
       "Df Model:                          26                                         \n",
       "Covariance Type:            nonrobust                                         \n",
       "==========================================================================================\n",
       "                             coef    std err          t      P>|t|      [95.0% Conf. Int.]\n",
       "------------------------------------------------------------------------------------------\n",
       "Intercept                  0.0107      0.040      0.266      0.790        -0.069     0.090\n",
       "ShipsFromCountry[T.US]    -0.0099      0.041     -0.243      0.808        -0.090     0.070\n",
       "ShipsFromState[T.BC]       0.2721      0.038      7.085      0.000         0.197     0.347\n",
       "ShipsFromState[T.CA]      -0.0162      0.026     -0.623      0.533        -0.067     0.035\n",
       "ShipsFromState[T.CT]      -0.0302      0.094     -0.322      0.747        -0.214     0.154\n",
       "ShipsFromState[T.DE]      -0.0171      0.104     -0.164      0.870        -0.222     0.188\n",
       "ShipsFromState[T.FL]      -0.0113      0.068     -0.167      0.867        -0.144     0.121\n",
       "ShipsFromState[T.GA]      -0.0094      0.120     -0.078      0.937        -0.244     0.225\n",
       "ShipsFromState[T.IL]      -0.0182      0.204     -0.089      0.929        -0.418     0.381\n",
       "ShipsFromState[T.KS]      -0.0215      0.065     -0.329      0.742        -0.150     0.107\n",
       "ShipsFromState[T.MD]      -0.0057      0.106     -0.054      0.957        -0.213     0.202\n",
       "ShipsFromState[T.MI]      -0.0037      0.038     -0.100      0.921        -0.077     0.070\n",
       "ShipsFromState[T.MO]      -0.0282      0.145     -0.195      0.846        -0.313     0.256\n",
       "ShipsFromState[T.NB]      -0.0272      0.216     -0.126      0.900        -0.451     0.397\n",
       "ShipsFromState[T.NH]      -0.0190      0.204     -0.093      0.926        -0.419     0.381\n",
       "ShipsFromState[T.NJ]       0.0180      0.029      0.627      0.531        -0.038     0.074\n",
       "ShipsFromState[T.NV]      -0.0134      0.034     -0.388      0.698        -0.081     0.054\n",
       "ShipsFromState[T.NY]      -0.0086      0.025     -0.346      0.729        -0.057     0.040\n",
       "ShipsFromState[T.ON]       0.0216      0.037      0.588      0.557        -0.050     0.093\n",
       "ShipsFromState[T.PA]       0.1994      0.094      2.111      0.035         0.014     0.385\n",
       "ShipsFromState[T.QC]       0.0030      0.037      0.081      0.936        -0.070     0.076\n",
       "ShipsFromState[T.SC]      -0.0111      0.119     -0.093      0.926        -0.245     0.222\n",
       "ShipsFromState[T.TN]   -1.187e-05      0.068     -0.000      1.000        -0.134     0.134\n",
       "ShipsFromState[T.TX]      -0.0137      0.104     -0.132      0.895        -0.217     0.190\n",
       "ShipsFromState[T.VA]       0.0001      0.027      0.004      0.997        -0.053     0.053\n",
       "ListingPrice            1.404e-05   1.17e-05      1.204      0.229     -8.82e-06  3.69e-05\n",
       "ShippingPrice             -0.0003      0.000     -1.709      0.088        -0.001  4.28e-05\n",
       "SellerFeedbackRating       0.0003      0.000      0.948      0.343        -0.000     0.001\n",
       "==============================================================================\n",
       "Omnibus:                     4369.697   Durbin-Watson:                   2.097\n",
       "Prob(Omnibus):                  0.000   Jarque-Bera (JB):            56581.038\n",
       "Skew:                           3.652   Prob(JB):                         0.00\n",
       "Kurtosis:                      16.369   Cond. No.                     1.45e+16\n",
       "==============================================================================\n",
       "\n",
       "Warnings:\n",
       "[1] Standard Errors assume that the covariance matrix of the errors is correctly specified.\n",
       "[2] The smallest eigenvalue is 3.1e-24. This might indicate that there are\n",
       "strong multicollinearity problems or that the design matrix is singular.\n",
       "\"\"\""
      ]
     },
     "execution_count": 15,
     "metadata": {},
     "output_type": "execute_result"
    }
   ],
   "source": [
    "lm.summary()"
   ]
  },
  {
   "cell_type": "markdown",
   "metadata": {},
   "source": [
    "Evalutation: Only Ships From British Columbia has a P value or below 0.05??? Doesn't leave me very much to work with. \n",
    "R-squared is very low meaning that the model does not fit the data well? "
   ]
  },
  {
   "cell_type": "markdown",
   "metadata": {},
   "source": [
    "## 2.3 Retrain the model using only the subset of features found to be statistically significant. Evaluate the quailty of the model on the training set. "
   ]
  },
  {
   "cell_type": "code",
   "execution_count": 16,
   "metadata": {
    "collapsed": false
   },
   "outputs": [
    {
     "name": "stdout",
     "output_type": "stream",
     "text": [
      "Intercept              -0.012090\n",
      "ListingPrice            0.000009\n",
      "SellerFeedbackRating    0.000299\n",
      "ShipsFrom_BC            0.291119\n",
      "ShipsFrom_TN            0.011583\n",
      "ShipsFrom_ON            0.039540\n",
      "ShipsFrom_PA            0.205247\n",
      "ShipsFrom_QC            0.021904\n",
      "ShipsFrom_VA           -0.002111\n",
      "dtype: float64\n"
     ]
    }
   ],
   "source": [
    "#how to separate the states that are pertinent? \n",
    "\n",
    "lm = sm.ols(formula=\"IsWinner ~ ListingPrice + SellerFeedbackRating + ShipsFrom_BC + ShipsFrom_TN + ShipsFrom_ON + ShipsFrom_PA + ShipsFrom_QC + ShipsFrom_VA\", data=df).fit()\n",
    "print(lm.params)"
   ]
  },
  {
   "cell_type": "code",
   "execution_count": 17,
   "metadata": {
    "collapsed": false
   },
   "outputs": [
    {
     "data": {
      "text/html": [
       "<table class=\"simpletable\">\n",
       "<caption>OLS Regression Results</caption>\n",
       "<tr>\n",
       "  <th>Dep. Variable:</th>        <td>IsWinner</td>     <th>  R-squared:         </th> <td>   0.080</td> \n",
       "</tr>\n",
       "<tr>\n",
       "  <th>Model:</th>                   <td>OLS</td>       <th>  Adj. R-squared:    </th> <td>   0.079</td> \n",
       "</tr>\n",
       "<tr>\n",
       "  <th>Method:</th>             <td>Least Squares</td>  <th>  F-statistic:       </th> <td>   63.36</td> \n",
       "</tr>\n",
       "<tr>\n",
       "  <th>Date:</th>             <td>Wed, 12 Apr 2017</td> <th>  Prob (F-statistic):</th> <td>6.00e-100</td>\n",
       "</tr>\n",
       "<tr>\n",
       "  <th>Time:</th>                 <td>15:05:23</td>     <th>  Log-Likelihood:    </th> <td>  749.00</td> \n",
       "</tr>\n",
       "<tr>\n",
       "  <th>No. Observations:</th>      <td>  5851</td>      <th>  AIC:               </th> <td>  -1480.</td> \n",
       "</tr>\n",
       "<tr>\n",
       "  <th>Df Residuals:</th>          <td>  5842</td>      <th>  BIC:               </th> <td>  -1420.</td> \n",
       "</tr>\n",
       "<tr>\n",
       "  <th>Df Model:</th>              <td>     8</td>      <th>                     </th>     <td> </td>    \n",
       "</tr>\n",
       "<tr>\n",
       "  <th>Covariance Type:</th>      <td>nonrobust</td>    <th>                     </th>     <td> </td>    \n",
       "</tr>\n",
       "</table>\n",
       "<table class=\"simpletable\">\n",
       "<tr>\n",
       "            <td></td>              <th>coef</th>     <th>std err</th>      <th>t</th>      <th>P>|t|</th> <th>[95.0% Conf. Int.]</th> \n",
       "</tr>\n",
       "<tr>\n",
       "  <th>Intercept</th>            <td>   -0.0121</td> <td>    0.023</td> <td>   -0.521</td> <td> 0.603</td> <td>   -0.058     0.033</td>\n",
       "</tr>\n",
       "<tr>\n",
       "  <th>ListingPrice</th>         <td> 8.878e-06</td> <td> 1.12e-05</td> <td>    0.794</td> <td> 0.427</td> <td> -1.3e-05  3.08e-05</td>\n",
       "</tr>\n",
       "<tr>\n",
       "  <th>SellerFeedbackRating</th> <td>    0.0003</td> <td>    0.000</td> <td>    1.224</td> <td> 0.221</td> <td>   -0.000     0.001</td>\n",
       "</tr>\n",
       "<tr>\n",
       "  <th>ShipsFrom_BC</th>         <td>    0.2911</td> <td>    0.013</td> <td>   21.966</td> <td> 0.000</td> <td>    0.265     0.317</td>\n",
       "</tr>\n",
       "<tr>\n",
       "  <th>ShipsFrom_TN</th>         <td>    0.0116</td> <td>    0.068</td> <td>    0.170</td> <td> 0.865</td> <td>   -0.122     0.145</td>\n",
       "</tr>\n",
       "<tr>\n",
       "  <th>ShipsFrom_ON</th>         <td>    0.0395</td> <td>    0.007</td> <td>    5.889</td> <td> 0.000</td> <td>    0.026     0.053</td>\n",
       "</tr>\n",
       "<tr>\n",
       "  <th>ShipsFrom_PA</th>         <td>    0.2052</td> <td>    0.097</td> <td>    2.115</td> <td> 0.034</td> <td>    0.015     0.395</td>\n",
       "</tr>\n",
       "<tr>\n",
       "  <th>ShipsFrom_QC</th>         <td>    0.0219</td> <td>    0.008</td> <td>    2.692</td> <td> 0.007</td> <td>    0.006     0.038</td>\n",
       "</tr>\n",
       "<tr>\n",
       "  <th>ShipsFrom_VA</th>         <td>   -0.0021</td> <td>    0.013</td> <td>   -0.164</td> <td> 0.870</td> <td>   -0.027     0.023</td>\n",
       "</tr>\n",
       "</table>\n",
       "<table class=\"simpletable\">\n",
       "<tr>\n",
       "  <th>Omnibus:</th>       <td>4374.778</td> <th>  Durbin-Watson:     </th> <td>   2.099</td> \n",
       "</tr>\n",
       "<tr>\n",
       "  <th>Prob(Omnibus):</th>  <td> 0.000</td>  <th>  Jarque-Bera (JB):  </th> <td>56801.475</td>\n",
       "</tr>\n",
       "<tr>\n",
       "  <th>Skew:</th>           <td> 3.657</td>  <th>  Prob(JB):          </th> <td>    0.00</td> \n",
       "</tr>\n",
       "<tr>\n",
       "  <th>Kurtosis:</th>       <td>16.397</td>  <th>  Cond. No.          </th> <td>1.16e+04</td> \n",
       "</tr>\n",
       "</table>"
      ],
      "text/plain": [
       "<class 'statsmodels.iolib.summary.Summary'>\n",
       "\"\"\"\n",
       "                            OLS Regression Results                            \n",
       "==============================================================================\n",
       "Dep. Variable:               IsWinner   R-squared:                       0.080\n",
       "Model:                            OLS   Adj. R-squared:                  0.079\n",
       "Method:                 Least Squares   F-statistic:                     63.36\n",
       "Date:                Wed, 12 Apr 2017   Prob (F-statistic):          6.00e-100\n",
       "Time:                        15:05:23   Log-Likelihood:                 749.00\n",
       "No. Observations:                5851   AIC:                            -1480.\n",
       "Df Residuals:                    5842   BIC:                            -1420.\n",
       "Df Model:                           8                                         \n",
       "Covariance Type:            nonrobust                                         \n",
       "========================================================================================\n",
       "                           coef    std err          t      P>|t|      [95.0% Conf. Int.]\n",
       "----------------------------------------------------------------------------------------\n",
       "Intercept               -0.0121      0.023     -0.521      0.603        -0.058     0.033\n",
       "ListingPrice          8.878e-06   1.12e-05      0.794      0.427      -1.3e-05  3.08e-05\n",
       "SellerFeedbackRating     0.0003      0.000      1.224      0.221        -0.000     0.001\n",
       "ShipsFrom_BC             0.2911      0.013     21.966      0.000         0.265     0.317\n",
       "ShipsFrom_TN             0.0116      0.068      0.170      0.865        -0.122     0.145\n",
       "ShipsFrom_ON             0.0395      0.007      5.889      0.000         0.026     0.053\n",
       "ShipsFrom_PA             0.2052      0.097      2.115      0.034         0.015     0.395\n",
       "ShipsFrom_QC             0.0219      0.008      2.692      0.007         0.006     0.038\n",
       "ShipsFrom_VA            -0.0021      0.013     -0.164      0.870        -0.027     0.023\n",
       "==============================================================================\n",
       "Omnibus:                     4374.778   Durbin-Watson:                   2.099\n",
       "Prob(Omnibus):                  0.000   Jarque-Bera (JB):            56801.475\n",
       "Skew:                           3.657   Prob(JB):                         0.00\n",
       "Kurtosis:                      16.397   Cond. No.                     1.16e+04\n",
       "==============================================================================\n",
       "\n",
       "Warnings:\n",
       "[1] Standard Errors assume that the covariance matrix of the errors is correctly specified.\n",
       "[2] The condition number is large, 1.16e+04. This might indicate that there are\n",
       "strong multicollinearity or other numerical problems.\n",
       "\"\"\""
      ]
     },
     "execution_count": 17,
     "metadata": {},
     "output_type": "execute_result"
    }
   ],
   "source": [
    "lm.summary()"
   ]
  },
  {
   "cell_type": "code",
   "execution_count": 18,
   "metadata": {
    "collapsed": false
   },
   "outputs": [
    {
     "name": "stdout",
     "output_type": "stream",
     "text": [
      "ListingPrice 8.8782887203e-06\n",
      "SellerFeedbackRating 0.000299382462888\n",
      "ShipsFrom_BC 0.291118921178\n",
      "ShipsFrom_TN 0.00579151330744\n",
      "ShipsFrom_TN 0.00579151330744\n",
      "ShipsFrom_ON 0.0395396673944\n",
      "ShipsFrom_PA 0.205246990079\n",
      "ShipsFrom_QC 0.0219036105381\n"
     ]
    }
   ],
   "source": [
    "# create X and y\n",
    "feature_cols = ['ListingPrice', 'SellerFeedbackRating', 'ShipsFrom_BC', 'ShipsFrom_TN', 'ShipsFrom_TN', 'ShipsFrom_ON', 'ShipsFrom_PA', 'ShipsFrom_QC', 'ShipsFrom_VA']\n",
    "X = df[feature_cols]\n",
    "Y = df.IsWinner\n",
    "\n",
    "# instantiate, fit\n",
    "lm = LinearRegression()\n",
    "lm.fit(X, Y)\n",
    "\n",
    "# print coefficients\n",
    "for i in range(len(feature_cols) - 1):\n",
    "    print(feature_cols[i], lm.coef_[i])\n",
    "\n",
    "    \n",
    "#print(feature_cols, lm.coef_) # need to format more nicely"
   ]
  },
  {
   "cell_type": "markdown",
   "metadata": {},
   "source": [
    "### Evaluating the quality of the model"
   ]
  },
  {
   "cell_type": "code",
   "execution_count": 19,
   "metadata": {
    "collapsed": false
   },
   "outputs": [
    {
     "data": {
      "text/plain": [
       "0.47780599999999995"
      ]
     },
     "execution_count": 19,
     "metadata": {},
     "output_type": "execute_result"
    }
   ],
   "source": [
    "#manually calculate the prediction\n",
    "#do you do this with multiple linear regression?\n",
    "0.008810 + -0.000004 + 0.00469 * 100"
   ]
  },
  {
   "cell_type": "code",
   "execution_count": 20,
   "metadata": {
    "collapsed": false,
    "scrolled": true
   },
   "outputs": [
    {
     "data": {
      "text/plain": [
       "0.079838372926838597"
      ]
     },
     "execution_count": 20,
     "metadata": {},
     "output_type": "execute_result"
    }
   ],
   "source": [
    "#calculate the R-squared\n",
    "lm.score(X, Y)"
   ]
  },
  {
   "cell_type": "markdown",
   "metadata": {},
   "source": [
    "## 2.4 Using the better model (as per evaluation on training set), print the predicted target feature value for all the examples in the training set. Threshold the predicted target feature value at 0.5 get the predicted class for each example. "
   ]
  },
  {
   "cell_type": "markdown",
   "metadata": {},
   "source": [
    "# Question 3: Predictive Modeling: Logistic Regression"
   ]
  },
  {
   "cell_type": "markdown",
   "metadata": {},
   "source": [
    "## 3.1 Train a logistic regression model to predict the target feature IsWinner, using the descriptive features selected in exercise (1). Evaluate the quality of the model on the training set. "
   ]
  },
  {
   "cell_type": "code",
   "execution_count": 22,
   "metadata": {
    "collapsed": false,
    "scrolled": true
   },
   "outputs": [
    {
     "name": "stdout",
     "output_type": "stream",
     "text": [
      "Warning: Maximum number of iterations has been exceeded.\n",
      "         Current function value: 0.179988\n",
      "         Iterations: 35\n",
      "Intercept               -5.723556\n",
      "ListingPrice             0.000214\n",
      "SellerFeedbackRating     0.017537\n",
      "ShipsFrom_BC             3.217302\n",
      "ShipsFrom_TN           -22.987047\n",
      "ShipsFrom_ON             1.217186\n",
      "ShipsFrom_PA             3.912636\n",
      "ShipsFrom_QC             0.823665\n",
      "ShipsFrom_VA            -0.099804\n",
      "dtype: float64\n"
     ]
    },
    {
     "name": "stderr",
     "output_type": "stream",
     "text": [
      "C:\\Users\\pamel\\Anaconda3\\lib\\site-packages\\statsmodels\\base\\model.py:466: ConvergenceWarning: Maximum Likelihood optimization failed to converge. Check mle_retvals\n",
      "  \"Check mle_retvals\", ConvergenceWarning)\n"
     ]
    }
   ],
   "source": [
    "logreg = sm.logit(formula=\"IsWinner ~  ListingPrice + SellerFeedbackRating + ShipsFrom_BC + ShipsFrom_TN + ShipsFrom_ON + ShipsFrom_PA + ShipsFrom_QC + ShipsFrom_VA\", data=df).fit()"
   ]
  },
  {
   "cell_type": "markdown",
   "metadata": {},
   "source": [
    "Evaluation: "
   ]
  },
  {
   "cell_type": "markdown",
   "metadata": {},
   "source": [
    "## 3.2 Print the coefficients learned by the model and discuss their statistical significance as well as their role in the model (e.g. interpret the model). "
   ]
  },
  {
   "cell_type": "code",
   "execution_count": 23,
   "metadata": {
    "collapsed": false,
    "scrolled": true
   },
   "outputs": [
    {
     "name": "stdout",
     "output_type": "stream",
     "text": [
      "Intercept               -5.723556\n",
      "ListingPrice             0.000214\n",
      "SellerFeedbackRating     0.017537\n",
      "ShipsFrom_BC             3.217302\n",
      "ShipsFrom_TN           -22.987047\n",
      "ShipsFrom_ON             1.217186\n",
      "ShipsFrom_PA             3.912636\n",
      "ShipsFrom_QC             0.823665\n",
      "ShipsFrom_VA            -0.099804\n",
      "dtype: float64\n"
     ]
    }
   ],
   "source": [
    "# Print the model weights/parameters\n",
    "print(logreg.params)"
   ]
  },
  {
   "cell_type": "markdown",
   "metadata": {},
   "source": [
    "Statistical Significance: The features that are statisticaly significant based on the above coefficients are Listing Price, Seller Feedback Rating, Ships from BC by a distinct amount and Ships from PA also by a distinct amount, as well as Ships from ON and Ships from QC. "
   ]
  },
  {
   "cell_type": "markdown",
   "metadata": {},
   "source": [
    "## 3.3 Retrain the model using only the subset of features found to be statistically significant. Evaluate the quality of the model on the training set. "
   ]
  },
  {
   "cell_type": "code",
   "execution_count": 24,
   "metadata": {
    "collapsed": false
   },
   "outputs": [
    {
     "name": "stdout",
     "output_type": "stream",
     "text": [
      "Optimization terminated successfully.\n",
      "         Current function value: 0.179997\n",
      "         Iterations 9\n"
     ]
    }
   ],
   "source": [
    "logreg = sm.logit(formula=\"IsWinner ~  ListingPrice + SellerFeedbackRating + ShipsFrom_BC + ShipsFrom_ON + ShipsFrom_PA + ShipsFrom_QC\", data=df).fit()"
   ]
  },
  {
   "cell_type": "markdown",
   "metadata": {},
   "source": [
    "## 3.4 Using the better model (as per evaluation on training set), print the predicted target feature value for all the examples in the training set. Print the predicted class for each example. "
   ]
  },
  {
   "cell_type": "code",
   "execution_count": 25,
   "metadata": {
    "collapsed": false
   },
   "outputs": [
    {
     "data": {
      "text/plain": [
       "array([ 0.05637567,  0.05924807,  0.05628311, ...,  0.05688667,\n",
       "        0.01638393,  0.01818118])"
      ]
     },
     "execution_count": 25,
     "metadata": {},
     "output_type": "execute_result"
    }
   ],
   "source": [
    "predictions = logreg.predict(df)\n",
    "predictions"
   ]
  },
  {
   "cell_type": "code",
   "execution_count": 31,
   "metadata": {
    "collapsed": false
   },
   "outputs": [
    {
     "name": "stdout",
     "output_type": "stream",
     "text": [
      "                           Logit Regression Results                           \n",
      "==============================================================================\n",
      "Dep. Variable:               IsWinner   No. Observations:                 5851\n",
      "Model:                          Logit   Df Residuals:                     5844\n",
      "Method:                           MLE   Df Model:                            6\n",
      "Date:                Wed, 12 Apr 2017   Pseudo R-squ.:                  0.1187\n",
      "Time:                        15:20:55   Log-Likelihood:                -1053.2\n",
      "converged:                       True   LL-Null:                       -1195.0\n",
      "                                        LLR p-value:                 2.586e-58\n",
      "========================================================================================\n",
      "                           coef    std err          z      P>|z|      [95.0% Conf. Int.]\n",
      "----------------------------------------------------------------------------------------\n",
      "Intercept               -5.7891      1.100     -5.263      0.000        -7.945    -3.633\n",
      "ListingPrice             0.0002      0.000      0.857      0.391        -0.000     0.001\n",
      "SellerFeedbackRating     0.0181      0.011      1.572      0.116        -0.004     0.041\n",
      "ShipsFrom_BC             3.2318      0.207     15.649      0.000         2.827     3.637\n",
      "ShipsFrom_ON             1.2313      0.188      6.544      0.000         0.863     1.600\n",
      "ShipsFrom_PA             3.9640      1.390      2.853      0.004         1.241     6.687\n",
      "ShipsFrom_QC             0.8373      0.225      3.728      0.000         0.397     1.277\n",
      "========================================================================================\n"
     ]
    }
   ],
   "source": [
    "print(logreg.summary())"
   ]
  },
  {
   "cell_type": "markdown",
   "metadata": {},
   "source": [
    "# Question 4: Predictive Modeling: Random Forest"
   ]
  },
  {
   "cell_type": "markdown",
   "metadata": {},
   "source": [
    "## 4.1 Train a random forest model to predict the target feature IsWinner, using the descriptive features selected in exercise (1). Evaluate the quality of the model on the training set. "
   ]
  },
  {
   "cell_type": "code",
   "execution_count": 33,
   "metadata": {
    "collapsed": false
   },
   "outputs": [],
   "source": [
    "#reference: https://www.youtube.com/watch?v=0GrciaGYzV0&list=PLx1nh9sMznmKoUjw6uHR2enxCrenhn5zD&index=4\n",
    "\n",
    "from sklearn.ensemble import RandomForestRegressor\n",
    "#the error metric - use c-stat (aka roc/auc)\n",
    "from sklearn.metrics import roc_auc_score\n",
    "\n",
    "y = df.pop(\"IsWinner\")"
   ]
  },
  {
   "cell_type": "code",
   "execution_count": 34,
   "metadata": {
    "collapsed": false
   },
   "outputs": [
    {
     "data": {
      "text/html": [
       "<div>\n",
       "<table border=\"1\" class=\"dataframe\">\n",
       "  <thead>\n",
       "    <tr style=\"text-align: right;\">\n",
       "      <th></th>\n",
       "      <th>Unnamed: 0</th>\n",
       "      <th>ProductId</th>\n",
       "      <th>IsFeaturedMerchant</th>\n",
       "      <th>IsFulfilledByAmazon</th>\n",
       "      <th>ListingPrice</th>\n",
       "      <th>SellerFeedbackRating</th>\n",
       "      <th>SellerFeedbackCount</th>\n",
       "      <th>SellerId</th>\n",
       "      <th>ShippingPrice</th>\n",
       "      <th>ShippingTime_minHours</th>\n",
       "      <th>...</th>\n",
       "      <th>ShipsFrom_NJ</th>\n",
       "      <th>ShipsFrom_NV</th>\n",
       "      <th>ShipsFrom_NY</th>\n",
       "      <th>ShipsFrom_ON</th>\n",
       "      <th>ShipsFrom_PA</th>\n",
       "      <th>ShipsFrom_QC</th>\n",
       "      <th>ShipsFrom_SC</th>\n",
       "      <th>ShipsFrom_TN</th>\n",
       "      <th>ShipsFrom_TX</th>\n",
       "      <th>ShipsFrom_VA</th>\n",
       "    </tr>\n",
       "  </thead>\n",
       "  <tbody>\n",
       "    <tr>\n",
       "      <th>count</th>\n",
       "      <td>5851.000000</td>\n",
       "      <td>5.851000e+03</td>\n",
       "      <td>5851.000000</td>\n",
       "      <td>5851.0</td>\n",
       "      <td>5851.000000</td>\n",
       "      <td>5851.000000</td>\n",
       "      <td>5851.000000</td>\n",
       "      <td>5.851000e+03</td>\n",
       "      <td>5851.000000</td>\n",
       "      <td>5851.000000</td>\n",
       "      <td>...</td>\n",
       "      <td>5851.000000</td>\n",
       "      <td>5851.000000</td>\n",
       "      <td>5851.000000</td>\n",
       "      <td>5851.000000</td>\n",
       "      <td>5851.000000</td>\n",
       "      <td>5851.000000</td>\n",
       "      <td>5851.000000</td>\n",
       "      <td>5851.000000</td>\n",
       "      <td>5851.000000</td>\n",
       "      <td>5851.000000</td>\n",
       "    </tr>\n",
       "    <tr>\n",
       "      <th>mean</th>\n",
       "      <td>4975.817125</td>\n",
       "      <td>1.303424e+17</td>\n",
       "      <td>0.781576</td>\n",
       "      <td>0.0</td>\n",
       "      <td>210.180238</td>\n",
       "      <td>93.663647</td>\n",
       "      <td>5535.519740</td>\n",
       "      <td>1.026675e+18</td>\n",
       "      <td>12.735808</td>\n",
       "      <td>55.809947</td>\n",
       "      <td>...</td>\n",
       "      <td>0.032986</td>\n",
       "      <td>0.011622</td>\n",
       "      <td>0.199282</td>\n",
       "      <td>0.377884</td>\n",
       "      <td>0.000855</td>\n",
       "      <td>0.189028</td>\n",
       "      <td>0.000513</td>\n",
       "      <td>0.001880</td>\n",
       "      <td>0.000684</td>\n",
       "      <td>0.054692</td>\n",
       "    </tr>\n",
       "    <tr>\n",
       "      <th>std</th>\n",
       "      <td>2871.284260</td>\n",
       "      <td>5.337683e+18</td>\n",
       "      <td>0.413212</td>\n",
       "      <td>0.0</td>\n",
       "      <td>250.497697</td>\n",
       "      <td>12.413103</td>\n",
       "      <td>9638.633799</td>\n",
       "      <td>4.402979e+18</td>\n",
       "      <td>19.744139</td>\n",
       "      <td>46.502180</td>\n",
       "      <td>...</td>\n",
       "      <td>0.178615</td>\n",
       "      <td>0.107186</td>\n",
       "      <td>0.399495</td>\n",
       "      <td>0.484900</td>\n",
       "      <td>0.029223</td>\n",
       "      <td>0.391564</td>\n",
       "      <td>0.022640</td>\n",
       "      <td>0.043322</td>\n",
       "      <td>0.026140</td>\n",
       "      <td>0.227397</td>\n",
       "    </tr>\n",
       "    <tr>\n",
       "      <th>min</th>\n",
       "      <td>1.000000</td>\n",
       "      <td>-9.172600e+18</td>\n",
       "      <td>0.000000</td>\n",
       "      <td>0.0</td>\n",
       "      <td>3.240000</td>\n",
       "      <td>0.000000</td>\n",
       "      <td>0.000000</td>\n",
       "      <td>-9.136120e+18</td>\n",
       "      <td>0.000000</td>\n",
       "      <td>24.000000</td>\n",
       "      <td>...</td>\n",
       "      <td>0.000000</td>\n",
       "      <td>0.000000</td>\n",
       "      <td>0.000000</td>\n",
       "      <td>0.000000</td>\n",
       "      <td>0.000000</td>\n",
       "      <td>0.000000</td>\n",
       "      <td>0.000000</td>\n",
       "      <td>0.000000</td>\n",
       "      <td>0.000000</td>\n",
       "      <td>0.000000</td>\n",
       "    </tr>\n",
       "    <tr>\n",
       "      <th>25%</th>\n",
       "      <td>2494.500000</td>\n",
       "      <td>-4.356480e+18</td>\n",
       "      <td>1.000000</td>\n",
       "      <td>0.0</td>\n",
       "      <td>59.190000</td>\n",
       "      <td>95.000000</td>\n",
       "      <td>384.000000</td>\n",
       "      <td>-2.572280e+18</td>\n",
       "      <td>0.000000</td>\n",
       "      <td>24.000000</td>\n",
       "      <td>...</td>\n",
       "      <td>0.000000</td>\n",
       "      <td>0.000000</td>\n",
       "      <td>0.000000</td>\n",
       "      <td>0.000000</td>\n",
       "      <td>0.000000</td>\n",
       "      <td>0.000000</td>\n",
       "      <td>0.000000</td>\n",
       "      <td>0.000000</td>\n",
       "      <td>0.000000</td>\n",
       "      <td>0.000000</td>\n",
       "    </tr>\n",
       "    <tr>\n",
       "      <th>50%</th>\n",
       "      <td>4933.000000</td>\n",
       "      <td>2.293380e+17</td>\n",
       "      <td>1.000000</td>\n",
       "      <td>0.0</td>\n",
       "      <td>116.280000</td>\n",
       "      <td>96.000000</td>\n",
       "      <td>2283.000000</td>\n",
       "      <td>1.788800e+18</td>\n",
       "      <td>9.980000</td>\n",
       "      <td>24.000000</td>\n",
       "      <td>...</td>\n",
       "      <td>0.000000</td>\n",
       "      <td>0.000000</td>\n",
       "      <td>0.000000</td>\n",
       "      <td>0.000000</td>\n",
       "      <td>0.000000</td>\n",
       "      <td>0.000000</td>\n",
       "      <td>0.000000</td>\n",
       "      <td>0.000000</td>\n",
       "      <td>0.000000</td>\n",
       "      <td>0.000000</td>\n",
       "    </tr>\n",
       "    <tr>\n",
       "      <th>75%</th>\n",
       "      <td>7426.500000</td>\n",
       "      <td>5.267430e+18</td>\n",
       "      <td>1.000000</td>\n",
       "      <td>0.0</td>\n",
       "      <td>248.470000</td>\n",
       "      <td>97.000000</td>\n",
       "      <td>4385.000000</td>\n",
       "      <td>4.987280e+18</td>\n",
       "      <td>14.990000</td>\n",
       "      <td>96.000000</td>\n",
       "      <td>...</td>\n",
       "      <td>0.000000</td>\n",
       "      <td>0.000000</td>\n",
       "      <td>0.000000</td>\n",
       "      <td>1.000000</td>\n",
       "      <td>0.000000</td>\n",
       "      <td>0.000000</td>\n",
       "      <td>0.000000</td>\n",
       "      <td>0.000000</td>\n",
       "      <td>0.000000</td>\n",
       "      <td>0.000000</td>\n",
       "    </tr>\n",
       "    <tr>\n",
       "      <th>max</th>\n",
       "      <td>9999.000000</td>\n",
       "      <td>9.207150e+18</td>\n",
       "      <td>1.000000</td>\n",
       "      <td>0.0</td>\n",
       "      <td>2999.000000</td>\n",
       "      <td>100.000000</td>\n",
       "      <td>35272.000000</td>\n",
       "      <td>9.144780e+18</td>\n",
       "      <td>335.350000</td>\n",
       "      <td>504.000000</td>\n",
       "      <td>...</td>\n",
       "      <td>1.000000</td>\n",
       "      <td>1.000000</td>\n",
       "      <td>1.000000</td>\n",
       "      <td>1.000000</td>\n",
       "      <td>1.000000</td>\n",
       "      <td>1.000000</td>\n",
       "      <td>1.000000</td>\n",
       "      <td>1.000000</td>\n",
       "      <td>1.000000</td>\n",
       "      <td>1.000000</td>\n",
       "    </tr>\n",
       "  </tbody>\n",
       "</table>\n",
       "<p>8 rows × 36 columns</p>\n",
       "</div>"
      ],
      "text/plain": [
       "        Unnamed: 0     ProductId  IsFeaturedMerchant  IsFulfilledByAmazon  \\\n",
       "count  5851.000000  5.851000e+03         5851.000000               5851.0   \n",
       "mean   4975.817125  1.303424e+17            0.781576                  0.0   \n",
       "std    2871.284260  5.337683e+18            0.413212                  0.0   \n",
       "min       1.000000 -9.172600e+18            0.000000                  0.0   \n",
       "25%    2494.500000 -4.356480e+18            1.000000                  0.0   \n",
       "50%    4933.000000  2.293380e+17            1.000000                  0.0   \n",
       "75%    7426.500000  5.267430e+18            1.000000                  0.0   \n",
       "max    9999.000000  9.207150e+18            1.000000                  0.0   \n",
       "\n",
       "       ListingPrice  SellerFeedbackRating  SellerFeedbackCount      SellerId  \\\n",
       "count   5851.000000           5851.000000          5851.000000  5.851000e+03   \n",
       "mean     210.180238             93.663647          5535.519740  1.026675e+18   \n",
       "std      250.497697             12.413103          9638.633799  4.402979e+18   \n",
       "min        3.240000              0.000000             0.000000 -9.136120e+18   \n",
       "25%       59.190000             95.000000           384.000000 -2.572280e+18   \n",
       "50%      116.280000             96.000000          2283.000000  1.788800e+18   \n",
       "75%      248.470000             97.000000          4385.000000  4.987280e+18   \n",
       "max     2999.000000            100.000000         35272.000000  9.144780e+18   \n",
       "\n",
       "       ShippingPrice  ShippingTime_minHours      ...       ShipsFrom_NJ  \\\n",
       "count    5851.000000            5851.000000      ...        5851.000000   \n",
       "mean       12.735808              55.809947      ...           0.032986   \n",
       "std        19.744139              46.502180      ...           0.178615   \n",
       "min         0.000000              24.000000      ...           0.000000   \n",
       "25%         0.000000              24.000000      ...           0.000000   \n",
       "50%         9.980000              24.000000      ...           0.000000   \n",
       "75%        14.990000              96.000000      ...           0.000000   \n",
       "max       335.350000             504.000000      ...           1.000000   \n",
       "\n",
       "       ShipsFrom_NV  ShipsFrom_NY  ShipsFrom_ON  ShipsFrom_PA  ShipsFrom_QC  \\\n",
       "count   5851.000000   5851.000000   5851.000000   5851.000000   5851.000000   \n",
       "mean       0.011622      0.199282      0.377884      0.000855      0.189028   \n",
       "std        0.107186      0.399495      0.484900      0.029223      0.391564   \n",
       "min        0.000000      0.000000      0.000000      0.000000      0.000000   \n",
       "25%        0.000000      0.000000      0.000000      0.000000      0.000000   \n",
       "50%        0.000000      0.000000      0.000000      0.000000      0.000000   \n",
       "75%        0.000000      0.000000      1.000000      0.000000      0.000000   \n",
       "max        1.000000      1.000000      1.000000      1.000000      1.000000   \n",
       "\n",
       "       ShipsFrom_SC  ShipsFrom_TN  ShipsFrom_TX  ShipsFrom_VA  \n",
       "count   5851.000000   5851.000000   5851.000000   5851.000000  \n",
       "mean       0.000513      0.001880      0.000684      0.054692  \n",
       "std        0.022640      0.043322      0.026140      0.227397  \n",
       "min        0.000000      0.000000      0.000000      0.000000  \n",
       "25%        0.000000      0.000000      0.000000      0.000000  \n",
       "50%        0.000000      0.000000      0.000000      0.000000  \n",
       "75%        0.000000      0.000000      0.000000      0.000000  \n",
       "max        1.000000      1.000000      1.000000      1.000000  \n",
       "\n",
       "[8 rows x 36 columns]"
      ]
     },
     "execution_count": 34,
     "metadata": {},
     "output_type": "execute_result"
    }
   ],
   "source": [
    "df.describe()\n",
    "#we can see from this that none of the features have null values as they are all at ount 5851 - this is because we removed\n",
    "#null values in the last assignment"
   ]
  },
  {
   "cell_type": "code",
   "execution_count": 50,
   "metadata": {
    "collapsed": false,
    "scrolled": true
   },
   "outputs": [
    {
     "name": "stderr",
     "output_type": "stream",
     "text": [
      "C:\\Users\\pamel\\Anaconda3\\lib\\site-packages\\sklearn\\ensemble\\forest.py:723: UserWarning: Some inputs do not have OOB scores. This probably means too few trees were used to compute any reliable oob estimates.\n",
      "  warn(\"Some inputs do not have OOB scores. \"\n"
     ]
    },
    {
     "data": {
      "text/plain": [
       "RandomForestRegressor(bootstrap=True, criterion='mse', max_depth=None,\n",
       "           max_features='auto', max_leaf_nodes=None,\n",
       "           min_impurity_split=1e-07, min_samples_leaf=1,\n",
       "           min_samples_split=2, min_weight_fraction_leaf=0.0,\n",
       "           n_estimators=10, n_jobs=1, oob_score=True, random_state=None,\n",
       "           verbose=0, warm_start=False)"
      ]
     },
     "execution_count": 50,
     "metadata": {},
     "output_type": "execute_result"
    }
   ],
   "source": [
    "rfm = RandomForestRegressor(oob_score=True)\n",
    "rfm.fit(df[feature_cols], y)"
   ]
  },
  {
   "cell_type": "code",
   "execution_count": 51,
   "metadata": {
    "collapsed": false
   },
   "outputs": [
    {
     "data": {
      "text/plain": [
       "0.10047902165377476"
      ]
     },
     "execution_count": 51,
     "metadata": {},
     "output_type": "execute_result"
    }
   ],
   "source": [
    "#out of back score - only available after the model has been trained (all methods with trailing underscore are only available\n",
    "#after the model has been trained) This produces the r squared value\n",
    "rfm.oob_score_"
   ]
  },
  {
   "cell_type": "code",
   "execution_count": 52,
   "metadata": {
    "collapsed": false,
    "scrolled": true
   },
   "outputs": [
    {
     "name": "stdout",
     "output_type": "stream",
     "text": [
      "C-Stat:  0.777911898798\n"
     ]
    }
   ],
   "source": [
    "#we can use this to calculate roc/auc\n",
    "y_oob = rfm.oob_prediction_\n",
    "print(\"C-Stat: \", roc_auc_score(y, y_oob))"
   ]
  },
  {
   "cell_type": "markdown",
   "metadata": {},
   "source": [
    "## 4.2 Print the features ranked by random forest importance. Discuss your findings and choose a subset of features you find promising. "
   ]
  },
  {
   "cell_type": "code",
   "execution_count": 63,
   "metadata": {
    "collapsed": false,
    "scrolled": true
   },
   "outputs": [
    {
     "name": "stderr",
     "output_type": "stream",
     "text": [
      "C:\\Users\\pamel\\Anaconda3\\lib\\site-packages\\ipykernel\\__main__.py:2: FutureWarning: sort is deprecated, use sort_values(inplace=True) for INPLACE sorting\n",
      "  from ipykernel import kernelapp as app\n"
     ]
    },
    {
     "data": {
      "image/png": "[encoded data removed]",
      "text/plain": [
       "<matplotlib.figure.Figure at 0x15b87163630>"
      ]
     },
     "metadata": {},
     "output_type": "display_data"
    }
   ],
   "source": [
    "feature_importances = pd.Series(rfm.feature_importances_, index=df[feature_cols].columns)\n",
    "feature_importances.sort()\n",
    "feature_importances.plot(kind=\"barh\", figsize=(7, 6));"
   ]
  },
  {
   "cell_type": "markdown",
   "metadata": {},
   "source": [
    "Based on the above I would look further at Listing Price, Ships From BC and Seller Feedback Rating. "
   ]
  },
  {
   "cell_type": "markdown",
   "metadata": {},
   "source": [
    "## 4.3 Retrain the model using only the subset of features found to be promising. Evaluate the quality of the model on the training set. "
   ]
  },
  {
   "cell_type": "code",
   "execution_count": 65,
   "metadata": {
    "collapsed": false
   },
   "outputs": [
    {
     "name": "stderr",
     "output_type": "stream",
     "text": [
      "C:\\Users\\pamel\\Anaconda3\\lib\\site-packages\\sklearn\\ensemble\\forest.py:723: UserWarning: Some inputs do not have OOB scores. This probably means too few trees were used to compute any reliable oob estimates.\n",
      "  warn(\"Some inputs do not have OOB scores. \"\n"
     ]
    },
    {
     "data": {
      "text/plain": [
       "RandomForestRegressor(bootstrap=True, criterion='mse', max_depth=None,\n",
       "           max_features='auto', max_leaf_nodes=None,\n",
       "           min_impurity_split=1e-07, min_samples_leaf=1,\n",
       "           min_samples_split=2, min_weight_fraction_leaf=0.0,\n",
       "           n_estimators=10, n_jobs=1, oob_score=True, random_state=None,\n",
       "           verbose=0, warm_start=False)"
      ]
     },
     "execution_count": 65,
     "metadata": {},
     "output_type": "execute_result"
    }
   ],
   "source": [
    "feature_cols = [\"ListingPrice\", \"ShipsFrom_BC\", \"SellerFeedbackRating\"]\n",
    "rfm = RandomForestRegressor(oob_score=True)\n",
    "rfm.fit(df[feature_cols], y)"
   ]
  },
  {
   "cell_type": "code",
   "execution_count": 66,
   "metadata": {
    "collapsed": false
   },
   "outputs": [
    {
     "data": {
      "text/plain": [
       "0.099507079437444634"
      ]
     },
     "execution_count": 66,
     "metadata": {},
     "output_type": "execute_result"
    }
   ],
   "source": [
    "rfm.oob_score_"
   ]
  },
  {
   "cell_type": "code",
   "execution_count": 67,
   "metadata": {
    "collapsed": false
   },
   "outputs": [
    {
     "name": "stdout",
     "output_type": "stream",
     "text": [
      "C-Stat:  0.771465491067\n"
     ]
    }
   ],
   "source": [
    "y_oob = rfm.oob_prediction_\n",
    "print(\"C-Stat: \", roc_auc_score(y, y_oob))"
   ]
  },
  {
   "cell_type": "code",
   "execution_count": 68,
   "metadata": {
    "collapsed": false
   },
   "outputs": [
    {
     "name": "stderr",
     "output_type": "stream",
     "text": [
      "C:\\Users\\pamel\\Anaconda3\\lib\\site-packages\\ipykernel\\__main__.py:2: FutureWarning: sort is deprecated, use sort_values(inplace=True) for INPLACE sorting\n",
      "  from ipykernel import kernelapp as app\n"
     ]
    },
    {
     "data": {
      "image/png": "[encoded data removed]",
      "text/plain": [
       "<matplotlib.figure.Figure at 0x15b871635c0>"
      ]
     },
     "metadata": {},
     "output_type": "display_data"
    }
   ],
   "source": [
    "feature_importances = pd.Series(rfm.feature_importances_, index=df[feature_cols].columns)\n",
    "feature_importances.sort()\n",
    "feature_importances.plot(kind=\"barh\", figsize=(7, 6));"
   ]
  },
  {
   "cell_type": "markdown",
   "metadata": {},
   "source": [
    "## 4.4 Using the better model (as per evaluation on training set), print the predicted target feature value for all the examples in the training set. Print the predicted class for each example. "
   ]
  },
  {
   "cell_type": "markdown",
   "metadata": {},
   "source": [
    "# Question 5: Evaluating Predictive Models\n"
   ]
  },
  {
   "cell_type": "markdown",
   "metadata": {},
   "source": [
    "## 5.1 Split the dataset into 70% training and remaining 30% test. Train all models from the previous exercises using the new training set and evaluate their quality on the new test set. Print classification evaluation metrics for all models on the test set (e.g., Accuracy, Confusion matrix, Precision, Recall, F1). Discuss how does evaluation on the test set compare to evaluation using the full data for training and also for testing. "
   ]
  },
  {
   "cell_type": "markdown",
   "metadata": {},
   "source": [
    "## 5.2 Summarize and try to improve your results so far"
   ]
  },
  {
   "cell_type": "markdown",
   "metadata": {},
   "source": [
    "## 5.2.1 Which model performs best and is it more accurate than a simple (but useless) model that always predicts IsWinner=0? Justify your answers. "
   ]
  },
  {
   "cell_type": "markdown",
   "metadata": {},
   "source": [
    "## 5.2.2 Discuss your understanding of the problem and predictive modeling results so far. Can you find  any tricks to improve the best model so far (e.g., using feature significance, feature rescaling, creating new features, combining models, or other knowledge)?"
   ]
  },
  {
   "cell_type": "code",
   "execution_count": null,
   "metadata": {
    "collapsed": true
   },
   "outputs": [],
   "source": []
  },
  {
   "cell_type": "code",
   "execution_count": null,
   "metadata": {
    "collapsed": true
   },
   "outputs": [],
   "source": []
  },
  {
   "cell_type": "code",
   "execution_count": null,
   "metadata": {
    "collapsed": true
   },
   "outputs": [],
   "source": []
  }
 ],
 "metadata": {
  "anaconda-cloud": {},
  "kernelspec": {
   "display_name": "Python 3",
   "language": "python",
   "name": "python3"
  },
  "language_info": {
   "codemirror_mode": {
    "name": "ipython",
    "version": 3
   },
   "file_extension": ".py",
   "mimetype": "text/x-python",
   "name": "python",
   "nbconvert_exporter": "python",
   "pygments_lexer": "ipython3",
   "version": "3.6.0"
  }
 },
 "nbformat": 4,
 "nbformat_minor": 0
}
