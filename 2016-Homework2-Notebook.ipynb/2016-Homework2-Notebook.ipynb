{
 "cells": [
  {
   "cell_type": "markdown",
   "metadata": {},
   "source": [
    "# Homework2\n",
    "\n",
    "Please upload to Moodle a .zip archive containing your Jupyter Notebook with solutions and all data required to reproduce your solutions. \n",
    "\n",
    "Please also prepare a requirements.txt file which lists all the packages that you have used for your homework, one package per line (e.g., pandas). This will allow us to install all required packages in one go, by using \"pip install -r requirements.txt\".\n",
    "\n",
    "Please name your .zip archive using your full name and student id as follows - *Firstnme_Lastname_12345678_COMP47350_Homework2.zip*. \n",
    "\n",
    "For your Notebook, please split the code and explanations into many little cells so it is easy to see and read the results of each step of your solution. Please remember to name your variables and methods with self-explanatory names. Please remember to write comments and where needed, justifications, for the decisions you make and code you write. Feel free to revisit *tips_to_keep_your_ipython_notebook_readable_and_easy_to_debug.html* provided on Moodle.\n",
    "\n",
    "Your code and analysis is like a story that awaits to be read, make it a nice story please!\n",
    "\n",
    "The accepted file formats for the homework are:\n",
    "    - .ipynb\n",
    "    - .zip\n",
    "    - .pdf\n",
    "    - .csv\n",
    "    - .txt\n",
    "    - .html\n",
    "Please keep the whole code in a single notebook. Usage of external tools/files is discouraged for portability reasons. Files in any other format but mentioned above can be used but will be ignored and not considered for the submission (including .doc, .rar, .7z, .pages, .xlsx, .tex etc.). \n",
    "Any image format is allowed to be used as far as the images appear embedded in your report (.ipynb or .pdf or .html).\n",
    "\n",
    "**Deadline: Sunday, April 16, 2017, midnight.** "
   ]
  },
  {
   "cell_type": "markdown",
   "metadata": {},
   "source": [
    "## Exercises\n",
    "\n",
    "This homework focuses on building and evaluating prediction models for a particular problem and dataset.\n",
    "The problem and data come from the Amazon online shopping platform. Several sellers can sell the same product on Amazon. Based on the data provided by the seller to Amazon (seller reputation, product price, shipping details, etc) Amazon ranks seller offers from best to worst for a given product. This ranking is mostly influenced by the product price offer of the seller, but it can also be influenced by other features. We first need to understand which features are most indicative of a seller being ranked first by Amazon for a product. When the seller is ranked first for a product we say that the seller is the 'winner' among all the offers, because their offer is shown first when a user searches for a product on Amazon, which increases their chances of selling the product. Our goal is to work with the data to build and evaluate prediction models that capture the relationship between descriptive features and the target feature 'IsWinner'.\n",
    "\n",
    "We use the same dataset from Homework1 (you can use your cleaned/prepared CSV or the raw dataset), a CSV file describing offers by given sellers for given products and a column which records whether an offer was a winner or not.\n",
    "\n",
    "(1). [25] Data Understanding: Exploring relationships between feature pairs:\n",
    "    - (1.1) [5] Print the correlations between the continuous features.\n",
    "    - (1.2) [5] Plot the scatter plots of each pair of continuous descriptive feature and target feature.\n",
    "    - (1.3) [5] Discuss what you observe from the scatter plots and correlations, e.g., which continuous features seem to be better at predicting the target feature. Choose a subset of continuous features you find promising. Justify your choices.\n",
    "    - (1.4) [5] For each categorical feature, plot the pairwise interaction with the target feature (barplots or stacked barplots).\n",
    "    - (1.5) [5] Discuss what knowledge you gain from plotting the interaction of descriptive categorical features and the target feature, e.g., which categorical features seem to be better at predicting the target feature. Choose a subset of categorical features you find promising. Justify your choices.\n",
    "    \n",
    "(2). [15] Predictive Modeling: Linear Regression  \n",
    "    - (2.1) [5] Train a linear regression model to predict the target feature IsWinner, using the descriptive features selected in exercise (1). Evaluate the quality of the model on the training set.   \n",
    "    - (2.2) [2.5] Print the coefficients learned by the model and discuss their statistical significance as well as their role in the model (e.g., interpret the model).    \n",
    "    - (2.3) [2.5] Retrain the model using only the subset of features found to be statistically significant. Evaluate the quality of the model on the training set.\n",
    "    - (2.4) [5] Using the better model (as per evaluation on training set), print the predicted target feature value for all the examples in the training set. Threshold the predicted target feature value at 0.5 to get the predicted class for each example. \n",
    "\n",
    "(3). [15] Predictive Modeling: Logistic Regression  \n",
    "    - (3.1) [5] Train a logistic regression model to predict the target feature IsWinner, using the descriptive features selected in exercise (1). Evaluate the quality of the model on the training set.   \n",
    "    - (3.2) [5] Print the coefficients learned by the model and discuss their statistical significance as well as their role in the model (e.g., interpret the model).    \n",
    "    - (3.3) [2.5] Retrain the model using only the subset of features found to be statistically significant. Evaluate the quality of the model on the training set.\n",
    "    - (3.4) [2.5] Using the better model (as per evaluation on training set), print the predicted target feature value for all the examples in the training set. Print the predicted class for each example.\n",
    "    \n",
    "(4). [20] Predictive Modeling: Random Forest \n",
    "    - (4.1) [5] Train a random forest model to predict the target feature IsWinner, using the descriptive features selected in exercise (1). Evaluate the quality of the model on the training set.   \n",
    "    - (4.2) [5] Print the features ranked by random forest importance. Discuss your findings and choose a subset of features you find promising.\n",
    "    - (4.3) [5] Retrain the model using only the subset of features found to be promising. Evaluate the quality of the model on the training set.\n",
    "    - (4.4) [5] Using the better model (as per evaluation on training set), print the predicted target feature value for all the examples in the training set. Print the predicted class for each example.\n",
    "    \n",
    "(5). [25] Evaluating Predictive Models\n",
    "    - (5.1) [10] Split the dataset into 70% training and remaining 30% test. Train all models from the previous exercises using the new training set and evaluate their quality on the new test set. Print classification evaluation metrics for all models on the test set (e.g., Accuracy, Confusion matrix, Precision, Recall, F1). Discuss how does evaluation on the test set compare to evaluation using the full data for training and also for testing.\n",
    "    - (5.2) [15] Summarize and try to improve your results so far:\n",
    "        - (5.2.1) [5] Which model performs best and is it more accurate than a simple (but useless) model that always predicts IsWinner=0? Justify your answers.\n",
    "        - (5.2.2) [10] Discuss your understanding of the problem and predictive modeling results so far. Can you find any tricks to improve the best model so far (e.g., using feature significance, feature re-scaling, creating new features, combining models, or other knowledge)?"
   ]
  },
  {
   "cell_type": "code",
   "execution_count": 279,
   "metadata": {
    "collapsed": false
   },
   "outputs": [],
   "source": [
    "#import necessary libraries\n",
    "import pandas as pd\n",
    "import numpy as np\n",
    "import matplotlib\n",
    "import matplotlib.pyplot as plt\n",
    "import matplotlib.patches as mpatches\n",
    "from matplotlib.backends.backend_pdf import PdfPages\n",
    "matplotlib.style.use('ggplot')\n",
    "import seaborn as sns\n",
    "import sklearn\n",
    "from sklearn.linear_model import LinearRegression\n",
    "#for showing plots directly in the notebook\n",
    "%matplotlib inline"
   ]
  },
  {
   "cell_type": "code",
   "execution_count": 280,
   "metadata": {
    "collapsed": false
   },
   "outputs": [],
   "source": [
    "df = pd.read_csv('C:/Users/pamel/Anaconda3/envs/DataAnalytics/workspace/Data_Analytics_Homework2/amazon-offers-10k-samples-new2.csv', encoding = \"ISO-8859-1\")"
   ]
  },
  {
   "cell_type": "code",
   "execution_count": 281,
   "metadata": {
    "collapsed": false,
    "scrolled": true
   },
   "outputs": [
    {
     "data": {
      "text/html": [
       "<div>\n",
       "<table border=\"1\" class=\"dataframe\">\n",
       "  <thead>\n",
       "    <tr style=\"text-align: right;\">\n",
       "      <th></th>\n",
       "      <th>Unnamed: 0</th>\n",
       "      <th>IsWinner</th>\n",
       "      <th>ProductId</th>\n",
       "      <th>TimeOfOfferChange</th>\n",
       "      <th>ConditionNotes</th>\n",
       "      <th>IsFeaturedMerchant</th>\n",
       "      <th>IsFulfilledByAmazon</th>\n",
       "      <th>ListingPrice</th>\n",
       "      <th>SellerFeedbackRating</th>\n",
       "      <th>SellerFeedbackCount</th>\n",
       "      <th>SellerId</th>\n",
       "      <th>ShippingPrice</th>\n",
       "      <th>ShippingTime_minHours</th>\n",
       "      <th>ShippingTime_maxHours</th>\n",
       "      <th>ShipsFromCountry</th>\n",
       "      <th>ShipsFromState</th>\n",
       "    </tr>\n",
       "  </thead>\n",
       "  <tbody>\n",
       "    <tr>\n",
       "      <th>0</th>\n",
       "      <td>1</td>\n",
       "      <td>1</td>\n",
       "      <td>-4.885260e+18</td>\n",
       "      <td>2016-02-04T04:26:52.136Z</td>\n",
       "      <td>Ready To Ship - We are unable to ship to PO Bo...</td>\n",
       "      <td>1</td>\n",
       "      <td>0</td>\n",
       "      <td>107.35</td>\n",
       "      <td>95</td>\n",
       "      <td>4078</td>\n",
       "      <td>-1.789490e+18</td>\n",
       "      <td>0.00</td>\n",
       "      <td>48</td>\n",
       "      <td>72</td>\n",
       "      <td>CA</td>\n",
       "      <td>ON</td>\n",
       "    </tr>\n",
       "    <tr>\n",
       "      <th>1</th>\n",
       "      <td>2</td>\n",
       "      <td>0</td>\n",
       "      <td>-4.885260e+18</td>\n",
       "      <td>2016-02-04T04:26:52.136Z</td>\n",
       "      <td>.</td>\n",
       "      <td>1</td>\n",
       "      <td>0</td>\n",
       "      <td>100.46</td>\n",
       "      <td>98</td>\n",
       "      <td>478</td>\n",
       "      <td>5.452080e+18</td>\n",
       "      <td>6.99</td>\n",
       "      <td>24</td>\n",
       "      <td>48</td>\n",
       "      <td>CA</td>\n",
       "      <td>ON</td>\n",
       "    </tr>\n",
       "    <tr>\n",
       "      <th>2</th>\n",
       "      <td>3</td>\n",
       "      <td>0</td>\n",
       "      <td>-4.885260e+18</td>\n",
       "      <td>2016-02-04T04:26:52.136Z</td>\n",
       "      <td>Fast shipping in Canada.</td>\n",
       "      <td>1</td>\n",
       "      <td>0</td>\n",
       "      <td>99.24</td>\n",
       "      <td>95</td>\n",
       "      <td>4384</td>\n",
       "      <td>-2.572280e+18</td>\n",
       "      <td>11.67</td>\n",
       "      <td>24</td>\n",
       "      <td>48</td>\n",
       "      <td>CA</td>\n",
       "      <td>ON</td>\n",
       "    </tr>\n",
       "    <tr>\n",
       "      <th>3</th>\n",
       "      <td>4</td>\n",
       "      <td>0</td>\n",
       "      <td>-4.885260e+18</td>\n",
       "      <td>2016-02-04T04:26:52.136Z</td>\n",
       "      <td>NaN</td>\n",
       "      <td>0</td>\n",
       "      <td>0</td>\n",
       "      <td>109.48</td>\n",
       "      <td>94</td>\n",
       "      <td>105</td>\n",
       "      <td>-8.704030e+18</td>\n",
       "      <td>8.99</td>\n",
       "      <td>24</td>\n",
       "      <td>48</td>\n",
       "      <td>CA</td>\n",
       "      <td>ON</td>\n",
       "    </tr>\n",
       "    <tr>\n",
       "      <th>4</th>\n",
       "      <td>5</td>\n",
       "      <td>0</td>\n",
       "      <td>-4.885260e+18</td>\n",
       "      <td>2016-02-04T04:26:52.136Z</td>\n",
       "      <td>NaN</td>\n",
       "      <td>0</td>\n",
       "      <td>0</td>\n",
       "      <td>116.70</td>\n",
       "      <td>67</td>\n",
       "      <td>9</td>\n",
       "      <td>1.929050e+18</td>\n",
       "      <td>6.98</td>\n",
       "      <td>24</td>\n",
       "      <td>48</td>\n",
       "      <td>CA</td>\n",
       "      <td>AB</td>\n",
       "    </tr>\n",
       "  </tbody>\n",
       "</table>\n",
       "</div>"
      ],
      "text/plain": [
       "   Unnamed: 0  IsWinner     ProductId         TimeOfOfferChange  \\\n",
       "0           1         1 -4.885260e+18  2016-02-04T04:26:52.136Z   \n",
       "1           2         0 -4.885260e+18  2016-02-04T04:26:52.136Z   \n",
       "2           3         0 -4.885260e+18  2016-02-04T04:26:52.136Z   \n",
       "3           4         0 -4.885260e+18  2016-02-04T04:26:52.136Z   \n",
       "4           5         0 -4.885260e+18  2016-02-04T04:26:52.136Z   \n",
       "\n",
       "                                      ConditionNotes  IsFeaturedMerchant  \\\n",
       "0  Ready To Ship - We are unable to ship to PO Bo...                   1   \n",
       "1                                                  .                   1   \n",
       "2                           Fast shipping in Canada.                   1   \n",
       "3                                                NaN                   0   \n",
       "4                                                NaN                   0   \n",
       "\n",
       "   IsFulfilledByAmazon  ListingPrice  SellerFeedbackRating  \\\n",
       "0                    0        107.35                    95   \n",
       "1                    0        100.46                    98   \n",
       "2                    0         99.24                    95   \n",
       "3                    0        109.48                    94   \n",
       "4                    0        116.70                    67   \n",
       "\n",
       "   SellerFeedbackCount      SellerId  ShippingPrice  ShippingTime_minHours  \\\n",
       "0                 4078 -1.789490e+18           0.00                     48   \n",
       "1                  478  5.452080e+18           6.99                     24   \n",
       "2                 4384 -2.572280e+18          11.67                     24   \n",
       "3                  105 -8.704030e+18           8.99                     24   \n",
       "4                    9  1.929050e+18           6.98                     24   \n",
       "\n",
       "   ShippingTime_maxHours ShipsFromCountry ShipsFromState  \n",
       "0                     72               CA             ON  \n",
       "1                     48               CA             ON  \n",
       "2                     48               CA             ON  \n",
       "3                     48               CA             ON  \n",
       "4                     48               CA             AB  "
      ]
     },
     "execution_count": 281,
     "metadata": {},
     "output_type": "execute_result"
    }
   ],
   "source": [
    "#test that we have the data\n",
    "df.head()\n",
    "#utf-8 encoding throwing an error - have I made some unwanted change to the csv as the old file still reads fine? \n",
    "#using ISO-8859-1 introduces a new 'unnamed' column?"
   ]
  },
  {
   "cell_type": "markdown",
   "metadata": {},
   "source": [
    "### Tidying Up the Data\n",
    "\n",
    "For the purposes of this assignment, I won't be using certain columns, so I'm going to drop those now. "
   ]
  },
  {
   "cell_type": "code",
   "execution_count": 282,
   "metadata": {
    "collapsed": false
   },
   "outputs": [
    {
     "data": {
      "text/plain": [
       "Unnamed: 0                 int64\n",
       "IsWinner                   int64\n",
       "ProductId                float64\n",
       "TimeOfOfferChange         object\n",
       "ConditionNotes            object\n",
       "IsFeaturedMerchant         int64\n",
       "IsFulfilledByAmazon        int64\n",
       "ListingPrice             float64\n",
       "SellerFeedbackRating       int64\n",
       "SellerFeedbackCount        int64\n",
       "SellerId                 float64\n",
       "ShippingPrice            float64\n",
       "ShippingTime_minHours      int64\n",
       "ShippingTime_maxHours      int64\n",
       "ShipsFromCountry          object\n",
       "ShipsFromState            object\n",
       "dtype: object"
      ]
     },
     "execution_count": 282,
     "metadata": {},
     "output_type": "execute_result"
    }
   ],
   "source": [
    "df.dtypes"
   ]
  },
  {
   "cell_type": "code",
   "execution_count": 283,
   "metadata": {
    "collapsed": false
   },
   "outputs": [
    {
     "data": {
      "text/plain": [
       "array([0], dtype=int64)"
      ]
     },
     "execution_count": 283,
     "metadata": {},
     "output_type": "execute_result"
    }
   ],
   "source": [
    "df.IsFulfilledByAmazon.unique()"
   ]
  },
  {
   "cell_type": "code",
   "execution_count": 284,
   "metadata": {
    "collapsed": false
   },
   "outputs": [],
   "source": [
    "df.drop(df.columns[[0, 2, 3, 4, 6, 10]], axis = 1, inplace = True)"
   ]
  },
  {
   "cell_type": "code",
   "execution_count": 285,
   "metadata": {
    "collapsed": false
   },
   "outputs": [
    {
     "data": {
      "text/html": [
       "<div>\n",
       "<table border=\"1\" class=\"dataframe\">\n",
       "  <thead>\n",
       "    <tr style=\"text-align: right;\">\n",
       "      <th></th>\n",
       "      <th>IsWinner</th>\n",
       "      <th>IsFeaturedMerchant</th>\n",
       "      <th>ListingPrice</th>\n",
       "      <th>SellerFeedbackRating</th>\n",
       "      <th>SellerFeedbackCount</th>\n",
       "      <th>ShippingPrice</th>\n",
       "      <th>ShippingTime_minHours</th>\n",
       "      <th>ShippingTime_maxHours</th>\n",
       "      <th>ShipsFromCountry</th>\n",
       "      <th>ShipsFromState</th>\n",
       "    </tr>\n",
       "  </thead>\n",
       "  <tbody>\n",
       "    <tr>\n",
       "      <th>0</th>\n",
       "      <td>1</td>\n",
       "      <td>1</td>\n",
       "      <td>107.35</td>\n",
       "      <td>95</td>\n",
       "      <td>4078</td>\n",
       "      <td>0.00</td>\n",
       "      <td>48</td>\n",
       "      <td>72</td>\n",
       "      <td>CA</td>\n",
       "      <td>ON</td>\n",
       "    </tr>\n",
       "    <tr>\n",
       "      <th>1</th>\n",
       "      <td>0</td>\n",
       "      <td>1</td>\n",
       "      <td>100.46</td>\n",
       "      <td>98</td>\n",
       "      <td>478</td>\n",
       "      <td>6.99</td>\n",
       "      <td>24</td>\n",
       "      <td>48</td>\n",
       "      <td>CA</td>\n",
       "      <td>ON</td>\n",
       "    </tr>\n",
       "    <tr>\n",
       "      <th>2</th>\n",
       "      <td>0</td>\n",
       "      <td>1</td>\n",
       "      <td>99.24</td>\n",
       "      <td>95</td>\n",
       "      <td>4384</td>\n",
       "      <td>11.67</td>\n",
       "      <td>24</td>\n",
       "      <td>48</td>\n",
       "      <td>CA</td>\n",
       "      <td>ON</td>\n",
       "    </tr>\n",
       "    <tr>\n",
       "      <th>3</th>\n",
       "      <td>0</td>\n",
       "      <td>0</td>\n",
       "      <td>109.48</td>\n",
       "      <td>94</td>\n",
       "      <td>105</td>\n",
       "      <td>8.99</td>\n",
       "      <td>24</td>\n",
       "      <td>48</td>\n",
       "      <td>CA</td>\n",
       "      <td>ON</td>\n",
       "    </tr>\n",
       "    <tr>\n",
       "      <th>4</th>\n",
       "      <td>0</td>\n",
       "      <td>0</td>\n",
       "      <td>116.70</td>\n",
       "      <td>67</td>\n",
       "      <td>9</td>\n",
       "      <td>6.98</td>\n",
       "      <td>24</td>\n",
       "      <td>48</td>\n",
       "      <td>CA</td>\n",
       "      <td>AB</td>\n",
       "    </tr>\n",
       "  </tbody>\n",
       "</table>\n",
       "</div>"
      ],
      "text/plain": [
       "   IsWinner  IsFeaturedMerchant  ListingPrice  SellerFeedbackRating  \\\n",
       "0         1                   1        107.35                    95   \n",
       "1         0                   1        100.46                    98   \n",
       "2         0                   1         99.24                    95   \n",
       "3         0                   0        109.48                    94   \n",
       "4         0                   0        116.70                    67   \n",
       "\n",
       "   SellerFeedbackCount  ShippingPrice  ShippingTime_minHours  \\\n",
       "0                 4078           0.00                     48   \n",
       "1                  478           6.99                     24   \n",
       "2                 4384          11.67                     24   \n",
       "3                  105           8.99                     24   \n",
       "4                    9           6.98                     24   \n",
       "\n",
       "   ShippingTime_maxHours ShipsFromCountry ShipsFromState  \n",
       "0                     72               CA             ON  \n",
       "1                     48               CA             ON  \n",
       "2                     48               CA             ON  \n",
       "3                     48               CA             ON  \n",
       "4                     48               CA             AB  "
      ]
     },
     "execution_count": 285,
     "metadata": {},
     "output_type": "execute_result"
    }
   ],
   "source": [
    "df.head()"
   ]
  },
  {
   "cell_type": "code",
   "execution_count": 286,
   "metadata": {
    "collapsed": false,
    "scrolled": true
   },
   "outputs": [
    {
     "data": {
      "text/plain": [
       "IsWinner                   int64\n",
       "IsFeaturedMerchant         int64\n",
       "ListingPrice             float64\n",
       "SellerFeedbackRating       int64\n",
       "SellerFeedbackCount        int64\n",
       "ShippingPrice            float64\n",
       "ShippingTime_minHours      int64\n",
       "ShippingTime_maxHours      int64\n",
       "ShipsFromCountry          object\n",
       "ShipsFromState            object\n",
       "dtype: object"
      ]
     },
     "execution_count": 286,
     "metadata": {},
     "output_type": "execute_result"
    }
   ],
   "source": [
    "df.dtypes"
   ]
  },
  {
   "cell_type": "code",
   "execution_count": 287,
   "metadata": {
    "collapsed": false,
    "scrolled": true
   },
   "outputs": [
    {
     "data": {
      "text/plain": [
       "IsWinner                 0\n",
       "IsFeaturedMerchant       0\n",
       "ListingPrice             0\n",
       "SellerFeedbackRating     0\n",
       "SellerFeedbackCount      0\n",
       "ShippingPrice            0\n",
       "ShippingTime_minHours    0\n",
       "ShippingTime_maxHours    0\n",
       "ShipsFromCountry         0\n",
       "ShipsFromState           0\n",
       "dtype: int64"
      ]
     },
     "execution_count": 287,
     "metadata": {},
     "output_type": "execute_result"
    }
   ],
   "source": [
    "df.isnull().sum()"
   ]
  },
  {
   "cell_type": "code",
   "execution_count": 288,
   "metadata": {
    "collapsed": false
   },
   "outputs": [
    {
     "data": {
      "text/html": [
       "<div>\n",
       "<table border=\"1\" class=\"dataframe\">\n",
       "  <thead>\n",
       "    <tr style=\"text-align: right;\">\n",
       "      <th></th>\n",
       "      <th>IsWinner</th>\n",
       "      <th>IsFeaturedMerchant</th>\n",
       "      <th>ListingPrice</th>\n",
       "      <th>SellerFeedbackRating</th>\n",
       "      <th>SellerFeedbackCount</th>\n",
       "      <th>ShippingPrice</th>\n",
       "      <th>ShippingTime_minHours</th>\n",
       "      <th>ShippingTime_maxHours</th>\n",
       "      <th>ShipsFromCountry</th>\n",
       "      <th>ShipsFromState</th>\n",
       "    </tr>\n",
       "  </thead>\n",
       "  <tbody>\n",
       "    <tr>\n",
       "      <th>2865</th>\n",
       "      <td>0</td>\n",
       "      <td>1</td>\n",
       "      <td>2999.00</td>\n",
       "      <td>95</td>\n",
       "      <td>4385</td>\n",
       "      <td>12.52</td>\n",
       "      <td>24</td>\n",
       "      <td>48</td>\n",
       "      <td>CA</td>\n",
       "      <td>ON</td>\n",
       "    </tr>\n",
       "    <tr>\n",
       "      <th>73</th>\n",
       "      <td>0</td>\n",
       "      <td>1</td>\n",
       "      <td>2999.00</td>\n",
       "      <td>95</td>\n",
       "      <td>4384</td>\n",
       "      <td>12.12</td>\n",
       "      <td>24</td>\n",
       "      <td>48</td>\n",
       "      <td>CA</td>\n",
       "      <td>ON</td>\n",
       "    </tr>\n",
       "    <tr>\n",
       "      <th>2684</th>\n",
       "      <td>0</td>\n",
       "      <td>0</td>\n",
       "      <td>2617.92</td>\n",
       "      <td>96</td>\n",
       "      <td>1790</td>\n",
       "      <td>9.98</td>\n",
       "      <td>96</td>\n",
       "      <td>120</td>\n",
       "      <td>US</td>\n",
       "      <td>NY</td>\n",
       "    </tr>\n",
       "    <tr>\n",
       "      <th>2683</th>\n",
       "      <td>0</td>\n",
       "      <td>1</td>\n",
       "      <td>2237.85</td>\n",
       "      <td>93</td>\n",
       "      <td>2521</td>\n",
       "      <td>269.65</td>\n",
       "      <td>24</td>\n",
       "      <td>48</td>\n",
       "      <td>US</td>\n",
       "      <td>VA</td>\n",
       "    </tr>\n",
       "    <tr>\n",
       "      <th>2290</th>\n",
       "      <td>0</td>\n",
       "      <td>0</td>\n",
       "      <td>2093.77</td>\n",
       "      <td>98</td>\n",
       "      <td>1446</td>\n",
       "      <td>0.00</td>\n",
       "      <td>24</td>\n",
       "      <td>48</td>\n",
       "      <td>US</td>\n",
       "      <td>CA</td>\n",
       "    </tr>\n",
       "  </tbody>\n",
       "</table>\n",
       "</div>"
      ],
      "text/plain": [
       "      IsWinner  IsFeaturedMerchant  ListingPrice  SellerFeedbackRating  \\\n",
       "2865         0                   1       2999.00                    95   \n",
       "73           0                   1       2999.00                    95   \n",
       "2684         0                   0       2617.92                    96   \n",
       "2683         0                   1       2237.85                    93   \n",
       "2290         0                   0       2093.77                    98   \n",
       "\n",
       "      SellerFeedbackCount  ShippingPrice  ShippingTime_minHours  \\\n",
       "2865                 4385          12.52                     24   \n",
       "73                   4384          12.12                     24   \n",
       "2684                 1790           9.98                     96   \n",
       "2683                 2521         269.65                     24   \n",
       "2290                 1446           0.00                     24   \n",
       "\n",
       "      ShippingTime_maxHours ShipsFromCountry ShipsFromState  \n",
       "2865                     48               CA             ON  \n",
       "73                       48               CA             ON  \n",
       "2684                    120               US             NY  \n",
       "2683                     48               US             VA  \n",
       "2290                     48               US             CA  "
      ]
     },
     "execution_count": 288,
     "metadata": {},
     "output_type": "execute_result"
    }
   ],
   "source": [
    "#outliers in Listing Price\n",
    "df.sort_values(by='ListingPrice', axis=0, ascending=False, inplace=False, kind='quicksort', na_position='last').head(5)"
   ]
  },
  {
   "cell_type": "code",
   "execution_count": 289,
   "metadata": {
    "collapsed": false
   },
   "outputs": [
    {
     "data": {
      "text/html": [
       "<div>\n",
       "<table border=\"1\" class=\"dataframe\">\n",
       "  <thead>\n",
       "    <tr style=\"text-align: right;\">\n",
       "      <th></th>\n",
       "      <th>IsWinner</th>\n",
       "      <th>IsFeaturedMerchant</th>\n",
       "      <th>ListingPrice</th>\n",
       "      <th>SellerFeedbackRating</th>\n",
       "      <th>SellerFeedbackCount</th>\n",
       "      <th>ShippingPrice</th>\n",
       "      <th>ShippingTime_minHours</th>\n",
       "      <th>ShippingTime_maxHours</th>\n",
       "      <th>ShipsFromCountry</th>\n",
       "      <th>ShipsFromState</th>\n",
       "    </tr>\n",
       "  </thead>\n",
       "  <tbody>\n",
       "    <tr>\n",
       "      <th>4201</th>\n",
       "      <td>0</td>\n",
       "      <td>1</td>\n",
       "      <td>105.81</td>\n",
       "      <td>100</td>\n",
       "      <td>384</td>\n",
       "      <td>13.08</td>\n",
       "      <td>24</td>\n",
       "      <td>48</td>\n",
       "      <td>CA</td>\n",
       "      <td>ON</td>\n",
       "    </tr>\n",
       "    <tr>\n",
       "      <th>1567</th>\n",
       "      <td>0</td>\n",
       "      <td>1</td>\n",
       "      <td>55.98</td>\n",
       "      <td>100</td>\n",
       "      <td>384</td>\n",
       "      <td>13.86</td>\n",
       "      <td>24</td>\n",
       "      <td>48</td>\n",
       "      <td>CA</td>\n",
       "      <td>ON</td>\n",
       "    </tr>\n",
       "    <tr>\n",
       "      <th>4340</th>\n",
       "      <td>0</td>\n",
       "      <td>1</td>\n",
       "      <td>444.53</td>\n",
       "      <td>100</td>\n",
       "      <td>384</td>\n",
       "      <td>20.26</td>\n",
       "      <td>24</td>\n",
       "      <td>48</td>\n",
       "      <td>CA</td>\n",
       "      <td>ON</td>\n",
       "    </tr>\n",
       "    <tr>\n",
       "      <th>2830</th>\n",
       "      <td>0</td>\n",
       "      <td>1</td>\n",
       "      <td>99.61</td>\n",
       "      <td>100</td>\n",
       "      <td>4601</td>\n",
       "      <td>0.00</td>\n",
       "      <td>24</td>\n",
       "      <td>48</td>\n",
       "      <td>CA</td>\n",
       "      <td>ON</td>\n",
       "    </tr>\n",
       "    <tr>\n",
       "      <th>3439</th>\n",
       "      <td>0</td>\n",
       "      <td>0</td>\n",
       "      <td>92.75</td>\n",
       "      <td>100</td>\n",
       "      <td>384</td>\n",
       "      <td>13.09</td>\n",
       "      <td>24</td>\n",
       "      <td>48</td>\n",
       "      <td>CA</td>\n",
       "      <td>ON</td>\n",
       "    </tr>\n",
       "  </tbody>\n",
       "</table>\n",
       "</div>"
      ],
      "text/plain": [
       "      IsWinner  IsFeaturedMerchant  ListingPrice  SellerFeedbackRating  \\\n",
       "4201         0                   1        105.81                   100   \n",
       "1567         0                   1         55.98                   100   \n",
       "4340         0                   1        444.53                   100   \n",
       "2830         0                   1         99.61                   100   \n",
       "3439         0                   0         92.75                   100   \n",
       "\n",
       "      SellerFeedbackCount  ShippingPrice  ShippingTime_minHours  \\\n",
       "4201                  384          13.08                     24   \n",
       "1567                  384          13.86                     24   \n",
       "4340                  384          20.26                     24   \n",
       "2830                 4601           0.00                     24   \n",
       "3439                  384          13.09                     24   \n",
       "\n",
       "      ShippingTime_maxHours ShipsFromCountry ShipsFromState  \n",
       "4201                     48               CA             ON  \n",
       "1567                     48               CA             ON  \n",
       "4340                     48               CA             ON  \n",
       "2830                     48               CA             ON  \n",
       "3439                     48               CA             ON  "
      ]
     },
     "execution_count": 289,
     "metadata": {},
     "output_type": "execute_result"
    }
   ],
   "source": [
    "#outliers in Seller Feedback Rating\n",
    "df.sort_values(by='SellerFeedbackRating', axis=0, ascending=False, inplace=False, kind='quicksort', na_position='last').head(5)"
   ]
  },
  {
   "cell_type": "code",
   "execution_count": 290,
   "metadata": {
    "collapsed": false
   },
   "outputs": [
    {
     "data": {
      "text/html": [
       "<div>\n",
       "<table border=\"1\" class=\"dataframe\">\n",
       "  <thead>\n",
       "    <tr style=\"text-align: right;\">\n",
       "      <th></th>\n",
       "      <th>IsWinner</th>\n",
       "      <th>IsFeaturedMerchant</th>\n",
       "      <th>ListingPrice</th>\n",
       "      <th>SellerFeedbackRating</th>\n",
       "      <th>SellerFeedbackCount</th>\n",
       "      <th>ShippingPrice</th>\n",
       "      <th>ShippingTime_minHours</th>\n",
       "      <th>ShippingTime_maxHours</th>\n",
       "      <th>ShipsFromCountry</th>\n",
       "      <th>ShipsFromState</th>\n",
       "    </tr>\n",
       "  </thead>\n",
       "  <tbody>\n",
       "    <tr>\n",
       "      <th>531</th>\n",
       "      <td>0</td>\n",
       "      <td>1</td>\n",
       "      <td>929.02</td>\n",
       "      <td>93</td>\n",
       "      <td>2521</td>\n",
       "      <td>335.35</td>\n",
       "      <td>24</td>\n",
       "      <td>48</td>\n",
       "      <td>US</td>\n",
       "      <td>VA</td>\n",
       "    </tr>\n",
       "    <tr>\n",
       "      <th>2137</th>\n",
       "      <td>0</td>\n",
       "      <td>1</td>\n",
       "      <td>929.02</td>\n",
       "      <td>93</td>\n",
       "      <td>2521</td>\n",
       "      <td>335.35</td>\n",
       "      <td>24</td>\n",
       "      <td>48</td>\n",
       "      <td>US</td>\n",
       "      <td>VA</td>\n",
       "    </tr>\n",
       "    <tr>\n",
       "      <th>4251</th>\n",
       "      <td>0</td>\n",
       "      <td>1</td>\n",
       "      <td>929.02</td>\n",
       "      <td>93</td>\n",
       "      <td>2521</td>\n",
       "      <td>335.35</td>\n",
       "      <td>24</td>\n",
       "      <td>48</td>\n",
       "      <td>US</td>\n",
       "      <td>VA</td>\n",
       "    </tr>\n",
       "    <tr>\n",
       "      <th>2683</th>\n",
       "      <td>0</td>\n",
       "      <td>1</td>\n",
       "      <td>2237.85</td>\n",
       "      <td>93</td>\n",
       "      <td>2521</td>\n",
       "      <td>269.65</td>\n",
       "      <td>24</td>\n",
       "      <td>48</td>\n",
       "      <td>US</td>\n",
       "      <td>VA</td>\n",
       "    </tr>\n",
       "    <tr>\n",
       "      <th>764</th>\n",
       "      <td>0</td>\n",
       "      <td>1</td>\n",
       "      <td>575.25</td>\n",
       "      <td>93</td>\n",
       "      <td>2521</td>\n",
       "      <td>252.25</td>\n",
       "      <td>24</td>\n",
       "      <td>48</td>\n",
       "      <td>US</td>\n",
       "      <td>VA</td>\n",
       "    </tr>\n",
       "  </tbody>\n",
       "</table>\n",
       "</div>"
      ],
      "text/plain": [
       "      IsWinner  IsFeaturedMerchant  ListingPrice  SellerFeedbackRating  \\\n",
       "531          0                   1        929.02                    93   \n",
       "2137         0                   1        929.02                    93   \n",
       "4251         0                   1        929.02                    93   \n",
       "2683         0                   1       2237.85                    93   \n",
       "764          0                   1        575.25                    93   \n",
       "\n",
       "      SellerFeedbackCount  ShippingPrice  ShippingTime_minHours  \\\n",
       "531                  2521         335.35                     24   \n",
       "2137                 2521         335.35                     24   \n",
       "4251                 2521         335.35                     24   \n",
       "2683                 2521         269.65                     24   \n",
       "764                  2521         252.25                     24   \n",
       "\n",
       "      ShippingTime_maxHours ShipsFromCountry ShipsFromState  \n",
       "531                      48               US             VA  \n",
       "2137                     48               US             VA  \n",
       "4251                     48               US             VA  \n",
       "2683                     48               US             VA  \n",
       "764                      48               US             VA  "
      ]
     },
     "execution_count": 290,
     "metadata": {},
     "output_type": "execute_result"
    }
   ],
   "source": [
    "#outliers in Shipping Price\n",
    "df.sort_values(by='ShippingPrice', axis=0, ascending=False, inplace=False, kind='quicksort', na_position='last').head(5)"
   ]
  },
  {
   "cell_type": "markdown",
   "metadata": {
    "collapsed": true
   },
   "source": [
    "# Question 1. Data Understanding: Exploring Relationships Between Feature Pairs"
   ]
  },
  {
   "cell_type": "markdown",
   "metadata": {},
   "source": [
    "## 1.1 Print the correlations between the continuous features"
   ]
  },
  {
   "cell_type": "code",
   "execution_count": 291,
   "metadata": {
    "collapsed": false
   },
   "outputs": [
    {
     "name": "stdout",
     "output_type": "stream",
     "text": [
      "                       SellerFeedbackRating  SellerFeedbackCount  \\\n",
      "SellerFeedbackRating               1.000000             0.105576   \n",
      "SellerFeedbackCount                0.105576             1.000000   \n",
      "ListingPrice                      -0.037842            -0.001166   \n",
      "ShippingPrice                     -0.005308            -0.202074   \n",
      "ShippingTime_minHours             -0.163926             0.295287   \n",
      "ShippingTime_maxHours             -0.176798             0.212978   \n",
      "\n",
      "                       ListingPrice  ShippingPrice  ShippingTime_minHours  \\\n",
      "SellerFeedbackRating      -0.037842      -0.005308              -0.163926   \n",
      "SellerFeedbackCount       -0.001166      -0.202074               0.295287   \n",
      "ListingPrice               1.000000       0.215024               0.038674   \n",
      "ShippingPrice              0.215024       1.000000              -0.016701   \n",
      "ShippingTime_minHours      0.038674      -0.016701               1.000000   \n",
      "ShippingTime_maxHours      0.032914       0.036349               0.973911   \n",
      "\n",
      "                       ShippingTime_maxHours  \n",
      "SellerFeedbackRating               -0.176798  \n",
      "SellerFeedbackCount                 0.212978  \n",
      "ListingPrice                        0.032914  \n",
      "ShippingPrice                       0.036349  \n",
      "ShippingTime_minHours               0.973911  \n",
      "ShippingTime_maxHours               1.000000  \n"
     ]
    }
   ],
   "source": [
    "sns.set(style='white')\n",
    "continuous_columns = df[['SellerFeedbackRating', 'SellerFeedbackCount', 'ListingPrice', 'ShippingPrice', 'ShippingTime_minHours', 'ShippingTime_maxHours']].columns\n",
    "corr = df[continuous_columns].corr()\n",
    "\n",
    "print(corr)"
   ]
  },
  {
   "cell_type": "code",
   "execution_count": 292,
   "metadata": {
    "collapsed": false
   },
   "outputs": [
    {
     "data": {
      "text/plain": [
       "(array([ 0.5,  1.5,  2.5,  3.5,  4.5,  5.5]),\n",
       " <a list of 6 Text xticklabel objects>)"
      ]
     },
     "execution_count": 292,
     "metadata": {},
     "output_type": "execute_result"
    },
    {
     "data": {
      "image/png": "[encoded data removed]",
      "text/plain": [
       "<matplotlib.figure.Figure at 0x2915def3080>"
      ]
     },
     "metadata": {},
     "output_type": "display_data"
    }
   ],
   "source": [
    "# Generate a mask for the upper triangle\n",
    "mask = np.zeros_like(corr, dtype=np.bool)\n",
    "mask[np.triu_indices_from(mask)] = True\n",
    "\n",
    "# Set up the matplotlib figure\n",
    "f, ax = plt.subplots(figsize=(11, 9))\n",
    "\n",
    "# Generate a custom colormap - blue and red\n",
    "cmap = sns.diverging_palette(220, 10, as_cmap=True)\n",
    "\n",
    "# Draw the heatmap with the mask and correct aspect ratio\n",
    "sns.heatmap(corr, annot=True, mask=mask, cmap=cmap, vmax=1, vmin=-1,\n",
    "            square=True, xticklabels=True, yticklabels=True,\n",
    "            linewidths=.5, cbar_kws={\"shrink\": .5}, ax=ax)\n",
    "plt.yticks(rotation = 0)\n",
    "plt.xticks(rotation = 45)"
   ]
  },
  {
   "cell_type": "markdown",
   "metadata": {},
   "source": [
    "## 1.2 Plot the scatter plots of each pair of continuous descriptive feature and target feature"
   ]
  },
  {
   "cell_type": "code",
   "execution_count": 293,
   "metadata": {
    "collapsed": false,
    "scrolled": true
   },
   "outputs": [
    {
     "data": {
      "text/plain": [
       "<matplotlib.axes._subplots.AxesSubplot at 0x2915f50e898>"
      ]
     },
     "execution_count": 293,
     "metadata": {},
     "output_type": "execute_result"
    },
    {
     "data": {
      "image/png": "[encoded data removed]",
      "text/plain": [
       "<matplotlib.figure.Figure at 0x2915e2e1160>"
      ]
     },
     "metadata": {},
     "output_type": "display_data"
    },
    {
     "data": {
      "image/png": "[encoded data removed]",
      "text/plain": [
       "<matplotlib.figure.Figure at 0x2915e3fa128>"
      ]
     },
     "metadata": {},
     "output_type": "display_data"
    },
    {
     "data": {
      "image/png": "[encoded data removed]",
      "text/plain": [
       "<matplotlib.figure.Figure at 0x29159313da0>"
      ]
     },
     "metadata": {},
     "output_type": "display_data"
    },
    {
     "data": {
      "image/png": "[encoded data removed]",
      "text/plain": [
       "<matplotlib.figure.Figure at 0x2915e457ba8>"
      ]
     },
     "metadata": {},
     "output_type": "display_data"
    },
    {
     "data": {
      "image/png": "[encoded data removed]",
      "text/plain": [
       "<matplotlib.figure.Figure at 0x2915e2d3860>"
      ]
     },
     "metadata": {},
     "output_type": "display_data"
    },
    {
     "data": {
      "image/png": "[encoded data removed]",
      "text/plain": [
       "<matplotlib.figure.Figure at 0x2915f506908>"
      ]
     },
     "metadata": {},
     "output_type": "display_data"
    }
   ],
   "source": [
    "% matplotlib inline\n",
    "df.plot(kind='scatter', x='IsWinner', y='SellerFeedbackRating')\n",
    "df.plot(kind='scatter', x='IsWinner', y='SellerFeedbackCount')\n",
    "df.plot(kind='scatter', x='IsWinner', y='ListingPrice')\n",
    "df.plot(kind='scatter', x='IsWinner', y='ShippingPrice')\n",
    "df.plot(kind='scatter', x='IsWinner', y='ShippingTime_minHours')\n",
    "df.plot(kind='scatter', x='IsWinner', y='ShippingTime_maxHours')"
   ]
  },
  {
   "cell_type": "markdown",
   "metadata": {},
   "source": [
    "## 1.3 Discuss what you observe from the scatter plots and correlations, e.g., which continuous features seem to be better at predicting the target feature. Choose a subset of continuous features you find promising. Justify your choices. "
   ]
  },
  {
   "cell_type": "markdown",
   "metadata": {
    "collapsed": true
   },
   "source": [
    "1. Seller Feedback Rating looks promising - from the scatter plot we can see that there is a correlation between sellers with ratings above 80 and the target feature. While we can see that it isn't conclusive that the offer would be in the positive class based solely on this, it could act as a way to reduce the probability of an offer being in the positive class - if the seller rating is below the threshold.\n",
    "2. We can see a similar pattern in regard to Listing Price. There are no cases in the positive class above the Listing Price of 1500 dollars - this is something we could look at further. \n",
    "3. Shipping Price is similar to Listing Price. There are no positive cases above 100 dollars except one instance which could be an outlier. This is something that we could look at further also.\n",
    "\n",
    "Need to create dummies for ships from state for linear and logistic regression. "
   ]
  },
  {
   "cell_type": "markdown",
   "metadata": {},
   "source": [
    "## 1.4 For each categorical feature, plot the pairwise interaction with the target feature (barplots or stacked barplots). "
   ]
  },
  {
   "cell_type": "code",
   "execution_count": 294,
   "metadata": {
    "collapsed": false
   },
   "outputs": [],
   "source": [
    "%matplotlib inline\n",
    "\n",
    "#define our categorical features\n",
    "categorical_features = ['IsFeaturedMerchant',\n",
    "                        'ShipsFromCountry', 'ShipsFromState']\n",
    "\n",
    "categorical_columns = df[categorical_features].columns\n"
   ]
  },
  {
   "cell_type": "code",
   "execution_count": 295,
   "metadata": {
    "collapsed": false,
    "scrolled": true
   },
   "outputs": [
    {
     "data": {
      "text/plain": [
       "(0, 100)"
      ]
     },
     "execution_count": 295,
     "metadata": {},
     "output_type": "execute_result"
    },
    {
     "data": {
      "image/png": "[encoded data removed]",
      "text/plain": [
       "<matplotlib.figure.Figure at 0x2915deca208>"
      ]
     },
     "metadata": {},
     "output_type": "display_data"
    }
   ],
   "source": [
    "# Find unique values in ShipsFromState\n",
    "\n",
    "states = pd.unique(df.ShipsFromState.ravel())\n",
    "\n",
    "# Insert a new column called 'percent' and fill it with 0s\n",
    "df['percent'] = 0\n",
    "\n",
    "# Iterate through the unique values in State and for each value count the amount of winners\n",
    "# Find the indexes of each row with a particular state and for each of these row insert count * 100 in the percent column\n",
    "for s in states:\n",
    "    count = 1 / df[df.ShipsFromState == s].count()['IsWinner']\n",
    "    index_list = df[df['ShipsFromState'] == s].index.tolist()\n",
    "    for i in index_list:\n",
    "        df.loc[i, 'percent'] = count * 100\n",
    "\n",
    "\n",
    "category_group = df[['percent', 'ShipsFromState','IsWinner']].groupby(['ShipsFromState','IsWinner']).sum()\n",
    "\n",
    "my_plot = category_group.unstack().plot(kind='bar', stacked=True, title=\"Winners by State Shipped From\", figsize=(13,7))\n",
    "\n",
    "red_patch = mpatches.Patch(color='green', label='Winner')\n",
    "blue_patch = mpatches.Patch(color='blue', label='Not Winner')\n",
    "my_plot.legend(handles=[red_patch, blue_patch], frameon = True)\n",
    "\n",
    "my_plot.set_xlabel(\"ShipsFromState\")\n",
    "my_plot.set_ylabel(\"IsWinner\")\n",
    "my_plot.set_ylim([0,100])\n"
   ]
  },
  {
   "cell_type": "code",
   "execution_count": 296,
   "metadata": {
    "collapsed": false
   },
   "outputs": [
    {
     "data": {
      "text/plain": [
       "(0, 100)"
      ]
     },
     "execution_count": 296,
     "metadata": {},
     "output_type": "execute_result"
    },
    {
     "data": {
      "image/png": "[encoded data removed]",
      "text/plain": [
       "<matplotlib.figure.Figure at 0x2915b5ba128>"
      ]
     },
     "metadata": {},
     "output_type": "display_data"
    }
   ],
   "source": [
    "# Count the number of female candidates\n",
    "featured = 1 / df[df.IsFeaturedMerchant == 1].count()['IsFeaturedMerchant']\n",
    "\n",
    "# Counts the number of male candidates\n",
    "not_featured = 1 / df[df.IsFeaturedMerchant == 0].count()['IsFeaturedMerchant']\n",
    "\n",
    "# Create a new column in the dataframe called percent and insert male_count in all cells\n",
    "df['percent'] = not_featured * 100\n",
    "\n",
    "# Find indexes of all rows containing value Female for Gender\n",
    "index_list = df[df['IsFeaturedMerchant'] == 1].index.tolist()\n",
    "\n",
    "# For each row with a 'female' value, insert female_count in the percent column\n",
    "for i in index_list:\n",
    "    df.loc[i, 'percent'] = featured * 100\n",
    "\n",
    "# Group dataframe by Gender and Elected and sum precent\n",
    "category_group = df[['percent','IsFeaturedMerchant','IsWinner']].groupby(['IsFeaturedMerchant','IsWinner']).sum()\n",
    "\n",
    "# Plot values of category_group in a stacked bar chart\n",
    "my_plot = category_group.unstack().plot(kind='bar', stacked=True, title=\"Winners by Featured Merchant Status\", figsize=(13,7))\n",
    "\n",
    "# Define legend colours and text and add to the plot\n",
    "red_patch = mpatches.Patch(color='green', label='Is Winner')\n",
    "blue_patch = mpatches.Patch(color='blue', label='Not Winner')\n",
    "my_plot.legend(handles=[red_patch, blue_patch], frameon = True)\n",
    "\n",
    "# Define x and y labels and min and max values for the y axis\n",
    "my_plot.set_xlabel(\"Is Featured Merchant\")\n",
    "my_plot.set_ylabel(\"% Winners\")\n",
    "my_plot.set_ylim([0,100])\n",
    "\n",
    "#by looking at this - we cannot confidently say that if a product is a featured merchant that it will be a winning offer \n",
    "#but we can say that if it is not a featured merchant it definitely won't be a winning offer"
   ]
  },
  {
   "cell_type": "code",
   "execution_count": 297,
   "metadata": {
    "collapsed": false,
    "scrolled": false
   },
   "outputs": [
    {
     "data": {
      "text/plain": [
       "(0, 100)"
      ]
     },
     "execution_count": 297,
     "metadata": {},
     "output_type": "execute_result"
    },
    {
     "data": {
      "image/png": "[encoded data removed]",
      "text/plain": [
       "<matplotlib.figure.Figure at 0x2915b42af98>"
      ]
     },
     "metadata": {},
     "output_type": "display_data"
    }
   ],
   "source": [
    "# Count the number of female candidates\n",
    "count_CA = 1 / df[df.ShipsFromCountry == 'CA'].count()['ShipsFromCountry']\n",
    "\n",
    "# Counts the number of male candidates\n",
    "count_US = 1 / df[df.ShipsFromCountry == 'US'].count()['ShipsFromCountry']\n",
    "\n",
    "# Create a new column in the dataframe called percent and insert male_count in all cells\n",
    "df['percent'] = count_US * 100\n",
    "\n",
    "# Find indexes of all rows containing value Female for Gender\n",
    "index_list = df[df['ShipsFromCountry'] == 'CA'].index.tolist()\n",
    "\n",
    "# For each row with a 'female' value, insert female_count in the percent column\n",
    "for i in index_list:\n",
    "    df.loc[i, 'percent'] = count_CA * 100\n",
    "\n",
    "# Group dataframe by Gender and Elected and sum precent\n",
    "category_group = df[['percent','ShipsFromCountry','IsWinner']].groupby(['ShipsFromCountry','IsWinner']).sum()\n",
    "\n",
    "# Plot values of category_group in a stacked bar chart\n",
    "my_plot = category_group.unstack().plot(kind='bar', stacked=True, title=\"Winners by Ships From Country\", figsize=(13,7))\n",
    "\n",
    "# Define legend colours and text and add to the plot\n",
    "red_patch = mpatches.Patch(color='green', label='Is Winner')\n",
    "blue_patch = mpatches.Patch(color='blue', label='Not Winner')\n",
    "my_plot.legend(handles=[red_patch, blue_patch], frameon = True)\n",
    "\n",
    "# Define x and y labels and min and max values for the y axis\n",
    "my_plot.set_xlabel(\"ShipsFromCountry\")\n",
    "my_plot.set_ylabel(\"% Winners\")\n",
    "my_plot.set_ylim([0,100])"
   ]
  },
  {
   "cell_type": "markdown",
   "metadata": {},
   "source": [
    "## 1.5 Discuss what knowledge you gain from plotting the interaction of descriptive categorical features and the target feature, e.g., which categorical features seem to be better at predicting the target feature. Choose a subset of categorical features you find promising. Justify your choices. "
   ]
  },
  {
   "cell_type": "markdown",
   "metadata": {
    "collapsed": true
   },
   "source": [
    "1. Ships From State seems to be the most informative - there are a high number of winners from BC and PA. \n",
    "2. Is Featured Merchant gives some indication - there are no winners in instances where the offer is not a featured merchant.\n",
    "3. There are a higher percentage of winners respectively in the offers shipped from Canada than the US. "
   ]
  },
  {
   "cell_type": "markdown",
   "metadata": {},
   "source": [
    "## Data Preparation\n",
    "\n",
    "Before we go ahead and train the models, we need to do something with the categorical features - so we will create dummies for them and treat them as individual features. \n",
    "\n",
    "We also need to drop the features we have decided not to include as part of our model. "
   ]
  },
  {
   "cell_type": "code",
   "execution_count": 298,
   "metadata": {
    "collapsed": false,
    "scrolled": true
   },
   "outputs": [
    {
     "data": {
      "text/plain": [
       "IsWinner                   int64\n",
       "IsFeaturedMerchant         int64\n",
       "ListingPrice             float64\n",
       "SellerFeedbackRating       int64\n",
       "SellerFeedbackCount        int64\n",
       "ShippingPrice            float64\n",
       "ShippingTime_minHours      int64\n",
       "ShippingTime_maxHours      int64\n",
       "ShipsFromCountry          object\n",
       "ShipsFromState            object\n",
       "percent                  float64\n",
       "dtype: object"
      ]
     },
     "execution_count": 298,
     "metadata": {},
     "output_type": "execute_result"
    }
   ],
   "source": [
    "df.dtypes"
   ]
  },
  {
   "cell_type": "code",
   "execution_count": 299,
   "metadata": {
    "collapsed": true
   },
   "outputs": [],
   "source": [
    "df.drop(df.columns[[4, 6, 7, 10]], axis = 1, inplace = True)"
   ]
  },
  {
   "cell_type": "code",
   "execution_count": 300,
   "metadata": {
    "collapsed": false
   },
   "outputs": [],
   "source": [
    "ShipsFromState_dummies = pd.get_dummies(df.ShipsFromState, prefix='ShipsFrom').iloc[:, :]\n",
    "df = pd.concat([df, ShipsFromState_dummies], axis=1)\n",
    "#I know that we would normally not use the first dummy but I wasn't sure whether that was the case in a complex feature like this"
   ]
  },
  {
   "cell_type": "code",
   "execution_count": 301,
   "metadata": {
    "collapsed": false
   },
   "outputs": [],
   "source": [
    "ShipsFromCountry_dummies = pd.get_dummies(df.ShipsFromCountry, prefix ='ShipsFromCountry').iloc[:, :]\n",
    "df = pd.concat([df, ShipsFromCountry_dummies], axis = 1)"
   ]
  },
  {
   "cell_type": "code",
   "execution_count": 302,
   "metadata": {
    "collapsed": false
   },
   "outputs": [
    {
     "data": {
      "text/plain": [
       "Index(['IsWinner', 'IsFeaturedMerchant', 'ListingPrice',\n",
       "       'SellerFeedbackRating', 'ShippingPrice', 'ShipsFromCountry',\n",
       "       'ShipsFromState', 'ShipsFrom_AB', 'ShipsFrom_BC', 'ShipsFrom_CA',\n",
       "       'ShipsFrom_CT', 'ShipsFrom_DE', 'ShipsFrom_FL', 'ShipsFrom_GA',\n",
       "       'ShipsFrom_IL', 'ShipsFrom_KS', 'ShipsFrom_MD', 'ShipsFrom_MI',\n",
       "       'ShipsFrom_MO', 'ShipsFrom_NB', 'ShipsFrom_NH', 'ShipsFrom_NJ',\n",
       "       'ShipsFrom_NV', 'ShipsFrom_NY', 'ShipsFrom_ON', 'ShipsFrom_PA',\n",
       "       'ShipsFrom_QC', 'ShipsFrom_SC', 'ShipsFrom_TN', 'ShipsFrom_TX',\n",
       "       'ShipsFrom_VA', 'ShipsFromCountry_CA', 'ShipsFromCountry_US'],\n",
       "      dtype='object')"
      ]
     },
     "execution_count": 302,
     "metadata": {},
     "output_type": "execute_result"
    }
   ],
   "source": [
    "#and now we'll drop the columns for ShipsFromState and ShipsFromCountry - and for the states that have not shown to be of interest\n",
    "#in our stacked bar plot\n",
    "df.columns"
   ]
  },
  {
   "cell_type": "code",
   "execution_count": 303,
   "metadata": {
    "collapsed": true
   },
   "outputs": [],
   "source": [
    "#now we can drop ShipsFromState and ShipsFromCountry\n",
    "df.drop(df.columns[[5, 6, 9, 10, 11, 12, 13, 14, 15, 16, 17, 18, 19, 20, 21, 22, 23, 27, 28, 29, 30]], axis = 1, inplace = True)"
   ]
  },
  {
   "cell_type": "code",
   "execution_count": 304,
   "metadata": {
    "collapsed": false
   },
   "outputs": [
    {
     "data": {
      "text/plain": [
       "Index(['IsWinner', 'IsFeaturedMerchant', 'ListingPrice',\n",
       "       'SellerFeedbackRating', 'ShippingPrice', 'ShipsFrom_AB', 'ShipsFrom_BC',\n",
       "       'ShipsFrom_ON', 'ShipsFrom_PA', 'ShipsFrom_QC', 'ShipsFromCountry_CA',\n",
       "       'ShipsFromCountry_US'],\n",
       "      dtype='object')"
      ]
     },
     "execution_count": 304,
     "metadata": {},
     "output_type": "execute_result"
    }
   ],
   "source": [
    "df.columns"
   ]
  },
  {
   "cell_type": "markdown",
   "metadata": {},
   "source": [
    "# Question 2: Predictive Modeling: Linear Regression"
   ]
  },
  {
   "cell_type": "markdown",
   "metadata": {},
   "source": [
    "## 2.1 Train a linear regression model to predict the target feature IsWinner, using the descriptive features selected in exercise (1). Evaluate the quality of the model on the training set. "
   ]
  },
  {
   "cell_type": "code",
   "execution_count": 428,
   "metadata": {
    "collapsed": false
   },
   "outputs": [],
   "source": [
    "import statsmodels\n",
    "import sklearn\n",
    "from sklearn.linear_model import LinearRegression\n",
    "from sklearn import metrics\n",
    "\n",
    "feature_cols = ['IsFeaturedMerchant', 'ListingPrice', 'SellerFeedbackRating', 'ShippingPrice', 'ShipsFrom_BC', \n",
    "                'ShipsFrom_ON', 'ShipsFrom_PA', 'ShipsFrom_QC', 'ShipsFromCountry_CA', 'ShipsFromCountry_US']\n",
    "\n",
    "#create x and y\n",
    "X = df[feature_cols]\n",
    "y = df.IsWinner\n",
    "\n",
    "#lm = LinearRegression()\n",
    "#lm.fit(X, y)\n",
    "\n",
    "form_features = \"\"\n",
    "\n",
    "for i in range(len(feature_cols) - 1):\n",
    "    form_features += feature_cols[i] + \" + \"\n",
    "\n",
    "form_features += feature_cols[len(feature_cols) - 1]\n",
    "\n",
    "lm = sm.ols(formula = \"IsWinner ~ \" + form_features, data = df).fit()"
   ]
  },
  {
   "cell_type": "markdown",
   "metadata": {},
   "source": [
    "## Evaluate the quality of the model on the training set"
   ]
  },
  {
   "cell_type": "code",
   "execution_count": 429,
   "metadata": {
    "collapsed": false
   },
   "outputs": [
    {
     "data": {
      "text/html": [
       "<div>\n",
       "<table border=\"1\" class=\"dataframe\">\n",
       "  <thead>\n",
       "    <tr style=\"text-align: right;\">\n",
       "      <th></th>\n",
       "      <th>ActualClass</th>\n",
       "      <th>PredictedClass</th>\n",
       "    </tr>\n",
       "  </thead>\n",
       "  <tbody>\n",
       "    <tr>\n",
       "      <th>0</th>\n",
       "      <td>1</td>\n",
       "      <td>0.072131</td>\n",
       "    </tr>\n",
       "    <tr>\n",
       "      <th>1</th>\n",
       "      <td>0</td>\n",
       "      <td>0.070188</td>\n",
       "    </tr>\n",
       "    <tr>\n",
       "      <th>2</th>\n",
       "      <td>0</td>\n",
       "      <td>0.069770</td>\n",
       "    </tr>\n",
       "    <tr>\n",
       "      <th>3</th>\n",
       "      <td>0</td>\n",
       "      <td>0.015996</td>\n",
       "    </tr>\n",
       "    <tr>\n",
       "      <th>4</th>\n",
       "      <td>0</td>\n",
       "      <td>0.026352</td>\n",
       "    </tr>\n",
       "    <tr>\n",
       "      <th>5</th>\n",
       "      <td>0</td>\n",
       "      <td>0.071484</td>\n",
       "    </tr>\n",
       "    <tr>\n",
       "      <th>6</th>\n",
       "      <td>0</td>\n",
       "      <td>0.028024</td>\n",
       "    </tr>\n",
       "    <tr>\n",
       "      <th>7</th>\n",
       "      <td>0</td>\n",
       "      <td>0.028037</td>\n",
       "    </tr>\n",
       "    <tr>\n",
       "      <th>8</th>\n",
       "      <td>0</td>\n",
       "      <td>0.052293</td>\n",
       "    </tr>\n",
       "    <tr>\n",
       "      <th>9</th>\n",
       "      <td>0</td>\n",
       "      <td>0.069630</td>\n",
       "    </tr>\n",
       "    <tr>\n",
       "      <th>10</th>\n",
       "      <td>0</td>\n",
       "      <td>0.030522</td>\n",
       "    </tr>\n",
       "    <tr>\n",
       "      <th>11</th>\n",
       "      <td>0</td>\n",
       "      <td>0.049693</td>\n",
       "    </tr>\n",
       "    <tr>\n",
       "      <th>12</th>\n",
       "      <td>0</td>\n",
       "      <td>-0.027558</td>\n",
       "    </tr>\n",
       "    <tr>\n",
       "      <th>13</th>\n",
       "      <td>1</td>\n",
       "      <td>0.051802</td>\n",
       "    </tr>\n",
       "    <tr>\n",
       "      <th>14</th>\n",
       "      <td>0</td>\n",
       "      <td>0.027588</td>\n",
       "    </tr>\n",
       "    <tr>\n",
       "      <th>15</th>\n",
       "      <td>0</td>\n",
       "      <td>0.027600</td>\n",
       "    </tr>\n",
       "    <tr>\n",
       "      <th>16</th>\n",
       "      <td>0</td>\n",
       "      <td>0.025733</td>\n",
       "    </tr>\n",
       "    <tr>\n",
       "      <th>17</th>\n",
       "      <td>0</td>\n",
       "      <td>0.069688</td>\n",
       "    </tr>\n",
       "    <tr>\n",
       "      <th>18</th>\n",
       "      <td>0</td>\n",
       "      <td>0.025013</td>\n",
       "    </tr>\n",
       "    <tr>\n",
       "      <th>19</th>\n",
       "      <td>0</td>\n",
       "      <td>0.029840</td>\n",
       "    </tr>\n",
       "    <tr>\n",
       "      <th>20</th>\n",
       "      <td>0</td>\n",
       "      <td>0.027313</td>\n",
       "    </tr>\n",
       "    <tr>\n",
       "      <th>21</th>\n",
       "      <td>0</td>\n",
       "      <td>0.051554</td>\n",
       "    </tr>\n",
       "    <tr>\n",
       "      <th>22</th>\n",
       "      <td>0</td>\n",
       "      <td>0.025438</td>\n",
       "    </tr>\n",
       "    <tr>\n",
       "      <th>23</th>\n",
       "      <td>0</td>\n",
       "      <td>0.024560</td>\n",
       "    </tr>\n",
       "    <tr>\n",
       "      <th>24</th>\n",
       "      <td>0</td>\n",
       "      <td>0.029634</td>\n",
       "    </tr>\n",
       "    <tr>\n",
       "      <th>25</th>\n",
       "      <td>1</td>\n",
       "      <td>0.307644</td>\n",
       "    </tr>\n",
       "    <tr>\n",
       "      <th>26</th>\n",
       "      <td>0</td>\n",
       "      <td>0.067990</td>\n",
       "    </tr>\n",
       "    <tr>\n",
       "      <th>27</th>\n",
       "      <td>0</td>\n",
       "      <td>0.069146</td>\n",
       "    </tr>\n",
       "    <tr>\n",
       "      <th>28</th>\n",
       "      <td>0</td>\n",
       "      <td>0.052272</td>\n",
       "    </tr>\n",
       "    <tr>\n",
       "      <th>29</th>\n",
       "      <td>0</td>\n",
       "      <td>0.024417</td>\n",
       "    </tr>\n",
       "    <tr>\n",
       "      <th>...</th>\n",
       "      <td>...</td>\n",
       "      <td>...</td>\n",
       "    </tr>\n",
       "    <tr>\n",
       "      <th>5821</th>\n",
       "      <td>0</td>\n",
       "      <td>0.055099</td>\n",
       "    </tr>\n",
       "    <tr>\n",
       "      <th>5822</th>\n",
       "      <td>0</td>\n",
       "      <td>-0.021798</td>\n",
       "    </tr>\n",
       "    <tr>\n",
       "      <th>5823</th>\n",
       "      <td>0</td>\n",
       "      <td>0.071642</td>\n",
       "    </tr>\n",
       "    <tr>\n",
       "      <th>5824</th>\n",
       "      <td>0</td>\n",
       "      <td>0.052014</td>\n",
       "    </tr>\n",
       "    <tr>\n",
       "      <th>5825</th>\n",
       "      <td>0</td>\n",
       "      <td>0.033560</td>\n",
       "    </tr>\n",
       "    <tr>\n",
       "      <th>5826</th>\n",
       "      <td>1</td>\n",
       "      <td>0.069370</td>\n",
       "    </tr>\n",
       "    <tr>\n",
       "      <th>5827</th>\n",
       "      <td>0</td>\n",
       "      <td>-0.027185</td>\n",
       "    </tr>\n",
       "    <tr>\n",
       "      <th>5828</th>\n",
       "      <td>0</td>\n",
       "      <td>0.017112</td>\n",
       "    </tr>\n",
       "    <tr>\n",
       "      <th>5829</th>\n",
       "      <td>0</td>\n",
       "      <td>0.051565</td>\n",
       "    </tr>\n",
       "    <tr>\n",
       "      <th>5830</th>\n",
       "      <td>0</td>\n",
       "      <td>0.027337</td>\n",
       "    </tr>\n",
       "    <tr>\n",
       "      <th>5831</th>\n",
       "      <td>0</td>\n",
       "      <td>0.029738</td>\n",
       "    </tr>\n",
       "    <tr>\n",
       "      <th>5832</th>\n",
       "      <td>0</td>\n",
       "      <td>0.070870</td>\n",
       "    </tr>\n",
       "    <tr>\n",
       "      <th>5833</th>\n",
       "      <td>0</td>\n",
       "      <td>0.027353</td>\n",
       "    </tr>\n",
       "    <tr>\n",
       "      <th>5834</th>\n",
       "      <td>0</td>\n",
       "      <td>0.068188</td>\n",
       "    </tr>\n",
       "    <tr>\n",
       "      <th>5835</th>\n",
       "      <td>0</td>\n",
       "      <td>0.069580</td>\n",
       "    </tr>\n",
       "    <tr>\n",
       "      <th>5836</th>\n",
       "      <td>0</td>\n",
       "      <td>0.025681</td>\n",
       "    </tr>\n",
       "    <tr>\n",
       "      <th>5837</th>\n",
       "      <td>0</td>\n",
       "      <td>0.029788</td>\n",
       "    </tr>\n",
       "    <tr>\n",
       "      <th>5838</th>\n",
       "      <td>0</td>\n",
       "      <td>0.021174</td>\n",
       "    </tr>\n",
       "    <tr>\n",
       "      <th>5839</th>\n",
       "      <td>0</td>\n",
       "      <td>0.069370</td>\n",
       "    </tr>\n",
       "    <tr>\n",
       "      <th>5840</th>\n",
       "      <td>0</td>\n",
       "      <td>-0.027185</td>\n",
       "    </tr>\n",
       "    <tr>\n",
       "      <th>5841</th>\n",
       "      <td>0</td>\n",
       "      <td>0.017112</td>\n",
       "    </tr>\n",
       "    <tr>\n",
       "      <th>5842</th>\n",
       "      <td>0</td>\n",
       "      <td>0.051565</td>\n",
       "    </tr>\n",
       "    <tr>\n",
       "      <th>5843</th>\n",
       "      <td>0</td>\n",
       "      <td>0.027337</td>\n",
       "    </tr>\n",
       "    <tr>\n",
       "      <th>5844</th>\n",
       "      <td>0</td>\n",
       "      <td>0.029738</td>\n",
       "    </tr>\n",
       "    <tr>\n",
       "      <th>5845</th>\n",
       "      <td>0</td>\n",
       "      <td>0.070870</td>\n",
       "    </tr>\n",
       "    <tr>\n",
       "      <th>5846</th>\n",
       "      <td>0</td>\n",
       "      <td>0.027353</td>\n",
       "    </tr>\n",
       "    <tr>\n",
       "      <th>5847</th>\n",
       "      <td>0</td>\n",
       "      <td>0.068188</td>\n",
       "    </tr>\n",
       "    <tr>\n",
       "      <th>5848</th>\n",
       "      <td>0</td>\n",
       "      <td>0.069580</td>\n",
       "    </tr>\n",
       "    <tr>\n",
       "      <th>5849</th>\n",
       "      <td>0</td>\n",
       "      <td>0.025681</td>\n",
       "    </tr>\n",
       "    <tr>\n",
       "      <th>5850</th>\n",
       "      <td>0</td>\n",
       "      <td>0.029788</td>\n",
       "    </tr>\n",
       "  </tbody>\n",
       "</table>\n",
       "<p>5851 rows × 2 columns</p>\n",
       "</div>"
      ],
      "text/plain": [
       "      ActualClass  PredictedClass\n",
       "0               1        0.072131\n",
       "1               0        0.070188\n",
       "2               0        0.069770\n",
       "3               0        0.015996\n",
       "4               0        0.026352\n",
       "5               0        0.071484\n",
       "6               0        0.028024\n",
       "7               0        0.028037\n",
       "8               0        0.052293\n",
       "9               0        0.069630\n",
       "10              0        0.030522\n",
       "11              0        0.049693\n",
       "12              0       -0.027558\n",
       "13              1        0.051802\n",
       "14              0        0.027588\n",
       "15              0        0.027600\n",
       "16              0        0.025733\n",
       "17              0        0.069688\n",
       "18              0        0.025013\n",
       "19              0        0.029840\n",
       "20              0        0.027313\n",
       "21              0        0.051554\n",
       "22              0        0.025438\n",
       "23              0        0.024560\n",
       "24              0        0.029634\n",
       "25              1        0.307644\n",
       "26              0        0.067990\n",
       "27              0        0.069146\n",
       "28              0        0.052272\n",
       "29              0        0.024417\n",
       "...           ...             ...\n",
       "5821            0        0.055099\n",
       "5822            0       -0.021798\n",
       "5823            0        0.071642\n",
       "5824            0        0.052014\n",
       "5825            0        0.033560\n",
       "5826            1        0.069370\n",
       "5827            0       -0.027185\n",
       "5828            0        0.017112\n",
       "5829            0        0.051565\n",
       "5830            0        0.027337\n",
       "5831            0        0.029738\n",
       "5832            0        0.070870\n",
       "5833            0        0.027353\n",
       "5834            0        0.068188\n",
       "5835            0        0.069580\n",
       "5836            0        0.025681\n",
       "5837            0        0.029788\n",
       "5838            0        0.021174\n",
       "5839            0        0.069370\n",
       "5840            0       -0.027185\n",
       "5841            0        0.017112\n",
       "5842            0        0.051565\n",
       "5843            0        0.027337\n",
       "5844            0        0.029738\n",
       "5845            0        0.070870\n",
       "5846            0        0.027353\n",
       "5847            0        0.068188\n",
       "5848            0        0.069580\n",
       "5849            0        0.025681\n",
       "5850            0        0.029788\n",
       "\n",
       "[5851 rows x 2 columns]"
      ]
     },
     "execution_count": 429,
     "metadata": {},
     "output_type": "execute_result"
    }
   ],
   "source": [
    "lm_predictions = lm.predict(X[feature_cols])\n",
    "df_true_vs_lm_predicted = pd.DataFrame({'ActualClass': y, 'PredictedClass': lm_predictions})\n",
    "df_true_vs_lm_predicted"
   ]
  },
  {
   "cell_type": "code",
   "execution_count": 430,
   "metadata": {
    "collapsed": false
   },
   "outputs": [
    {
     "data": {
      "text/html": [
       "<div>\n",
       "<table border=\"1\" class=\"dataframe\">\n",
       "  <thead>\n",
       "    <tr style=\"text-align: right;\">\n",
       "      <th></th>\n",
       "      <th>ActualClass</th>\n",
       "      <th>PredictedClass</th>\n",
       "    </tr>\n",
       "  </thead>\n",
       "  <tbody>\n",
       "    <tr>\n",
       "      <th>0</th>\n",
       "      <td>1</td>\n",
       "      <td>0</td>\n",
       "    </tr>\n",
       "    <tr>\n",
       "      <th>1</th>\n",
       "      <td>0</td>\n",
       "      <td>0</td>\n",
       "    </tr>\n",
       "    <tr>\n",
       "      <th>2</th>\n",
       "      <td>0</td>\n",
       "      <td>0</td>\n",
       "    </tr>\n",
       "    <tr>\n",
       "      <th>3</th>\n",
       "      <td>0</td>\n",
       "      <td>0</td>\n",
       "    </tr>\n",
       "    <tr>\n",
       "      <th>4</th>\n",
       "      <td>0</td>\n",
       "      <td>0</td>\n",
       "    </tr>\n",
       "    <tr>\n",
       "      <th>5</th>\n",
       "      <td>0</td>\n",
       "      <td>0</td>\n",
       "    </tr>\n",
       "    <tr>\n",
       "      <th>6</th>\n",
       "      <td>0</td>\n",
       "      <td>0</td>\n",
       "    </tr>\n",
       "    <tr>\n",
       "      <th>7</th>\n",
       "      <td>0</td>\n",
       "      <td>0</td>\n",
       "    </tr>\n",
       "    <tr>\n",
       "      <th>8</th>\n",
       "      <td>0</td>\n",
       "      <td>0</td>\n",
       "    </tr>\n",
       "    <tr>\n",
       "      <th>9</th>\n",
       "      <td>0</td>\n",
       "      <td>0</td>\n",
       "    </tr>\n",
       "    <tr>\n",
       "      <th>10</th>\n",
       "      <td>0</td>\n",
       "      <td>0</td>\n",
       "    </tr>\n",
       "    <tr>\n",
       "      <th>11</th>\n",
       "      <td>0</td>\n",
       "      <td>0</td>\n",
       "    </tr>\n",
       "    <tr>\n",
       "      <th>12</th>\n",
       "      <td>0</td>\n",
       "      <td>0</td>\n",
       "    </tr>\n",
       "    <tr>\n",
       "      <th>13</th>\n",
       "      <td>1</td>\n",
       "      <td>0</td>\n",
       "    </tr>\n",
       "    <tr>\n",
       "      <th>14</th>\n",
       "      <td>0</td>\n",
       "      <td>0</td>\n",
       "    </tr>\n",
       "    <tr>\n",
       "      <th>15</th>\n",
       "      <td>0</td>\n",
       "      <td>0</td>\n",
       "    </tr>\n",
       "    <tr>\n",
       "      <th>16</th>\n",
       "      <td>0</td>\n",
       "      <td>0</td>\n",
       "    </tr>\n",
       "    <tr>\n",
       "      <th>17</th>\n",
       "      <td>0</td>\n",
       "      <td>0</td>\n",
       "    </tr>\n",
       "    <tr>\n",
       "      <th>18</th>\n",
       "      <td>0</td>\n",
       "      <td>0</td>\n",
       "    </tr>\n",
       "    <tr>\n",
       "      <th>19</th>\n",
       "      <td>0</td>\n",
       "      <td>0</td>\n",
       "    </tr>\n",
       "    <tr>\n",
       "      <th>20</th>\n",
       "      <td>0</td>\n",
       "      <td>0</td>\n",
       "    </tr>\n",
       "    <tr>\n",
       "      <th>21</th>\n",
       "      <td>0</td>\n",
       "      <td>0</td>\n",
       "    </tr>\n",
       "    <tr>\n",
       "      <th>22</th>\n",
       "      <td>0</td>\n",
       "      <td>0</td>\n",
       "    </tr>\n",
       "    <tr>\n",
       "      <th>23</th>\n",
       "      <td>0</td>\n",
       "      <td>0</td>\n",
       "    </tr>\n",
       "    <tr>\n",
       "      <th>24</th>\n",
       "      <td>0</td>\n",
       "      <td>0</td>\n",
       "    </tr>\n",
       "    <tr>\n",
       "      <th>25</th>\n",
       "      <td>1</td>\n",
       "      <td>0</td>\n",
       "    </tr>\n",
       "    <tr>\n",
       "      <th>26</th>\n",
       "      <td>0</td>\n",
       "      <td>0</td>\n",
       "    </tr>\n",
       "    <tr>\n",
       "      <th>27</th>\n",
       "      <td>0</td>\n",
       "      <td>0</td>\n",
       "    </tr>\n",
       "    <tr>\n",
       "      <th>28</th>\n",
       "      <td>0</td>\n",
       "      <td>0</td>\n",
       "    </tr>\n",
       "    <tr>\n",
       "      <th>29</th>\n",
       "      <td>0</td>\n",
       "      <td>0</td>\n",
       "    </tr>\n",
       "    <tr>\n",
       "      <th>...</th>\n",
       "      <td>...</td>\n",
       "      <td>...</td>\n",
       "    </tr>\n",
       "    <tr>\n",
       "      <th>5821</th>\n",
       "      <td>0</td>\n",
       "      <td>0</td>\n",
       "    </tr>\n",
       "    <tr>\n",
       "      <th>5822</th>\n",
       "      <td>0</td>\n",
       "      <td>0</td>\n",
       "    </tr>\n",
       "    <tr>\n",
       "      <th>5823</th>\n",
       "      <td>0</td>\n",
       "      <td>0</td>\n",
       "    </tr>\n",
       "    <tr>\n",
       "      <th>5824</th>\n",
       "      <td>0</td>\n",
       "      <td>0</td>\n",
       "    </tr>\n",
       "    <tr>\n",
       "      <th>5825</th>\n",
       "      <td>0</td>\n",
       "      <td>0</td>\n",
       "    </tr>\n",
       "    <tr>\n",
       "      <th>5826</th>\n",
       "      <td>1</td>\n",
       "      <td>0</td>\n",
       "    </tr>\n",
       "    <tr>\n",
       "      <th>5827</th>\n",
       "      <td>0</td>\n",
       "      <td>0</td>\n",
       "    </tr>\n",
       "    <tr>\n",
       "      <th>5828</th>\n",
       "      <td>0</td>\n",
       "      <td>0</td>\n",
       "    </tr>\n",
       "    <tr>\n",
       "      <th>5829</th>\n",
       "      <td>0</td>\n",
       "      <td>0</td>\n",
       "    </tr>\n",
       "    <tr>\n",
       "      <th>5830</th>\n",
       "      <td>0</td>\n",
       "      <td>0</td>\n",
       "    </tr>\n",
       "    <tr>\n",
       "      <th>5831</th>\n",
       "      <td>0</td>\n",
       "      <td>0</td>\n",
       "    </tr>\n",
       "    <tr>\n",
       "      <th>5832</th>\n",
       "      <td>0</td>\n",
       "      <td>0</td>\n",
       "    </tr>\n",
       "    <tr>\n",
       "      <th>5833</th>\n",
       "      <td>0</td>\n",
       "      <td>0</td>\n",
       "    </tr>\n",
       "    <tr>\n",
       "      <th>5834</th>\n",
       "      <td>0</td>\n",
       "      <td>0</td>\n",
       "    </tr>\n",
       "    <tr>\n",
       "      <th>5835</th>\n",
       "      <td>0</td>\n",
       "      <td>0</td>\n",
       "    </tr>\n",
       "    <tr>\n",
       "      <th>5836</th>\n",
       "      <td>0</td>\n",
       "      <td>0</td>\n",
       "    </tr>\n",
       "    <tr>\n",
       "      <th>5837</th>\n",
       "      <td>0</td>\n",
       "      <td>0</td>\n",
       "    </tr>\n",
       "    <tr>\n",
       "      <th>5838</th>\n",
       "      <td>0</td>\n",
       "      <td>0</td>\n",
       "    </tr>\n",
       "    <tr>\n",
       "      <th>5839</th>\n",
       "      <td>0</td>\n",
       "      <td>0</td>\n",
       "    </tr>\n",
       "    <tr>\n",
       "      <th>5840</th>\n",
       "      <td>0</td>\n",
       "      <td>0</td>\n",
       "    </tr>\n",
       "    <tr>\n",
       "      <th>5841</th>\n",
       "      <td>0</td>\n",
       "      <td>0</td>\n",
       "    </tr>\n",
       "    <tr>\n",
       "      <th>5842</th>\n",
       "      <td>0</td>\n",
       "      <td>0</td>\n",
       "    </tr>\n",
       "    <tr>\n",
       "      <th>5843</th>\n",
       "      <td>0</td>\n",
       "      <td>0</td>\n",
       "    </tr>\n",
       "    <tr>\n",
       "      <th>5844</th>\n",
       "      <td>0</td>\n",
       "      <td>0</td>\n",
       "    </tr>\n",
       "    <tr>\n",
       "      <th>5845</th>\n",
       "      <td>0</td>\n",
       "      <td>0</td>\n",
       "    </tr>\n",
       "    <tr>\n",
       "      <th>5846</th>\n",
       "      <td>0</td>\n",
       "      <td>0</td>\n",
       "    </tr>\n",
       "    <tr>\n",
       "      <th>5847</th>\n",
       "      <td>0</td>\n",
       "      <td>0</td>\n",
       "    </tr>\n",
       "    <tr>\n",
       "      <th>5848</th>\n",
       "      <td>0</td>\n",
       "      <td>0</td>\n",
       "    </tr>\n",
       "    <tr>\n",
       "      <th>5849</th>\n",
       "      <td>0</td>\n",
       "      <td>0</td>\n",
       "    </tr>\n",
       "    <tr>\n",
       "      <th>5850</th>\n",
       "      <td>0</td>\n",
       "      <td>0</td>\n",
       "    </tr>\n",
       "  </tbody>\n",
       "</table>\n",
       "<p>5851 rows × 2 columns</p>\n",
       "</div>"
      ],
      "text/plain": [
       "      ActualClass  PredictedClass\n",
       "0               1               0\n",
       "1               0               0\n",
       "2               0               0\n",
       "3               0               0\n",
       "4               0               0\n",
       "5               0               0\n",
       "6               0               0\n",
       "7               0               0\n",
       "8               0               0\n",
       "9               0               0\n",
       "10              0               0\n",
       "11              0               0\n",
       "12              0               0\n",
       "13              1               0\n",
       "14              0               0\n",
       "15              0               0\n",
       "16              0               0\n",
       "17              0               0\n",
       "18              0               0\n",
       "19              0               0\n",
       "20              0               0\n",
       "21              0               0\n",
       "22              0               0\n",
       "23              0               0\n",
       "24              0               0\n",
       "25              1               0\n",
       "26              0               0\n",
       "27              0               0\n",
       "28              0               0\n",
       "29              0               0\n",
       "...           ...             ...\n",
       "5821            0               0\n",
       "5822            0               0\n",
       "5823            0               0\n",
       "5824            0               0\n",
       "5825            0               0\n",
       "5826            1               0\n",
       "5827            0               0\n",
       "5828            0               0\n",
       "5829            0               0\n",
       "5830            0               0\n",
       "5831            0               0\n",
       "5832            0               0\n",
       "5833            0               0\n",
       "5834            0               0\n",
       "5835            0               0\n",
       "5836            0               0\n",
       "5837            0               0\n",
       "5838            0               0\n",
       "5839            0               0\n",
       "5840            0               0\n",
       "5841            0               0\n",
       "5842            0               0\n",
       "5843            0               0\n",
       "5844            0               0\n",
       "5845            0               0\n",
       "5846            0               0\n",
       "5847            0               0\n",
       "5848            0               0\n",
       "5849            0               0\n",
       "5850            0               0\n",
       "\n",
       "[5851 rows x 2 columns]"
      ]
     },
     "execution_count": 430,
     "metadata": {},
     "output_type": "execute_result"
    }
   ],
   "source": [
    "for index, row in df_true_vs_lm_predicted.iterrows():\n",
    "    if np.any(df_true_vs_lm_predicted[\"PredictedClass\"] > 5):\n",
    "        df_true_vs_lm_predicted[\"PredictedClass\"] = int(1)\n",
    "    else:\n",
    "        df_true_vs_lm_predicted[\"PredictedClass\"] = int(0)\n",
    "\n",
    "df_true_vs_lm_predicted"
   ]
  },
  {
   "cell_type": "code",
   "execution_count": 433,
   "metadata": {
    "collapsed": false,
    "scrolled": true
   },
   "outputs": [
    {
     "name": "stderr",
     "output_type": "stream",
     "text": [
      "C:\\Users\\pamel\\Anaconda3\\lib\\site-packages\\sklearn\\metrics\\classification.py:1113: UndefinedMetricWarning: Precision and F-score are ill-defined and being set to 0.0 in labels with no predicted samples.\n",
      "  'precision', 'predicted', average, warn_for)\n"
     ]
    }
   ],
   "source": [
    "accuracy = metrics.accuracy_score(df_true_vs_lm_predicted[\"ActualClass\"], df_true_vs_lm_predicted[\"PredictedClass\"], normalize = False)\n",
    "confusion_matrix = metrics.confusion_matrix(df_true_vs_lm_predicted[\"ActualClass\"], df_true_vs_lm_predicted[\"PredictedClass\"])\n",
    "class_report = metrics.classification_report(df_true_vs_lm_predicted[\"ActualClass\"], df_true_vs_lm_predicted[\"PredictedClass\"])"
   ]
  },
  {
   "cell_type": "code",
   "execution_count": 434,
   "metadata": {
    "collapsed": false
   },
   "outputs": [
    {
     "name": "stdout",
     "output_type": "stream",
     "text": [
      "Accuracy:  5547\n",
      "Confusion matrix: \n",
      " [[5547    0]\n",
      " [ 304    0]]\n",
      "Classification report:\n",
      "               precision    recall  f1-score   support\n",
      "\n",
      "          0       0.95      1.00      0.97      5547\n",
      "          1       0.00      0.00      0.00       304\n",
      "\n",
      "avg / total       0.90      0.95      0.92      5851\n",
      "\n"
     ]
    }
   ],
   "source": [
    "print(\"Accuracy: \", accuracy)\n",
    "print(\"Confusion matrix: \\n\", confusion_matrix)\n",
    "print(\"Classification report:\\n \", class_report)"
   ]
  },
  {
   "cell_type": "markdown",
   "metadata": {},
   "source": [
    "### This is very bad - my model is predicting only negatives. "
   ]
  },
  {
   "cell_type": "markdown",
   "metadata": {},
   "source": [
    "## 2.2 Print the coefficients learned by the model and discuss their statistical significance as well as their role in the model. "
   ]
  },
  {
   "cell_type": "code",
   "execution_count": 435,
   "metadata": {
    "collapsed": false
   },
   "outputs": [
    {
     "data": {
      "text/plain": [
       "Intercept               0.009301\n",
       "IsFeaturedMerchant      0.054580\n",
       "ListingPrice            0.000011\n",
       "SellerFeedbackRating   -0.000169\n",
       "ShippingPrice          -0.000194\n",
       "ShipsFrom_BC            0.232170\n",
       "ShipsFrom_ON           -0.005332\n",
       "ShipsFrom_PA            0.205798\n",
       "ShipsFrom_QC           -0.025293\n",
       "ShipsFromCountry_CA     0.028387\n",
       "ShipsFromCountry_US    -0.019086\n",
       "dtype: float64"
      ]
     },
     "execution_count": 435,
     "metadata": {},
     "output_type": "execute_result"
    }
   ],
   "source": [
    "# Print the intercept and coefficients\n",
    "lm.params"
   ]
  },
  {
   "cell_type": "code",
   "execution_count": 436,
   "metadata": {
    "collapsed": false
   },
   "outputs": [
    {
     "data": {
      "text/html": [
       "<table class=\"simpletable\">\n",
       "<caption>OLS Regression Results</caption>\n",
       "<tr>\n",
       "  <th>Dep. Variable:</th>        <td>IsWinner</td>     <th>  R-squared:         </th> <td>   0.089</td> \n",
       "</tr>\n",
       "<tr>\n",
       "  <th>Model:</th>                   <td>OLS</td>       <th>  Adj. R-squared:    </th> <td>   0.088</td> \n",
       "</tr>\n",
       "<tr>\n",
       "  <th>Method:</th>             <td>Least Squares</td>  <th>  F-statistic:       </th> <td>   63.67</td> \n",
       "</tr>\n",
       "<tr>\n",
       "  <th>Date:</th>             <td>Thu, 13 Apr 2017</td> <th>  Prob (F-statistic):</th> <td>4.98e-112</td>\n",
       "</tr>\n",
       "<tr>\n",
       "  <th>Time:</th>                 <td>19:30:27</td>     <th>  Log-Likelihood:    </th> <td>  779.37</td> \n",
       "</tr>\n",
       "<tr>\n",
       "  <th>No. Observations:</th>      <td>  5851</td>      <th>  AIC:               </th> <td>  -1539.</td> \n",
       "</tr>\n",
       "<tr>\n",
       "  <th>Df Residuals:</th>          <td>  5841</td>      <th>  BIC:               </th> <td>  -1472.</td> \n",
       "</tr>\n",
       "<tr>\n",
       "  <th>Df Model:</th>              <td>     9</td>      <th>                     </th>     <td> </td>    \n",
       "</tr>\n",
       "<tr>\n",
       "  <th>Covariance Type:</th>      <td>nonrobust</td>    <th>                     </th>     <td> </td>    \n",
       "</tr>\n",
       "</table>\n",
       "<table class=\"simpletable\">\n",
       "<tr>\n",
       "            <td></td>              <th>coef</th>     <th>std err</th>      <th>t</th>      <th>P>|t|</th> <th>[95.0% Conf. Int.]</th> \n",
       "</tr>\n",
       "<tr>\n",
       "  <th>Intercept</th>            <td>    0.0093</td> <td>    0.017</td> <td>    0.541</td> <td> 0.588</td> <td>   -0.024     0.043</td>\n",
       "</tr>\n",
       "<tr>\n",
       "  <th>IsFeaturedMerchant</th>   <td>    0.0546</td> <td>    0.007</td> <td>    7.697</td> <td> 0.000</td> <td>    0.041     0.068</td>\n",
       "</tr>\n",
       "<tr>\n",
       "  <th>ListingPrice</th>         <td> 1.129e-05</td> <td> 1.14e-05</td> <td>    0.991</td> <td> 0.322</td> <td> -1.1e-05  3.36e-05</td>\n",
       "</tr>\n",
       "<tr>\n",
       "  <th>SellerFeedbackRating</th> <td>   -0.0002</td> <td>    0.000</td> <td>   -0.699</td> <td> 0.484</td> <td>   -0.001     0.000</td>\n",
       "</tr>\n",
       "<tr>\n",
       "  <th>ShippingPrice</th>        <td>   -0.0002</td> <td>    0.000</td> <td>   -1.310</td> <td> 0.190</td> <td>   -0.000  9.66e-05</td>\n",
       "</tr>\n",
       "<tr>\n",
       "  <th>ShipsFrom_BC</th>         <td>    0.2322</td> <td>    0.038</td> <td>    6.134</td> <td> 0.000</td> <td>    0.158     0.306</td>\n",
       "</tr>\n",
       "<tr>\n",
       "  <th>ShipsFrom_ON</th>         <td>   -0.0053</td> <td>    0.036</td> <td>   -0.149</td> <td> 0.882</td> <td>   -0.076     0.065</td>\n",
       "</tr>\n",
       "<tr>\n",
       "  <th>ShipsFrom_PA</th>         <td>    0.2058</td> <td>    0.096</td> <td>    2.135</td> <td> 0.033</td> <td>    0.017     0.395</td>\n",
       "</tr>\n",
       "<tr>\n",
       "  <th>ShipsFrom_QC</th>         <td>   -0.0253</td> <td>    0.036</td> <td>   -0.697</td> <td> 0.486</td> <td>   -0.096     0.046</td>\n",
       "</tr>\n",
       "<tr>\n",
       "  <th>ShipsFromCountry_CA</th>  <td>    0.0284</td> <td>    0.024</td> <td>    1.199</td> <td> 0.231</td> <td>   -0.018     0.075</td>\n",
       "</tr>\n",
       "<tr>\n",
       "  <th>ShipsFromCountry_US</th>  <td>   -0.0191</td> <td>    0.015</td> <td>   -1.258</td> <td> 0.209</td> <td>   -0.049     0.011</td>\n",
       "</tr>\n",
       "</table>\n",
       "<table class=\"simpletable\">\n",
       "<tr>\n",
       "  <th>Omnibus:</th>       <td>4296.609</td> <th>  Durbin-Watson:     </th> <td>   2.094</td> \n",
       "</tr>\n",
       "<tr>\n",
       "  <th>Prob(Omnibus):</th>  <td> 0.000</td>  <th>  Jarque-Bera (JB):  </th> <td>53523.317</td>\n",
       "</tr>\n",
       "<tr>\n",
       "  <th>Skew:</th>           <td> 3.581</td>  <th>  Prob(JB):          </th> <td>    0.00</td> \n",
       "</tr>\n",
       "<tr>\n",
       "  <th>Kurtosis:</th>       <td>15.971</td>  <th>  Cond. No.          </th> <td>2.32e+18</td> \n",
       "</tr>\n",
       "</table>"
      ],
      "text/plain": [
       "<class 'statsmodels.iolib.summary.Summary'>\n",
       "\"\"\"\n",
       "                            OLS Regression Results                            \n",
       "==============================================================================\n",
       "Dep. Variable:               IsWinner   R-squared:                       0.089\n",
       "Model:                            OLS   Adj. R-squared:                  0.088\n",
       "Method:                 Least Squares   F-statistic:                     63.67\n",
       "Date:                Thu, 13 Apr 2017   Prob (F-statistic):          4.98e-112\n",
       "Time:                        19:30:27   Log-Likelihood:                 779.37\n",
       "No. Observations:                5851   AIC:                            -1539.\n",
       "Df Residuals:                    5841   BIC:                            -1472.\n",
       "Df Model:                           9                                         \n",
       "Covariance Type:            nonrobust                                         \n",
       "========================================================================================\n",
       "                           coef    std err          t      P>|t|      [95.0% Conf. Int.]\n",
       "----------------------------------------------------------------------------------------\n",
       "Intercept                0.0093      0.017      0.541      0.588        -0.024     0.043\n",
       "IsFeaturedMerchant       0.0546      0.007      7.697      0.000         0.041     0.068\n",
       "ListingPrice          1.129e-05   1.14e-05      0.991      0.322      -1.1e-05  3.36e-05\n",
       "SellerFeedbackRating    -0.0002      0.000     -0.699      0.484        -0.001     0.000\n",
       "ShippingPrice           -0.0002      0.000     -1.310      0.190        -0.000  9.66e-05\n",
       "ShipsFrom_BC             0.2322      0.038      6.134      0.000         0.158     0.306\n",
       "ShipsFrom_ON            -0.0053      0.036     -0.149      0.882        -0.076     0.065\n",
       "ShipsFrom_PA             0.2058      0.096      2.135      0.033         0.017     0.395\n",
       "ShipsFrom_QC            -0.0253      0.036     -0.697      0.486        -0.096     0.046\n",
       "ShipsFromCountry_CA      0.0284      0.024      1.199      0.231        -0.018     0.075\n",
       "ShipsFromCountry_US     -0.0191      0.015     -1.258      0.209        -0.049     0.011\n",
       "==============================================================================\n",
       "Omnibus:                     4296.609   Durbin-Watson:                   2.094\n",
       "Prob(Omnibus):                  0.000   Jarque-Bera (JB):            53523.317\n",
       "Skew:                           3.581   Prob(JB):                         0.00\n",
       "Kurtosis:                      15.971   Cond. No.                     2.32e+18\n",
       "==============================================================================\n",
       "\n",
       "Warnings:\n",
       "[1] Standard Errors assume that the covariance matrix of the errors is correctly specified.\n",
       "[2] The smallest eigenvalue is 1.21e-28. This might indicate that there are\n",
       "strong multicollinearity problems or that the design matrix is singular.\n",
       "\"\"\""
      ]
     },
     "execution_count": 436,
     "metadata": {},
     "output_type": "execute_result"
    }
   ],
   "source": [
    "lm.summary()"
   ]
  },
  {
   "cell_type": "markdown",
   "metadata": {},
   "source": [
    "### Statistical Significance:\n",
    "\n",
    "1. From the above we can see that the most valuable features are Listing Price, while the other positively significant features are Featured Merchant, Ships From BC, Ships From PA and SHips From Country CA. \n",
    "\n",
    "2. The others are all in the negative meaning that an increase in those features does not equate to an increase in the likelyhood of an offer becoming a winner.  \n",
    "\n",
    "Reference for interpreting coefficients: https://github.com/justmarkham/DAT4/blob/master/notebooks/08_linear_regression.ipynb"
   ]
  },
  {
   "cell_type": "markdown",
   "metadata": {},
   "source": [
    "Evalutation: Only Ships From British Columbia has a P value or below 0.05??? Doesn't leave me very much to work with. \n",
    "R-squared is very low meaning that the model does not fit the data well? "
   ]
  },
  {
   "cell_type": "markdown",
   "metadata": {},
   "source": [
    "## 2.3 Retrain the model using only the subset of features found to be statistically significant. Evaluate the quailty of the model on the training set. "
   ]
  },
  {
   "cell_type": "code",
   "execution_count": 437,
   "metadata": {
    "collapsed": false
   },
   "outputs": [],
   "source": [
    "#how to separate the states that are pertinent? \n",
    "\n",
    "lm_2 = sm.ols(formula=\"IsWinner ~ ListingPrice + IsFeaturedMerchant + ShipsFrom_BC + ShipsFrom_PA + ShipsFromCountry_CA\", data=df).fit()\n"
   ]
  },
  {
   "cell_type": "code",
   "execution_count": 438,
   "metadata": {
    "collapsed": false
   },
   "outputs": [
    {
     "data": {
      "text/html": [
       "<div>\n",
       "<table border=\"1\" class=\"dataframe\">\n",
       "  <thead>\n",
       "    <tr style=\"text-align: right;\">\n",
       "      <th></th>\n",
       "      <th>ActualClass</th>\n",
       "      <th>PredictedClass</th>\n",
       "    </tr>\n",
       "  </thead>\n",
       "  <tbody>\n",
       "    <tr>\n",
       "      <th>0</th>\n",
       "      <td>1</td>\n",
       "      <td>0.063645</td>\n",
       "    </tr>\n",
       "    <tr>\n",
       "      <th>1</th>\n",
       "      <td>0</td>\n",
       "      <td>0.063599</td>\n",
       "    </tr>\n",
       "    <tr>\n",
       "      <th>2</th>\n",
       "      <td>0</td>\n",
       "      <td>0.063591</td>\n",
       "    </tr>\n",
       "    <tr>\n",
       "      <th>3</th>\n",
       "      <td>0</td>\n",
       "      <td>0.011670</td>\n",
       "    </tr>\n",
       "    <tr>\n",
       "      <th>4</th>\n",
       "      <td>0</td>\n",
       "      <td>0.011718</td>\n",
       "    </tr>\n",
       "    <tr>\n",
       "      <th>5</th>\n",
       "      <td>0</td>\n",
       "      <td>0.063761</td>\n",
       "    </tr>\n",
       "    <tr>\n",
       "      <th>6</th>\n",
       "      <td>0</td>\n",
       "      <td>0.026936</td>\n",
       "    </tr>\n",
       "    <tr>\n",
       "      <th>7</th>\n",
       "      <td>0</td>\n",
       "      <td>0.026944</td>\n",
       "    </tr>\n",
       "    <tr>\n",
       "      <th>8</th>\n",
       "      <td>0</td>\n",
       "      <td>0.063817</td>\n",
       "    </tr>\n",
       "    <tr>\n",
       "      <th>9</th>\n",
       "      <td>0</td>\n",
       "      <td>0.063754</td>\n",
       "    </tr>\n",
       "    <tr>\n",
       "      <th>10</th>\n",
       "      <td>0</td>\n",
       "      <td>0.027066</td>\n",
       "    </tr>\n",
       "    <tr>\n",
       "      <th>11</th>\n",
       "      <td>0</td>\n",
       "      <td>0.063804</td>\n",
       "    </tr>\n",
       "    <tr>\n",
       "      <th>12</th>\n",
       "      <td>0</td>\n",
       "      <td>-0.025330</td>\n",
       "    </tr>\n",
       "    <tr>\n",
       "      <th>13</th>\n",
       "      <td>1</td>\n",
       "      <td>0.063526</td>\n",
       "    </tr>\n",
       "    <tr>\n",
       "      <th>14</th>\n",
       "      <td>0</td>\n",
       "      <td>0.026678</td>\n",
       "    </tr>\n",
       "    <tr>\n",
       "      <th>15</th>\n",
       "      <td>0</td>\n",
       "      <td>0.026685</td>\n",
       "    </tr>\n",
       "    <tr>\n",
       "      <th>16</th>\n",
       "      <td>0</td>\n",
       "      <td>0.026628</td>\n",
       "    </tr>\n",
       "    <tr>\n",
       "      <th>17</th>\n",
       "      <td>0</td>\n",
       "      <td>0.063500</td>\n",
       "    </tr>\n",
       "    <tr>\n",
       "      <th>18</th>\n",
       "      <td>0</td>\n",
       "      <td>0.026796</td>\n",
       "    </tr>\n",
       "    <tr>\n",
       "      <th>19</th>\n",
       "      <td>0</td>\n",
       "      <td>0.027061</td>\n",
       "    </tr>\n",
       "    <tr>\n",
       "      <th>20</th>\n",
       "      <td>0</td>\n",
       "      <td>0.026515</td>\n",
       "    </tr>\n",
       "    <tr>\n",
       "      <th>21</th>\n",
       "      <td>0</td>\n",
       "      <td>0.063380</td>\n",
       "    </tr>\n",
       "    <tr>\n",
       "      <th>22</th>\n",
       "      <td>0</td>\n",
       "      <td>0.026482</td>\n",
       "    </tr>\n",
       "    <tr>\n",
       "      <th>23</th>\n",
       "      <td>0</td>\n",
       "      <td>0.026697</td>\n",
       "    </tr>\n",
       "    <tr>\n",
       "      <th>24</th>\n",
       "      <td>0</td>\n",
       "      <td>0.026939</td>\n",
       "    </tr>\n",
       "    <tr>\n",
       "      <th>25</th>\n",
       "      <td>1</td>\n",
       "      <td>0.308679</td>\n",
       "    </tr>\n",
       "    <tr>\n",
       "      <th>26</th>\n",
       "      <td>0</td>\n",
       "      <td>0.063617</td>\n",
       "    </tr>\n",
       "    <tr>\n",
       "      <th>27</th>\n",
       "      <td>0</td>\n",
       "      <td>0.063666</td>\n",
       "    </tr>\n",
       "    <tr>\n",
       "      <th>28</th>\n",
       "      <td>0</td>\n",
       "      <td>0.063805</td>\n",
       "    </tr>\n",
       "    <tr>\n",
       "      <th>29</th>\n",
       "      <td>0</td>\n",
       "      <td>0.026902</td>\n",
       "    </tr>\n",
       "    <tr>\n",
       "      <th>...</th>\n",
       "      <td>...</td>\n",
       "      <td>...</td>\n",
       "    </tr>\n",
       "    <tr>\n",
       "      <th>5821</th>\n",
       "      <td>0</td>\n",
       "      <td>0.065477</td>\n",
       "    </tr>\n",
       "    <tr>\n",
       "      <th>5822</th>\n",
       "      <td>0</td>\n",
       "      <td>-0.023187</td>\n",
       "    </tr>\n",
       "    <tr>\n",
       "      <th>5823</th>\n",
       "      <td>0</td>\n",
       "      <td>0.065521</td>\n",
       "    </tr>\n",
       "    <tr>\n",
       "      <th>5824</th>\n",
       "      <td>0</td>\n",
       "      <td>0.065576</td>\n",
       "    </tr>\n",
       "    <tr>\n",
       "      <th>5825</th>\n",
       "      <td>0</td>\n",
       "      <td>0.029262</td>\n",
       "    </tr>\n",
       "    <tr>\n",
       "      <th>5826</th>\n",
       "      <td>1</td>\n",
       "      <td>0.063302</td>\n",
       "    </tr>\n",
       "    <tr>\n",
       "      <th>5827</th>\n",
       "      <td>0</td>\n",
       "      <td>-0.025455</td>\n",
       "    </tr>\n",
       "    <tr>\n",
       "      <th>5828</th>\n",
       "      <td>0</td>\n",
       "      <td>0.011333</td>\n",
       "    </tr>\n",
       "    <tr>\n",
       "      <th>5829</th>\n",
       "      <td>0</td>\n",
       "      <td>0.063387</td>\n",
       "    </tr>\n",
       "    <tr>\n",
       "      <th>5830</th>\n",
       "      <td>0</td>\n",
       "      <td>0.026529</td>\n",
       "    </tr>\n",
       "    <tr>\n",
       "      <th>5831</th>\n",
       "      <td>0</td>\n",
       "      <td>0.026602</td>\n",
       "    </tr>\n",
       "    <tr>\n",
       "      <th>5832</th>\n",
       "      <td>0</td>\n",
       "      <td>0.063397</td>\n",
       "    </tr>\n",
       "    <tr>\n",
       "      <th>5833</th>\n",
       "      <td>0</td>\n",
       "      <td>0.026539</td>\n",
       "    </tr>\n",
       "    <tr>\n",
       "      <th>5834</th>\n",
       "      <td>0</td>\n",
       "      <td>0.063334</td>\n",
       "    </tr>\n",
       "    <tr>\n",
       "      <th>5835</th>\n",
       "      <td>0</td>\n",
       "      <td>0.063380</td>\n",
       "    </tr>\n",
       "    <tr>\n",
       "      <th>5836</th>\n",
       "      <td>0</td>\n",
       "      <td>0.026547</td>\n",
       "    </tr>\n",
       "    <tr>\n",
       "      <th>5837</th>\n",
       "      <td>0</td>\n",
       "      <td>0.027030</td>\n",
       "    </tr>\n",
       "    <tr>\n",
       "      <th>5838</th>\n",
       "      <td>0</td>\n",
       "      <td>0.026872</td>\n",
       "    </tr>\n",
       "    <tr>\n",
       "      <th>5839</th>\n",
       "      <td>0</td>\n",
       "      <td>0.063302</td>\n",
       "    </tr>\n",
       "    <tr>\n",
       "      <th>5840</th>\n",
       "      <td>0</td>\n",
       "      <td>-0.025455</td>\n",
       "    </tr>\n",
       "    <tr>\n",
       "      <th>5841</th>\n",
       "      <td>0</td>\n",
       "      <td>0.011333</td>\n",
       "    </tr>\n",
       "    <tr>\n",
       "      <th>5842</th>\n",
       "      <td>0</td>\n",
       "      <td>0.063387</td>\n",
       "    </tr>\n",
       "    <tr>\n",
       "      <th>5843</th>\n",
       "      <td>0</td>\n",
       "      <td>0.026529</td>\n",
       "    </tr>\n",
       "    <tr>\n",
       "      <th>5844</th>\n",
       "      <td>0</td>\n",
       "      <td>0.026602</td>\n",
       "    </tr>\n",
       "    <tr>\n",
       "      <th>5845</th>\n",
       "      <td>0</td>\n",
       "      <td>0.063397</td>\n",
       "    </tr>\n",
       "    <tr>\n",
       "      <th>5846</th>\n",
       "      <td>0</td>\n",
       "      <td>0.026539</td>\n",
       "    </tr>\n",
       "    <tr>\n",
       "      <th>5847</th>\n",
       "      <td>0</td>\n",
       "      <td>0.063334</td>\n",
       "    </tr>\n",
       "    <tr>\n",
       "      <th>5848</th>\n",
       "      <td>0</td>\n",
       "      <td>0.063380</td>\n",
       "    </tr>\n",
       "    <tr>\n",
       "      <th>5849</th>\n",
       "      <td>0</td>\n",
       "      <td>0.026547</td>\n",
       "    </tr>\n",
       "    <tr>\n",
       "      <th>5850</th>\n",
       "      <td>0</td>\n",
       "      <td>0.027030</td>\n",
       "    </tr>\n",
       "  </tbody>\n",
       "</table>\n",
       "<p>5851 rows × 2 columns</p>\n",
       "</div>"
      ],
      "text/plain": [
       "      ActualClass  PredictedClass\n",
       "0               1        0.063645\n",
       "1               0        0.063599\n",
       "2               0        0.063591\n",
       "3               0        0.011670\n",
       "4               0        0.011718\n",
       "5               0        0.063761\n",
       "6               0        0.026936\n",
       "7               0        0.026944\n",
       "8               0        0.063817\n",
       "9               0        0.063754\n",
       "10              0        0.027066\n",
       "11              0        0.063804\n",
       "12              0       -0.025330\n",
       "13              1        0.063526\n",
       "14              0        0.026678\n",
       "15              0        0.026685\n",
       "16              0        0.026628\n",
       "17              0        0.063500\n",
       "18              0        0.026796\n",
       "19              0        0.027061\n",
       "20              0        0.026515\n",
       "21              0        0.063380\n",
       "22              0        0.026482\n",
       "23              0        0.026697\n",
       "24              0        0.026939\n",
       "25              1        0.308679\n",
       "26              0        0.063617\n",
       "27              0        0.063666\n",
       "28              0        0.063805\n",
       "29              0        0.026902\n",
       "...           ...             ...\n",
       "5821            0        0.065477\n",
       "5822            0       -0.023187\n",
       "5823            0        0.065521\n",
       "5824            0        0.065576\n",
       "5825            0        0.029262\n",
       "5826            1        0.063302\n",
       "5827            0       -0.025455\n",
       "5828            0        0.011333\n",
       "5829            0        0.063387\n",
       "5830            0        0.026529\n",
       "5831            0        0.026602\n",
       "5832            0        0.063397\n",
       "5833            0        0.026539\n",
       "5834            0        0.063334\n",
       "5835            0        0.063380\n",
       "5836            0        0.026547\n",
       "5837            0        0.027030\n",
       "5838            0        0.026872\n",
       "5839            0        0.063302\n",
       "5840            0       -0.025455\n",
       "5841            0        0.011333\n",
       "5842            0        0.063387\n",
       "5843            0        0.026529\n",
       "5844            0        0.026602\n",
       "5845            0        0.063397\n",
       "5846            0        0.026539\n",
       "5847            0        0.063334\n",
       "5848            0        0.063380\n",
       "5849            0        0.026547\n",
       "5850            0        0.027030\n",
       "\n",
       "[5851 rows x 2 columns]"
      ]
     },
     "execution_count": 438,
     "metadata": {},
     "output_type": "execute_result"
    }
   ],
   "source": [
    "lm_predictions = lm_2.predict(X[feature_cols])\n",
    "df_true_vs_lm_predicted = pd.DataFrame({'ActualClass': y, 'PredictedClass': lm_predictions})\n",
    "df_true_vs_lm_predicted"
   ]
  },
  {
   "cell_type": "code",
   "execution_count": 439,
   "metadata": {
    "collapsed": false
   },
   "outputs": [
    {
     "data": {
      "text/html": [
       "<div>\n",
       "<table border=\"1\" class=\"dataframe\">\n",
       "  <thead>\n",
       "    <tr style=\"text-align: right;\">\n",
       "      <th></th>\n",
       "      <th>ActualClass</th>\n",
       "      <th>PredictedClass</th>\n",
       "    </tr>\n",
       "  </thead>\n",
       "  <tbody>\n",
       "    <tr>\n",
       "      <th>0</th>\n",
       "      <td>1</td>\n",
       "      <td>0</td>\n",
       "    </tr>\n",
       "    <tr>\n",
       "      <th>1</th>\n",
       "      <td>0</td>\n",
       "      <td>0</td>\n",
       "    </tr>\n",
       "    <tr>\n",
       "      <th>2</th>\n",
       "      <td>0</td>\n",
       "      <td>0</td>\n",
       "    </tr>\n",
       "    <tr>\n",
       "      <th>3</th>\n",
       "      <td>0</td>\n",
       "      <td>0</td>\n",
       "    </tr>\n",
       "    <tr>\n",
       "      <th>4</th>\n",
       "      <td>0</td>\n",
       "      <td>0</td>\n",
       "    </tr>\n",
       "    <tr>\n",
       "      <th>5</th>\n",
       "      <td>0</td>\n",
       "      <td>0</td>\n",
       "    </tr>\n",
       "    <tr>\n",
       "      <th>6</th>\n",
       "      <td>0</td>\n",
       "      <td>0</td>\n",
       "    </tr>\n",
       "    <tr>\n",
       "      <th>7</th>\n",
       "      <td>0</td>\n",
       "      <td>0</td>\n",
       "    </tr>\n",
       "    <tr>\n",
       "      <th>8</th>\n",
       "      <td>0</td>\n",
       "      <td>0</td>\n",
       "    </tr>\n",
       "    <tr>\n",
       "      <th>9</th>\n",
       "      <td>0</td>\n",
       "      <td>0</td>\n",
       "    </tr>\n",
       "    <tr>\n",
       "      <th>10</th>\n",
       "      <td>0</td>\n",
       "      <td>0</td>\n",
       "    </tr>\n",
       "    <tr>\n",
       "      <th>11</th>\n",
       "      <td>0</td>\n",
       "      <td>0</td>\n",
       "    </tr>\n",
       "    <tr>\n",
       "      <th>12</th>\n",
       "      <td>0</td>\n",
       "      <td>0</td>\n",
       "    </tr>\n",
       "    <tr>\n",
       "      <th>13</th>\n",
       "      <td>1</td>\n",
       "      <td>0</td>\n",
       "    </tr>\n",
       "    <tr>\n",
       "      <th>14</th>\n",
       "      <td>0</td>\n",
       "      <td>0</td>\n",
       "    </tr>\n",
       "    <tr>\n",
       "      <th>15</th>\n",
       "      <td>0</td>\n",
       "      <td>0</td>\n",
       "    </tr>\n",
       "    <tr>\n",
       "      <th>16</th>\n",
       "      <td>0</td>\n",
       "      <td>0</td>\n",
       "    </tr>\n",
       "    <tr>\n",
       "      <th>17</th>\n",
       "      <td>0</td>\n",
       "      <td>0</td>\n",
       "    </tr>\n",
       "    <tr>\n",
       "      <th>18</th>\n",
       "      <td>0</td>\n",
       "      <td>0</td>\n",
       "    </tr>\n",
       "    <tr>\n",
       "      <th>19</th>\n",
       "      <td>0</td>\n",
       "      <td>0</td>\n",
       "    </tr>\n",
       "    <tr>\n",
       "      <th>20</th>\n",
       "      <td>0</td>\n",
       "      <td>0</td>\n",
       "    </tr>\n",
       "    <tr>\n",
       "      <th>21</th>\n",
       "      <td>0</td>\n",
       "      <td>0</td>\n",
       "    </tr>\n",
       "    <tr>\n",
       "      <th>22</th>\n",
       "      <td>0</td>\n",
       "      <td>0</td>\n",
       "    </tr>\n",
       "    <tr>\n",
       "      <th>23</th>\n",
       "      <td>0</td>\n",
       "      <td>0</td>\n",
       "    </tr>\n",
       "    <tr>\n",
       "      <th>24</th>\n",
       "      <td>0</td>\n",
       "      <td>0</td>\n",
       "    </tr>\n",
       "    <tr>\n",
       "      <th>25</th>\n",
       "      <td>1</td>\n",
       "      <td>0</td>\n",
       "    </tr>\n",
       "    <tr>\n",
       "      <th>26</th>\n",
       "      <td>0</td>\n",
       "      <td>0</td>\n",
       "    </tr>\n",
       "    <tr>\n",
       "      <th>27</th>\n",
       "      <td>0</td>\n",
       "      <td>0</td>\n",
       "    </tr>\n",
       "    <tr>\n",
       "      <th>28</th>\n",
       "      <td>0</td>\n",
       "      <td>0</td>\n",
       "    </tr>\n",
       "    <tr>\n",
       "      <th>29</th>\n",
       "      <td>0</td>\n",
       "      <td>0</td>\n",
       "    </tr>\n",
       "    <tr>\n",
       "      <th>...</th>\n",
       "      <td>...</td>\n",
       "      <td>...</td>\n",
       "    </tr>\n",
       "    <tr>\n",
       "      <th>5821</th>\n",
       "      <td>0</td>\n",
       "      <td>0</td>\n",
       "    </tr>\n",
       "    <tr>\n",
       "      <th>5822</th>\n",
       "      <td>0</td>\n",
       "      <td>0</td>\n",
       "    </tr>\n",
       "    <tr>\n",
       "      <th>5823</th>\n",
       "      <td>0</td>\n",
       "      <td>0</td>\n",
       "    </tr>\n",
       "    <tr>\n",
       "      <th>5824</th>\n",
       "      <td>0</td>\n",
       "      <td>0</td>\n",
       "    </tr>\n",
       "    <tr>\n",
       "      <th>5825</th>\n",
       "      <td>0</td>\n",
       "      <td>0</td>\n",
       "    </tr>\n",
       "    <tr>\n",
       "      <th>5826</th>\n",
       "      <td>1</td>\n",
       "      <td>0</td>\n",
       "    </tr>\n",
       "    <tr>\n",
       "      <th>5827</th>\n",
       "      <td>0</td>\n",
       "      <td>0</td>\n",
       "    </tr>\n",
       "    <tr>\n",
       "      <th>5828</th>\n",
       "      <td>0</td>\n",
       "      <td>0</td>\n",
       "    </tr>\n",
       "    <tr>\n",
       "      <th>5829</th>\n",
       "      <td>0</td>\n",
       "      <td>0</td>\n",
       "    </tr>\n",
       "    <tr>\n",
       "      <th>5830</th>\n",
       "      <td>0</td>\n",
       "      <td>0</td>\n",
       "    </tr>\n",
       "    <tr>\n",
       "      <th>5831</th>\n",
       "      <td>0</td>\n",
       "      <td>0</td>\n",
       "    </tr>\n",
       "    <tr>\n",
       "      <th>5832</th>\n",
       "      <td>0</td>\n",
       "      <td>0</td>\n",
       "    </tr>\n",
       "    <tr>\n",
       "      <th>5833</th>\n",
       "      <td>0</td>\n",
       "      <td>0</td>\n",
       "    </tr>\n",
       "    <tr>\n",
       "      <th>5834</th>\n",
       "      <td>0</td>\n",
       "      <td>0</td>\n",
       "    </tr>\n",
       "    <tr>\n",
       "      <th>5835</th>\n",
       "      <td>0</td>\n",
       "      <td>0</td>\n",
       "    </tr>\n",
       "    <tr>\n",
       "      <th>5836</th>\n",
       "      <td>0</td>\n",
       "      <td>0</td>\n",
       "    </tr>\n",
       "    <tr>\n",
       "      <th>5837</th>\n",
       "      <td>0</td>\n",
       "      <td>0</td>\n",
       "    </tr>\n",
       "    <tr>\n",
       "      <th>5838</th>\n",
       "      <td>0</td>\n",
       "      <td>0</td>\n",
       "    </tr>\n",
       "    <tr>\n",
       "      <th>5839</th>\n",
       "      <td>0</td>\n",
       "      <td>0</td>\n",
       "    </tr>\n",
       "    <tr>\n",
       "      <th>5840</th>\n",
       "      <td>0</td>\n",
       "      <td>0</td>\n",
       "    </tr>\n",
       "    <tr>\n",
       "      <th>5841</th>\n",
       "      <td>0</td>\n",
       "      <td>0</td>\n",
       "    </tr>\n",
       "    <tr>\n",
       "      <th>5842</th>\n",
       "      <td>0</td>\n",
       "      <td>0</td>\n",
       "    </tr>\n",
       "    <tr>\n",
       "      <th>5843</th>\n",
       "      <td>0</td>\n",
       "      <td>0</td>\n",
       "    </tr>\n",
       "    <tr>\n",
       "      <th>5844</th>\n",
       "      <td>0</td>\n",
       "      <td>0</td>\n",
       "    </tr>\n",
       "    <tr>\n",
       "      <th>5845</th>\n",
       "      <td>0</td>\n",
       "      <td>0</td>\n",
       "    </tr>\n",
       "    <tr>\n",
       "      <th>5846</th>\n",
       "      <td>0</td>\n",
       "      <td>0</td>\n",
       "    </tr>\n",
       "    <tr>\n",
       "      <th>5847</th>\n",
       "      <td>0</td>\n",
       "      <td>0</td>\n",
       "    </tr>\n",
       "    <tr>\n",
       "      <th>5848</th>\n",
       "      <td>0</td>\n",
       "      <td>0</td>\n",
       "    </tr>\n",
       "    <tr>\n",
       "      <th>5849</th>\n",
       "      <td>0</td>\n",
       "      <td>0</td>\n",
       "    </tr>\n",
       "    <tr>\n",
       "      <th>5850</th>\n",
       "      <td>0</td>\n",
       "      <td>0</td>\n",
       "    </tr>\n",
       "  </tbody>\n",
       "</table>\n",
       "<p>5851 rows × 2 columns</p>\n",
       "</div>"
      ],
      "text/plain": [
       "      ActualClass  PredictedClass\n",
       "0               1               0\n",
       "1               0               0\n",
       "2               0               0\n",
       "3               0               0\n",
       "4               0               0\n",
       "5               0               0\n",
       "6               0               0\n",
       "7               0               0\n",
       "8               0               0\n",
       "9               0               0\n",
       "10              0               0\n",
       "11              0               0\n",
       "12              0               0\n",
       "13              1               0\n",
       "14              0               0\n",
       "15              0               0\n",
       "16              0               0\n",
       "17              0               0\n",
       "18              0               0\n",
       "19              0               0\n",
       "20              0               0\n",
       "21              0               0\n",
       "22              0               0\n",
       "23              0               0\n",
       "24              0               0\n",
       "25              1               0\n",
       "26              0               0\n",
       "27              0               0\n",
       "28              0               0\n",
       "29              0               0\n",
       "...           ...             ...\n",
       "5821            0               0\n",
       "5822            0               0\n",
       "5823            0               0\n",
       "5824            0               0\n",
       "5825            0               0\n",
       "5826            1               0\n",
       "5827            0               0\n",
       "5828            0               0\n",
       "5829            0               0\n",
       "5830            0               0\n",
       "5831            0               0\n",
       "5832            0               0\n",
       "5833            0               0\n",
       "5834            0               0\n",
       "5835            0               0\n",
       "5836            0               0\n",
       "5837            0               0\n",
       "5838            0               0\n",
       "5839            0               0\n",
       "5840            0               0\n",
       "5841            0               0\n",
       "5842            0               0\n",
       "5843            0               0\n",
       "5844            0               0\n",
       "5845            0               0\n",
       "5846            0               0\n",
       "5847            0               0\n",
       "5848            0               0\n",
       "5849            0               0\n",
       "5850            0               0\n",
       "\n",
       "[5851 rows x 2 columns]"
      ]
     },
     "execution_count": 439,
     "metadata": {},
     "output_type": "execute_result"
    }
   ],
   "source": [
    "for index, row in df_true_vs_lm_predicted.iterrows():\n",
    "    if np.any(df_true_vs_lm_predicted[\"PredictedClass\"] > 5):\n",
    "        df_true_vs_lm_predicted[\"PredictedClass\"] = int(1)\n",
    "    else:\n",
    "        df_true_vs_lm_predicted[\"PredictedClass\"] = int(0)\n",
    "\n",
    "df_true_vs_lm_predicted"
   ]
  },
  {
   "cell_type": "code",
   "execution_count": 440,
   "metadata": {
    "collapsed": false
   },
   "outputs": [
    {
     "name": "stderr",
     "output_type": "stream",
     "text": [
      "C:\\Users\\pamel\\Anaconda3\\lib\\site-packages\\sklearn\\metrics\\classification.py:1113: UndefinedMetricWarning: Precision and F-score are ill-defined and being set to 0.0 in labels with no predicted samples.\n",
      "  'precision', 'predicted', average, warn_for)\n"
     ]
    }
   ],
   "source": [
    "accuracy = metrics.accuracy_score(df_true_vs_lm_predicted[\"ActualClass\"], df_true_vs_lm_predicted[\"PredictedClass\"], normalize = False)\n",
    "confusion_matrix = metrics.confusion_matrix(df_true_vs_lm_predicted[\"ActualClass\"], df_true_vs_lm_predicted[\"PredictedClass\"])\n",
    "class_report = metrics.classification_report(df_true_vs_lm_predicted[\"ActualClass\"], df_true_vs_lm_predicted[\"PredictedClass\"])"
   ]
  },
  {
   "cell_type": "code",
   "execution_count": 441,
   "metadata": {
    "collapsed": false
   },
   "outputs": [
    {
     "name": "stdout",
     "output_type": "stream",
     "text": [
      "Accuracy:  5547\n",
      "Confusion matrix: \n",
      " [[5547    0]\n",
      " [ 304    0]]\n",
      "Classification report:\n",
      "               precision    recall  f1-score   support\n",
      "\n",
      "          0       0.95      1.00      0.97      5547\n",
      "          1       0.00      0.00      0.00       304\n",
      "\n",
      "avg / total       0.90      0.95      0.92      5851\n",
      "\n"
     ]
    }
   ],
   "source": [
    "print(\"Accuracy: \", accuracy)\n",
    "print(\"Confusion matrix: \\n\", confusion_matrix)\n",
    "print(\"Classification report:\\n \", class_report)"
   ]
  },
  {
   "cell_type": "markdown",
   "metadata": {},
   "source": [
    "### This is really not good - my model is predicting every instance as negative"
   ]
  },
  {
   "cell_type": "markdown",
   "metadata": {},
   "source": [
    "## 2.4 Using the better model (as per evaluation on training set), print the predicted target feature value for all the examples in the training set. Threshold the predicted target feature value at 0.5 get the predicted class for each example. "
   ]
  },
  {
   "cell_type": "code",
   "execution_count": 442,
   "metadata": {
    "collapsed": true
   },
   "outputs": [],
   "source": [
    "#Had to do this above in order to get the confusion matrix - see 2.3"
   ]
  },
  {
   "cell_type": "markdown",
   "metadata": {},
   "source": [
    "# Question 3: Predictive Modeling: Logistic Regression"
   ]
  },
  {
   "cell_type": "markdown",
   "metadata": {},
   "source": [
    "## 3.1 Train a logistic regression model to predict the target feature IsWinner, using the descriptive features selected in exercise (1). Evaluate the quality of the model on the training set. "
   ]
  },
  {
   "cell_type": "code",
   "execution_count": null,
   "metadata": {
    "collapsed": false,
    "scrolled": true
   },
   "outputs": [],
   "source": [
    "logreg = sm.logit(formula=\"IsWinner ~  ListingPrice + SellerFeedbackRating + ShipsFrom_BC + ShipsFrom_TN + ShipsFrom_ON + ShipsFrom_PA + ShipsFrom_QC + ShipsFrom_VA\", data=df).fit()"
   ]
  },
  {
   "cell_type": "markdown",
   "metadata": {},
   "source": [
    "## 3.2 Print the coefficients learned by the model and discuss their statistical significance as well as their role in the model (e.g. interpret the model). "
   ]
  },
  {
   "cell_type": "code",
   "execution_count": null,
   "metadata": {
    "collapsed": false,
    "scrolled": true
   },
   "outputs": [],
   "source": [
    "# Print the model weights/parameters\n",
    "print(logreg.params)"
   ]
  },
  {
   "cell_type": "markdown",
   "metadata": {},
   "source": [
    "Statistical Significance: The features that are statisticaly significant based on the above coefficients are Listing Price, Seller Feedback Rating, Ships from BC by a distinct amount and Ships from PA also by a distinct amount, as well as Ships from ON and Ships from QC. "
   ]
  },
  {
   "cell_type": "markdown",
   "metadata": {},
   "source": [
    "## 3.3 Retrain the model using only the subset of features found to be statistically significant. Evaluate the quality of the model on the training set. "
   ]
  },
  {
   "cell_type": "code",
   "execution_count": null,
   "metadata": {
    "collapsed": false
   },
   "outputs": [],
   "source": [
    "logreg = sm.logit(formula=\"IsWinner ~  ListingPrice + SellerFeedbackRating + ShipsFrom_BC + ShipsFrom_ON + ShipsFrom_PA + ShipsFrom_QC\", data=df).fit()"
   ]
  },
  {
   "cell_type": "markdown",
   "metadata": {},
   "source": [
    "## 3.4 Using the better model (as per evaluation on training set), print the predicted target feature value for all the examples in the training set. Print the predicted class for each example. "
   ]
  },
  {
   "cell_type": "code",
   "execution_count": null,
   "metadata": {
    "collapsed": false
   },
   "outputs": [],
   "source": [
    "predictions = logreg.predict(df)\n",
    "predictions"
   ]
  },
  {
   "cell_type": "code",
   "execution_count": null,
   "metadata": {
    "collapsed": false
   },
   "outputs": [],
   "source": [
    "print(logreg.summary())"
   ]
  },
  {
   "cell_type": "markdown",
   "metadata": {},
   "source": [
    "# Question 4: Predictive Modeling: Random Forest"
   ]
  },
  {
   "cell_type": "markdown",
   "metadata": {},
   "source": [
    "### Notes from Lecture on Random Forest\n",
    "Ensemble - a committee of different models that are aggregated to get a final prediction. \n",
    "Fit 10 linear regressions and get them to vote. \n",
    "Combined, informed decision making. \n",
    "\n",
    "Random Forest is one type of ensembling. RF is an ensemble of Decision Tree models. \n",
    "Can be used for classification (majority voting) or regression (average the predictions). "
   ]
  },
  {
   "cell_type": "markdown",
   "metadata": {},
   "source": [
    "### Decision Trees\n",
    "\n",
    "Machine Learning Algorithm. \n",
    "Can be used for classification or regression. \n",
    "How do we train a decision tree model? \n",
    "\n",
    "How to split the data set based on features. Figuring out if-then-else questions. \n",
    "If the Listing Price is greater than x then the row goes in class 0 else class 1. \n",
    "\n",
    "If you don't have an exact split in the scatter plot you need to refine further because you can't be sure that is a defining factor - we should plot the ships_from specific states to see what the relationship looks like. \n",
    "\n",
    "Used a lot in healthcare. \n",
    "You can try to associate a statistical significance with each rules in your decision tree - this might be useful if your feature is not cut and dry. \n",
    "\n",
    "It can handle multi class problems directly. \n",
    "\n",
    "Prone to overfitting - so predictive accuracy is not as high as some supervised learning methods. \n",
    "\n",
    "Split the data into groups and create a decision tree for each segment. When you have to decide the split you are restricted to a random set of features. \n",
    "\n",
    "Random Forest - number of trees set to 10 default in sklearn. \n",
    "\n",
    "You can weight on different votes. \n",
    "\n",
    "### put features in new data frame (say x) For all models. \n",
    "\n",
    "You can ask about the same feature twice. \n",
    "\n",
    "\n",
    "\n"
   ]
  },
  {
   "cell_type": "markdown",
   "metadata": {},
   "source": [
    "## 4.1 Train a random forest model to predict the target feature IsWinner, using the descriptive features selected in exercise (1). Evaluate the quality of the model on the training set. "
   ]
  },
  {
   "cell_type": "code",
   "execution_count": null,
   "metadata": {
    "collapsed": false
   },
   "outputs": [],
   "source": [
    "#reference: https://www.youtube.com/watch?v=0GrciaGYzV0&list=PLx1nh9sMznmKoUjw6uHR2enxCrenhn5zD&index=4\n",
    "\n",
    "from sklearn.ensemble import RandomForestRegressor\n",
    "from sklearn import metrics\n",
    "#the error metric - use c-stat (aka roc/auc)\n",
    "from sklearn.metrics import roc_auc_score\n",
    "\n",
    "y = df.pop(\"IsWinner\")"
   ]
  },
  {
   "cell_type": "code",
   "execution_count": null,
   "metadata": {
    "collapsed": false,
    "scrolled": true
   },
   "outputs": [],
   "source": [
    "rfm = RandomForestRegressor(oob_score=True)\n",
    "rfm.fit(df[feature_cols], y)"
   ]
  },
  {
   "cell_type": "code",
   "execution_count": null,
   "metadata": {
    "collapsed": false
   },
   "outputs": [],
   "source": [
    "#out of back score - only available after the model has been trained (all methods with trailing underscore are only available\n",
    "#after the model has been trained) This produces the r squared value\n",
    "rfm.oob_score_"
   ]
  },
  {
   "cell_type": "code",
   "execution_count": null,
   "metadata": {
    "collapsed": false,
    "scrolled": true
   },
   "outputs": [],
   "source": [
    "#we can use this to calculate roc/auc\n",
    "y_oob = rfm.oob_prediction_\n",
    "print(\"C-Stat: \", roc_auc_score(y, y_oob))"
   ]
  },
  {
   "cell_type": "markdown",
   "metadata": {},
   "source": [
    "## 4.2 Print the features ranked by random forest importance. Discuss your findings and choose a subset of features you find promising. "
   ]
  },
  {
   "cell_type": "code",
   "execution_count": null,
   "metadata": {
    "collapsed": false
   },
   "outputs": [],
   "source": [
    "rfm.feature_importances_"
   ]
  },
  {
   "cell_type": "code",
   "execution_count": null,
   "metadata": {
    "collapsed": false,
    "scrolled": true
   },
   "outputs": [],
   "source": [
    "feature_importances = pd.Series(rfm.feature_importances_, index=df[feature_cols].columns)\n",
    "feature_importances.sort_values(inplace = True)\n",
    "feature_importances.plot(kind=\"barh\", figsize=(7, 6));"
   ]
  },
  {
   "cell_type": "markdown",
   "metadata": {},
   "source": [
    "Based on the above I would look further at Listing Price, Ships From BC and Seller Feedback Rating. "
   ]
  },
  {
   "cell_type": "markdown",
   "metadata": {},
   "source": [
    "## 4.3 Retrain the model using only the subset of features found to be promising. Evaluate the quality of the model on the training set. "
   ]
  },
  {
   "cell_type": "code",
   "execution_count": null,
   "metadata": {
    "collapsed": false
   },
   "outputs": [],
   "source": [
    "df[feature_cols].describe()"
   ]
  },
  {
   "cell_type": "code",
   "execution_count": null,
   "metadata": {
    "collapsed": false
   },
   "outputs": [],
   "source": [
    "feature_cols = [\"ListingPrice\", \"ShipsFrom_BC\", \"SellerFeedbackRating\"]\n",
    "rfm = RandomForestRegressor(oob_score=True)\n",
    "rfm.fit(df[feature_cols], y)"
   ]
  },
  {
   "cell_type": "code",
   "execution_count": null,
   "metadata": {
    "collapsed": false
   },
   "outputs": [],
   "source": [
    "rfm.oob_score_"
   ]
  },
  {
   "cell_type": "code",
   "execution_count": null,
   "metadata": {
    "collapsed": false
   },
   "outputs": [],
   "source": [
    "y_oob = rfm.oob_prediction_\n",
    "print(\"C-Stat: \", roc_auc_score(y, y_oob))"
   ]
  },
  {
   "cell_type": "code",
   "execution_count": null,
   "metadata": {
    "collapsed": false
   },
   "outputs": [],
   "source": [
    "feature_importances = pd.Series(rfm.feature_importances_, index=df[feature_cols].columns)\n",
    "feature_importances.sort()\n",
    "feature_importances.plot(kind=\"barh\", figsize=(7, 6));"
   ]
  },
  {
   "cell_type": "markdown",
   "metadata": {},
   "source": [
    "## 4.4 Using the better model (as per evaluation on training set), print the predicted target feature value for all the examples in the training set. Print the predicted class for each example. "
   ]
  },
  {
   "cell_type": "code",
   "execution_count": null,
   "metadata": {
    "collapsed": false
   },
   "outputs": [],
   "source": [
    "df[feature_cols].dtypes\n",
    "y.dtype"
   ]
  },
  {
   "cell_type": "code",
   "execution_count": null,
   "metadata": {
    "collapsed": true
   },
   "outputs": [],
   "source": []
  },
  {
   "cell_type": "code",
   "execution_count": null,
   "metadata": {
    "collapsed": false
   },
   "outputs": [],
   "source": [
    "rfc_predictions = rfm.predict(df[feature_cols])\n",
    "df_true_vs_rfc_predicted = pd.DataFrame({'ActualClass': y, 'PredictedClass': rfc_predictions})\n",
    "df_true_vs_rfc_predicted\n",
    "#predicted probability - able to do in sklearn? One that are close to zero - where did I go wrong? \n",
    "#rfm.predict_proba(df[feature_cols])"
   ]
  },
  {
   "cell_type": "code",
   "execution_count": null,
   "metadata": {
    "collapsed": false
   },
   "outputs": [],
   "source": [
    "rfc_predictions.dtype"
   ]
  },
  {
   "cell_type": "code",
   "execution_count": null,
   "metadata": {
    "collapsed": false
   },
   "outputs": [],
   "source": [
    "print(\"Accuracy: \", metrics.accuracy_score(y, rfc_predictions))\n",
    "print(\"Confusion matrix: \\n\", metrics.confusion_matrix(y, rfc_predictions))\n",
    "print(\"Classification report:\\n \", metrics.classification_report(y, rfc_predictions))\n",
    "\n",
    "#getting an error because Actual class is binary and Predicted class is float - meaning continuous - need to convert Actual Class"
   ]
  },
  {
   "cell_type": "markdown",
   "metadata": {},
   "source": [
    "# Question 5: Evaluating Predictive Models\n"
   ]
  },
  {
   "cell_type": "code",
   "execution_count": null,
   "metadata": {
    "collapsed": true
   },
   "outputs": [],
   "source": []
  },
  {
   "cell_type": "markdown",
   "metadata": {},
   "source": [
    "## 5.1 Split the dataset into 70% training and remaining 30% test. Train all models from the previous exercises using the new training set and evaluate their quality on the new test set. Print classification evaluation metrics for all models on the test set (e.g., Accuracy, Confusion matrix, Precision, Recall, F1). Discuss how does evaluation on the test set compare to evaluation using the full data for training and also for testing. "
   ]
  },
  {
   "cell_type": "markdown",
   "metadata": {},
   "source": [
    "## 5.2 Summarize and try to improve your results so far"
   ]
  },
  {
   "cell_type": "markdown",
   "metadata": {},
   "source": [
    "## 5.2.1 Which model performs best and is it more accurate than a simple (but useless) model that always predicts IsWinner=0? Justify your answers. "
   ]
  },
  {
   "cell_type": "markdown",
   "metadata": {},
   "source": [
    "## 5.2.2 Discuss your understanding of the problem and predictive modeling results so far. Can you find  any tricks to improve the best model so far (e.g., using feature significance, feature rescaling, creating new features, combining models, or other knowledge)?"
   ]
  },
  {
   "cell_type": "code",
   "execution_count": null,
   "metadata": {
    "collapsed": true
   },
   "outputs": [],
   "source": []
  },
  {
   "cell_type": "code",
   "execution_count": null,
   "metadata": {
    "collapsed": true
   },
   "outputs": [],
   "source": []
  },
  {
   "cell_type": "code",
   "execution_count": null,
   "metadata": {
    "collapsed": true
   },
   "outputs": [],
   "source": []
  }
 ],
 "metadata": {
  "anaconda-cloud": {},
  "kernelspec": {
   "display_name": "Python 3",
   "language": "python",
   "name": "python3"
  },
  "language_info": {
   "codemirror_mode": {
    "name": "ipython",
    "version": 3
   },
   "file_extension": ".py",
   "mimetype": "text/x-python",
   "name": "python",
   "nbconvert_exporter": "python",
   "pygments_lexer": "ipython3",
   "version": "3.6.0"
  }
 },
 "nbformat": 4,
 "nbformat_minor": 0
}
