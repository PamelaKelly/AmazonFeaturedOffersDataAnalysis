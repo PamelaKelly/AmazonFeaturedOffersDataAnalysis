{
 "cells": [
  {
   "cell_type": "markdown",
   "metadata": {},
   "source": [
    "# Homework2\n",
    "\n",
    "Please upload to Moodle a .zip archive containing your Jupyter Notebook with solutions and all data required to reproduce your solutions. \n",
    "\n",
    "Please also prepare a requirements.txt file which lists all the packages that you have used for your homework, one package per line (e.g., pandas). This will allow us to install all required packages in one go, by using \"pip install -r requirements.txt\".\n",
    "\n",
    "Please name your .zip archive using your full name and student id as follows - *Firstnme_Lastname_12345678_COMP47350_Homework2.zip*. \n",
    "\n",
    "For your Notebook, please split the code and explanations into many little cells so it is easy to see and read the results of each step of your solution. Please remember to name your variables and methods with self-explanatory names. Please remember to write comments and where needed, justifications, for the decisions you make and code you write. Feel free to revisit *tips_to_keep_your_ipython_notebook_readable_and_easy_to_debug.html* provided on Moodle.\n",
    "\n",
    "Your code and analysis is like a story that awaits to be read, make it a nice story please!\n",
    "\n",
    "The accepted file formats for the homework are:\n",
    "    - .ipynb\n",
    "    - .zip\n",
    "    - .pdf\n",
    "    - .csv\n",
    "    - .txt\n",
    "    - .html\n",
    "Please keep the whole code in a single notebook. Usage of external tools/files is discouraged for portability reasons. Files in any other format but mentioned above can be used but will be ignored and not considered for the submission (including .doc, .rar, .7z, .pages, .xlsx, .tex etc.). \n",
    "Any image format is allowed to be used as far as the images appear embedded in your report (.ipynb or .pdf or .html).\n",
    "\n",
    "**Deadline: Sunday, April 16, 2017, midnight.** "
   ]
  },
  {
   "cell_type": "markdown",
   "metadata": {},
   "source": [
    "## Exercises\n",
    "\n",
    "This homework focuses on building and evaluating prediction models for a particular problem and dataset.\n",
    "The problem and data come from the Amazon online shopping platform. Several sellers can sell the same product on Amazon. Based on the data provided by the seller to Amazon (seller reputation, product price, shipping details, etc) Amazon ranks seller offers from best to worst for a given product. This ranking is mostly influenced by the product price offer of the seller, but it can also be influenced by other features. We first need to understand which features are most indicative of a seller being ranked first by Amazon for a product. When the seller is ranked first for a product we say that the seller is the 'winner' among all the offers, because their offer is shown first when a user searches for a product on Amazon, which increases their chances of selling the product. Our goal is to work with the data to build and evaluate prediction models that capture the relationship between descriptive features and the target feature 'IsWinner'.\n",
    "\n",
    "We use the same dataset from Homework1 (you can use your cleaned/prepared CSV or the raw dataset), a CSV file describing offers by given sellers for given products and a column which records whether an offer was a winner or not.\n",
    "\n",
    "(1). [25] Data Understanding: Exploring relationships between feature pairs:\n",
    "    - (1.1) [5] Print the correlations between the continuous features.\n",
    "    - (1.2) [5] Plot the scatter plots of each pair of continuous descriptive feature and target feature.\n",
    "    - (1.3) [5] Discuss what you observe from the scatter plots and correlations, e.g., which continuous features seem to be better at predicting the target feature. Choose a subset of continuous features you find promising. Justify your choices.\n",
    "    - (1.4) [5] For each categorical feature, plot the pairwise interaction with the target feature (barplots or stacked barplots).\n",
    "    - (1.5) [5] Discuss what knowledge you gain from plotting the interaction of descriptive categorical features and the target feature, e.g., which categorical features seem to be better at predicting the target feature. Choose a subset of categorical features you find promising. Justify your choices.\n",
    "    \n",
    "(2). [15] Predictive Modeling: Linear Regression  \n",
    "    - (2.1) [5] Train a linear regression model to predict the target feature IsWinner, using the descriptive features selected in exercise (1). Evaluate the quality of the model on the training set.   \n",
    "    - (2.2) [2.5] Print the coefficients learned by the model and discuss their statistical significance as well as their role in the model (e.g., interpret the model).    \n",
    "    - (2.3) [2.5] Retrain the model using only the subset of features found to be statistically significant. Evaluate the quality of the model on the training set.\n",
    "    - (2.4) [5] Using the better model (as per evaluation on training set), print the predicted target feature value for all the examples in the training set. Threshold the predicted target feature value at 0.5 to get the predicted class for each example. \n",
    "\n",
    "(3). [15] Predictive Modeling: Logistic Regression  \n",
    "    - (3.1) [5] Train a logistic regression model to predict the target feature IsWinner, using the descriptive features selected in exercise (1). Evaluate the quality of the model on the training set.   \n",
    "    - (3.2) [5] Print the coefficients learned by the model and discuss their statistical significance as well as their role in the model (e.g., interpret the model).    \n",
    "    - (3.3) [2.5] Retrain the model using only the subset of features found to be statistically significant. Evaluate the quality of the model on the training set.\n",
    "    - (3.4) [2.5] Using the better model (as per evaluation on training set), print the predicted target feature value for all the examples in the training set. Print the predicted class for each example.\n",
    "    \n",
    "(4). [20] Predictive Modeling: Random Forest \n",
    "    - (4.1) [5] Train a random forest model to predict the target feature IsWinner, using the descriptive features selected in exercise (1). Evaluate the quality of the model on the training set.   \n",
    "    - (4.2) [5] Print the features ranked by random forest importance. Discuss your findings and choose a subset of features you find promising.\n",
    "    - (4.3) [5] Retrain the model using only the subset of features found to be promising. Evaluate the quality of the model on the training set.\n",
    "    - (4.4) [5] Using the better model (as per evaluation on training set), print the predicted target feature value for all the examples in the training set. Print the predicted class for each example.\n",
    "    \n",
    "(5). [25] Evaluating Predictive Models\n",
    "    - (5.1) [10] Split the dataset into 70% training and remaining 30% test. Train all models from the previous exercises using the new training set and evaluate their quality on the new test set. Print classification evaluation metrics for all models on the test set (e.g., Accuracy, Confusion matrix, Precision, Recall, F1). Discuss how does evaluation on the test set compare to evaluation using the full data for training and also for testing.\n",
    "    - (5.2) [15] Summarize and try to improve your results so far:\n",
    "        - (5.2.1) [5] Which model performs best and is it more accurate than a simple (but useless) model that always predicts IsWinner=0? Justify your answers.\n",
    "        - (5.2.2) [10] Discuss your understanding of the problem and predictive modeling results so far. Can you find any tricks to improve the best model so far (e.g., using feature significance, feature re-scaling, creating new features, combining models, or other knowledge)?"
   ]
  },
  {
   "cell_type": "code",
   "execution_count": 6,
   "metadata": {
    "collapsed": true
   },
   "outputs": [],
   "source": [
    "#import necessary libraries\n",
    "import pandas as pd\n",
    "import numpy as np\n",
    "import matplotlib\n",
    "import matplotlib.pyplot as plt\n",
    "import matplotlib.patches as mpatches\n",
    "from matplotlib.backends.backend_pdf import PdfPages\n",
    "#for showing plots directly in the notebook\n",
    "%matplotlib inline"
   ]
  },
  {
   "cell_type": "code",
   "execution_count": 7,
   "metadata": {
    "collapsed": false
   },
   "outputs": [],
   "source": [
    "df = pd.read_csv('C:/Users/pamel/Anaconda3/envs/COMP47350DA/Practicals/Data_Analytics_Homework2/amazon-offers-10k-samples-new2.csv', encoding = \"ISO-8859-1\")"
   ]
  },
  {
   "cell_type": "code",
   "execution_count": 8,
   "metadata": {
    "collapsed": false
   },
   "outputs": [
    {
     "data": {
      "text/html": [
       "<div>\n",
       "<table border=\"1\" class=\"dataframe\">\n",
       "  <thead>\n",
       "    <tr style=\"text-align: right;\">\n",
       "      <th></th>\n",
       "      <th>Unnamed: 0</th>\n",
       "      <th>IsWinner</th>\n",
       "      <th>ProductId</th>\n",
       "      <th>TimeOfOfferChange</th>\n",
       "      <th>ConditionNotes</th>\n",
       "      <th>IsFeaturedMerchant</th>\n",
       "      <th>IsFulfilledByAmazon</th>\n",
       "      <th>ListingPrice</th>\n",
       "      <th>SellerFeedbackRating</th>\n",
       "      <th>SellerFeedbackCount</th>\n",
       "      <th>SellerId</th>\n",
       "      <th>ShippingPrice</th>\n",
       "      <th>ShippingTime_minHours</th>\n",
       "      <th>ShippingTime_maxHours</th>\n",
       "      <th>ShipsFromCountry</th>\n",
       "      <th>ShipsFromState</th>\n",
       "    </tr>\n",
       "  </thead>\n",
       "  <tbody>\n",
       "    <tr>\n",
       "      <th>0</th>\n",
       "      <td>1</td>\n",
       "      <td>1</td>\n",
       "      <td>-4.885260e+18</td>\n",
       "      <td>2016-02-04T04:26:52.136Z</td>\n",
       "      <td>Ready To Ship - We are unable to ship to PO Bo...</td>\n",
       "      <td>1</td>\n",
       "      <td>0</td>\n",
       "      <td>107.35</td>\n",
       "      <td>95</td>\n",
       "      <td>4078</td>\n",
       "      <td>-1.789490e+18</td>\n",
       "      <td>0.00</td>\n",
       "      <td>48</td>\n",
       "      <td>72</td>\n",
       "      <td>CA</td>\n",
       "      <td>ON</td>\n",
       "    </tr>\n",
       "    <tr>\n",
       "      <th>1</th>\n",
       "      <td>2</td>\n",
       "      <td>0</td>\n",
       "      <td>-4.885260e+18</td>\n",
       "      <td>2016-02-04T04:26:52.136Z</td>\n",
       "      <td>.</td>\n",
       "      <td>1</td>\n",
       "      <td>0</td>\n",
       "      <td>100.46</td>\n",
       "      <td>98</td>\n",
       "      <td>478</td>\n",
       "      <td>5.452080e+18</td>\n",
       "      <td>6.99</td>\n",
       "      <td>24</td>\n",
       "      <td>48</td>\n",
       "      <td>CA</td>\n",
       "      <td>ON</td>\n",
       "    </tr>\n",
       "    <tr>\n",
       "      <th>2</th>\n",
       "      <td>3</td>\n",
       "      <td>0</td>\n",
       "      <td>-4.885260e+18</td>\n",
       "      <td>2016-02-04T04:26:52.136Z</td>\n",
       "      <td>Fast shipping in Canada.</td>\n",
       "      <td>1</td>\n",
       "      <td>0</td>\n",
       "      <td>99.24</td>\n",
       "      <td>95</td>\n",
       "      <td>4384</td>\n",
       "      <td>-2.572280e+18</td>\n",
       "      <td>11.67</td>\n",
       "      <td>24</td>\n",
       "      <td>48</td>\n",
       "      <td>CA</td>\n",
       "      <td>ON</td>\n",
       "    </tr>\n",
       "    <tr>\n",
       "      <th>3</th>\n",
       "      <td>4</td>\n",
       "      <td>0</td>\n",
       "      <td>-4.885260e+18</td>\n",
       "      <td>2016-02-04T04:26:52.136Z</td>\n",
       "      <td>NaN</td>\n",
       "      <td>0</td>\n",
       "      <td>0</td>\n",
       "      <td>109.48</td>\n",
       "      <td>94</td>\n",
       "      <td>105</td>\n",
       "      <td>-8.704030e+18</td>\n",
       "      <td>8.99</td>\n",
       "      <td>24</td>\n",
       "      <td>48</td>\n",
       "      <td>CA</td>\n",
       "      <td>ON</td>\n",
       "    </tr>\n",
       "    <tr>\n",
       "      <th>4</th>\n",
       "      <td>5</td>\n",
       "      <td>0</td>\n",
       "      <td>-4.885260e+18</td>\n",
       "      <td>2016-02-04T04:26:52.136Z</td>\n",
       "      <td>NaN</td>\n",
       "      <td>0</td>\n",
       "      <td>0</td>\n",
       "      <td>116.70</td>\n",
       "      <td>67</td>\n",
       "      <td>9</td>\n",
       "      <td>1.929050e+18</td>\n",
       "      <td>6.98</td>\n",
       "      <td>24</td>\n",
       "      <td>48</td>\n",
       "      <td>CA</td>\n",
       "      <td>AB</td>\n",
       "    </tr>\n",
       "  </tbody>\n",
       "</table>\n",
       "</div>"
      ],
      "text/plain": [
       "   Unnamed: 0  IsWinner     ProductId         TimeOfOfferChange  \\\n",
       "0           1         1 -4.885260e+18  2016-02-04T04:26:52.136Z   \n",
       "1           2         0 -4.885260e+18  2016-02-04T04:26:52.136Z   \n",
       "2           3         0 -4.885260e+18  2016-02-04T04:26:52.136Z   \n",
       "3           4         0 -4.885260e+18  2016-02-04T04:26:52.136Z   \n",
       "4           5         0 -4.885260e+18  2016-02-04T04:26:52.136Z   \n",
       "\n",
       "                                      ConditionNotes  IsFeaturedMerchant  \\\n",
       "0  Ready To Ship - We are unable to ship to PO Bo...                   1   \n",
       "1                                                  .                   1   \n",
       "2                           Fast shipping in Canada.                   1   \n",
       "3                                                NaN                   0   \n",
       "4                                                NaN                   0   \n",
       "\n",
       "   IsFulfilledByAmazon  ListingPrice  SellerFeedbackRating  \\\n",
       "0                    0        107.35                    95   \n",
       "1                    0        100.46                    98   \n",
       "2                    0         99.24                    95   \n",
       "3                    0        109.48                    94   \n",
       "4                    0        116.70                    67   \n",
       "\n",
       "   SellerFeedbackCount      SellerId  ShippingPrice  ShippingTime_minHours  \\\n",
       "0                 4078 -1.789490e+18           0.00                     48   \n",
       "1                  478  5.452080e+18           6.99                     24   \n",
       "2                 4384 -2.572280e+18          11.67                     24   \n",
       "3                  105 -8.704030e+18           8.99                     24   \n",
       "4                    9  1.929050e+18           6.98                     24   \n",
       "\n",
       "   ShippingTime_maxHours ShipsFromCountry ShipsFromState  \n",
       "0                     72               CA             ON  \n",
       "1                     48               CA             ON  \n",
       "2                     48               CA             ON  \n",
       "3                     48               CA             ON  \n",
       "4                     48               CA             AB  "
      ]
     },
     "execution_count": 8,
     "metadata": {},
     "output_type": "execute_result"
    }
   ],
   "source": [
    "#test that we have the data\n",
    "df.head()\n",
    "#utf-8 encoding throwing an error - have I made some unwanted change to the csv as the old file still reads fine? \n",
    "#using ISO-8859-1 introduces a new 'unnamed' column?"
   ]
  },
  {
   "cell_type": "markdown",
   "metadata": {
    "collapsed": true
   },
   "source": [
    "# Question 1. Data Understanding: Exploring Relationships Between Feature Pairs"
   ]
  },
  {
   "cell_type": "markdown",
   "metadata": {},
   "source": [
    "## 1.1 Print the correlations between the continuous features"
   ]
  },
  {
   "cell_type": "code",
   "execution_count": 9,
   "metadata": {
    "collapsed": false
   },
   "outputs": [
    {
     "data": {
      "text/html": [
       "<div>\n",
       "<table border=\"1\" class=\"dataframe\">\n",
       "  <thead>\n",
       "    <tr style=\"text-align: right;\">\n",
       "      <th></th>\n",
       "      <th>SellerFeedbackRating</th>\n",
       "      <th>SellerFeedbackCount</th>\n",
       "      <th>ListingPrice</th>\n",
       "      <th>ShippingPrice</th>\n",
       "      <th>ShippingTime_minHours</th>\n",
       "      <th>ShippingTime_maxHours</th>\n",
       "    </tr>\n",
       "  </thead>\n",
       "  <tbody>\n",
       "    <tr>\n",
       "      <th>SellerFeedbackRating</th>\n",
       "      <td>1.000000</td>\n",
       "      <td>0.105576</td>\n",
       "      <td>-0.037842</td>\n",
       "      <td>-0.005308</td>\n",
       "      <td>-0.163926</td>\n",
       "      <td>-0.176798</td>\n",
       "    </tr>\n",
       "    <tr>\n",
       "      <th>SellerFeedbackCount</th>\n",
       "      <td>0.105576</td>\n",
       "      <td>1.000000</td>\n",
       "      <td>-0.001166</td>\n",
       "      <td>-0.202074</td>\n",
       "      <td>0.295287</td>\n",
       "      <td>0.212978</td>\n",
       "    </tr>\n",
       "    <tr>\n",
       "      <th>ListingPrice</th>\n",
       "      <td>-0.037842</td>\n",
       "      <td>-0.001166</td>\n",
       "      <td>1.000000</td>\n",
       "      <td>0.215024</td>\n",
       "      <td>0.038674</td>\n",
       "      <td>0.032914</td>\n",
       "    </tr>\n",
       "    <tr>\n",
       "      <th>ShippingPrice</th>\n",
       "      <td>-0.005308</td>\n",
       "      <td>-0.202074</td>\n",
       "      <td>0.215024</td>\n",
       "      <td>1.000000</td>\n",
       "      <td>-0.016701</td>\n",
       "      <td>0.036349</td>\n",
       "    </tr>\n",
       "    <tr>\n",
       "      <th>ShippingTime_minHours</th>\n",
       "      <td>-0.163926</td>\n",
       "      <td>0.295287</td>\n",
       "      <td>0.038674</td>\n",
       "      <td>-0.016701</td>\n",
       "      <td>1.000000</td>\n",
       "      <td>0.973911</td>\n",
       "    </tr>\n",
       "    <tr>\n",
       "      <th>ShippingTime_maxHours</th>\n",
       "      <td>-0.176798</td>\n",
       "      <td>0.212978</td>\n",
       "      <td>0.032914</td>\n",
       "      <td>0.036349</td>\n",
       "      <td>0.973911</td>\n",
       "      <td>1.000000</td>\n",
       "    </tr>\n",
       "  </tbody>\n",
       "</table>\n",
       "</div>"
      ],
      "text/plain": [
       "                       SellerFeedbackRating  SellerFeedbackCount  \\\n",
       "SellerFeedbackRating               1.000000             0.105576   \n",
       "SellerFeedbackCount                0.105576             1.000000   \n",
       "ListingPrice                      -0.037842            -0.001166   \n",
       "ShippingPrice                     -0.005308            -0.202074   \n",
       "ShippingTime_minHours             -0.163926             0.295287   \n",
       "ShippingTime_maxHours             -0.176798             0.212978   \n",
       "\n",
       "                       ListingPrice  ShippingPrice  ShippingTime_minHours  \\\n",
       "SellerFeedbackRating      -0.037842      -0.005308              -0.163926   \n",
       "SellerFeedbackCount       -0.001166      -0.202074               0.295287   \n",
       "ListingPrice               1.000000       0.215024               0.038674   \n",
       "ShippingPrice              0.215024       1.000000              -0.016701   \n",
       "ShippingTime_minHours      0.038674      -0.016701               1.000000   \n",
       "ShippingTime_maxHours      0.032914       0.036349               0.973911   \n",
       "\n",
       "                       ShippingTime_maxHours  \n",
       "SellerFeedbackRating               -0.176798  \n",
       "SellerFeedbackCount                 0.212978  \n",
       "ListingPrice                        0.032914  \n",
       "ShippingPrice                       0.036349  \n",
       "ShippingTime_minHours               0.973911  \n",
       "ShippingTime_maxHours               1.000000  "
      ]
     },
     "execution_count": 9,
     "metadata": {},
     "output_type": "execute_result"
    }
   ],
   "source": [
    "df[['SellerFeedbackRating', 'SellerFeedbackCount', 'ListingPrice', 'ShippingPrice', 'ShippingTime_minHours', 'ShippingTime_maxHours']].corr()"
   ]
  },
  {
   "cell_type": "markdown",
   "metadata": {},
   "source": [
    "## 1.2 Plot the scatter plots of each pair of continuous descriptive feature and target feature"
   ]
  },
  {
   "cell_type": "code",
   "execution_count": 10,
   "metadata": {
    "collapsed": false
   },
   "outputs": [
    {
     "data": {
      "text/plain": [
       "<matplotlib.axes._subplots.AxesSubplot at 0x223f6f9abe0>"
      ]
     },
     "execution_count": 10,
     "metadata": {},
     "output_type": "execute_result"
    },
    {
     "data": {
      "image/png": "[encoded data removed]",
      "text/plain": [
       "<matplotlib.figure.Figure at 0x223f52aa588>"
      ]
     },
     "metadata": {},
     "output_type": "display_data"
    },
    {
     "data": {
      "image/png": "[encoded data removed]",
      "text/plain": [
       "<matplotlib.figure.Figure at 0x223f6a516d8>"
      ]
     },
     "metadata": {},
     "output_type": "display_data"
    },
    {
     "data": {
      "image/png": "[encoded data removed]",
      "text/plain": [
       "<matplotlib.figure.Figure at 0x223f6e1af60>"
      ]
     },
     "metadata": {},
     "output_type": "display_data"
    },
    {
     "data": {
      "image/png": "[encoded data removed]",
      "text/plain": [
       "<matplotlib.figure.Figure at 0x223f6e90f28>"
      ]
     },
     "metadata": {},
     "output_type": "display_data"
    },
    {
     "data": {
      "image/png": "[encoded data removed]",
      "text/plain": [
       "<matplotlib.figure.Figure at 0x223f6efb908>"
      ]
     },
     "metadata": {},
     "output_type": "display_data"
    },
    {
     "data": {
      "image/png": "[encoded data removed]",
      "text/plain": [
       "<matplotlib.figure.Figure at 0x223f6eb3f28>"
      ]
     },
     "metadata": {},
     "output_type": "display_data"
    }
   ],
   "source": [
    "df.plot(kind='scatter', x='IsWinner', y='SellerFeedbackRating')\n",
    "df.plot(kind='scatter', x='IsWinner', y='SellerFeedbackCount')\n",
    "df.plot(kind='scatter', x='IsWinner', y='ListingPrice')\n",
    "df.plot(kind='scatter', x='IsWinner', y='ShippingPrice')\n",
    "df.plot(kind='scatter', x='IsWinner', y='ShippingTime_minHours')\n",
    "df.plot(kind='scatter', x='IsWinner', y='ShippingTime_maxHours')\n",
    "\n",
    "#negative values - do I need to go back at look at removing outliers? "
   ]
  },
  {
   "cell_type": "markdown",
   "metadata": {},
   "source": [
    "## 1.3 Discuss what you observe from the scatter plots and correlations, e.g., which continuous features seem to be better at predicting the target feature. Choose a subset of continuous features you find promising. Justify your choices. "
   ]
  },
  {
   "cell_type": "code",
   "execution_count": null,
   "metadata": {
    "collapsed": true
   },
   "outputs": [],
   "source": []
  },
  {
   "cell_type": "markdown",
   "metadata": {},
   "source": [
    "## 1.4 For each categorical feature, plot the pairwise interaction with the target feature (barplots or stacked barplots). "
   ]
  },
  {
   "cell_type": "code",
   "execution_count": null,
   "metadata": {
    "collapsed": true
   },
   "outputs": [],
   "source": []
  },
  {
   "cell_type": "markdown",
   "metadata": {},
   "source": [
    "## 1.5 Discuss what knowledge you gain from plotting the interaction of descriptive categorical features and the target feature, e.g., which categorical features seem to be better at predicting the target feature. Choose a subset of categorical features you find promising. Justify your choices. "
   ]
  },
  {
   "cell_type": "code",
   "execution_count": null,
   "metadata": {
    "collapsed": true
   },
   "outputs": [],
   "source": []
  },
  {
   "cell_type": "markdown",
   "metadata": {},
   "source": [
    "# Question 2: Predictive Modeling: Linear Regression"
   ]
  },
  {
   "cell_type": "markdown",
   "metadata": {},
   "source": [
    "## 2.1 Train a linear regression model to predict the target feature IsWinner, using the descriptive features selected in exercise. "
   ]
  },
  {
   "cell_type": "markdown",
   "metadata": {},
   "source": [
    "## 2.2 Print the coefficients learned by the model and discuss their statistical significance as well as their role in the model. "
   ]
  },
  {
   "cell_type": "markdown",
   "metadata": {},
   "source": [
    "## 2.3 Retrain the model using only the subset of features found to be statistically significant. Evaluate the quailty of the model on the training set. "
   ]
  },
  {
   "cell_type": "markdown",
   "metadata": {},
   "source": [
    "## 2.4 Using the better model (as per evaluation on training set), print the predicted target feature value for all the examples in the training set. Threshold the predicted target feature value at 0.5 get the predicted class for each example. "
   ]
  },
  {
   "cell_type": "markdown",
   "metadata": {},
   "source": [
    "# Question 3: Predictive Modeling: Logistic Regression"
   ]
  },
  {
   "cell_type": "markdown",
   "metadata": {},
   "source": [
    "## 3.1 Train a logistic regression model to predict the target feature IsWinner, using the descriptive features selected in exercise (1). Evaluate the quality of the model on the training set. "
   ]
  },
  {
   "cell_type": "markdown",
   "metadata": {},
   "source": [
    "## 3.2 Print the coefficients learned by the model and discuss their statistical significance as well as their role in the model (e.g. interpret the model). "
   ]
  },
  {
   "cell_type": "markdown",
   "metadata": {},
   "source": [
    "## 3.3 Retrain the model using only the subset of features found to be statistically significant. Evaluate the quality of the model on the training set. "
   ]
  },
  {
   "cell_type": "markdown",
   "metadata": {},
   "source": [
    "## 3.4 Using the better model (as per evaluation on training set), print the predicted target feature value for all the examples in the training set. Print the predicted class for each example. "
   ]
  },
  {
   "cell_type": "markdown",
   "metadata": {},
   "source": [
    "# Question 4: Predictive Modeling: Random Forest"
   ]
  },
  {
   "cell_type": "markdown",
   "metadata": {},
   "source": [
    "## 4.1 Train a random forest model to predict the target feature IsWinner, using the descriptive features selected in exercise (1). Evaluate the quality of the model on the training set. "
   ]
  },
  {
   "cell_type": "markdown",
   "metadata": {},
   "source": [
    "## 4.2 Print the features ranked by random forest importance. Discuss your findings and choose a subset of features you find promising. "
   ]
  },
  {
   "cell_type": "markdown",
   "metadata": {},
   "source": [
    "## 4.3 Retrain the model using only the subset of features found to be promising. Evaluate the quality of the model on the training set. "
   ]
  },
  {
   "cell_type": "markdown",
   "metadata": {},
   "source": [
    "## 4.4 Using the better model (as per evaluation on training set), print the predicted target feature value for all the examples in the training set. Print the predicted class for each example. "
   ]
  },
  {
   "cell_type": "markdown",
   "metadata": {},
   "source": [
    "# Question 5: Evaluating Predictive Models\n"
   ]
  },
  {
   "cell_type": "markdown",
   "metadata": {},
   "source": [
    "## 5.1 Split the dataset into 70% training and remaining 30% test. Train all models from the previous exercises using the new training set and evaluate their quality on the new test set. Print classification evaluation metrics for all models on the test set (e.g., Accuracy, Confusion matrix, Precision, Recall, F1). Discuss how does evaluation on the test set compare to evaluation using the full data for training and also for testing. "
   ]
  },
  {
   "cell_type": "markdown",
   "metadata": {},
   "source": [
    "## 5.2 Summarize and try to improve your results so far"
   ]
  },
  {
   "cell_type": "markdown",
   "metadata": {},
   "source": [
    "## 5.2.1 Which model performs best and is it more accurate than a simple (but useless) model that always predicts IsWinner=0? Justify your answers. "
   ]
  },
  {
   "cell_type": "markdown",
   "metadata": {},
   "source": [
    "## 5.2.2 Discuss your understanding of the problem and predictive modeling results so far. Can you find  any tricks to improve the best model so far (e.g., using feature significance, feature rescaling, creating new features, combining models, or other knowledge)?"
   ]
  },
  {
   "cell_type": "code",
   "execution_count": null,
   "metadata": {
    "collapsed": true
   },
   "outputs": [],
   "source": []
  }
 ],
 "metadata": {
  "anaconda-cloud": {},
  "kernelspec": {
   "display_name": "Python [default]",
   "language": "python",
   "name": "python3"
  },
  "language_info": {
   "codemirror_mode": {
    "name": "ipython",
    "version": 3
   },
   "file_extension": ".py",
   "mimetype": "text/x-python",
   "name": "python",
   "nbconvert_exporter": "python",
   "pygments_lexer": "ipython3",
   "version": "3.5.2"
  }
 },
 "nbformat": 4,
 "nbformat_minor": 0
}
